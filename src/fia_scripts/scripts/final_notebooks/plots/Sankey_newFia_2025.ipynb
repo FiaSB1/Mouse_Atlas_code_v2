{
 "cells": [
  {
   "cell_type": "code",
   "execution_count": 1,
   "id": "7b750d4c-b890-4fbb-bff5-92399c17ebe3",
   "metadata": {},
   "outputs": [],
   "source": [
    "#Sankey plots\n",
    "import os\n",
    "os.chdir('/home/fsboedij/Data/MouseAtlas/')\n",
    "import warnings\n",
    "warnings.simplefilter(action='ignore', category=FutureWarning)\n",
    "warnings.simplefilter(action='ignore', category=UserWarning)\n",
    "import scanpy as sc"
   ]
  },
  {
   "cell_type": "code",
   "execution_count": 2,
   "id": "3628e48c-5084-424e-986b-0afbf8b3f28c",
   "metadata": {},
   "outputs": [
    {
     "data": {
      "text/plain": [
       "AnnData object with n_obs × n_vars = 773732 × 44793\n",
       "    obs: 'Group', 'cell_type', 'Mice', 'new_cell_type', 'study', 'age', 'sample', 'sex', 'samples', 'strain', 'platform', 'Disease', 'treatment', 'tissue', 'time', 'Sample', 'Sex', 'Strain', 'Age', 'Treatment', 'Platform', 'hash.ID', 'SampleIDs', 'new.Celltypes', 'day', 'barcode', 'geo', 'healthy_or_disease', 'predictions', 'leiden_1', 'leiden_2', 'leiden_3', 'leiden_4', 'Level_1', 'Level_2', 'Level_3', 'Level_4', 'Level_5', 'knn_L4', 'predictions_healthydisease', 'knn_L4_clean', 'subset', 'doublets', 'inf1', 'inf2', 'inf12', 'Infections', 'Viral', 'Viral_ct', 'Level_2_5', 'Smoke', 'Smoking', 'Milopy_smoke', 'sample_oor', 'nhood_ixs_random', 'nhood_ixs_refined', 'nhood_kth_distance', 'Diff_Exp', 'Pseudo', 'combined_category', 'smoking_ct', 'pseudobulk_sample', 'total_counts', 'percent.mt'\n",
       "    var: 'features-1'\n",
       "    uns: 'Level_1_colors', 'Level_2_5_colors', 'Level_2_colors', 'Level_3_colors', 'Level_4_colors', 'Level_5_colors', 'Smoke_colors', 'Smoking_colors', 'Viral_colors', 'Viral_ct_colors', 'doublets_colors', 'leiden_2_colors', 'leiden_3_colors', 'leiden_4_colors', 'log1p', 'neighbors', 'nhood_adata', 'pca', 'rank_genes_groups', 'study_colors', 'subset_colors'\n",
       "    obsm: 'X_MLCA', 'X_pca', 'X_umap', 'nhoods'\n",
       "    varm: 'PCs'\n",
       "    layers: 'CPM_normalised', 'raw'\n",
       "    obsp: 'connectivities', 'distances'"
      ]
     },
     "execution_count": 2,
     "metadata": {},
     "output_type": "execute_result"
    }
   ],
   "source": [
    "adata = sc.read(\"Data/Integration/Step10_fulladata_final_0411.h5ad\")\n",
    "adata"
   ]
  },
  {
   "cell_type": "code",
   "execution_count": 6,
   "id": "79d2c81c-f4c8-4b93-a37f-a8621feb73b0",
   "metadata": {},
   "outputs": [
    {
     "data": {
      "text/plain": [
       "53"
      ]
     },
     "execution_count": 6,
     "metadata": {},
     "output_type": "execute_result"
    }
   ],
   "source": [
    "len(adata.obs.Level_5.unique())"
   ]
  },
  {
   "cell_type": "code",
   "execution_count": 4,
   "id": "1843d654-825d-447b-8aa7-c749730d7730",
   "metadata": {},
   "outputs": [
    {
     "data": {
      "text/plain": [
       "Immune         561543\n",
       "Endothelial    103736\n",
       "Epithelial      78059\n",
       "Stroma          30394\n",
       "Name: Level_1, dtype: int64"
      ]
     },
     "execution_count": 4,
     "metadata": {},
     "output_type": "execute_result"
    }
   ],
   "source": [
    "adata.obs['Level_1'].loc[(adata.obs['Level_1'].isin(['Multiciliated_Deuterosomal']))]='Epithelial'\n",
    "adata.obs['Level_1'] = adata.obs['Level_1'].cat.remove_unused_categories()\n",
    "\n",
    "adata.obs.Level_1.value_counts()"
   ]
  },
  {
   "cell_type": "code",
   "execution_count": 22,
   "id": "db8e12a6-a24e-4270-9ed4-09f17daa736b",
   "metadata": {
    "scrolled": true
   },
   "outputs": [
    {
     "name": "stderr",
     "output_type": "stream",
     "text": [
      "/tmp/ipykernel_1551217/103182811.py:4: SettingWithCopyWarning:\n",
      "\n",
      "\n",
      "A value is trying to be set on a copy of a slice from a DataFrame\n",
      "\n",
      "See the caveats in the documentation: https://pandas.pydata.org/pandas-docs/stable/user_guide/indexing.html#returning-a-view-versus-a-copy\n",
      "\n",
      "/tmp/ipykernel_1551217/103182811.py:8: SettingWithCopyWarning:\n",
      "\n",
      "\n",
      "A value is trying to be set on a copy of a slice from a DataFrame\n",
      "\n",
      "See the caveats in the documentation: https://pandas.pydata.org/pandas-docs/stable/user_guide/indexing.html#returning-a-view-versus-a-copy\n",
      "\n",
      "/tmp/ipykernel_1551217/103182811.py:11: SettingWithCopyWarning:\n",
      "\n",
      "\n",
      "A value is trying to be set on a copy of a slice from a DataFrame\n",
      "\n",
      "See the caveats in the documentation: https://pandas.pydata.org/pandas-docs/stable/user_guide/indexing.html#returning-a-view-versus-a-copy\n",
      "\n",
      "/tmp/ipykernel_1551217/103182811.py:13: SettingWithCopyWarning:\n",
      "\n",
      "\n",
      "A value is trying to be set on a copy of a slice from a DataFrame\n",
      "\n",
      "See the caveats in the documentation: https://pandas.pydata.org/pandas-docs/stable/user_guide/indexing.html#returning-a-view-versus-a-copy\n",
      "\n",
      "/tmp/ipykernel_1551217/103182811.py:16: SettingWithCopyWarning:\n",
      "\n",
      "\n",
      "A value is trying to be set on a copy of a slice from a DataFrame\n",
      "\n",
      "See the caveats in the documentation: https://pandas.pydata.org/pandas-docs/stable/user_guide/indexing.html#returning-a-view-versus-a-copy\n",
      "\n",
      "/tmp/ipykernel_1551217/103182811.py:19: SettingWithCopyWarning:\n",
      "\n",
      "\n",
      "A value is trying to be set on a copy of a slice from a DataFrame\n",
      "\n",
      "See the caveats in the documentation: https://pandas.pydata.org/pandas-docs/stable/user_guide/indexing.html#returning-a-view-versus-a-copy\n",
      "\n",
      "/tmp/ipykernel_1551217/103182811.py:21: SettingWithCopyWarning:\n",
      "\n",
      "\n",
      "A value is trying to be set on a copy of a slice from a DataFrame\n",
      "\n",
      "See the caveats in the documentation: https://pandas.pydata.org/pandas-docs/stable/user_guide/indexing.html#returning-a-view-versus-a-copy\n",
      "\n",
      "/tmp/ipykernel_1551217/103182811.py:23: SettingWithCopyWarning:\n",
      "\n",
      "\n",
      "A value is trying to be set on a copy of a slice from a DataFrame\n",
      "\n",
      "See the caveats in the documentation: https://pandas.pydata.org/pandas-docs/stable/user_guide/indexing.html#returning-a-view-versus-a-copy\n",
      "\n",
      "/tmp/ipykernel_1551217/103182811.py:25: SettingWithCopyWarning:\n",
      "\n",
      "\n",
      "A value is trying to be set on a copy of a slice from a DataFrame\n",
      "\n",
      "See the caveats in the documentation: https://pandas.pydata.org/pandas-docs/stable/user_guide/indexing.html#returning-a-view-versus-a-copy\n",
      "\n",
      "/tmp/ipykernel_1551217/103182811.py:27: SettingWithCopyWarning:\n",
      "\n",
      "\n",
      "A value is trying to be set on a copy of a slice from a DataFrame\n",
      "\n",
      "See the caveats in the documentation: https://pandas.pydata.org/pandas-docs/stable/user_guide/indexing.html#returning-a-view-versus-a-copy\n",
      "\n",
      "/tmp/ipykernel_1551217/103182811.py:29: SettingWithCopyWarning:\n",
      "\n",
      "\n",
      "A value is trying to be set on a copy of a slice from a DataFrame\n",
      "\n",
      "See the caveats in the documentation: https://pandas.pydata.org/pandas-docs/stable/user_guide/indexing.html#returning-a-view-versus-a-copy\n",
      "\n",
      "/tmp/ipykernel_1551217/103182811.py:31: SettingWithCopyWarning:\n",
      "\n",
      "\n",
      "A value is trying to be set on a copy of a slice from a DataFrame\n",
      "\n",
      "See the caveats in the documentation: https://pandas.pydata.org/pandas-docs/stable/user_guide/indexing.html#returning-a-view-versus-a-copy\n",
      "\n",
      "/tmp/ipykernel_1551217/103182811.py:33: SettingWithCopyWarning:\n",
      "\n",
      "\n",
      "A value is trying to be set on a copy of a slice from a DataFrame\n",
      "\n",
      "See the caveats in the documentation: https://pandas.pydata.org/pandas-docs/stable/user_guide/indexing.html#returning-a-view-versus-a-copy\n",
      "\n",
      "/tmp/ipykernel_1551217/103182811.py:35: SettingWithCopyWarning:\n",
      "\n",
      "\n",
      "A value is trying to be set on a copy of a slice from a DataFrame\n",
      "\n",
      "See the caveats in the documentation: https://pandas.pydata.org/pandas-docs/stable/user_guide/indexing.html#returning-a-view-versus-a-copy\n",
      "\n",
      "/tmp/ipykernel_1551217/103182811.py:39: SettingWithCopyWarning:\n",
      "\n",
      "\n",
      "A value is trying to be set on a copy of a slice from a DataFrame\n",
      "\n",
      "See the caveats in the documentation: https://pandas.pydata.org/pandas-docs/stable/user_guide/indexing.html#returning-a-view-versus-a-copy\n",
      "\n",
      "/tmp/ipykernel_1551217/103182811.py:40: SettingWithCopyWarning:\n",
      "\n",
      "\n",
      "A value is trying to be set on a copy of a slice from a DataFrame\n",
      "\n",
      "See the caveats in the documentation: https://pandas.pydata.org/pandas-docs/stable/user_guide/indexing.html#returning-a-view-versus-a-copy\n",
      "\n",
      "/tmp/ipykernel_1551217/103182811.py:41: SettingWithCopyWarning:\n",
      "\n",
      "\n",
      "A value is trying to be set on a copy of a slice from a DataFrame\n",
      "\n",
      "See the caveats in the documentation: https://pandas.pydata.org/pandas-docs/stable/user_guide/indexing.html#returning-a-view-versus-a-copy\n",
      "\n",
      "/tmp/ipykernel_1551217/103182811.py:42: SettingWithCopyWarning:\n",
      "\n",
      "\n",
      "A value is trying to be set on a copy of a slice from a DataFrame\n",
      "\n",
      "See the caveats in the documentation: https://pandas.pydata.org/pandas-docs/stable/user_guide/indexing.html#returning-a-view-versus-a-copy\n",
      "\n",
      "/tmp/ipykernel_1551217/103182811.py:43: SettingWithCopyWarning:\n",
      "\n",
      "\n",
      "A value is trying to be set on a copy of a slice from a DataFrame\n",
      "\n",
      "See the caveats in the documentation: https://pandas.pydata.org/pandas-docs/stable/user_guide/indexing.html#returning-a-view-versus-a-copy\n",
      "\n",
      "/tmp/ipykernel_1551217/103182811.py:44: SettingWithCopyWarning:\n",
      "\n",
      "\n",
      "A value is trying to be set on a copy of a slice from a DataFrame\n",
      "\n",
      "See the caveats in the documentation: https://pandas.pydata.org/pandas-docs/stable/user_guide/indexing.html#returning-a-view-versus-a-copy\n",
      "\n",
      "/tmp/ipykernel_1551217/103182811.py:45: SettingWithCopyWarning:\n",
      "\n",
      "\n",
      "A value is trying to be set on a copy of a slice from a DataFrame\n",
      "\n",
      "See the caveats in the documentation: https://pandas.pydata.org/pandas-docs/stable/user_guide/indexing.html#returning-a-view-versus-a-copy\n",
      "\n",
      "/tmp/ipykernel_1551217/103182811.py:46: SettingWithCopyWarning:\n",
      "\n",
      "\n",
      "A value is trying to be set on a copy of a slice from a DataFrame\n",
      "\n",
      "See the caveats in the documentation: https://pandas.pydata.org/pandas-docs/stable/user_guide/indexing.html#returning-a-view-versus-a-copy\n",
      "\n",
      "/tmp/ipykernel_1551217/103182811.py:47: SettingWithCopyWarning:\n",
      "\n",
      "\n",
      "A value is trying to be set on a copy of a slice from a DataFrame\n",
      "\n",
      "See the caveats in the documentation: https://pandas.pydata.org/pandas-docs/stable/user_guide/indexing.html#returning-a-view-versus-a-copy\n",
      "\n",
      "/tmp/ipykernel_1551217/103182811.py:48: SettingWithCopyWarning:\n",
      "\n",
      "\n",
      "A value is trying to be set on a copy of a slice from a DataFrame\n",
      "\n",
      "See the caveats in the documentation: https://pandas.pydata.org/pandas-docs/stable/user_guide/indexing.html#returning-a-view-versus-a-copy\n",
      "\n"
     ]
    },
    {
     "name": "stdout",
     "output_type": "stream",
     "text": [
      "Cd4 T cells                   129614\n",
      "B cells                       116486\n",
      "General capillary              72652\n",
      "AT II epithelial               56406\n",
      "Non-classical monocyte         53893\n",
      "Granulocyte                    48641\n",
      "Interstitial macrophages       40950\n",
      "NK cells                       40675\n",
      "Alveolar macrophages           36188\n",
      "Cd8 T cells                    30992\n",
      "Classical monocyte             21812\n",
      "Dendritic cells                21314\n",
      "Fibroblast                     19524\n",
      "Aerocyte capillary             15074\n",
      "Venous endothelial              8746\n",
      "Club_Goblet                     8345\n",
      "AT I epithelial                 7145\n",
      "Proliferating T cells           6812\n",
      "Multiciliated_Deuterosomal      6163\n",
      "Smooth muscle cells             5849\n",
      "Plasma cells                    4587\n",
      "Migratory dendritic             4269\n",
      "Neutrophils                     3125\n",
      "Progenitor endothelial          2741\n",
      "Mesothelium                     2512\n",
      "Pericyte                        2509\n",
      "Lymphatic endothelial           2357\n",
      "Mast cells                      2186\n",
      "Arterial endothelial            2165\n",
      "Name: Level_4, dtype: int64\n"
     ]
    }
   ],
   "source": [
    "adata.obs['Level_4'] = adata.obs['Level_5']\n",
    "adata.obs.Level_4=adata.obs['Level_4'].astype(object)\n",
    "\n",
    "adata.obs['Level_4'].loc[(adata.obs['Level_5']== 'cd103+ cd11b+ proliferating cDC')|\\\n",
    "\t(adata.obs['Level_5']== 'cd11b+ cDC')|(adata.obs['Level_5']== 'cd103+ cd11b- cDC')|\\\n",
    "\t(adata.obs['Level_5']== 'pDC')] = 'Dendritic cells'\n",
    "\n",
    "adata.obs['Level_4'].loc[(adata.obs['Level_5']== 'Th2 cells')|\\\n",
    "\t(adata.obs['Level_5']== 'Cd4 T cells')|\n",
    "    (adata.obs['Level_4']=='Ccl5+ T cells')] = 'Cd4 T cells'\n",
    "adata.obs['Level_4'].loc[(adata.obs['Level_5']== 'Ptprc+ fibroblast')\\\n",
    "\t] = 'Fibroblast'\n",
    "adata.obs['Level_4'].loc[(adata.obs['Level_5']== 'Pf4+ general capillary')\\\n",
    "\t] = 'General capillary'\n",
    "\n",
    "adata.obs['Level_4'].loc[(adata.obs['Level_5']== 'Rps4+ granulocyte')\\\n",
    "\t] = 'Granulocyte'\n",
    "\n",
    "adata.obs['Level_4'].loc[(adata.obs['Level_5']== 'Proliferating alveolar macrophages')\\\n",
    "\t] = 'Alveolar macrophages'\n",
    "adata.obs['Level_4'].loc[(adata.obs['Level_5']== 'Proliferating B cells')\\\n",
    "\t] = 'B cells'\n",
    "adata.obs['Level_4'].loc[(adata.obs['Level_5']== 'Proliferating interstitial macrophages')\\\n",
    "\t] = 'Interstitial macrophages'\n",
    "adata.obs['Level_4'].loc[(adata.obs['Level_5']== 'Proliferating NK cells')\\\n",
    "\t] = 'NK cells'\n",
    "adata.obs['Level_4'].loc[(adata.obs['Level_5']== 'Proliferating neutrophils')\\\n",
    "\t] = 'Neutrophils'\n",
    "adata.obs['Level_4'].loc[(adata.obs['Level_5']== 'Proliferating venous endothelial')\\\n",
    "\t] = 'Venous endothelial'\n",
    "adata.obs['Level_4'].loc[(adata.obs['Level_5']== 'Proliferating progenitor endothelial')\\\n",
    "\t] = 'Progenitor endothelial'\n",
    "adata.obs['Level_4'].loc[(adata.obs['Level_5']== 'Proliferating monocytes')\\\n",
    "\t] = 'Non-classical monocyte'\n",
    "adata.obs['Level_4'].loc[(adata.obs['Level_5']== 'Proliferating plasma')|\\\n",
    "\t(adata.obs['Level_5']== 'IgM plasma')|(adata.obs['Level_5']== 'IgA plasma')\\\n",
    "\t] = 'Plasma cells'\n",
    "\n",
    "adata.obs['Level_4'].loc[(adata.obs['Level_4'].isin(['Smoke induced aerocyte capillary']))]='Aerocyte capillary'\n",
    "adata.obs['Level_4'].loc[(adata.obs['Level_4'].isin(['Smoke induced club_goblet']))]='Club_Goblet'\n",
    "adata.obs['Level_4'].loc[(adata.obs['Level_4'].isin(['Smoke induced dendritic cells']))]='Dendritic cells'\n",
    "adata.obs['Level_4'].loc[(adata.obs['Level_4'].isin(['Smoke induced granulocyte']))]='Granulocyte'\n",
    "adata.obs['Level_4'].loc[(adata.obs['Level_4'].isin(['Smoke induced interstitial macrophages']))]='Interstitial macrophages'\n",
    "adata.obs['Level_4'].loc[(adata.obs['Level_4'].isin(['Smoke induced smooth muscle cells']))]='Smooth muscle cells'\n",
    "adata.obs['Level_4'].loc[(adata.obs['Level_4']== 'Viral induced alveolar macrophages')] = 'Alveolar macrophages'\n",
    "adata.obs['Level_4'].loc[(adata.obs['Level_4']== 'Viral induced interstitial macrophages')] = 'Interstitial macrophages'\n",
    "adata.obs['Level_4'].loc[(adata.obs['Level_4']== 'Viral induced granulocyte')] = 'Granulocyte'\n",
    "adata.obs['Level_4'].loc[(adata.obs['Level_4']== 'Viral induced monocytes')] = 'Non-classical monocyte'\n",
    "column = \"Level_4\"\n",
    "\n",
    "# Compute value counts and filter out labels with 0 occurrences\n",
    "valid_categories = adata.obs[column].value_counts()\n",
    "valid_categories = valid_categories[valid_categories > 0].index\n",
    "\n",
    "# Filter the DataFrame to include only rows with valid categories\n",
    "adata.obs[column] = pd.Categorical(\n",
    "    adata.obs[column],\n",
    "    categories=valid_categories\n",
    ")\n",
    "\n",
    "# Remove unused categories from the column (optional)\n",
    "adata.obs[column] = adata.obs[column].cat.remove_unused_categories()\n",
    "\n",
    "# Check the updated value counts\n",
    "print(adata.obs[column].value_counts())\n"
   ]
  },
  {
   "cell_type": "code",
   "execution_count": 7,
   "id": "6829014f-6e32-4775-b41c-3a7b363871a5",
   "metadata": {},
   "outputs": [
    {
     "data": {
      "text/plain": [
       "Cd4 T cells                   129614\n",
       "B cells                       116486\n",
       "General capillary              72652\n",
       "AT II epithelial               56406\n",
       "Granulocyte                    48641\n",
       "Interstitial macrophages       40950\n",
       "Monocytes                      40761\n",
       "NK cells                       40675\n",
       "Alveolar macrophages           36188\n",
       "Cd8 T cells                    30992\n",
       "Classical monocyte             21812\n",
       "Dendritic cells                21314\n",
       "Fibroblast                     19524\n",
       "Aerocyte capillary             15074\n",
       "Non-classical monocyte         13132\n",
       "Venous endothelial              8746\n",
       "Club_Goblet                     8345\n",
       "AT I epithelial                 7145\n",
       "Proliferating T cells           6812\n",
       "Multiciliated_Deuterosomal      6163\n",
       "Smooth muscle cells             5849\n",
       "Plasma cells                    4587\n",
       "Migratory dendritic             4269\n",
       "Neutrophils                     3125\n",
       "Progenitor endothelial          2741\n",
       "Mesothelium                     2512\n",
       "Pericyte                        2509\n",
       "Lymphatic endothelial           2357\n",
       "Mast cells                      2186\n",
       "Arterial endothelial            2165\n",
       "Name: Level_4, dtype: int64"
      ]
     },
     "execution_count": 7,
     "metadata": {},
     "output_type": "execute_result"
    }
   ],
   "source": [
    "adata.obs.Level_4.value_counts()"
   ]
  },
  {
   "cell_type": "code",
   "execution_count": 15,
   "id": "000be84c-dfbc-48a6-a258-351238540f47",
   "metadata": {
    "scrolled": true
   },
   "outputs": [
    {
     "name": "stderr",
     "output_type": "stream",
     "text": [
      "/tmp/ipykernel_1551217/200025869.py:7: SettingWithCopyWarning:\n",
      "\n",
      "\n",
      "A value is trying to be set on a copy of a slice from a DataFrame\n",
      "\n",
      "See the caveats in the documentation: https://pandas.pydata.org/pandas-docs/stable/user_guide/indexing.html#returning-a-view-versus-a-copy\n",
      "\n",
      "/tmp/ipykernel_1551217/200025869.py:10: SettingWithCopyWarning:\n",
      "\n",
      "\n",
      "A value is trying to be set on a copy of a slice from a DataFrame\n",
      "\n",
      "See the caveats in the documentation: https://pandas.pydata.org/pandas-docs/stable/user_guide/indexing.html#returning-a-view-versus-a-copy\n",
      "\n",
      "/tmp/ipykernel_1551217/200025869.py:14: SettingWithCopyWarning:\n",
      "\n",
      "\n",
      "A value is trying to be set on a copy of a slice from a DataFrame\n",
      "\n",
      "See the caveats in the documentation: https://pandas.pydata.org/pandas-docs/stable/user_guide/indexing.html#returning-a-view-versus-a-copy\n",
      "\n",
      "/tmp/ipykernel_1551217/200025869.py:17: SettingWithCopyWarning:\n",
      "\n",
      "\n",
      "A value is trying to be set on a copy of a slice from a DataFrame\n",
      "\n",
      "See the caveats in the documentation: https://pandas.pydata.org/pandas-docs/stable/user_guide/indexing.html#returning-a-view-versus-a-copy\n",
      "\n",
      "/tmp/ipykernel_1551217/200025869.py:20: SettingWithCopyWarning:\n",
      "\n",
      "\n",
      "A value is trying to be set on a copy of a slice from a DataFrame\n",
      "\n",
      "See the caveats in the documentation: https://pandas.pydata.org/pandas-docs/stable/user_guide/indexing.html#returning-a-view-versus-a-copy\n",
      "\n",
      "/tmp/ipykernel_1551217/200025869.py:24: SettingWithCopyWarning:\n",
      "\n",
      "\n",
      "A value is trying to be set on a copy of a slice from a DataFrame\n",
      "\n",
      "See the caveats in the documentation: https://pandas.pydata.org/pandas-docs/stable/user_guide/indexing.html#returning-a-view-versus-a-copy\n",
      "\n",
      "/tmp/ipykernel_1551217/200025869.py:26: SettingWithCopyWarning:\n",
      "\n",
      "\n",
      "A value is trying to be set on a copy of a slice from a DataFrame\n",
      "\n",
      "See the caveats in the documentation: https://pandas.pydata.org/pandas-docs/stable/user_guide/indexing.html#returning-a-view-versus-a-copy\n",
      "\n",
      "/tmp/ipykernel_1551217/200025869.py:29: SettingWithCopyWarning:\n",
      "\n",
      "\n",
      "A value is trying to be set on a copy of a slice from a DataFrame\n",
      "\n",
      "See the caveats in the documentation: https://pandas.pydata.org/pandas-docs/stable/user_guide/indexing.html#returning-a-view-versus-a-copy\n",
      "\n",
      "/tmp/ipykernel_1551217/200025869.py:32: SettingWithCopyWarning:\n",
      "\n",
      "\n",
      "A value is trying to be set on a copy of a slice from a DataFrame\n",
      "\n",
      "See the caveats in the documentation: https://pandas.pydata.org/pandas-docs/stable/user_guide/indexing.html#returning-a-view-versus-a-copy\n",
      "\n",
      "/tmp/ipykernel_1551217/200025869.py:33: SettingWithCopyWarning:\n",
      "\n",
      "\n",
      "A value is trying to be set on a copy of a slice from a DataFrame\n",
      "\n",
      "See the caveats in the documentation: https://pandas.pydata.org/pandas-docs/stable/user_guide/indexing.html#returning-a-view-versus-a-copy\n",
      "\n",
      "/tmp/ipykernel_1551217/200025869.py:34: SettingWithCopyWarning:\n",
      "\n",
      "\n",
      "A value is trying to be set on a copy of a slice from a DataFrame\n",
      "\n",
      "See the caveats in the documentation: https://pandas.pydata.org/pandas-docs/stable/user_guide/indexing.html#returning-a-view-versus-a-copy\n",
      "\n",
      "/tmp/ipykernel_1551217/200025869.py:35: SettingWithCopyWarning:\n",
      "\n",
      "\n",
      "A value is trying to be set on a copy of a slice from a DataFrame\n",
      "\n",
      "See the caveats in the documentation: https://pandas.pydata.org/pandas-docs/stable/user_guide/indexing.html#returning-a-view-versus-a-copy\n",
      "\n",
      "/tmp/ipykernel_1551217/200025869.py:36: SettingWithCopyWarning:\n",
      "\n",
      "\n",
      "A value is trying to be set on a copy of a slice from a DataFrame\n",
      "\n",
      "See the caveats in the documentation: https://pandas.pydata.org/pandas-docs/stable/user_guide/indexing.html#returning-a-view-versus-a-copy\n",
      "\n",
      "/tmp/ipykernel_1551217/200025869.py:37: SettingWithCopyWarning:\n",
      "\n",
      "\n",
      "A value is trying to be set on a copy of a slice from a DataFrame\n",
      "\n",
      "See the caveats in the documentation: https://pandas.pydata.org/pandas-docs/stable/user_guide/indexing.html#returning-a-view-versus-a-copy\n",
      "\n",
      "/tmp/ipykernel_1551217/200025869.py:40: SettingWithCopyWarning:\n",
      "\n",
      "\n",
      "A value is trying to be set on a copy of a slice from a DataFrame\n",
      "\n",
      "See the caveats in the documentation: https://pandas.pydata.org/pandas-docs/stable/user_guide/indexing.html#returning-a-view-versus-a-copy\n",
      "\n",
      "/tmp/ipykernel_1551217/200025869.py:41: SettingWithCopyWarning:\n",
      "\n",
      "\n",
      "A value is trying to be set on a copy of a slice from a DataFrame\n",
      "\n",
      "See the caveats in the documentation: https://pandas.pydata.org/pandas-docs/stable/user_guide/indexing.html#returning-a-view-versus-a-copy\n",
      "\n",
      "/tmp/ipykernel_1551217/200025869.py:42: SettingWithCopyWarning:\n",
      "\n",
      "\n",
      "A value is trying to be set on a copy of a slice from a DataFrame\n",
      "\n",
      "See the caveats in the documentation: https://pandas.pydata.org/pandas-docs/stable/user_guide/indexing.html#returning-a-view-versus-a-copy\n",
      "\n",
      "/tmp/ipykernel_1551217/200025869.py:43: SettingWithCopyWarning:\n",
      "\n",
      "\n",
      "A value is trying to be set on a copy of a slice from a DataFrame\n",
      "\n",
      "See the caveats in the documentation: https://pandas.pydata.org/pandas-docs/stable/user_guide/indexing.html#returning-a-view-versus-a-copy\n",
      "\n",
      "/tmp/ipykernel_1551217/200025869.py:44: SettingWithCopyWarning:\n",
      "\n",
      "\n",
      "A value is trying to be set on a copy of a slice from a DataFrame\n",
      "\n",
      "See the caveats in the documentation: https://pandas.pydata.org/pandas-docs/stable/user_guide/indexing.html#returning-a-view-versus-a-copy\n",
      "\n",
      "/tmp/ipykernel_1551217/200025869.py:46: SettingWithCopyWarning:\n",
      "\n",
      "\n",
      "A value is trying to be set on a copy of a slice from a DataFrame\n",
      "\n",
      "See the caveats in the documentation: https://pandas.pydata.org/pandas-docs/stable/user_guide/indexing.html#returning-a-view-versus-a-copy\n",
      "\n",
      "/tmp/ipykernel_1551217/200025869.py:47: SettingWithCopyWarning:\n",
      "\n",
      "\n",
      "A value is trying to be set on a copy of a slice from a DataFrame\n",
      "\n",
      "See the caveats in the documentation: https://pandas.pydata.org/pandas-docs/stable/user_guide/indexing.html#returning-a-view-versus-a-copy\n",
      "\n",
      "/tmp/ipykernel_1551217/200025869.py:48: SettingWithCopyWarning:\n",
      "\n",
      "\n",
      "A value is trying to be set on a copy of a slice from a DataFrame\n",
      "\n",
      "See the caveats in the documentation: https://pandas.pydata.org/pandas-docs/stable/user_guide/indexing.html#returning-a-view-versus-a-copy\n",
      "\n",
      "/tmp/ipykernel_1551217/200025869.py:49: SettingWithCopyWarning:\n",
      "\n",
      "\n",
      "A value is trying to be set on a copy of a slice from a DataFrame\n",
      "\n",
      "See the caveats in the documentation: https://pandas.pydata.org/pandas-docs/stable/user_guide/indexing.html#returning-a-view-versus-a-copy\n",
      "\n",
      "/tmp/ipykernel_1551217/200025869.py:50: SettingWithCopyWarning:\n",
      "\n",
      "\n",
      "A value is trying to be set on a copy of a slice from a DataFrame\n",
      "\n",
      "See the caveats in the documentation: https://pandas.pydata.org/pandas-docs/stable/user_guide/indexing.html#returning-a-view-versus-a-copy\n",
      "\n"
     ]
    }
   ],
   "source": [
    "adata.obs['Level_3'] = adata.obs['Level_4']\n",
    "adata.obs.Level_3=adata.obs.Level_3.astype(object)\n",
    "\n",
    "#adata.obs['Level_3'].loc[(adata.obs['Level_4']== 'Alveolar macrophages')|\\\n",
    "#\t(adata.obs['Level_4']== 'Interstitial macrophages')] = 'Macrophages'\n",
    "\n",
    "adata.obs['Level_3'].loc[(adata.obs['Level_4']== 'Classical monocyte')|\\\n",
    "\t(adata.obs['Level_4']== 'Non-classical monocyte')] = 'Monocytes'\n",
    "\n",
    "adata.obs['Level_3'].loc[(adata.obs['Level_4']== 'Cd4 T cells')|\\\n",
    "\t(adata.obs['Level_4']== 'Cd8 T cells')|(adata.obs['Level_4']== 'Proliferating T cells')\\\n",
    "\t] = 'T cell lineage'\n",
    "\n",
    "adata.obs['Level_3'].loc[(adata.obs['Level_4']== 'Aerocyte capillary')|\\\n",
    "\t(adata.obs['Level_4']== 'General capillary')] = 'Capillary endothelial'\n",
    "\n",
    "adata.obs['Level_3'].loc[(adata.obs['Level_4']== 'Arterial endothelial')|\\\n",
    "\t(adata.obs['Level_4']== 'Progenitor endothelial')] = 'Capillary endothelial'\n",
    "\n",
    "adata.obs['Level_3'].loc[(adata.obs['Level_4']== 'Proliferating plasma')|\\\n",
    "\t(adata.obs['Level_4']== 'IgM plasma')|(adata.obs['Level_4']== 'IgA plasma')\\\n",
    "\t] = 'Plasma cells'\n",
    "\n",
    "adata.obs['Level_3'].loc[(adata.obs['Level_4']== 'Pericyte')] = 'Fibroblast'\n",
    "\n",
    "adata.obs['Level_3'].loc[(adata.obs['Level_4']== 'Club_Goblet')|\\\n",
    "\t(adata.obs['Level_4']== 'Goblet')] = 'Secretory'\n",
    "\n",
    "adata.obs['Level_3'].loc[(adata.obs['Level_4']== 'Classical monocyte')|\\\n",
    "\t(adata.obs['Level_4']== 'Non-classical monocyte')] = 'Monocytes'\n",
    "\n",
    "adata.obs['Level_3'].loc[(adata.obs['Level_5']== 'Smoke induced aerocyte capillary')] = 'Capillary endothelial'\n",
    "adata.obs['Level_3'].loc[(adata.obs['Level_5']== 'Smoke induced club_goblet')] = 'Secretory'\n",
    "adata.obs['Level_3'].loc[(adata.obs['Level_5']== 'Smoke induced dendritic cells')] = 'Dendritic cells'\n",
    "adata.obs['Level_3'].loc[(adata.obs['Level_5']== 'Smoke induced granulocyte')] = 'Granulocyte'\n",
    "adata.obs['Level_3'].loc[(adata.obs['Level_5']== 'Smoke induced interstitial macrophages')] = 'Interstitial macrophages'\n",
    "adata.obs['Level_3'].loc[(adata.obs['Level_5']== 'Smoke induced smooth muscle cells')] = 'Smooth muscle cells'\n",
    "\n",
    "\n",
    "adata.obs['Level_3'].loc[(adata.obs['Level_5']== 'Viral induced alveolar macrophages')] = 'Alveolar macrophages'\n",
    "adata.obs['Level_3'].loc[(adata.obs['Level_5']== 'Viral induced interstitial macrophages')] = 'Interstitial macrophages'\n",
    "adata.obs['Level_3'].loc[(adata.obs['Level_5']== 'Viral induced granulocyte')] = 'Granulocyte'\n",
    "adata.obs['Level_3'].loc[(adata.obs['Level_5']== 'Viral induced monocytes')] = 'Monocytes'\n",
    "adata.obs['Level_3'].loc[(adata.obs['Level_5']== 'Mast cells')] = 'Granulocyte'\n",
    "\n",
    "adata.obs['Level_3'].loc[(adata.obs['Level_5']== 'Mast cells')] = 'Granulocyte'\n",
    "adata.obs['Level_3'].loc[(adata.obs['Level_3']== 'Neutrophils')] = 'Granulocyte'\n",
    "adata.obs['Level_3'].loc[(adata.obs['Level_5']== 'Migratory dendritic')] = 'Dendritic cells'\n",
    "adata.obs['Level_3'].loc[(adata.obs['Level_5']== 'Lymphatic endothelial')] = 'Capillary endothelial'\n",
    "adata.obs['Level_3'].loc[(adata.obs['Level_5']== 'Mesothelium')] = 'Fibroblast'"
   ]
  },
  {
   "cell_type": "code",
   "execution_count": 18,
   "id": "6f12e28b-ca50-4493-8b70-e9092c0f0afa",
   "metadata": {},
   "outputs": [
    {
     "data": {
      "text/plain": [
       "T cell lineage                167418\n",
       "B cells                       116486\n",
       "Capillary endothelial          94989\n",
       "Monocytes                      75705\n",
       "AT II epithelial               56406\n",
       "Granulocyte                    53952\n",
       "Interstitial macrophages       40950\n",
       "NK cells                       40675\n",
       "Alveolar macrophages           36188\n",
       "Dendritic cells                25583\n",
       "Fibroblast                     24545\n",
       "Venous endothelial              8746\n",
       "Secretory                       8345\n",
       "AT I epithelial                 7145\n",
       "Multiciliated_Deuterosomal      6163\n",
       "Smooth muscle cells             5849\n",
       "Plasma cells                    4587\n",
       "Name: Level_3, dtype: int64"
      ]
     },
     "execution_count": 18,
     "metadata": {},
     "output_type": "execute_result"
    }
   ],
   "source": [
    "adata.obs.Level_3.value_counts()"
   ]
  },
  {
   "cell_type": "code",
   "execution_count": 16,
   "id": "653e0a59-e8da-4130-8a99-c4b7302f9946",
   "metadata": {
    "scrolled": true
   },
   "outputs": [
    {
     "name": "stderr",
     "output_type": "stream",
     "text": [
      "/tmp/ipykernel_1551217/2348209054.py:3: SettingWithCopyWarning:\n",
      "\n",
      "\n",
      "A value is trying to be set on a copy of a slice from a DataFrame\n",
      "\n",
      "See the caveats in the documentation: https://pandas.pydata.org/pandas-docs/stable/user_guide/indexing.html#returning-a-view-versus-a-copy\n",
      "\n",
      "/tmp/ipykernel_1551217/2348209054.py:12: SettingWithCopyWarning:\n",
      "\n",
      "\n",
      "A value is trying to be set on a copy of a slice from a DataFrame\n",
      "\n",
      "See the caveats in the documentation: https://pandas.pydata.org/pandas-docs/stable/user_guide/indexing.html#returning-a-view-versus-a-copy\n",
      "\n",
      "/tmp/ipykernel_1551217/2348209054.py:19: SettingWithCopyWarning:\n",
      "\n",
      "\n",
      "A value is trying to be set on a copy of a slice from a DataFrame\n",
      "\n",
      "See the caveats in the documentation: https://pandas.pydata.org/pandas-docs/stable/user_guide/indexing.html#returning-a-view-versus-a-copy\n",
      "\n",
      "/tmp/ipykernel_1551217/2348209054.py:27: SettingWithCopyWarning:\n",
      "\n",
      "\n",
      "A value is trying to be set on a copy of a slice from a DataFrame\n",
      "\n",
      "See the caveats in the documentation: https://pandas.pydata.org/pandas-docs/stable/user_guide/indexing.html#returning-a-view-versus-a-copy\n",
      "\n",
      "/tmp/ipykernel_1551217/2348209054.py:33: SettingWithCopyWarning:\n",
      "\n",
      "\n",
      "A value is trying to be set on a copy of a slice from a DataFrame\n",
      "\n",
      "See the caveats in the documentation: https://pandas.pydata.org/pandas-docs/stable/user_guide/indexing.html#returning-a-view-versus-a-copy\n",
      "\n",
      "/tmp/ipykernel_1551217/2348209054.py:40: SettingWithCopyWarning:\n",
      "\n",
      "\n",
      "A value is trying to be set on a copy of a slice from a DataFrame\n",
      "\n",
      "See the caveats in the documentation: https://pandas.pydata.org/pandas-docs/stable/user_guide/indexing.html#returning-a-view-versus-a-copy\n",
      "\n",
      "/tmp/ipykernel_1551217/2348209054.py:43: SettingWithCopyWarning:\n",
      "\n",
      "\n",
      "A value is trying to be set on a copy of a slice from a DataFrame\n",
      "\n",
      "See the caveats in the documentation: https://pandas.pydata.org/pandas-docs/stable/user_guide/indexing.html#returning-a-view-versus-a-copy\n",
      "\n"
     ]
    }
   ],
   "source": [
    "adata.obs['Level_2'] = adata.obs['Level_3']\n",
    "\n",
    "adata.obs['Level_2'].loc[(adata.obs['Level_2']== 'Interstitial macrophages')|\\\n",
    "\t(adata.obs['Level_2']== 'Alveolar macrophages')|(adata.obs['Level_2']== 'Monocyte')|\\\n",
    "\t(adata.obs['Level_2']== 'Dendritic cells')|(adata.obs['Level_2']== 'Mast cells')|\\\n",
    "\t(adata.obs['Level_2']== 'Granulocyte')\t|(adata.obs['Level_2']== 'pDC')|(adata.obs['Level_2']== 'Viral induced alveolar macrophages')|\\\n",
    "\t(adata.obs['Level_2']== 'Migratory dendritic')|(adata.obs['Level_2']== 'Non-classical monocyte')|\\\n",
    "\t(adata.obs['Level_2']== 'Viral induced Gran')|(adata.obs['Level_2']== 'Neutrophils')|\\\n",
    "\t(adata.obs['Level_2']== 'Viral induced monocytes')|\t(adata.obs['Level_2']== 'Monocytes')|(adata.obs['Level_2']== 'Viral induced interstitial macrophages')|\\\n",
    "\t(adata.obs['Level_2']== 'Macrophages')] = 'Myeloid'\t\n",
    "\n",
    "adata.obs['Level_2'].loc[(adata.obs['Level_2']== 'B cells')|\\\n",
    "\t(adata.obs['Level_2']== 'NK cells')|(adata.obs['Level_2']== 'Cd8+ T cells')|\\\n",
    "\t(adata.obs['Level_2']== 'Plasma cells')|(adata.obs['Level_2']== 'Cd4+ T cells')|\\\n",
    "\t(adata.obs['Level_2']== 'Th2 cells')|(adata.obs['Level_2']== 'Immature B')|\\\n",
    "\t(adata.obs['Level_2']== 'Proliferating B')|(adata.obs['Level_2']== 'T cell lineage')\\\n",
    "\t] = 'Lymphoid'\n",
    "\n",
    "adata.obs['Level_2'].loc[(adata.obs['Level_2']== 'Vascular endothelial cells')|\\\n",
    "\t(adata.obs['Level_2']== 'Capillary endothelial cells')|\\\n",
    "\t(adata.obs['Level_2']== 'Vcam1+ endothelial cells')|\\\n",
    "\t(adata.obs['Level_2']== 'Capillary endothelial')|\\\n",
    "\t(adata.obs['Level_2']== 'Mesenchymal cell')|(adata.obs['Level_2']== 'Megakaryocyte')|\\\n",
    "\t(adata.obs['Level_2']== 'Venous endothelial')|\n",
    "\t(adata.obs['Level_2']== 'Lymphatic endothelial')] = 'Blood vessels'\n",
    "\n",
    "adata.obs['Level_2'].loc[(adata.obs['Level_2']== 'Enriched epithelial')|\\\n",
    "\t(adata.obs['Level_2']== 'AT I epithelial')|(adata.obs['Level_2']== 'Epithelial cells')|\\\n",
    "\t(adata.obs['Level_2']== 'AT II epithelial')|(adata.obs['Level_2']== 'Club_Goblet')|\\\n",
    "\t(adata.obs['Level_2']== 'Secretory')|(adata.obs['Level_2']== 'Goblet')|\\\n",
    "    (adata.obs['Level_2']== 'AT2 cluster')] = 'Alveolar epithelium'\n",
    "\n",
    "adata.obs['Level_2'].loc[(adata.obs['Level_2']== 'Lipofibroblast')|\\\n",
    "\t(adata.obs['Level_2']== 'Mesothelium')|(adata.obs['Level_2']== 'SMC population')|\\\n",
    "\t(adata.obs['Level_2']== 'Smooth muscle cells')|(adata.obs['Level_2']== 'Adventitial fibroblasts')|\\\n",
    "\t(adata.obs['Level_2']== 'Vascular smooth muscle cells')|\\\n",
    "\t(adata.obs['Level_2']== 'Viral induced fibroblast')|(adata.obs['Level_2']== 'Pericyte')\\\n",
    "\t] = 'Fibroblast'\n",
    "\n",
    "adata.obs['Level_2'].loc[(adata.obs['Level_2']== 'IgG plasma')|\\\n",
    "\t(adata.obs['Level_2']== 'IgM plasma')|(adata.obs['Level_2']== 'IgA plasma')] = 'Plasma cells'\n",
    "\n",
    "adata.obs['Level_2'].loc[(adata.obs['Level_2']== 'Multiciliated_Deuterosomal')|\\\n",
    "\t(adata.obs['Level_2']== 'Cycling Basal')] = 'Airway epithelium'\t\n"
   ]
  },
  {
   "cell_type": "code",
   "execution_count": 20,
   "id": "70068a34-02f8-4c87-9fa7-bd32b0305948",
   "metadata": {},
   "outputs": [
    {
     "data": {
      "text/plain": [
       "Lymphoid               329166\n",
       "Myeloid                232378\n",
       "Blood vessels          103735\n",
       "Alveolar epithelium     71896\n",
       "Fibroblast              30394\n",
       "Airway epithelium        6163\n",
       "Name: Level_2, dtype: int64"
      ]
     },
     "execution_count": 20,
     "metadata": {},
     "output_type": "execute_result"
    }
   ],
   "source": [
    "adata.obs.Level_2.value_counts()"
   ]
  },
  {
   "cell_type": "code",
   "execution_count": 17,
   "id": "52ca6219-2616-447d-9821-8c8b9138b12f",
   "metadata": {},
   "outputs": [
    {
     "name": "stderr",
     "output_type": "stream",
     "text": [
      "/tmp/ipykernel_1551217/1503006252.py:2: SettingWithCopyWarning:\n",
      "\n",
      "\n",
      "A value is trying to be set on a copy of a slice from a DataFrame\n",
      "\n",
      "See the caveats in the documentation: https://pandas.pydata.org/pandas-docs/stable/user_guide/indexing.html#returning-a-view-versus-a-copy\n",
      "\n",
      "/tmp/ipykernel_1551217/1503006252.py:4: SettingWithCopyWarning:\n",
      "\n",
      "\n",
      "A value is trying to be set on a copy of a slice from a DataFrame\n",
      "\n",
      "See the caveats in the documentation: https://pandas.pydata.org/pandas-docs/stable/user_guide/indexing.html#returning-a-view-versus-a-copy\n",
      "\n",
      "/tmp/ipykernel_1551217/1503006252.py:6: SettingWithCopyWarning:\n",
      "\n",
      "\n",
      "A value is trying to be set on a copy of a slice from a DataFrame\n",
      "\n",
      "See the caveats in the documentation: https://pandas.pydata.org/pandas-docs/stable/user_guide/indexing.html#returning-a-view-versus-a-copy\n",
      "\n",
      "/tmp/ipykernel_1551217/1503006252.py:8: SettingWithCopyWarning:\n",
      "\n",
      "\n",
      "A value is trying to be set on a copy of a slice from a DataFrame\n",
      "\n",
      "See the caveats in the documentation: https://pandas.pydata.org/pandas-docs/stable/user_guide/indexing.html#returning-a-view-versus-a-copy\n",
      "\n"
     ]
    },
    {
     "data": {
      "text/plain": [
       "Immune         561544\n",
       "Endothelial    103735\n",
       "Epithelial      78059\n",
       "Stroma          30394\n",
       "Name: Level_1, dtype: int64"
      ]
     },
     "execution_count": 17,
     "metadata": {},
     "output_type": "execute_result"
    }
   ],
   "source": [
    "adata.obs['Level_1'] = adata.obs['Level_2']\n",
    "adata.obs['Level_1'].loc[(adata.obs['Level_2']== 'Airway epithelium')|\\\n",
    "\t(adata.obs['Level_2']== 'Alveolar epithelium')] = 'Epithelial'\t\n",
    "adata.obs['Level_1'].loc[(adata.obs['Level_2']== 'Lymphoid')|\\\n",
    "\t(adata.obs['Level_2']== 'Myeloid')] = 'Immune'\t\n",
    "adata.obs['Level_1'].loc[(adata.obs['Level_2']== 'Blood vessels')|\\\n",
    "\t(adata.obs['Level_2']== 'Lymphatic endothelial')] = 'Endothelial'\t\n",
    "adata.obs['Level_1'].loc[(adata.obs['Level_2']== 'Fibroblast')] = 'Stroma'\t\n",
    "adata.obs.Level_1.value_counts()"
   ]
  },
  {
   "cell_type": "code",
   "execution_count": 23,
   "id": "5a02e40c-0939-4119-a2bf-f2b3fb066f99",
   "metadata": {},
   "outputs": [
    {
     "data": {
      "application/vnd.plotly.v1+json": {
       "config": {
        "plotlyServerURL": "https://plot.ly"
       },
       "data": [
        {
         "arrangement": "freeform",
         "link": {
          "label": [
           "Lymphoid",
           "Myeloid",
           "Blood vessels",
           "Alveolar epithelium",
           "Airway epithelium",
           "Fibroblast",
           "T cell lineage",
           "B cells",
           "NK cells",
           "Plasma cells",
           "Monocytes",
           "Granulocyte",
           "Interstitial macrophages",
           "Alveolar macrophages",
           "Dendritic cells",
           "Capillary endothelial",
           "Venous endothelial",
           "AT II epithelial",
           "Secretory",
           "AT I epithelial",
           "Fibroblast",
           "Smooth muscle cells",
           "Multiciliated_Deuterosomal",
           "Cd4 T cells",
           "Cd8 T cells",
           "Proliferating T cells",
           "B cells",
           "General capillary",
           "Aerocyte capillary",
           "Progenitor endothelial",
           "Lymphatic endothelial",
           "Arterial endothelial",
           "Non-classical monocyte",
           "Classical monocyte",
           "AT II epithelial",
           "Granulocyte",
           "Neutrophils",
           "Mast cells",
           "Interstitial macrophages",
           "NK cells",
           "Alveolar macrophages",
           "Dendritic cells",
           "Migratory dendritic",
           "Fibroblast",
           "Mesothelium",
           "Pericyte",
           "Venous endothelial",
           "Club_Goblet",
           "AT I epithelial",
           "Multiciliated_Deuterosomal",
           "Smooth muscle cells",
           "Plasma cells",
           "Cd4 T cells",
           "Th2 cells",
           "Ccl5+ T cells",
           "B cells",
           "General capillary",
           "Pf4+ general capillary",
           "AT II epithelial",
           "Viral induced monocytes",
           "Non-classical monocyte",
           "Granulocyte",
           "Viral induced granulocyte",
           "Smoke induced granulocyte",
           "Rps4+ granulocyte",
           "Interstitial macrophages",
           "Viral induced interstitial macrophages",
           "Smoke induced interstitial macrophages",
           "Proliferating interstitial macrophages",
           "NK cells",
           "Proliferating NK cells",
           "Alveolar macrophages",
           "Viral induced alveolar macrophages",
           "Cd8 T cells",
           "Classical monocyte",
           "cd11b+ cDC",
           "cd103+ cd11b- cDC",
           "cd103+ cd11b+ proliferating cDC",
           "pDC",
           "Smoke induced dendritic cells",
           "Fibroblast",
           "Ptprc+ fibroblast",
           "Aerocyte capillary",
           "Smoke induced aerocyte capillary",
           "Venous endothelial",
           "Proliferating venous endothelial",
           "Club_Goblet",
           "Smoke induced club_goblet",
           "AT I epithelial",
           "Proliferating T cells",
           "Multiciliated_Deuterosomal",
           "Smooth muscle cells",
           "Smoke induced smooth muscle cells",
           "IgM plasma",
           "Proliferating plasma",
           "IgA plasma",
           "Migratory dendritic",
           "Neutrophils",
           "Proliferating neutrophils",
           "Progenitor endothelial",
           "Mesothelium",
           "Pericyte",
           "Lymphatic endothelial",
           "Mast cells",
           "Arterial endothelial"
          ],
          "source": [
           0,
           0,
           3,
           5,
           5,
           8,
           1,
           1,
           1,
           1,
           2,
           2,
           2,
           2,
           2,
           4,
           4,
           6,
           6,
           6,
           9,
           9,
           7,
           10,
           10,
           10,
           11,
           19,
           19,
           19,
           19,
           19,
           14,
           14,
           21,
           15,
           15,
           15,
           16,
           12,
           17,
           18,
           18,
           24,
           24,
           24,
           20,
           22,
           23,
           26,
           25,
           13,
           27,
           27,
           27,
           30,
           31,
           31,
           38,
           36,
           36,
           39,
           39,
           39,
           39,
           42,
           42,
           42,
           42,
           43,
           43,
           44,
           44,
           28,
           37,
           45,
           45,
           45,
           45,
           45,
           47,
           47,
           32,
           32,
           50,
           50,
           51,
           51,
           52,
           29,
           53,
           54,
           54,
           55,
           55,
           55,
           46,
           40,
           40,
           33,
           48,
           49,
           34,
           41,
           35
          ],
          "target": [
           1,
           2,
           4,
           6,
           7,
           9,
           10,
           11,
           12,
           13,
           14,
           15,
           16,
           17,
           18,
           19,
           20,
           21,
           22,
           23,
           24,
           25,
           26,
           27,
           28,
           29,
           30,
           31,
           32,
           33,
           34,
           35,
           36,
           37,
           38,
           39,
           40,
           41,
           42,
           43,
           44,
           45,
           46,
           47,
           48,
           49,
           50,
           51,
           52,
           53,
           54,
           55,
           56,
           57,
           58,
           59,
           60,
           61,
           62,
           63,
           64,
           65,
           66,
           67,
           68,
           69,
           70,
           71,
           72,
           73,
           74,
           75,
           76,
           77,
           78,
           79,
           80,
           81,
           82,
           83,
           84,
           85,
           86,
           87,
           88,
           89,
           90,
           91,
           92,
           93,
           94,
           95,
           96,
           97,
           98,
           99,
           100,
           101,
           102,
           103,
           104,
           105,
           106,
           107,
           108
          ],
          "value": [
           329166,
           232378,
           103735,
           71896,
           6163,
           30394,
           167418,
           116486,
           40675,
           4587,
           75705,
           53952,
           40950,
           36188,
           25583,
           94989,
           8746,
           56406,
           8345,
           7145,
           24545,
           5849,
           6163,
           129614,
           30992,
           6812,
           116486,
           72652,
           15074,
           2741,
           2357,
           2165,
           53893,
           21812,
           56406,
           48641,
           3125,
           2186,
           40950,
           40675,
           36188,
           21314,
           4269,
           19524,
           2512,
           2509,
           8746,
           8345,
           7145,
           6163,
           5849,
           4587,
           75401,
           49229,
           4984,
           116486,
           71620,
           1032,
           56406,
           40761,
           13132,
           39883,
           5342,
           2084,
           1332,
           31219,
           6166,
           2186,
           1379,
           39895,
           780,
           30942,
           5246,
           30992,
           21812,
           9244,
           6351,
           2827,
           2132,
           760,
           18745,
           779,
           12548,
           2526,
           6707,
           2039,
           8212,
           133,
           7145,
           6812,
           6163,
           4423,
           1426,
           3190,
           1003,
           394,
           4269,
           3026,
           99,
           2741,
           2512,
           2509,
           2357,
           2186,
           2165
          ]
         },
         "node": {
          "color": [
           "rgba(255, 0, 0, 0.7)",
           "rgba(0, 255, 0, 0.7)",
           "rgba(0, 255, 0, 0.7)",
           "rgba(255, 0, 0, 0.7)",
           "rgba(0, 255, 0, 0.7)",
           "rgba(255, 0, 0, 0.7)",
           "rgba(0, 255, 0, 0.7)",
           "rgba(0, 255, 0, 0.7)",
           "rgba(255, 0, 0, 0.7)",
           "rgba(0, 255, 0, 0.7)",
           "rgba(255, 255, 0, 0.7)",
           "rgba(255, 255, 0, 0.7)",
           "rgba(255, 255, 0, 0.7)",
           "rgba(255, 255, 0, 0.7)",
           "rgba(255, 255, 0, 0.7)",
           "rgba(255, 255, 0, 0.7)",
           "rgba(255, 255, 0, 0.7)",
           "rgba(255, 255, 0, 0.7)",
           "rgba(255, 255, 0, 0.7)",
           "rgba(255, 255, 0, 0.7)",
           "rgba(255, 255, 0, 0.7)",
           "rgba(255, 255, 0, 0.7)",
           "rgba(255, 255, 0, 0.7)",
           "rgba(255, 255, 0, 0.7)",
           "rgba(255, 255, 0, 0.7)",
           "rgba(255, 255, 0, 0.7)",
           "rgba(255, 255, 0, 0.7)",
           "rgba(255, 0, 255, 0.7)",
           "rgba(255, 0, 255, 0.7)",
           "rgba(255, 0, 255, 0.7)",
           "rgba(255, 0, 255, 0.7)",
           "rgba(255, 0, 255, 0.7)",
           "rgba(255, 0, 255, 0.7)",
           "rgba(255, 0, 255, 0.7)",
           "rgba(255, 0, 255, 0.7)",
           "rgba(255, 0, 255, 0.7)",
           "rgba(255, 0, 255, 0.7)",
           "rgba(255, 0, 255, 0.7)",
           "rgba(255, 0, 255, 0.7)",
           "rgba(255, 0, 255, 0.7)",
           "rgba(255, 0, 255, 0.7)",
           "rgba(255, 0, 255, 0.7)",
           "rgba(255, 0, 255, 0.7)",
           "rgba(255, 0, 255, 0.7)",
           "rgba(255, 0, 255, 0.7)",
           "rgba(255, 0, 255, 0.7)",
           "rgba(255, 0, 255, 0.7)",
           "rgba(255, 0, 255, 0.7)",
           "rgba(255, 0, 255, 0.7)",
           "rgba(255, 0, 255, 0.7)",
           "rgba(255, 0, 255, 0.7)",
           "rgba(255, 0, 255, 0.7)",
           "rgba(255, 0, 255, 0.7)",
           "rgba(255, 0, 255, 0.7)",
           "rgba(255, 0, 255, 0.7)",
           "rgba(255, 0, 255, 0.7)",
           "rgba(0, 255, 255, 0.7)",
           "rgba(0, 255, 255, 0.7)",
           "rgba(0, 255, 255, 0.7)",
           "rgba(0, 255, 255, 0.7)",
           "rgba(0, 255, 255, 0.7)",
           "rgba(0, 255, 255, 0.7)",
           "rgba(0, 255, 255, 0.7)",
           "rgba(0, 255, 255, 0.7)",
           "rgba(0, 255, 255, 0.7)",
           "rgba(0, 255, 255, 0.7)",
           "rgba(0, 255, 255, 0.7)",
           "rgba(0, 255, 255, 0.7)",
           "rgba(0, 255, 255, 0.7)",
           "rgba(0, 255, 255, 0.7)",
           "rgba(0, 255, 255, 0.7)",
           "rgba(0, 255, 255, 0.7)",
           "rgba(0, 255, 255, 0.7)",
           "rgba(0, 255, 255, 0.7)",
           "rgba(0, 255, 255, 0.7)",
           "rgba(0, 255, 255, 0.7)",
           "rgba(0, 255, 255, 0.7)",
           "rgba(0, 255, 255, 0.7)",
           "rgba(0, 255, 255, 0.7)",
           "rgba(0, 255, 255, 0.7)",
           "rgba(0, 255, 255, 0.7)",
           "rgba(0, 255, 255, 0.7)",
           "rgba(0, 255, 255, 0.7)",
           "rgba(0, 255, 255, 0.7)",
           "rgba(0, 255, 255, 0.7)",
           "rgba(0, 255, 255, 0.7)",
           "rgba(0, 255, 255, 0.7)",
           "rgba(0, 255, 255, 0.7)",
           "rgba(0, 255, 255, 0.7)",
           "rgba(0, 255, 255, 0.7)",
           "rgba(0, 255, 255, 0.7)",
           "rgba(0, 255, 255, 0.7)",
           "rgba(0, 255, 255, 0.7)",
           "rgba(0, 255, 255, 0.7)",
           "rgba(0, 255, 255, 0.7)",
           "rgba(0, 255, 255, 0.7)",
           "rgba(0, 255, 255, 0.7)",
           "rgba(0, 255, 255, 0.7)",
           "rgba(0, 255, 255, 0.7)",
           "rgba(0, 255, 255, 0.7)",
           "rgba(0, 255, 255, 0.7)",
           "rgba(0, 255, 255, 0.7)",
           "rgba(0, 255, 255, 0.7)",
           "rgba(0, 255, 255, 0.7)",
           "rgba(0, 255, 255, 0.7)",
           "rgba(0, 255, 255, 0.7)",
           "rgba(0, 255, 255, 0.7)",
           "rgba(0, 255, 255, 0.7)",
           "rgba(0, 255, 255, 0.7)"
          ],
          "label": [
           "Immune",
           "Lymphoid",
           "Myeloid",
           "Endothelial",
           "Blood vessels",
           "Epithelial",
           "Alveolar epithelium",
           "Airway epithelium",
           "Stroma",
           "Fibroblast",
           "T cell lineage",
           "B cells",
           "NK cells",
           "Plasma cells",
           "Monocytes",
           "Granulocyte",
           "Interstitial macrophages",
           "Alveolar macrophages",
           "Dendritic cells",
           "Capillary endothelial",
           "Venous endothelial",
           "AT II epithelial",
           "Secretory",
           "AT I epithelial",
           "Fibroblast",
           "Smooth muscle cells",
           "Multiciliated_Deuterosomal",
           "Cd4 T cells",
           "Cd8 T cells",
           "Proliferating T cells",
           "B cells",
           "General capillary",
           "Aerocyte capillary",
           "Progenitor endothelial",
           "Lymphatic endothelial",
           "Arterial endothelial",
           "Non-classical monocyte",
           "Classical monocyte",
           "AT II epithelial",
           "Granulocyte",
           "Neutrophils",
           "Mast cells",
           "Interstitial macrophages",
           "NK cells",
           "Alveolar macrophages",
           "Dendritic cells",
           "Migratory dendritic",
           "Fibroblast",
           "Mesothelium",
           "Pericyte",
           "Venous endothelial",
           "Club_Goblet",
           "AT I epithelial",
           "Multiciliated_Deuterosomal",
           "Smooth muscle cells",
           "Plasma cells",
           "Cd4 T cells",
           "Th2 cells",
           "Ccl5+ T cells",
           "B cells",
           "General capillary",
           "Pf4+ general capillary",
           "AT II epithelial",
           "Viral induced monocytes",
           "Non-classical monocyte",
           "Granulocyte",
           "Viral induced granulocyte",
           "Smoke induced granulocyte",
           "Rps4+ granulocyte",
           "Interstitial macrophages",
           "Viral induced interstitial macrophages",
           "Smoke induced interstitial macrophages",
           "Proliferating interstitial macrophages",
           "NK cells",
           "Proliferating NK cells",
           "Alveolar macrophages",
           "Viral induced alveolar macrophages",
           "Cd8 T cells",
           "Classical monocyte",
           "cd11b+ cDC",
           "cd103+ cd11b- cDC",
           "cd103+ cd11b+ proliferating cDC",
           "pDC",
           "Smoke induced dendritic cells",
           "Fibroblast",
           "Ptprc+ fibroblast",
           "Aerocyte capillary",
           "Smoke induced aerocyte capillary",
           "Venous endothelial",
           "Proliferating venous endothelial",
           "Club_Goblet",
           "Smoke induced club_goblet",
           "AT I epithelial",
           "Proliferating T cells",
           "Multiciliated_Deuterosomal",
           "Smooth muscle cells",
           "Smoke induced smooth muscle cells",
           "IgM plasma",
           "Proliferating plasma",
           "IgA plasma",
           "Migratory dendritic",
           "Neutrophils",
           "Proliferating neutrophils",
           "Progenitor endothelial",
           "Mesothelium",
           "Pericyte",
           "Lymphatic endothelial",
           "Mast cells",
           "Arterial endothelial"
          ],
          "line": {
           "color": "black",
           "width": 0.3
          },
          "pad": 15,
          "thickness": 10,
          "x": [
           0.005952380952380952,
           0.25297619047619047,
           0.25297619047619047,
           0.005952380952380952,
           0.25297619047619047,
           0.005952380952380952,
           0.25297619047619047,
           0.25297619047619047,
           0.005952380952380952,
           0.25297619047619047,
           0.5,
           0.5,
           0.5,
           0.5,
           0.5,
           0.5,
           0.5,
           0.5,
           0.5,
           0.5,
           0.5,
           0.5,
           0.5,
           0.5,
           0.5,
           0.5,
           0.5,
           0.7470238095238095,
           0.7470238095238095,
           0.7470238095238095,
           0.7470238095238095,
           0.7470238095238095,
           0.7470238095238095,
           0.7470238095238095,
           0.7470238095238095,
           0.7470238095238095,
           0.6446428571428572,
           0.6327380952380952,
           0.7470238095238095,
           0.7470238095238095,
           0.7470238095238095,
           0.7470238095238095,
           0.7470238095238095,
           0.7470238095238095,
           0.7470238095238095,
           0.7470238095238095,
           0.7470238095238095,
           0.7470238095238095,
           0.7470238095238095,
           0.7470238095238095,
           0.7470238095238095,
           0.7470238095238095,
           0.7470238095238095,
           0.7470238095238095,
           0.7470238095238095,
           0.7470238095238095,
           0.9940476190476191,
           0.9940476190476191,
           0.9940476190476191,
           0.9940476190476191,
           0.9940476190476191,
           0.9940476190476191,
           0.9940476190476191,
           0.9940476190476191,
           0.9940476190476191,
           0.9940476190476191,
           0.9940476190476191,
           0.9940476190476191,
           0.9940476190476191,
           0.9940476190476191,
           0.9940476190476191,
           0.9940476190476191,
           0.9940476190476191,
           0.9940476190476191,
           0.9940476190476191,
           0.9940476190476191,
           0.9940476190476191,
           0.9940476190476191,
           0.9940476190476191,
           0.9940476190476191,
           0.9940476190476191,
           0.9940476190476191,
           0.9940476190476191,
           0.9940476190476191,
           0.9940476190476191,
           0.9940476190476191,
           0.9940476190476191,
           0.9940476190476191,
           0.9940476190476191,
           0.9940476190476191,
           0.9940476190476191,
           0.9940476190476191,
           0.9940476190476191,
           0.9940476190476191,
           0.9940476190476191,
           0.9940476190476191,
           0.9940476190476191,
           0.9940476190476191,
           0.9940476190476191,
           0.9940476190476191,
           0.9940476190476191,
           0.9940476190476191,
           0.9940476190476191,
           0.9940476190476191,
           0.9940476190476191,
           0.9940476190476191,
           0.9940476190476191,
           0.9940476190476191,
           0.9940476190476191
          ],
          "y": [
           0.31425909705963406,
           0.2818945893559824,
           0.4156751589748007,
           0.7087796241636544,
           0.7087910053415761,
           0.858817615673503,
           0.8574328043111872,
           0.8870677093674265,
           0.9491179733369401,
           0.9491325678211893,
           0.29929272519910977,
           0.2253175317742876,
           0.3569377595162995,
           0.37950798756982157,
           0.40962389466121907,
           0.4503733286068761,
           0.48363632021849506,
           0.513072836168429,
           0.5391992051079426,
           0.7064136982212232,
           0.7415793727600918,
           0.8529709023193398,
           0.8797391817222521,
           0.8958963365152651,
           0.947827936505152,
           0.9671955052399434,
           0.9115834749891047,
           0.23457203726095582,
           0.28198807755954464,
           0.3332956130515265,
           0.16874005966107938,
           0.699181191167589,
           0.7308984279183517,
           0.7475564021165336,
           0.7614750557230895,
           0.775269635360881,
           0.35463416953719074,
           0.3901183119274298,
           0.8485167832494763,
           0.40889597994461513,
           0.48554688285448094,
           0.499511417980736,
           0.4632323419553399,
           0.3102461062124129,
           0.520597928157784,
           0.5458047280475492,
           0.564135977574484,
           0.9420845229816414,
           0.9749920612308223,
           0.9888941285603037,
           0.7904404451834567,
           0.8752850626523886,
           0.8914422174454015,
           0.9071293559192413,
           0.960370537207464,
           0.34857154109763855,
           0.07924596762915373,
           0.11891255462866747,
           0.14341088354054013,
           0.0250918061206369,
           0.6804244284146885,
           0.708894632170392,
           0.8372221773735475,
           0.29161460464611877,
           0.31604400357534457,
           0.34028427586468285,
           0.38506392659380967,
           0.39948404582412156,
           0.4130403862093898,
           0.4328725861084605,
           0.48073337392248794,
           0.4953529592900843,
           0.5089413951985227,
           0.1658986110210816,
           0.2136530213138126,
           0.5424863203809918,
           0.5631019526140832,
           0.19398862284124802,
           0.36639427393331775,
           0.5790437012113249,
           0.595223473654894,
           0.6100209845401976,
           0.6239096966855413,
           0.6373531642242252,
           0.9268411132086152,
           0.9438672165953705,
           0.7246403611294815,
           0.7407079069450537,
           0.7971077940324395,
           0.8118122494411696,
           0.8639618077524229,
           0.8785798852766488,
           0.8929681243899865,
           0.2281088979726226,
           0.9086552628638261,
           0.9578082724462866,
           0.971888696105867,
           0.24308390356324192,
           0.25680761456262463,
           0.2699290498386302,
           0.6512569548032728,
           0.453069684103168,
           0.4665633412854667,
           0.7546629641986949,
           0.9855574785253278,
           0.9994595458548092,
           0.7685816178052507,
           0.5225298311069609,
           0.7823761974430421
          ]
         },
         "type": "sankey"
        }
       ],
       "layout": {
        "font": {
         "color": "black",
         "size": 10
        },
        "height": 800,
        "template": {
         "data": {
          "bar": [
           {
            "error_x": {
             "color": "#2a3f5f"
            },
            "error_y": {
             "color": "#2a3f5f"
            },
            "marker": {
             "line": {
              "color": "#E5ECF6",
              "width": 0.5
             },
             "pattern": {
              "fillmode": "overlay",
              "size": 10,
              "solidity": 0.2
             }
            },
            "type": "bar"
           }
          ],
          "barpolar": [
           {
            "marker": {
             "line": {
              "color": "#E5ECF6",
              "width": 0.5
             },
             "pattern": {
              "fillmode": "overlay",
              "size": 10,
              "solidity": 0.2
             }
            },
            "type": "barpolar"
           }
          ],
          "carpet": [
           {
            "aaxis": {
             "endlinecolor": "#2a3f5f",
             "gridcolor": "white",
             "linecolor": "white",
             "minorgridcolor": "white",
             "startlinecolor": "#2a3f5f"
            },
            "baxis": {
             "endlinecolor": "#2a3f5f",
             "gridcolor": "white",
             "linecolor": "white",
             "minorgridcolor": "white",
             "startlinecolor": "#2a3f5f"
            },
            "type": "carpet"
           }
          ],
          "choropleth": [
           {
            "colorbar": {
             "outlinewidth": 0,
             "ticks": ""
            },
            "type": "choropleth"
           }
          ],
          "contour": [
           {
            "colorbar": {
             "outlinewidth": 0,
             "ticks": ""
            },
            "colorscale": [
             [
              0,
              "#0d0887"
             ],
             [
              0.1111111111111111,
              "#46039f"
             ],
             [
              0.2222222222222222,
              "#7201a8"
             ],
             [
              0.3333333333333333,
              "#9c179e"
             ],
             [
              0.4444444444444444,
              "#bd3786"
             ],
             [
              0.5555555555555556,
              "#d8576b"
             ],
             [
              0.6666666666666666,
              "#ed7953"
             ],
             [
              0.7777777777777778,
              "#fb9f3a"
             ],
             [
              0.8888888888888888,
              "#fdca26"
             ],
             [
              1,
              "#f0f921"
             ]
            ],
            "type": "contour"
           }
          ],
          "contourcarpet": [
           {
            "colorbar": {
             "outlinewidth": 0,
             "ticks": ""
            },
            "type": "contourcarpet"
           }
          ],
          "heatmap": [
           {
            "colorbar": {
             "outlinewidth": 0,
             "ticks": ""
            },
            "colorscale": [
             [
              0,
              "#0d0887"
             ],
             [
              0.1111111111111111,
              "#46039f"
             ],
             [
              0.2222222222222222,
              "#7201a8"
             ],
             [
              0.3333333333333333,
              "#9c179e"
             ],
             [
              0.4444444444444444,
              "#bd3786"
             ],
             [
              0.5555555555555556,
              "#d8576b"
             ],
             [
              0.6666666666666666,
              "#ed7953"
             ],
             [
              0.7777777777777778,
              "#fb9f3a"
             ],
             [
              0.8888888888888888,
              "#fdca26"
             ],
             [
              1,
              "#f0f921"
             ]
            ],
            "type": "heatmap"
           }
          ],
          "heatmapgl": [
           {
            "colorbar": {
             "outlinewidth": 0,
             "ticks": ""
            },
            "colorscale": [
             [
              0,
              "#0d0887"
             ],
             [
              0.1111111111111111,
              "#46039f"
             ],
             [
              0.2222222222222222,
              "#7201a8"
             ],
             [
              0.3333333333333333,
              "#9c179e"
             ],
             [
              0.4444444444444444,
              "#bd3786"
             ],
             [
              0.5555555555555556,
              "#d8576b"
             ],
             [
              0.6666666666666666,
              "#ed7953"
             ],
             [
              0.7777777777777778,
              "#fb9f3a"
             ],
             [
              0.8888888888888888,
              "#fdca26"
             ],
             [
              1,
              "#f0f921"
             ]
            ],
            "type": "heatmapgl"
           }
          ],
          "histogram": [
           {
            "marker": {
             "pattern": {
              "fillmode": "overlay",
              "size": 10,
              "solidity": 0.2
             }
            },
            "type": "histogram"
           }
          ],
          "histogram2d": [
           {
            "colorbar": {
             "outlinewidth": 0,
             "ticks": ""
            },
            "colorscale": [
             [
              0,
              "#0d0887"
             ],
             [
              0.1111111111111111,
              "#46039f"
             ],
             [
              0.2222222222222222,
              "#7201a8"
             ],
             [
              0.3333333333333333,
              "#9c179e"
             ],
             [
              0.4444444444444444,
              "#bd3786"
             ],
             [
              0.5555555555555556,
              "#d8576b"
             ],
             [
              0.6666666666666666,
              "#ed7953"
             ],
             [
              0.7777777777777778,
              "#fb9f3a"
             ],
             [
              0.8888888888888888,
              "#fdca26"
             ],
             [
              1,
              "#f0f921"
             ]
            ],
            "type": "histogram2d"
           }
          ],
          "histogram2dcontour": [
           {
            "colorbar": {
             "outlinewidth": 0,
             "ticks": ""
            },
            "colorscale": [
             [
              0,
              "#0d0887"
             ],
             [
              0.1111111111111111,
              "#46039f"
             ],
             [
              0.2222222222222222,
              "#7201a8"
             ],
             [
              0.3333333333333333,
              "#9c179e"
             ],
             [
              0.4444444444444444,
              "#bd3786"
             ],
             [
              0.5555555555555556,
              "#d8576b"
             ],
             [
              0.6666666666666666,
              "#ed7953"
             ],
             [
              0.7777777777777778,
              "#fb9f3a"
             ],
             [
              0.8888888888888888,
              "#fdca26"
             ],
             [
              1,
              "#f0f921"
             ]
            ],
            "type": "histogram2dcontour"
           }
          ],
          "mesh3d": [
           {
            "colorbar": {
             "outlinewidth": 0,
             "ticks": ""
            },
            "type": "mesh3d"
           }
          ],
          "parcoords": [
           {
            "line": {
             "colorbar": {
              "outlinewidth": 0,
              "ticks": ""
             }
            },
            "type": "parcoords"
           }
          ],
          "pie": [
           {
            "automargin": true,
            "type": "pie"
           }
          ],
          "scatter": [
           {
            "fillpattern": {
             "fillmode": "overlay",
             "size": 10,
             "solidity": 0.2
            },
            "type": "scatter"
           }
          ],
          "scatter3d": [
           {
            "line": {
             "colorbar": {
              "outlinewidth": 0,
              "ticks": ""
             }
            },
            "marker": {
             "colorbar": {
              "outlinewidth": 0,
              "ticks": ""
             }
            },
            "type": "scatter3d"
           }
          ],
          "scattercarpet": [
           {
            "marker": {
             "colorbar": {
              "outlinewidth": 0,
              "ticks": ""
             }
            },
            "type": "scattercarpet"
           }
          ],
          "scattergeo": [
           {
            "marker": {
             "colorbar": {
              "outlinewidth": 0,
              "ticks": ""
             }
            },
            "type": "scattergeo"
           }
          ],
          "scattergl": [
           {
            "marker": {
             "colorbar": {
              "outlinewidth": 0,
              "ticks": ""
             }
            },
            "type": "scattergl"
           }
          ],
          "scattermapbox": [
           {
            "marker": {
             "colorbar": {
              "outlinewidth": 0,
              "ticks": ""
             }
            },
            "type": "scattermapbox"
           }
          ],
          "scatterpolar": [
           {
            "marker": {
             "colorbar": {
              "outlinewidth": 0,
              "ticks": ""
             }
            },
            "type": "scatterpolar"
           }
          ],
          "scatterpolargl": [
           {
            "marker": {
             "colorbar": {
              "outlinewidth": 0,
              "ticks": ""
             }
            },
            "type": "scatterpolargl"
           }
          ],
          "scatterternary": [
           {
            "marker": {
             "colorbar": {
              "outlinewidth": 0,
              "ticks": ""
             }
            },
            "type": "scatterternary"
           }
          ],
          "surface": [
           {
            "colorbar": {
             "outlinewidth": 0,
             "ticks": ""
            },
            "colorscale": [
             [
              0,
              "#0d0887"
             ],
             [
              0.1111111111111111,
              "#46039f"
             ],
             [
              0.2222222222222222,
              "#7201a8"
             ],
             [
              0.3333333333333333,
              "#9c179e"
             ],
             [
              0.4444444444444444,
              "#bd3786"
             ],
             [
              0.5555555555555556,
              "#d8576b"
             ],
             [
              0.6666666666666666,
              "#ed7953"
             ],
             [
              0.7777777777777778,
              "#fb9f3a"
             ],
             [
              0.8888888888888888,
              "#fdca26"
             ],
             [
              1,
              "#f0f921"
             ]
            ],
            "type": "surface"
           }
          ],
          "table": [
           {
            "cells": {
             "fill": {
              "color": "#EBF0F8"
             },
             "line": {
              "color": "white"
             }
            },
            "header": {
             "fill": {
              "color": "#C8D4E3"
             },
             "line": {
              "color": "white"
             }
            },
            "type": "table"
           }
          ]
         },
         "layout": {
          "annotationdefaults": {
           "arrowcolor": "#2a3f5f",
           "arrowhead": 0,
           "arrowwidth": 1
          },
          "autotypenumbers": "strict",
          "coloraxis": {
           "colorbar": {
            "outlinewidth": 0,
            "ticks": ""
           }
          },
          "colorscale": {
           "diverging": [
            [
             0,
             "#8e0152"
            ],
            [
             0.1,
             "#c51b7d"
            ],
            [
             0.2,
             "#de77ae"
            ],
            [
             0.3,
             "#f1b6da"
            ],
            [
             0.4,
             "#fde0ef"
            ],
            [
             0.5,
             "#f7f7f7"
            ],
            [
             0.6,
             "#e6f5d0"
            ],
            [
             0.7,
             "#b8e186"
            ],
            [
             0.8,
             "#7fbc41"
            ],
            [
             0.9,
             "#4d9221"
            ],
            [
             1,
             "#276419"
            ]
           ],
           "sequential": [
            [
             0,
             "#0d0887"
            ],
            [
             0.1111111111111111,
             "#46039f"
            ],
            [
             0.2222222222222222,
             "#7201a8"
            ],
            [
             0.3333333333333333,
             "#9c179e"
            ],
            [
             0.4444444444444444,
             "#bd3786"
            ],
            [
             0.5555555555555556,
             "#d8576b"
            ],
            [
             0.6666666666666666,
             "#ed7953"
            ],
            [
             0.7777777777777778,
             "#fb9f3a"
            ],
            [
             0.8888888888888888,
             "#fdca26"
            ],
            [
             1,
             "#f0f921"
            ]
           ],
           "sequentialminus": [
            [
             0,
             "#0d0887"
            ],
            [
             0.1111111111111111,
             "#46039f"
            ],
            [
             0.2222222222222222,
             "#7201a8"
            ],
            [
             0.3333333333333333,
             "#9c179e"
            ],
            [
             0.4444444444444444,
             "#bd3786"
            ],
            [
             0.5555555555555556,
             "#d8576b"
            ],
            [
             0.6666666666666666,
             "#ed7953"
            ],
            [
             0.7777777777777778,
             "#fb9f3a"
            ],
            [
             0.8888888888888888,
             "#fdca26"
            ],
            [
             1,
             "#f0f921"
            ]
           ]
          },
          "colorway": [
           "#636efa",
           "#EF553B",
           "#00cc96",
           "#ab63fa",
           "#FFA15A",
           "#19d3f3",
           "#FF6692",
           "#B6E880",
           "#FF97FF",
           "#FECB52"
          ],
          "font": {
           "color": "#2a3f5f"
          },
          "geo": {
           "bgcolor": "white",
           "lakecolor": "white",
           "landcolor": "#E5ECF6",
           "showlakes": true,
           "showland": true,
           "subunitcolor": "white"
          },
          "hoverlabel": {
           "align": "left"
          },
          "hovermode": "closest",
          "mapbox": {
           "style": "light"
          },
          "paper_bgcolor": "white",
          "plot_bgcolor": "#E5ECF6",
          "polar": {
           "angularaxis": {
            "gridcolor": "white",
            "linecolor": "white",
            "ticks": ""
           },
           "bgcolor": "#E5ECF6",
           "radialaxis": {
            "gridcolor": "white",
            "linecolor": "white",
            "ticks": ""
           }
          },
          "scene": {
           "xaxis": {
            "backgroundcolor": "#E5ECF6",
            "gridcolor": "white",
            "gridwidth": 2,
            "linecolor": "white",
            "showbackground": true,
            "ticks": "",
            "zerolinecolor": "white"
           },
           "yaxis": {
            "backgroundcolor": "#E5ECF6",
            "gridcolor": "white",
            "gridwidth": 2,
            "linecolor": "white",
            "showbackground": true,
            "ticks": "",
            "zerolinecolor": "white"
           },
           "zaxis": {
            "backgroundcolor": "#E5ECF6",
            "gridcolor": "white",
            "gridwidth": 2,
            "linecolor": "white",
            "showbackground": true,
            "ticks": "",
            "zerolinecolor": "white"
           }
          },
          "shapedefaults": {
           "line": {
            "color": "#2a3f5f"
           }
          },
          "ternary": {
           "aaxis": {
            "gridcolor": "white",
            "linecolor": "white",
            "ticks": ""
           },
           "baxis": {
            "gridcolor": "white",
            "linecolor": "white",
            "ticks": ""
           },
           "bgcolor": "#E5ECF6",
           "caxis": {
            "gridcolor": "white",
            "linecolor": "white",
            "ticks": ""
           }
          },
          "title": {
           "x": 0.05
          },
          "xaxis": {
           "automargin": true,
           "gridcolor": "white",
           "linecolor": "white",
           "ticks": "",
           "title": {
            "standoff": 15
           },
           "zerolinecolor": "white",
           "zerolinewidth": 2
          },
          "yaxis": {
           "automargin": true,
           "gridcolor": "white",
           "linecolor": "white",
           "ticks": "",
           "title": {
            "standoff": 15
           },
           "zerolinecolor": "white",
           "zerolinewidth": 2
          }
         }
        },
        "title": {
         "text": "Interconnected Sankey Diagram"
        },
        "width": 1000
       }
      },
      "image/png": "[encoded data removed]",
      "text/html": [
       "<div>                            <div id=\"b9fc36c0-7fe0-499d-b3b1-24f04e28e092\" class=\"plotly-graph-div\" style=\"height:800px; width:1000px;\"></div>            <script type=\"text/javascript\">                require([\"plotly\"], function(Plotly) {                    window.PLOTLYENV=window.PLOTLYENV || {};                                    if (document.getElementById(\"b9fc36c0-7fe0-499d-b3b1-24f04e28e092\")) {                    Plotly.newPlot(                        \"b9fc36c0-7fe0-499d-b3b1-24f04e28e092\",                        [{\"arrangement\":\"freeform\",\"link\":{\"label\":[\"Lymphoid\",\"Myeloid\",\"Blood vessels\",\"Alveolar epithelium\",\"Airway epithelium\",\"Fibroblast\",\"T cell lineage\",\"B cells\",\"NK cells\",\"Plasma cells\",\"Monocytes\",\"Granulocyte\",\"Interstitial macrophages\",\"Alveolar macrophages\",\"Dendritic cells\",\"Capillary endothelial\",\"Venous endothelial\",\"AT II epithelial\",\"Secretory\",\"AT I epithelial\",\"Fibroblast\",\"Smooth muscle cells\",\"Multiciliated_Deuterosomal\",\"Cd4 T cells\",\"Cd8 T cells\",\"Proliferating T cells\",\"B cells\",\"General capillary\",\"Aerocyte capillary\",\"Progenitor endothelial\",\"Lymphatic endothelial\",\"Arterial endothelial\",\"Non-classical monocyte\",\"Classical monocyte\",\"AT II epithelial\",\"Granulocyte\",\"Neutrophils\",\"Mast cells\",\"Interstitial macrophages\",\"NK cells\",\"Alveolar macrophages\",\"Dendritic cells\",\"Migratory dendritic\",\"Fibroblast\",\"Mesothelium\",\"Pericyte\",\"Venous endothelial\",\"Club_Goblet\",\"AT I epithelial\",\"Multiciliated_Deuterosomal\",\"Smooth muscle cells\",\"Plasma cells\",\"Cd4 T cells\",\"Th2 cells\",\"Ccl5+ T cells\",\"B cells\",\"General capillary\",\"Pf4+ general capillary\",\"AT II epithelial\",\"Viral induced monocytes\",\"Non-classical monocyte\",\"Granulocyte\",\"Viral induced granulocyte\",\"Smoke induced granulocyte\",\"Rps4+ granulocyte\",\"Interstitial macrophages\",\"Viral induced interstitial macrophages\",\"Smoke induced interstitial macrophages\",\"Proliferating interstitial macrophages\",\"NK cells\",\"Proliferating NK cells\",\"Alveolar macrophages\",\"Viral induced alveolar macrophages\",\"Cd8 T cells\",\"Classical monocyte\",\"cd11b+ cDC\",\"cd103+ cd11b- cDC\",\"cd103+ cd11b+ proliferating cDC\",\"pDC\",\"Smoke induced dendritic cells\",\"Fibroblast\",\"Ptprc+ fibroblast\",\"Aerocyte capillary\",\"Smoke induced aerocyte capillary\",\"Venous endothelial\",\"Proliferating venous endothelial\",\"Club_Goblet\",\"Smoke induced club_goblet\",\"AT I epithelial\",\"Proliferating T cells\",\"Multiciliated_Deuterosomal\",\"Smooth muscle cells\",\"Smoke induced smooth muscle cells\",\"IgM plasma\",\"Proliferating plasma\",\"IgA plasma\",\"Migratory dendritic\",\"Neutrophils\",\"Proliferating neutrophils\",\"Progenitor endothelial\",\"Mesothelium\",\"Pericyte\",\"Lymphatic endothelial\",\"Mast cells\",\"Arterial endothelial\"],\"source\":[0,0,3,5,5,8,1,1,1,1,2,2,2,2,2,4,4,6,6,6,9,9,7,10,10,10,11,19,19,19,19,19,14,14,21,15,15,15,16,12,17,18,18,24,24,24,20,22,23,26,25,13,27,27,27,30,31,31,38,36,36,39,39,39,39,42,42,42,42,43,43,44,44,28,37,45,45,45,45,45,47,47,32,32,50,50,51,51,52,29,53,54,54,55,55,55,46,40,40,33,48,49,34,41,35],\"target\":[1,2,4,6,7,9,10,11,12,13,14,15,16,17,18,19,20,21,22,23,24,25,26,27,28,29,30,31,32,33,34,35,36,37,38,39,40,41,42,43,44,45,46,47,48,49,50,51,52,53,54,55,56,57,58,59,60,61,62,63,64,65,66,67,68,69,70,71,72,73,74,75,76,77,78,79,80,81,82,83,84,85,86,87,88,89,90,91,92,93,94,95,96,97,98,99,100,101,102,103,104,105,106,107,108],\"value\":[329166,232378,103735,71896,6163,30394,167418,116486,40675,4587,75705,53952,40950,36188,25583,94989,8746,56406,8345,7145,24545,5849,6163,129614,30992,6812,116486,72652,15074,2741,2357,2165,53893,21812,56406,48641,3125,2186,40950,40675,36188,21314,4269,19524,2512,2509,8746,8345,7145,6163,5849,4587,75401,49229,4984,116486,71620,1032,56406,40761,13132,39883,5342,2084,1332,31219,6166,2186,1379,39895,780,30942,5246,30992,21812,9244,6351,2827,2132,760,18745,779,12548,2526,6707,2039,8212,133,7145,6812,6163,4423,1426,3190,1003,394,4269,3026,99,2741,2512,2509,2357,2186,2165]},\"node\":{\"color\":[\"rgba(255, 0, 0, 0.7)\",\"rgba(0, 255, 0, 0.7)\",\"rgba(0, 255, 0, 0.7)\",\"rgba(255, 0, 0, 0.7)\",\"rgba(0, 255, 0, 0.7)\",\"rgba(255, 0, 0, 0.7)\",\"rgba(0, 255, 0, 0.7)\",\"rgba(0, 255, 0, 0.7)\",\"rgba(255, 0, 0, 0.7)\",\"rgba(0, 255, 0, 0.7)\",\"rgba(255, 255, 0, 0.7)\",\"rgba(255, 255, 0, 0.7)\",\"rgba(255, 255, 0, 0.7)\",\"rgba(255, 255, 0, 0.7)\",\"rgba(255, 255, 0, 0.7)\",\"rgba(255, 255, 0, 0.7)\",\"rgba(255, 255, 0, 0.7)\",\"rgba(255, 255, 0, 0.7)\",\"rgba(255, 255, 0, 0.7)\",\"rgba(255, 255, 0, 0.7)\",\"rgba(255, 255, 0, 0.7)\",\"rgba(255, 255, 0, 0.7)\",\"rgba(255, 255, 0, 0.7)\",\"rgba(255, 255, 0, 0.7)\",\"rgba(255, 255, 0, 0.7)\",\"rgba(255, 255, 0, 0.7)\",\"rgba(255, 255, 0, 0.7)\",\"rgba(255, 0, 255, 0.7)\",\"rgba(255, 0, 255, 0.7)\",\"rgba(255, 0, 255, 0.7)\",\"rgba(255, 0, 255, 0.7)\",\"rgba(255, 0, 255, 0.7)\",\"rgba(255, 0, 255, 0.7)\",\"rgba(255, 0, 255, 0.7)\",\"rgba(255, 0, 255, 0.7)\",\"rgba(255, 0, 255, 0.7)\",\"rgba(255, 0, 255, 0.7)\",\"rgba(255, 0, 255, 0.7)\",\"rgba(255, 0, 255, 0.7)\",\"rgba(255, 0, 255, 0.7)\",\"rgba(255, 0, 255, 0.7)\",\"rgba(255, 0, 255, 0.7)\",\"rgba(255, 0, 255, 0.7)\",\"rgba(255, 0, 255, 0.7)\",\"rgba(255, 0, 255, 0.7)\",\"rgba(255, 0, 255, 0.7)\",\"rgba(255, 0, 255, 0.7)\",\"rgba(255, 0, 255, 0.7)\",\"rgba(255, 0, 255, 0.7)\",\"rgba(255, 0, 255, 0.7)\",\"rgba(255, 0, 255, 0.7)\",\"rgba(255, 0, 255, 0.7)\",\"rgba(255, 0, 255, 0.7)\",\"rgba(255, 0, 255, 0.7)\",\"rgba(255, 0, 255, 0.7)\",\"rgba(255, 0, 255, 0.7)\",\"rgba(0, 255, 255, 0.7)\",\"rgba(0, 255, 255, 0.7)\",\"rgba(0, 255, 255, 0.7)\",\"rgba(0, 255, 255, 0.7)\",\"rgba(0, 255, 255, 0.7)\",\"rgba(0, 255, 255, 0.7)\",\"rgba(0, 255, 255, 0.7)\",\"rgba(0, 255, 255, 0.7)\",\"rgba(0, 255, 255, 0.7)\",\"rgba(0, 255, 255, 0.7)\",\"rgba(0, 255, 255, 0.7)\",\"rgba(0, 255, 255, 0.7)\",\"rgba(0, 255, 255, 0.7)\",\"rgba(0, 255, 255, 0.7)\",\"rgba(0, 255, 255, 0.7)\",\"rgba(0, 255, 255, 0.7)\",\"rgba(0, 255, 255, 0.7)\",\"rgba(0, 255, 255, 0.7)\",\"rgba(0, 255, 255, 0.7)\",\"rgba(0, 255, 255, 0.7)\",\"rgba(0, 255, 255, 0.7)\",\"rgba(0, 255, 255, 0.7)\",\"rgba(0, 255, 255, 0.7)\",\"rgba(0, 255, 255, 0.7)\",\"rgba(0, 255, 255, 0.7)\",\"rgba(0, 255, 255, 0.7)\",\"rgba(0, 255, 255, 0.7)\",\"rgba(0, 255, 255, 0.7)\",\"rgba(0, 255, 255, 0.7)\",\"rgba(0, 255, 255, 0.7)\",\"rgba(0, 255, 255, 0.7)\",\"rgba(0, 255, 255, 0.7)\",\"rgba(0, 255, 255, 0.7)\",\"rgba(0, 255, 255, 0.7)\",\"rgba(0, 255, 255, 0.7)\",\"rgba(0, 255, 255, 0.7)\",\"rgba(0, 255, 255, 0.7)\",\"rgba(0, 255, 255, 0.7)\",\"rgba(0, 255, 255, 0.7)\",\"rgba(0, 255, 255, 0.7)\",\"rgba(0, 255, 255, 0.7)\",\"rgba(0, 255, 255, 0.7)\",\"rgba(0, 255, 255, 0.7)\",\"rgba(0, 255, 255, 0.7)\",\"rgba(0, 255, 255, 0.7)\",\"rgba(0, 255, 255, 0.7)\",\"rgba(0, 255, 255, 0.7)\",\"rgba(0, 255, 255, 0.7)\",\"rgba(0, 255, 255, 0.7)\",\"rgba(0, 255, 255, 0.7)\",\"rgba(0, 255, 255, 0.7)\",\"rgba(0, 255, 255, 0.7)\",\"rgba(0, 255, 255, 0.7)\"],\"label\":[\"Immune\",\"Lymphoid\",\"Myeloid\",\"Endothelial\",\"Blood vessels\",\"Epithelial\",\"Alveolar epithelium\",\"Airway epithelium\",\"Stroma\",\"Fibroblast\",\"T cell lineage\",\"B cells\",\"NK cells\",\"Plasma cells\",\"Monocytes\",\"Granulocyte\",\"Interstitial macrophages\",\"Alveolar macrophages\",\"Dendritic cells\",\"Capillary endothelial\",\"Venous endothelial\",\"AT II epithelial\",\"Secretory\",\"AT I epithelial\",\"Fibroblast\",\"Smooth muscle cells\",\"Multiciliated_Deuterosomal\",\"Cd4 T cells\",\"Cd8 T cells\",\"Proliferating T cells\",\"B cells\",\"General capillary\",\"Aerocyte capillary\",\"Progenitor endothelial\",\"Lymphatic endothelial\",\"Arterial endothelial\",\"Non-classical monocyte\",\"Classical monocyte\",\"AT II epithelial\",\"Granulocyte\",\"Neutrophils\",\"Mast cells\",\"Interstitial macrophages\",\"NK cells\",\"Alveolar macrophages\",\"Dendritic cells\",\"Migratory dendritic\",\"Fibroblast\",\"Mesothelium\",\"Pericyte\",\"Venous endothelial\",\"Club_Goblet\",\"AT I epithelial\",\"Multiciliated_Deuterosomal\",\"Smooth muscle cells\",\"Plasma cells\",\"Cd4 T cells\",\"Th2 cells\",\"Ccl5+ T cells\",\"B cells\",\"General capillary\",\"Pf4+ general capillary\",\"AT II epithelial\",\"Viral induced monocytes\",\"Non-classical monocyte\",\"Granulocyte\",\"Viral induced granulocyte\",\"Smoke induced granulocyte\",\"Rps4+ granulocyte\",\"Interstitial macrophages\",\"Viral induced interstitial macrophages\",\"Smoke induced interstitial macrophages\",\"Proliferating interstitial macrophages\",\"NK cells\",\"Proliferating NK cells\",\"Alveolar macrophages\",\"Viral induced alveolar macrophages\",\"Cd8 T cells\",\"Classical monocyte\",\"cd11b+ cDC\",\"cd103+ cd11b- cDC\",\"cd103+ cd11b+ proliferating cDC\",\"pDC\",\"Smoke induced dendritic cells\",\"Fibroblast\",\"Ptprc+ fibroblast\",\"Aerocyte capillary\",\"Smoke induced aerocyte capillary\",\"Venous endothelial\",\"Proliferating venous endothelial\",\"Club_Goblet\",\"Smoke induced club_goblet\",\"AT I epithelial\",\"Proliferating T cells\",\"Multiciliated_Deuterosomal\",\"Smooth muscle cells\",\"Smoke induced smooth muscle cells\",\"IgM plasma\",\"Proliferating plasma\",\"IgA plasma\",\"Migratory dendritic\",\"Neutrophils\",\"Proliferating neutrophils\",\"Progenitor endothelial\",\"Mesothelium\",\"Pericyte\",\"Lymphatic endothelial\",\"Mast cells\",\"Arterial endothelial\"],\"line\":{\"color\":\"black\",\"width\":0.3},\"pad\":15,\"thickness\":10},\"type\":\"sankey\"}],                        {\"template\":{\"data\":{\"histogram2dcontour\":[{\"type\":\"histogram2dcontour\",\"colorbar\":{\"outlinewidth\":0,\"ticks\":\"\"},\"colorscale\":[[0.0,\"#0d0887\"],[0.1111111111111111,\"#46039f\"],[0.2222222222222222,\"#7201a8\"],[0.3333333333333333,\"#9c179e\"],[0.4444444444444444,\"#bd3786\"],[0.5555555555555556,\"#d8576b\"],[0.6666666666666666,\"#ed7953\"],[0.7777777777777778,\"#fb9f3a\"],[0.8888888888888888,\"#fdca26\"],[1.0,\"#f0f921\"]]}],\"choropleth\":[{\"type\":\"choropleth\",\"colorbar\":{\"outlinewidth\":0,\"ticks\":\"\"}}],\"histogram2d\":[{\"type\":\"histogram2d\",\"colorbar\":{\"outlinewidth\":0,\"ticks\":\"\"},\"colorscale\":[[0.0,\"#0d0887\"],[0.1111111111111111,\"#46039f\"],[0.2222222222222222,\"#7201a8\"],[0.3333333333333333,\"#9c179e\"],[0.4444444444444444,\"#bd3786\"],[0.5555555555555556,\"#d8576b\"],[0.6666666666666666,\"#ed7953\"],[0.7777777777777778,\"#fb9f3a\"],[0.8888888888888888,\"#fdca26\"],[1.0,\"#f0f921\"]]}],\"heatmap\":[{\"type\":\"heatmap\",\"colorbar\":{\"outlinewidth\":0,\"ticks\":\"\"},\"colorscale\":[[0.0,\"#0d0887\"],[0.1111111111111111,\"#46039f\"],[0.2222222222222222,\"#7201a8\"],[0.3333333333333333,\"#9c179e\"],[0.4444444444444444,\"#bd3786\"],[0.5555555555555556,\"#d8576b\"],[0.6666666666666666,\"#ed7953\"],[0.7777777777777778,\"#fb9f3a\"],[0.8888888888888888,\"#fdca26\"],[1.0,\"#f0f921\"]]}],\"heatmapgl\":[{\"type\":\"heatmapgl\",\"colorbar\":{\"outlinewidth\":0,\"ticks\":\"\"},\"colorscale\":[[0.0,\"#0d0887\"],[0.1111111111111111,\"#46039f\"],[0.2222222222222222,\"#7201a8\"],[0.3333333333333333,\"#9c179e\"],[0.4444444444444444,\"#bd3786\"],[0.5555555555555556,\"#d8576b\"],[0.6666666666666666,\"#ed7953\"],[0.7777777777777778,\"#fb9f3a\"],[0.8888888888888888,\"#fdca26\"],[1.0,\"#f0f921\"]]}],\"contourcarpet\":[{\"type\":\"contourcarpet\",\"colorbar\":{\"outlinewidth\":0,\"ticks\":\"\"}}],\"contour\":[{\"type\":\"contour\",\"colorbar\":{\"outlinewidth\":0,\"ticks\":\"\"},\"colorscale\":[[0.0,\"#0d0887\"],[0.1111111111111111,\"#46039f\"],[0.2222222222222222,\"#7201a8\"],[0.3333333333333333,\"#9c179e\"],[0.4444444444444444,\"#bd3786\"],[0.5555555555555556,\"#d8576b\"],[0.6666666666666666,\"#ed7953\"],[0.7777777777777778,\"#fb9f3a\"],[0.8888888888888888,\"#fdca26\"],[1.0,\"#f0f921\"]]}],\"surface\":[{\"type\":\"surface\",\"colorbar\":{\"outlinewidth\":0,\"ticks\":\"\"},\"colorscale\":[[0.0,\"#0d0887\"],[0.1111111111111111,\"#46039f\"],[0.2222222222222222,\"#7201a8\"],[0.3333333333333333,\"#9c179e\"],[0.4444444444444444,\"#bd3786\"],[0.5555555555555556,\"#d8576b\"],[0.6666666666666666,\"#ed7953\"],[0.7777777777777778,\"#fb9f3a\"],[0.8888888888888888,\"#fdca26\"],[1.0,\"#f0f921\"]]}],\"mesh3d\":[{\"type\":\"mesh3d\",\"colorbar\":{\"outlinewidth\":0,\"ticks\":\"\"}}],\"scatter\":[{\"fillpattern\":{\"fillmode\":\"overlay\",\"size\":10,\"solidity\":0.2},\"type\":\"scatter\"}],\"parcoords\":[{\"type\":\"parcoords\",\"line\":{\"colorbar\":{\"outlinewidth\":0,\"ticks\":\"\"}}}],\"scatterpolargl\":[{\"type\":\"scatterpolargl\",\"marker\":{\"colorbar\":{\"outlinewidth\":0,\"ticks\":\"\"}}}],\"bar\":[{\"error_x\":{\"color\":\"#2a3f5f\"},\"error_y\":{\"color\":\"#2a3f5f\"},\"marker\":{\"line\":{\"color\":\"#E5ECF6\",\"width\":0.5},\"pattern\":{\"fillmode\":\"overlay\",\"size\":10,\"solidity\":0.2}},\"type\":\"bar\"}],\"scattergeo\":[{\"type\":\"scattergeo\",\"marker\":{\"colorbar\":{\"outlinewidth\":0,\"ticks\":\"\"}}}],\"scatterpolar\":[{\"type\":\"scatterpolar\",\"marker\":{\"colorbar\":{\"outlinewidth\":0,\"ticks\":\"\"}}}],\"histogram\":[{\"marker\":{\"pattern\":{\"fillmode\":\"overlay\",\"size\":10,\"solidity\":0.2}},\"type\":\"histogram\"}],\"scattergl\":[{\"type\":\"scattergl\",\"marker\":{\"colorbar\":{\"outlinewidth\":0,\"ticks\":\"\"}}}],\"scatter3d\":[{\"type\":\"scatter3d\",\"line\":{\"colorbar\":{\"outlinewidth\":0,\"ticks\":\"\"}},\"marker\":{\"colorbar\":{\"outlinewidth\":0,\"ticks\":\"\"}}}],\"scattermapbox\":[{\"type\":\"scattermapbox\",\"marker\":{\"colorbar\":{\"outlinewidth\":0,\"ticks\":\"\"}}}],\"scatterternary\":[{\"type\":\"scatterternary\",\"marker\":{\"colorbar\":{\"outlinewidth\":0,\"ticks\":\"\"}}}],\"scattercarpet\":[{\"type\":\"scattercarpet\",\"marker\":{\"colorbar\":{\"outlinewidth\":0,\"ticks\":\"\"}}}],\"carpet\":[{\"aaxis\":{\"endlinecolor\":\"#2a3f5f\",\"gridcolor\":\"white\",\"linecolor\":\"white\",\"minorgridcolor\":\"white\",\"startlinecolor\":\"#2a3f5f\"},\"baxis\":{\"endlinecolor\":\"#2a3f5f\",\"gridcolor\":\"white\",\"linecolor\":\"white\",\"minorgridcolor\":\"white\",\"startlinecolor\":\"#2a3f5f\"},\"type\":\"carpet\"}],\"table\":[{\"cells\":{\"fill\":{\"color\":\"#EBF0F8\"},\"line\":{\"color\":\"white\"}},\"header\":{\"fill\":{\"color\":\"#C8D4E3\"},\"line\":{\"color\":\"white\"}},\"type\":\"table\"}],\"barpolar\":[{\"marker\":{\"line\":{\"color\":\"#E5ECF6\",\"width\":0.5},\"pattern\":{\"fillmode\":\"overlay\",\"size\":10,\"solidity\":0.2}},\"type\":\"barpolar\"}],\"pie\":[{\"automargin\":true,\"type\":\"pie\"}]},\"layout\":{\"autotypenumbers\":\"strict\",\"colorway\":[\"#636efa\",\"#EF553B\",\"#00cc96\",\"#ab63fa\",\"#FFA15A\",\"#19d3f3\",\"#FF6692\",\"#B6E880\",\"#FF97FF\",\"#FECB52\"],\"font\":{\"color\":\"#2a3f5f\"},\"hovermode\":\"closest\",\"hoverlabel\":{\"align\":\"left\"},\"paper_bgcolor\":\"white\",\"plot_bgcolor\":\"#E5ECF6\",\"polar\":{\"bgcolor\":\"#E5ECF6\",\"angularaxis\":{\"gridcolor\":\"white\",\"linecolor\":\"white\",\"ticks\":\"\"},\"radialaxis\":{\"gridcolor\":\"white\",\"linecolor\":\"white\",\"ticks\":\"\"}},\"ternary\":{\"bgcolor\":\"#E5ECF6\",\"aaxis\":{\"gridcolor\":\"white\",\"linecolor\":\"white\",\"ticks\":\"\"},\"baxis\":{\"gridcolor\":\"white\",\"linecolor\":\"white\",\"ticks\":\"\"},\"caxis\":{\"gridcolor\":\"white\",\"linecolor\":\"white\",\"ticks\":\"\"}},\"coloraxis\":{\"colorbar\":{\"outlinewidth\":0,\"ticks\":\"\"}},\"colorscale\":{\"sequential\":[[0.0,\"#0d0887\"],[0.1111111111111111,\"#46039f\"],[0.2222222222222222,\"#7201a8\"],[0.3333333333333333,\"#9c179e\"],[0.4444444444444444,\"#bd3786\"],[0.5555555555555556,\"#d8576b\"],[0.6666666666666666,\"#ed7953\"],[0.7777777777777778,\"#fb9f3a\"],[0.8888888888888888,\"#fdca26\"],[1.0,\"#f0f921\"]],\"sequentialminus\":[[0.0,\"#0d0887\"],[0.1111111111111111,\"#46039f\"],[0.2222222222222222,\"#7201a8\"],[0.3333333333333333,\"#9c179e\"],[0.4444444444444444,\"#bd3786\"],[0.5555555555555556,\"#d8576b\"],[0.6666666666666666,\"#ed7953\"],[0.7777777777777778,\"#fb9f3a\"],[0.8888888888888888,\"#fdca26\"],[1.0,\"#f0f921\"]],\"diverging\":[[0,\"#8e0152\"],[0.1,\"#c51b7d\"],[0.2,\"#de77ae\"],[0.3,\"#f1b6da\"],[0.4,\"#fde0ef\"],[0.5,\"#f7f7f7\"],[0.6,\"#e6f5d0\"],[0.7,\"#b8e186\"],[0.8,\"#7fbc41\"],[0.9,\"#4d9221\"],[1,\"#276419\"]]},\"xaxis\":{\"gridcolor\":\"white\",\"linecolor\":\"white\",\"ticks\":\"\",\"title\":{\"standoff\":15},\"zerolinecolor\":\"white\",\"automargin\":true,\"zerolinewidth\":2},\"yaxis\":{\"gridcolor\":\"white\",\"linecolor\":\"white\",\"ticks\":\"\",\"title\":{\"standoff\":15},\"zerolinecolor\":\"white\",\"automargin\":true,\"zerolinewidth\":2},\"scene\":{\"xaxis\":{\"backgroundcolor\":\"#E5ECF6\",\"gridcolor\":\"white\",\"linecolor\":\"white\",\"showbackground\":true,\"ticks\":\"\",\"zerolinecolor\":\"white\",\"gridwidth\":2},\"yaxis\":{\"backgroundcolor\":\"#E5ECF6\",\"gridcolor\":\"white\",\"linecolor\":\"white\",\"showbackground\":true,\"ticks\":\"\",\"zerolinecolor\":\"white\",\"gridwidth\":2},\"zaxis\":{\"backgroundcolor\":\"#E5ECF6\",\"gridcolor\":\"white\",\"linecolor\":\"white\",\"showbackground\":true,\"ticks\":\"\",\"zerolinecolor\":\"white\",\"gridwidth\":2}},\"shapedefaults\":{\"line\":{\"color\":\"#2a3f5f\"}},\"annotationdefaults\":{\"arrowcolor\":\"#2a3f5f\",\"arrowhead\":0,\"arrowwidth\":1},\"geo\":{\"bgcolor\":\"white\",\"landcolor\":\"#E5ECF6\",\"subunitcolor\":\"white\",\"showland\":true,\"showlakes\":true,\"lakecolor\":\"white\"},\"title\":{\"x\":0.05},\"mapbox\":{\"style\":\"light\"}}},\"font\":{\"size\":10,\"color\":\"black\"},\"title\":{\"text\":\"Interconnected Sankey Diagram\"},\"width\":1000,\"height\":800},                        {\"responsive\": true}                    ).then(function(){\n",
       "                            \n",
       "var gd = document.getElementById('b9fc36c0-7fe0-499d-b3b1-24f04e28e092');\n",
       "var x = new MutationObserver(function (mutations, observer) {{\n",
       "        var display = window.getComputedStyle(gd).display;\n",
       "        if (!display || display === 'none') {{\n",
       "            console.log([gd, 'removed!']);\n",
       "            Plotly.purge(gd);\n",
       "            observer.disconnect();\n",
       "        }}\n",
       "}});\n",
       "\n",
       "// Listen for the removal of the full notebook cells\n",
       "var notebookContainer = gd.closest('#notebook-container');\n",
       "if (notebookContainer) {{\n",
       "    x.observe(notebookContainer, {childList: true});\n",
       "}}\n",
       "\n",
       "// Listen for the clearing of the current output cell\n",
       "var outputEl = gd.closest('.output');\n",
       "if (outputEl) {{\n",
       "    x.observe(outputEl, {childList: true});\n",
       "}}\n",
       "\n",
       "                        })                };                });            </script>        </div>"
      ]
     },
     "metadata": {},
     "output_type": "display_data"
    }
   ],
   "source": [
    "import pandas as pd\n",
    "import plotly.graph_objects as go\n",
    "levels = ['Level_1', 'Level_2', 'Level_3', 'Level_4', 'Level_5']\n",
    "\n",
    "#levels = ['Level_1', 'Level_2', 'Level_3']\n",
    "\n",
    "# Define colors for each level\n",
    "level_colors = {\n",
    "    'Level_1': 'rgba(255, 0, 0, 0.7)',    # Red\n",
    "    'Level_2': 'rgba(0, 255, 0, 0.7)',    # Green\n",
    "    'Level_2_5': 'rgba(0, 0, 255, 0.7)',  # Blue\n",
    "    'Level_3': 'rgba(255, 255, 0, 0.7)',  # Yellow\n",
    "    'Level_4': 'rgba(255, 0, 255, 0.7)',  # Purple\n",
    "    'Level_5': 'rgba(0, 255, 255, 0.7)'   # Cyan\n",
    "}\n",
    "\n",
    "# Initialize dictionaries and data structures\n",
    "node_labels = {}\n",
    "level_counts = {}\n",
    "flows = {}\n",
    "node_x = {}\n",
    "\n",
    "# Calculate counts for each level and store labels\n",
    "for level in levels:\n",
    "    level_counts[level] = adata.obs[level].value_counts()\n",
    "    # Sort the labels based on the order of the index\n",
    "    node_labels[level] = level_counts[level].index.tolist()\n",
    "\n",
    "# Create a Plotly Sankey diagram\n",
    "fig = go.Figure()\n",
    "\n",
    "# Initialize lists to store node labels\n",
    "node_labels_list = []\n",
    "\n",
    "# Initialize lists to store links\n",
    "source_nodes = []\n",
    "target_nodes = []\n",
    "values = []\n",
    "link_labels = []\n",
    "\n",
    "# Loop through each pair of source and target levels\n",
    "for i in range(len(levels) - 1):\n",
    "    source_level = levels[i]\n",
    "    target_level = levels[i + 1]\n",
    "    \n",
    "    # Calculate flow values between levels iteratively\n",
    "    source_counts = level_counts[source_level]\n",
    "    target_counts = level_counts[target_level]\n",
    "    \n",
    "    # Initialize the flow matrix\n",
    "    flow_matrix = pd.DataFrame(index=source_counts.index, columns=target_counts.index, data=0)\n",
    "    \n",
    "    # Calculate flow values based on common cell types\n",
    "    for source_label in source_counts.index:\n",
    "        for target_label in target_counts.index:\n",
    "            common_cells = ((adata.obs[source_level] == source_label) & (adata.obs[target_level] == target_label)).sum()\n",
    "            flow_matrix.loc[source_label, target_label] = common_cells\n",
    "    \n",
    "    flows[(source_level, target_level)] = flow_matrix.values\n",
    "    \n",
    "    # Ensure flow_data is a DataFrame\n",
    "    flow_data = flows[(source_level, target_level)]\n",
    "    source_labels = node_labels[source_level]\n",
    "    target_labels = node_labels[target_level]\n",
    "    flow_matrix = pd.DataFrame(flow_data, index=source_labels, columns=target_labels)\n",
    "    \n",
    "    # Create unique identifiers for nodes\n",
    "    source_node_offset = len(node_labels_list)\n",
    "    target_node_offset = len(node_labels_list) + len(source_labels)\n",
    "    \n",
    "    # Loop through the flow matrix and add links to the list, excluding zero values\n",
    "    for source_label, source_row in flow_matrix.iterrows():\n",
    "        for target_label, flow_value in source_row.items():\n",
    "            if flow_value != 0:\n",
    "                # Define labels with level prefixes\n",
    "                source_node_label = f\"{source_level}_{source_label}\"\n",
    "                target_node_label = f\"{target_level}_{target_label}\"\n",
    "                \n",
    "                # Check if the labels already exist in node_labels_list\n",
    "                if source_node_label not in node_labels_list:\n",
    "                    node_labels_list.append(source_node_label)\n",
    "                if target_node_label not in node_labels_list:\n",
    "                    node_labels_list.append(target_node_label)\n",
    "                \n",
    "                source_node = node_labels_list.index(source_node_label)\n",
    "                target_node = node_labels_list.index(target_node_label)\n",
    "                \n",
    "                source_nodes.append(source_node)\n",
    "                target_nodes.append(target_node)\n",
    "                values.append(flow_value)\n",
    "                link_labels.append(target_label)\n",
    "\n",
    "node_colors = []\n",
    "for node in node_labels_list:\n",
    "    level_key = \"_\".join(node.split('_')[:2])\n",
    "    if level_key == 'Level_2':\n",
    "        if \"_\".join(node.split('_')[:3]) == 'Level_2_5':\n",
    "            node_colors.append(level_colors.get(\"_\".join(node.split('_')[:3]), 'rgba(128, 128, 128, 0.7)'))  # Assign new color for Level_2_5\n",
    "        else:\n",
    "            node_colors.append(level_colors.get(level_key, 'rgba(128, 128, 128, 0.7)'))  # Assign color for Level_2\n",
    "    else:\n",
    "        node_colors.append(level_colors.get(level_key, 'rgba(128, 128, 128, 0.7)'))  # Assign color for other levels\n",
    "\n",
    "cleaned_node_labels = ['_'.join(label.split('_')[2:]) for label in node_labels_list]\n",
    "\n",
    "\n",
    "new_node_labels = ['_'.join(label.split('_')[1:]) if label.startswith('5') else label for label in cleaned_node_labels]\n",
    "\n",
    "\n",
    "# Add the x position to the nodes in the Sankey diagram\n",
    "fig.add_trace(\n",
    "    go.Sankey(\n",
    "        arrangement = 'freeform',\n",
    "        node=dict(\n",
    "            pad=15,\n",
    "            thickness=10,\n",
    "            line=dict(color=\"black\", width=0.3),\n",
    "            label=new_node_labels,\n",
    "            color=node_colors\n",
    "        ),\n",
    "        link=dict(\n",
    "            source=source_nodes,\n",
    "            target=target_nodes,\n",
    "            value=values,\n",
    "            label=link_labels,\n",
    "        ),\n",
    "    )\n",
    ")\n",
    "fig.update_layout(\n",
    "    title='Interconnected Sankey Diagram',\n",
    "    font=dict(size=10, color='black'),\n",
    "\twidth=1000, \n",
    "    height=800,\n",
    "    #2600,2200\n",
    "    #1500,2000\n",
    ")\n",
    "#fig.update_traces(domain_y=list([0,0.5]), selector=dict(type='sankey'))\n",
    "#fig.write_image(\"Sankey_color_1-2-3_hlca.png\")\n",
    "\n",
    "#fig.write_image(\"Sankey_color_final.png\")\n",
    "\n",
    "fig.show()\n",
    "\n",
    "import pickle\n",
    "with open('/home/fsboedij/Data/MouseAtlas/figures/Sankey_final_0412.pkl', 'wb') as file:\n",
    "    pickle.dump(fig, file)\n",
    "\n",
    "#with open('/home/fsboedij/Data/MouseAtlas/figures/Sankey_final_0811.pkl','rb') as file:\n",
    " #   loaded_fig=pickle.load(file)\n",
    "\n",
    "#import pickle\n",
    "#with open('/home/fsboedij/Data/MouseAtlas/figures/Sankey_1-2-3_0811.pkl', 'wb') as file:\n",
    " #   pickle.dump(fig, file)\n",
    "\n",
    "\n",
    "#with open(file_path, 'rb') as file:\n",
    "#    loaded_fig = pickle.load(file)\n",
    "\n",
    "#loaded_fig.show()"
   ]
  },
  {
   "cell_type": "code",
   "execution_count": 20,
   "id": "5690fb30-39ab-457d-9165-438c008438e7",
   "metadata": {},
   "outputs": [],
   "source": [
    "import pickle\n",
    "with open('/home/fsboedij/Data/MouseAtlas/figures/Sankey_final_0811.pkl', 'wb') as file:\n",
    "    pickle.dump(fig, file)\n",
    "\n",
    "with open('/home/fsboedij/Data/MouseAtlas/figures/Sankey_final_0811.pkl','rb') as file:\n",
    "    loaded_fig=pickle.load(file)\n"
   ]
  },
  {
   "cell_type": "code",
   "execution_count": 11,
   "id": "a63d6bc7-808b-41c3-9643-a854ab456a81",
   "metadata": {},
   "outputs": [
    {
     "data": {
      "text/plain": [
       "Cd4 T cells                   129614\n",
       "B cells                       116486\n",
       "General capillary              72652\n",
       "AT II epithelial               56406\n",
       "Granulocyte                    48641\n",
       "Interstitial macrophages       40950\n",
       "Monocytes                      40761\n",
       "NK cells                       40675\n",
       "Alveolar macrophages           36188\n",
       "Cd8 T cells                    30992\n",
       "Classical monocyte             21812\n",
       "Dendritic cells                21314\n",
       "Fibroblast                     19524\n",
       "Aerocyte capillary             15074\n",
       "Non-classical monocyte         13132\n",
       "Venous endothelial              8746\n",
       "Club_Goblet                     8345\n",
       "AT I epithelial                 7145\n",
       "Proliferating T cells           6812\n",
       "Multiciliated_Deuterosomal      6163\n",
       "Smooth muscle cells             5849\n",
       "Plasma cells                    4587\n",
       "Migratory dendritic             4269\n",
       "Neutrophils                     3125\n",
       "Progenitor endothelial          2741\n",
       "Mesothelium                     2512\n",
       "Pericyte                        2509\n",
       "Lymphatic endothelial           2357\n",
       "Mast cells                      2186\n",
       "Arterial endothelial            2165\n",
       "Name: Level_4, dtype: int64"
      ]
     },
     "execution_count": 11,
     "metadata": {},
     "output_type": "execute_result"
    }
   ],
   "source": [
    "adata.obs.Level_4.value_counts()"
   ]
  },
  {
   "cell_type": "code",
   "execution_count": 12,
   "id": "c76301ae-8714-4e79-9217-763b57311684",
   "metadata": {},
   "outputs": [
    {
     "name": "stdout",
     "output_type": "stream",
     "text": [
      "T cell lineage                167429\n",
      "B cells                       116586\n",
      "Capillary endothelial          94990\n",
      "Monocytes                      75796\n",
      "AT II epithelial               56406\n",
      "Granulocyte                    53861\n",
      "Interstitial macrophages       40950\n",
      "NK cells                       40675\n",
      "Alveolar macrophages           36189\n",
      "Dendritic cells                25598\n",
      "Fibroblast                     24545\n",
      "Venous endothelial              8746\n",
      "Secretory                       8345\n",
      "AT I epithelial                 7145\n",
      "Multiciliated_Deuterosomal      6163\n",
      "Smooth muscle cells             5849\n",
      "Plasma cells                    4459\n",
      "Name: Level_3, dtype: int64\n"
     ]
    }
   ],
   "source": [
    "print(adata.obs.Level_3.value_counts())"
   ]
  },
  {
   "cell_type": "code",
   "execution_count": 13,
   "id": "17500b7c-c2f2-44c4-8761-1399f047f099",
   "metadata": {},
   "outputs": [],
   "source": [
    "adata.write('Data/Integration/Step10_fulladata_final_0411.h5ad')"
   ]
  },
  {
   "cell_type": "code",
   "execution_count": 67,
   "id": "c9a2b910-edf8-4835-8816-f404ebcf49d7",
   "metadata": {},
   "outputs": [
    {
     "name": "stderr",
     "output_type": "stream",
     "text": [
      "/tmp/ipykernel_4133064/2613949570.py:4: SettingWithCopyWarning:\n",
      "\n",
      "\n",
      "A value is trying to be set on a copy of a slice from a DataFrame\n",
      "\n",
      "See the caveats in the documentation: https://pandas.pydata.org/pandas-docs/stable/user_guide/indexing.html#returning-a-view-versus-a-copy\n",
      "\n",
      "/tmp/ipykernel_4133064/2613949570.py:5: SettingWithCopyWarning:\n",
      "\n",
      "\n",
      "A value is trying to be set on a copy of a slice from a DataFrame\n",
      "\n",
      "See the caveats in the documentation: https://pandas.pydata.org/pandas-docs/stable/user_guide/indexing.html#returning-a-view-versus-a-copy\n",
      "\n",
      "/tmp/ipykernel_4133064/2613949570.py:7: SettingWithCopyWarning:\n",
      "\n",
      "\n",
      "A value is trying to be set on a copy of a slice from a DataFrame\n",
      "\n",
      "See the caveats in the documentation: https://pandas.pydata.org/pandas-docs/stable/user_guide/indexing.html#returning-a-view-versus-a-copy\n",
      "\n",
      "/tmp/ipykernel_4133064/2613949570.py:9: SettingWithCopyWarning:\n",
      "\n",
      "\n",
      "A value is trying to be set on a copy of a slice from a DataFrame\n",
      "\n",
      "See the caveats in the documentation: https://pandas.pydata.org/pandas-docs/stable/user_guide/indexing.html#returning-a-view-versus-a-copy\n",
      "\n",
      "/tmp/ipykernel_4133064/2613949570.py:11: SettingWithCopyWarning:\n",
      "\n",
      "\n",
      "A value is trying to be set on a copy of a slice from a DataFrame\n",
      "\n",
      "See the caveats in the documentation: https://pandas.pydata.org/pandas-docs/stable/user_guide/indexing.html#returning-a-view-versus-a-copy\n",
      "\n",
      "/tmp/ipykernel_4133064/2613949570.py:12: SettingWithCopyWarning:\n",
      "\n",
      "\n",
      "A value is trying to be set on a copy of a slice from a DataFrame\n",
      "\n",
      "See the caveats in the documentation: https://pandas.pydata.org/pandas-docs/stable/user_guide/indexing.html#returning-a-view-versus-a-copy\n",
      "\n",
      "/tmp/ipykernel_4133064/2613949570.py:14: SettingWithCopyWarning:\n",
      "\n",
      "\n",
      "A value is trying to be set on a copy of a slice from a DataFrame\n",
      "\n",
      "See the caveats in the documentation: https://pandas.pydata.org/pandas-docs/stable/user_guide/indexing.html#returning-a-view-versus-a-copy\n",
      "\n",
      "/tmp/ipykernel_4133064/2613949570.py:15: SettingWithCopyWarning:\n",
      "\n",
      "\n",
      "A value is trying to be set on a copy of a slice from a DataFrame\n",
      "\n",
      "See the caveats in the documentation: https://pandas.pydata.org/pandas-docs/stable/user_guide/indexing.html#returning-a-view-versus-a-copy\n",
      "\n",
      "/tmp/ipykernel_4133064/2613949570.py:16: SettingWithCopyWarning:\n",
      "\n",
      "\n",
      "A value is trying to be set on a copy of a slice from a DataFrame\n",
      "\n",
      "See the caveats in the documentation: https://pandas.pydata.org/pandas-docs/stable/user_guide/indexing.html#returning-a-view-versus-a-copy\n",
      "\n",
      "/tmp/ipykernel_4133064/2613949570.py:17: SettingWithCopyWarning:\n",
      "\n",
      "\n",
      "A value is trying to be set on a copy of a slice from a DataFrame\n",
      "\n",
      "See the caveats in the documentation: https://pandas.pydata.org/pandas-docs/stable/user_guide/indexing.html#returning-a-view-versus-a-copy\n",
      "\n",
      "/tmp/ipykernel_4133064/2613949570.py:18: SettingWithCopyWarning:\n",
      "\n",
      "\n",
      "A value is trying to be set on a copy of a slice from a DataFrame\n",
      "\n",
      "See the caveats in the documentation: https://pandas.pydata.org/pandas-docs/stable/user_guide/indexing.html#returning-a-view-versus-a-copy\n",
      "\n"
     ]
    },
    {
     "data": {
      "text/plain": [
       "Cd4 T cells                   136435\n",
       "B cells                       116586\n",
       "Capillary endothelial          94990\n",
       "Monocytes                      75796\n",
       "AT II epithelial               56406\n",
       "Granulocyte                    53861\n",
       "Interstitial macrophages       40950\n",
       "NK cells                       40675\n",
       "Alveolar macrophages           36189\n",
       "Cd8 T cells                    30994\n",
       "Fibroblast                     30394\n",
       "Dendritic cells                25598\n",
       "Venous endothelial              8746\n",
       "Secretory                       8345\n",
       "AT I epithelial                 7145\n",
       "Multiciliated_Deuterosomal      6163\n",
       "Other cells                     4459\n",
       "Name: Level_2_5, dtype: int64"
      ]
     },
     "execution_count": 67,
     "metadata": {},
     "output_type": "execute_result"
    }
   ],
   "source": [
    "adata.obs['Level_2_5'] = adata.obs['Level_3']\n",
    "adata.obs['Level_2_5'] = adata.obs['Level_2_5'].astype(object)\n",
    "\n",
    "adata.obs['Level_2_5'].loc[(adata.obs['Level_3'].isin(['Macrophages']))]=adata.obs.Level_4\n",
    "adata.obs['Level_2_5'].loc[(adata.obs['Level_3'].isin([ 'T cell lineage']))] = adata.obs.Level_4\n",
    "\n",
    "adata.obs['Level_2_5'].loc[(adata.obs['Level_2_5'] == 'Proliferating T cells')\\\n",
    "\t] = 'Cd4 T cells'\n",
    "adata.obs['Level_2_5'].loc[(adata.obs['Level_3']== 'Migratory dendritic')|\\\n",
    "\t(adata.obs['Level_3']== 'pDC')] = 'Dendritic cells'\n",
    "adata.obs['Level_2_5'].loc[(adata.obs['Level_3'].isin([ 'Viral induced granulocyte','Mast cells','Neutrophils']))] = 'Granulocyte'\n",
    "adata.obs['Level_2_5'].loc[(adata.obs['Level_3']== 'Capillary endothelial')|\\\n",
    "\t(adata.obs['Level_3']== 'Lymphatic endothelial')] = 'Capillary endothelial'\n",
    "adata.obs['Level_2_5'].loc[(adata.obs['Level_3'].isin([ 'Viral induced monocytes']))] = 'Monocytes'\n",
    "adata.obs['Level_2_5'].loc[(adata.obs['Level_4'].isin([ 'Viral induced interstitial macrophages','Interstitial macrophages']))] = 'Interstitial macrophages'\n",
    "adata.obs['Level_2_5'].loc[(adata.obs['Level_4'].isin(['Viral induced alveolar macrophages','Alveolar macrophage','Proliferating alveolar macrophages']))] = 'Alveolar macrophages'\n",
    "adata.obs['Level_2_5'].loc[(adata.obs['Level_3'].isin([ 'Smooth muscle cells','Mesothelium','Pericyte']))] = 'Fibroblast'\n",
    "adata.obs['Level_2_5'].loc[(adata.obs['Level_3'].isin([ 'Plasma cells']))] = 'Other cells'\n",
    "\n",
    "\n",
    "adata.obs.Level_2_5.value_counts()"
   ]
  },
  {
   "cell_type": "code",
   "execution_count": 68,
   "id": "e60dc4a2-19f5-45e1-9c38-7cbb72af635c",
   "metadata": {},
   "outputs": [
    {
     "name": "stdout",
     "output_type": "stream",
     "text": [
      "adata saved\n"
     ]
    }
   ],
   "source": [
    "adata.write('Data/Integration/Step10_fulladata_final_0411.h5ad')\n",
    "print('adata saved')"
   ]
  }
 ],
 "metadata": {
  "kernelspec": {
   "display_name": "Python 3 (ipykernel)",
   "language": "python",
   "name": "python3"
  },
  "language_info": {
   "codemirror_mode": {
    "name": "ipython",
    "version": 3
   },
   "file_extension": ".py",
   "mimetype": "text/x-python",
   "name": "python",
   "nbconvert_exporter": "python",
   "pygments_lexer": "ipython3",
   "version": "3.8.10"
  }
 },
 "nbformat": 4,
 "nbformat_minor": 5
}
