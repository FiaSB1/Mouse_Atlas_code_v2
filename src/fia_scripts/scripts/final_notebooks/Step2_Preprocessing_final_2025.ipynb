{
 "cells": [
  {
   "cell_type": "code",
   "execution_count": 1,
   "id": "6b5b6645-6258-488f-ad62-4fd979167109",
   "metadata": {},
   "outputs": [
    {
     "name": "stderr",
     "output_type": "stream",
     "text": [
      "WARNING:root:In order to use the mouse gastrulation seqFISH datsets, please install squidpy (see https://github.com/scverse/squidpy).\n",
      "INFO:lightning_fabric.utilities.seed:Global seed set to 0\n",
      "2025-01-23 09:54:49.137418: W tensorflow/compiler/tf2tensorrt/utils/py_utils.cc:38] TF-TRT Warning: Could not find TensorRT\n",
      "WARNING:root:In order to use sagenet models, please install pytorch geometric (see https://pytorch-geometric.readthedocs.io) and \n",
      " captum (see https://github.com/pytorch/captum).\n",
      "WARNING:root:mvTCR is not installed. To use mvTCR models, please install it first using \"pip install mvtcr\"\n",
      "WARNING:root:multigrate is not installed. To use multigrate models, please install it first using \"pip install multigrate\".\n"
     ]
    }
   ],
   "source": [
    "import os\n",
    "os.chdir('/home/fsboedij/Data/MouseAtlas')\n",
    "import warnings\n",
    "warnings.simplefilter(action='ignore', category=FutureWarning)\n",
    "warnings.simplefilter(action='ignore', category=UserWarning)\n",
    "import scanpy as sc\n",
    "import copy\n",
    "import torch\n",
    "import scarches as sca\n",
    "from scarches.dataset.trvae.data_handling import remove_sparsity\n",
    "import matplotlib.pyplot as plt\n",
    "import matplotlib as mpl\n",
    "import numpy as np\n",
    "import gdown\n",
    "import sankey\n",
    "import anndata\n",
    "import pandas as pd\n",
    "import pandas as pd\n",
    "from pySankey.sankey import sankey\n",
    "from matplotlib.pyplot import rc_context\n",
    "import seaborn as sns\n",
    "plt.rcParams['figure.figsize']=(8,8) #rescale figures\n",
    "sc.settings.verbosity = 3\n",
    "sc.settings.set_figure_params(dpi=200, frameon=False)\n",
    "sc.set_figure_params(dpi=200)\n",
    "sc.set_figure_params(figsize=(5, 5))\n",
    "torch.set_printoptions(precision=10, sci_mode=False, edgeitems=12)\n",
    "pd.options.mode.chained_assignment = None\n",
    "import pickle"
   ]
  },
  {
   "cell_type": "markdown",
   "id": "00e61b3d-8295-4ebc-b955-29449dd66bcc",
   "metadata": {},
   "source": [
    "Preprocessing of the filtered and concatenated adata followed with extraction of the highly variable genes"
   ]
  },
  {
   "cell_type": "code",
   "execution_count": 2,
   "id": "6902c5c2-5471-4ff8-9af1-c173b4430105",
   "metadata": {},
   "outputs": [],
   "source": [
    "def hvg_batch_cellranger(\n",
    "    adata, \n",
    "    batch_key=None, \n",
    "    target_genes=2000, \n",
    "    flavor='cell_ranger', \n",
    "    n_bins=20, \n",
    "    adataOut=False\n",
    "    ):\n",
    "    \"\"\"\n",
    "    Method to select HVGs based on mean dispersions of genes that are highly \n",
    "    variable genes in all batches. Using a the top target_genes per batch by\n",
    "    average normalize dispersion. If target genes still hasn't been reached, \n",
    "    then HVGs in all but one batches are used to fill up. This is continued \n",
    "    until HVGs in a single batch are considered.\n",
    "    \"\"\"\n",
    "    \n",
    "    #checkAdata(adata)\n",
    "    #if batch_key is not None:\n",
    "     #   checkBatch(batch_key, adata.obs)\n",
    "    \n",
    "    adata_hvg = adata if adataOut else adata.copy()\n",
    "\n",
    "    n_batches = len(adata_hvg.obs[batch_key].cat.categories)\n",
    "\n",
    "    # Calculate double target genes per dataset\n",
    "    sc.pp.highly_variable_genes(adata_hvg,\n",
    "                                flavor=flavor, \n",
    "                                n_top_genes=target_genes,\n",
    "                                n_bins=n_bins, \n",
    "                                batch_key=batch_key)\n",
    "\n",
    "    nbatch1_dispersions = adata_hvg.var['dispersions_norm'][adata_hvg.var.highly_variable_nbatches >\n",
    "                                                           len(adata_hvg.obs[batch_key].cat.categories)-1]\n",
    "    \n",
    "    nbatch1_dispersions.sort_values(ascending=False, inplace=True)\n",
    "\n",
    "    if len(nbatch1_dispersions) > target_genes:\n",
    "        hvg = nbatch1_dispersions.index[:target_genes]\n",
    "    \n",
    "    else:\n",
    "        enough = False\n",
    "        print(f'Using {len(nbatch1_dispersions)} HVGs from full intersect set')\n",
    "        hvg = nbatch1_dispersions.index[:]\n",
    "        not_n_batches = 1\n",
    "        \n",
    "        while not enough:\n",
    "            target_genes_diff = target_genes - len(hvg)\n",
    "\n",
    "            tmp_dispersions = adata_hvg.var['dispersions_norm'][adata_hvg.var.highly_variable_nbatches ==\n",
    "                                                                (n_batches-not_n_batches)]\n",
    "\n",
    "            if len(tmp_dispersions) < target_genes_diff:\n",
    "                print(f'Using {len(tmp_dispersions)} HVGs from n_batch-{not_n_batches} set')\n",
    "                hvg = hvg.append(tmp_dispersions.index)\n",
    "                not_n_batches += 1\n",
    "\n",
    "            else:\n",
    "                print(f'Using {target_genes_diff} HVGs from n_batch-{not_n_batches} set')\n",
    "                tmp_dispersions.sort_values(ascending=False, inplace=True)\n",
    "                hvg = hvg.append(tmp_dispersions.index[:target_genes_diff])\n",
    "                enough=True\n",
    "\n",
    "    print(f'Using {len(hvg)} HVGs')\n",
    "\n",
    "    if not adataOut:\n",
    "        del adata_hvg\n",
    "        return hvg.tolist()\n",
    "    else:\n",
    "        return adata_hvg[:,hvg].copy"
   ]
  },
  {
   "cell_type": "markdown",
   "id": "bbbb171c-9fa2-42d5-b1ec-ad9ba03d318b",
   "metadata": {},
   "source": [
    "Specify the directory where each filtered anndata object for each study is stored in one folder"
   ]
  },
  {
   "cell_type": "code",
   "execution_count": 3,
   "id": "844c0ea0-b101-4c67-9e91-beb8b565b035",
   "metadata": {},
   "outputs": [],
   "source": [
    "directory='/home/fsboedij/Data/MouseAtlas/Data/Individual_studies_final/postQC/'"
   ]
  },
  {
   "cell_type": "markdown",
   "id": "986109d8-b655-42e1-a2bc-9728a4febd09",
   "metadata": {},
   "source": [
    "Initialize all studies. Each object was loaded one at a time to accurately harmonise the meta data (i.e., Group and Control samples)."
   ]
  },
  {
   "cell_type": "code",
   "execution_count": 4,
   "id": "f043d26e-3ab7-4f62-9480-69a99b624e90",
   "metadata": {},
   "outputs": [
    {
     "name": "stdout",
     "output_type": "stream",
     "text": [
      "AnnData object with n_obs × n_vars = 37280 × 34493\n",
      "    obs: 'nCount_covid', 'nFeature_covid', 'orig.ident', 'nCount_RNA', 'nFeature_RNA', 'percent.mt', 'CellStatus', 'pANN_0.25_0.09_241', 'DF.classifications_0.25_0.09_241', 'DoubletStatus', 'pANN_0.25_0.09_520', 'DF.classifications_0.25_0.09_520', 'pANN_0.25_0.09_148', 'DF.classifications_0.25_0.09_148', 'pANN_0.25_0.09_368', 'DF.classifications_0.25_0.09_368', 'pANN_0.25_0.09_1110', 'DF.classifications_0.25_0.09_1110', 'pANN_0.25_0.09_33', 'DF.classifications_0.25_0.09_33', 'pANN_0.25_0.09_1015', 'DF.classifications_0.25_0.09_1015', 'nGene', 'nUMI', 'Group', 'res.0', 'res.0.1', 'res.0.2', 'res.0.3', 'res.0.4', 'res.0.5', 'res.0.6', 'res.0.7', 'res.0.8', 'res.0.9', 'res.1', 'seurat_clusters', 'infection', 'Sample.Gender', 'percent.hb', 'percent.rp', 'cluster_labels_res.0.4', 'predicted.classification_Angelidis.score', 'predicted.classification_Angelidis', 'mouseRNA.labels', 'immgen.labels', 'RNA_snn_res.0.3', 'RNA_snn_res.0.4', 'RNA_snn_res.0.5', 'RNA_snn_res.0.6', 'RNA_snn_res.0.7', 'cluster_labels_res.0.4_redone', 'cell_type', 'Mice', 'cell_label_short_0.6', 'nCount_covidneg', 'nFeature_covidneg', 'infection_neg', 'new_cell_type', 'study', 'age', 'sample', 'sex'\n",
      "    var: 'vst.mean', 'vst.variance', 'vst.variance.expected', 'vst.variance.standardized', 'vst.variable'\n",
      "    layers: 'raw'\n",
      "All objects are loaded\n"
     ]
    }
   ],
   "source": [
    "covid = sc.read(directory + \"Mouse_Covid.h5ad\")\n",
    "copd_covid = sc.read(directory + \"Mouse_Copd_Covid.h5ad\")\n",
    "copd = sc.read(directory + \"Mouse_Copd.h5ad\")\n",
    "age = sc.read(directory + \"Mouse_Age.h5ad\")\n",
    "cssc = sc.read(directory + \"Mouse_COPD_SHAM_SARSCov2.h5ad\")\n",
    "herpes = sc.read(directory + \"Mouse_Herpesvirus.h5ad\")\n",
    "hyper = sc.read(directory + \"Mouse_Hyperoxia.h5ad\")\n",
    "tb = sc.read(directory + \"Mouse_TB.h5ad\")\n",
    "cancer = sc.read(directory + \"Mouse_Cancer.h5ad\")\n",
    "hypo = sc.read(directory + \"Mouse_Hypoxia.h5ad\")\n",
    "rad = sc.read(directory + \"Mouse_Radiation.h5ad\")\n",
    "sendai = sc.read(directory + \"Mouse_Post_Sendai.h5ad\")\n",
    "tumor = sc.read(directory + \"Mouse_TumorKO.h5ad\")\n",
    "fibro = sc.read(directory + \"Mouse_fibrosis.h5ad\")\n",
    "asthma = sc.read(directory + \"Mouse_asthma.h5ad\")\n",
    "fibage = sc.read(directory + \"Mouse_Fibro_Age.h5ad\")\n",
    "influ = sc.read(directory + \"Mouse_influenza.h5ad\")\n",
    "\n",
    "print(covid)\n",
    "\n",
    "print('All objects are loaded')"
   ]
  },
  {
   "cell_type": "markdown",
   "id": "1315b525-e50c-47b0-894f-23afb060c23d",
   "metadata": {},
   "source": [
    "Define groups from each study"
   ]
  },
  {
   "cell_type": "code",
   "execution_count": 38,
   "id": "8ff5ab92-8fc5-4782-8728-d318f7bdb976",
   "metadata": {},
   "outputs": [],
   "source": [
    "covid.X.data = covid.raw.X.data\n",
    "copd.X.data = copd.raw.X.data\n",
    "copd_covid.X.data = copd_covid.raw.X.data\n",
    "age.X.data = age.raw.X.data\n",
    "cssc.X.data = cssc.raw.X.data\n",
    "herpes.X.data = herpes.raw.X.data\n",
    "hyper.X.data = hyper.raw.X.data\n",
    "tb.X.data = tb.raw.X.data\n",
    "hypo.X.data = hypo.raw.X.data\n",
    "cancer.X.data = cancer.raw.X.data\n",
    "rad.X.data = rad.raw.X.data\n",
    "sendai.X.data = sendai.raw.X.data\n",
    "tumor.X.data = tumor.raw.X.data\n",
    "fibro.X.data = fibro.raw.X.data\n",
    "asthma.X.data = asthma.raw.X.data\n",
    "fibage.X.data = fibage.raw.X.data\n",
    "influ.X.data = influ.raw.X.data\n",
    "\n",
    "copd.obs['Group'] = copd.obs['Timepoint']\n",
    "age.obs['Group'] = age.obs['grouping']\n",
    "herpes.obs['Group'] = herpes.obs['treatment']\n",
    "hyper.obs['Group'] = hyper.obs['treatment']\n",
    "tb.obs['Group'] = tb.obs['treatment']\n",
    "cancer.obs['Group'] = cancer.obs['Treatment']\n",
    "hypo.obs['Group'] = hypo.obs['treatment']\n",
    "rad.obs['Group'] = rad.obs['treatment']\n",
    "sendai.obs['Group'] = sendai.obs['Treatment']\n",
    "tumor.obs['Group'] = tumor.obs['treatment']\n",
    "fibro.obs['Group'] = fibro.obs['treatment']\n",
    "asthma.obs['Group'] = asthma.obs['SampleIDs']\n",
    "influ.obs['Group'] = influ.obs['treatment']"
   ]
  },
  {
   "cell_type": "markdown",
   "id": "a7009434-d237-4662-8300-453d26295427",
   "metadata": {},
   "source": [
    "Ensure all metadata is harmonised with all sets before proceeding"
   ]
  },
  {
   "cell_type": "markdown",
   "id": "591fa548-620e-46f5-96c5-bd90d26d8993",
   "metadata": {},
   "source": [
    "Split each study object using their 'Group' metadata into Control and 'Disease' samples"
   ]
  },
  {
   "cell_type": "markdown",
   "id": "d59ef5fd-3739-495c-abc9-290012c5297c",
   "metadata": {},
   "source": [
    "Save control and disease as separate anndata objects. To be used for the all gene objects.\n",
    "\n",
    "Once saved find the top 2000 highly variable genes that occur in all datasets, using the top 6000 highly variable from each set, and cross correlating with each set to find the 2000"
   ]
  },
  {
   "cell_type": "code",
   "execution_count": 5,
   "id": "0ab9a196-1e03-4a50-93e4-53f6bc77a5db",
   "metadata": {},
   "outputs": [],
   "source": [
    "#separate healthy and disease samples from each study into one list to be processed separately\n",
    "healthy=[\n",
    "covid[(covid.obs['Group'] == 'FemaleControl')|\\\n",
    "\t(covid.obs['Group'] == 'MaleControl')],\n",
    "copd_covid[(copd_covid.obs['Group'] == 'AirControl')],\n",
    "copd[(copd.obs['Group'] == '12 Week Air')],\n",
    "age[(age.obs['Group'] == '3m')],\n",
    "cssc[(cssc.obs['Group'] == 'AirControl')],\n",
    "herpes[(herpes.obs['Group'] == 'Untreated')],\n",
    "hyper[(hyper.obs['Group'] == 'Room Air')],\n",
    "tb[(tb.obs['Group'] == 'Uninfected')],\n",
    "cancer[(cancer.obs['Group'] == 'Control')],\n",
    "hypo[(hypo.obs['Group'] == 'Room Air')],\n",
    "rad[(rad.obs['Group'] == 'Control')],\n",
    "sendai[(sendai.obs['Group'] == 'PBS')],\n",
    "tumor[(tumor.obs['Group'] == 'Control')],\n",
    "fibro[(fibro.obs['Group'] == 'Control')],\n",
    "asthma[(asthma.obs['Group'] == 'Sal/SPG')],\n",
    "fibage[(fibage.obs['Group'] == 'Old_Control')|\\\n",
    "    (fibage.obs['Group']=='Young_Control')],\n",
    "influ[(influ.obs['Group'] == 'Control')],\n",
    "]\n",
    "\n",
    "disease=[\n",
    "covid[(covid.obs['Group'] != 'FemaleControl')&\\\n",
    "\t(covid.obs['Group'] != 'MaleControl')],\n",
    "copd_covid[(copd_covid.obs['Group'] != 'AirControl')],\n",
    "copd[(copd.obs['Group'] != '12 Week Air')],\n",
    "age[(age.obs['Group'] != '3m')],\n",
    "cssc[(cssc.obs['Group'] != 'AirControl')],\n",
    "herpes[(herpes.obs['Group'] != 'Untreated')],\n",
    "hyper[(hyper.obs['Group'] != 'Room Air')],\n",
    "tb[(tb.obs['Group'] != 'Uninfected')],\n",
    "cancer[(cancer.obs['Group'] != 'Control')],\n",
    "hypo[(hypo.obs['Group'] != 'Room Air')],\n",
    "rad[(rad.obs['Group'] != 'Control')],\n",
    "sendai[(sendai.obs['Group'] != 'PBS')],\n",
    "tumor[(tumor.obs['Group'] != 'Control')],\n",
    "fibro[(fibro.obs['Group'] != 'Control')],\n",
    "asthma[(asthma.obs['Group'] != 'Sal/SPG')],\n",
    "fibage[(fibage.obs['Group'] != 'Old_Control')&\\\n",
    "    (fibage.obs['Group']!='Young_Control')],\n",
    "influ[(influ.obs['Group'] != 'Control')],\n",
    "]\n",
    "\n",
    "adata_lists = [healthy,disease]"
   ]
  },
  {
   "cell_type": "code",
   "execution_count": 11,
   "id": "5347555a-996b-41b2-ae98-5ed8f6cd7034",
   "metadata": {},
   "outputs": [
    {
     "name": "stdout",
     "output_type": "stream",
     "text": [
      "adata_list saved\n"
     ]
    }
   ],
   "source": [
    "import pickle\n",
    "with open('Data/step2_withloop_adatalist_healthyndisease_709.pkl', 'wb') as file:\n",
    "    pickle.dump(adata_lists, file)\n",
    "\n",
    "print('adata_list saved')"
   ]
  },
  {
   "cell_type": "code",
   "execution_count": 29,
   "id": "d9d66bac-4528-4da6-b49e-79f6d7e14707",
   "metadata": {},
   "outputs": [],
   "source": [
    "import pickle\n",
    "with open(\"Data/step2_withloop_adatalist_healthyndisease_2709.pkl\", 'rb') as file:\n",
    "    adata_lists = pickle.load(file)"
   ]
  },
  {
   "cell_type": "code",
   "execution_count": 6,
   "id": "f8c2975a-b196-4904-a209-3764cb19408c",
   "metadata": {
    "scrolled": true
   },
   "outputs": [
    {
     "name": "stdout",
     "output_type": "stream",
     "text": [
      "AnnData object with n_obs × n_vars = 244836 × 44793\n",
      "    obs: 'nCount_covid', 'nFeature_covid', 'orig.ident', 'nCount_RNA', 'nFeature_RNA', 'percent.mt', 'CellStatus', 'pANN_0.25_0.09_241', 'DF.classifications_0.25_0.09_241', 'DoubletStatus', 'pANN_0.25_0.09_520', 'DF.classifications_0.25_0.09_520', 'pANN_0.25_0.09_148', 'DF.classifications_0.25_0.09_148', 'pANN_0.25_0.09_368', 'DF.classifications_0.25_0.09_368', 'pANN_0.25_0.09_1110', 'DF.classifications_0.25_0.09_1110', 'pANN_0.25_0.09_33', 'DF.classifications_0.25_0.09_33', 'pANN_0.25_0.09_1015', 'DF.classifications_0.25_0.09_1015', 'nGene', 'nUMI', 'Group', 'res.0', 'res.0.1', 'res.0.2', 'res.0.3', 'res.0.4', 'res.0.5', 'res.0.6', 'res.0.7', 'res.0.8', 'res.0.9', 'res.1', 'seurat_clusters', 'infection', 'Sample.Gender', 'percent.hb', 'percent.rp', 'cluster_labels_res.0.4', 'predicted.classification_Angelidis.score', 'predicted.classification_Angelidis', 'mouseRNA.labels', 'immgen.labels', 'RNA_snn_res.0.3', 'RNA_snn_res.0.4', 'RNA_snn_res.0.5', 'RNA_snn_res.0.6', 'RNA_snn_res.0.7', 'cluster_labels_res.0.4_redone', 'cell_type', 'Mice', 'cell_label_short_0.6', 'nCount_covidneg', 'nFeature_covidneg', 'infection_neg', 'new_cell_type', 'study', 'age', 'sample', 'sex', 'nCount_SCT', 'nFeature_SCT', 'pANN_0.25_0.09_546', 'DF.classifications_0.25_0.09_546', 'pANN_0.25_0.09_771', 'DF.classifications_0.25_0.09_771', 'pANN_0.25_0.09_204', 'DF.classifications_0.25_0.09_204', 'pANN_0.25_0.09_769', 'DF.classifications_0.25_0.09_769', 'SCT_snn_res.0', 'SCT_snn_res.0.1', 'SCT_snn_res.0.2', 'SCT_snn_res.0.3', 'SCT_snn_res.0.4', 'SCT_snn_res.0.5', 'SCT_snn_res.0.6', 'SCT_snn_res.0.7', 'SCT_snn_res.0.8', 'SCT_snn_res.0.9', 'SCT_snn_res.1', 'SCT_snn_res.1.2', 'predicted.celltype.l1.score', 'predicted.celltype.l1', 'CellTypes', 'CellTypes_short', 'nCount_positive_BG_corrected', 'nFeature_positive_BG_corrected', 'nCount_positive_cov', 'nFeature_positive_cov', 'nCount_negative_cov', 'nFeature_negative_cov', 'MouseRef', 'CellID', 'nCount_Infection', 'nFeature_Infection', 'samples', 'predicted.celltype.score', 'predicted.celltype', 'predicted.newcelltype.score', 'predicted.newcelltype', 'Smooth1', 'Den1', 'NK1', 'Int1', 'strain', 'platform', 'Disease', 'pANN_0.25_0.09_1234', 'DF.classifications_0.25_0.09_1234', 'pANN_0.25_0.09_964', 'DF.classifications_0.25_0.09_964', 'pANN_0.25_0.09_1159', 'DF.classifications_0.25_0.09_1159', 'pANN_0.25_0.09_1079', 'DF.classifications_0.25_0.09_1079', 'pANN_0.25_0.09_1260', 'DF.classifications_0.25_0.09_1260', 'pANN_0.25_0.09_1383', 'DF.classifications_0.25_0.09_1383', 'Timepoint', 'doublet', 'cluster_labels_res.0.3', 'RNA_snn_res.0.2', 'identifier', 'res.2', 'identifier.1', 'name', 'grouping', 'batch', 'cells', 'cluster', 'condition', 'RNA_snn_res.1', 'pANN_0.25_0.09_690', 'DF.classifications_0.25_0.09_690', 'pANN_0.25_0.09_1138', 'DF.classifications_0.25_0.09_1138', 'pANN_0.25_0.09_2205', 'DF.classifications_0.25_0.09_2205', 'pANN_0.25_0.09_1064', 'DF.classifications_0.25_0.09_1064', 'RNA_snn_res.0', 'RNA_snn_res.0.1', 'CoV_pos_signature1', 'treatment', 'tissue', 'time', 'Tumor.or.healthy', 'Biological.replicate', 'Library', 'Barcode', 'Library.prep.batch', 'Total.counts', 'Percent.counts.from.mitochondrial.genes', 'Most.likely.Immgen.cell.type', 'Major.cell.type', 'Minor.subset', 'x', 'y', 'Sample', 'Sex', 'Strain', 'Age', 'Treatment', 'Platform', 'Geno', 'ID_old', 'hash.ID', 'SampleIDs', 'new.Celltypes', 'day', 'barcode', 'geo'\n",
      "    var: 'vst.mean-0', 'vst.variance-0', 'vst.variance.expected-0', 'vst.variance.standardized-0', 'vst.variable-0', 'features-1', 'features-10', 'features-11', 'features-12', 'features-13', 'features-14', 'features-15', 'features-16', 'features-2', 'features-3', 'vst.mean-4', 'vst.variance-4', 'vst.variance.expected-4', 'vst.variance.standardized-4', 'vst.variable-4', 'features-5', 'features-6', 'features-7', 'features-8', 'features-9'\n",
      "    obsm: 'X_umap'\n",
      "    layers: 'raw'\n",
      "Healthy Pre-Integration Full Adata Saved\n"
     ]
    },
    {
     "name": "stderr",
     "output_type": "stream",
     "text": [
      "/tmp/ipykernel_2430724/2113810432.py:19: PerformanceWarning: DataFrame is highly fragmented.  This is usually the result of calling `frame.insert` many times, which has poor performance.  Consider joining all columns at once using pd.concat(axis=1) instead. To get a de-fragmented frame, use `newframe = frame.copy()`\n",
      "  adata.obs['healthy_or_disease']='healthy'\n"
     ]
    }
   ],
   "source": [
    "#Combine each study into one adata containing all studies and all genes\n",
    "for i in range(0,1):\n",
    "    lists=adata_lists[i]\n",
    "    adata=lists[0].concatenate(\n",
    "    lists[1:],  # Remaining AnnData objects\n",
    "    index_unique=None,  # Keep cell indices unique\n",
    "    join='outer',  # Include all genes (fill missing with fill_value)\n",
    "    fill_value=0  # Fill missing values with 0\n",
    "    )\n",
    "    print(adata)\n",
    "    for col in adata.obs.columns:\n",
    "        adata.obs[col] = adata.obs[col].astype(str)\n",
    "        \n",
    "    for col in adata.var.columns:\n",
    "        adata.var[col] = adata.var[col].astype(str)\n",
    "\n",
    "    if i==0:\n",
    "        healthy=adata\n",
    "        adata.obs['healthy_or_disease']='healthy'\n",
    "        #adata.write(\"Data/full_adata_preintegration_healthy_2709.h5ad\")\n",
    "        print('Healthy Pre-Integration Full Adata Saved')\n",
    "    elif i==1:\n",
    "        disease=adata\n",
    "        adata.obs['healthy_or_disease']='disease'\n",
    "        #adata.write(\"Data/full_adata_preintegration_disease_2709.h5ad\")\n",
    "        print('Disease Pre-Integration Full Adata Saved')"
   ]
  },
  {
   "cell_type": "code",
   "execution_count": 7,
   "id": "57345552-6567-4d39-8316-a73beb9d6c8f",
   "metadata": {},
   "outputs": [
    {
     "data": {
      "text/plain": [
       "AnnData object with n_obs × n_vars = 244836 × 44793\n",
       "    obs: 'nCount_covid', 'nFeature_covid', 'orig.ident', 'nCount_RNA', 'nFeature_RNA', 'percent.mt', 'CellStatus', 'pANN_0.25_0.09_241', 'DF.classifications_0.25_0.09_241', 'DoubletStatus', 'pANN_0.25_0.09_520', 'DF.classifications_0.25_0.09_520', 'pANN_0.25_0.09_148', 'DF.classifications_0.25_0.09_148', 'pANN_0.25_0.09_368', 'DF.classifications_0.25_0.09_368', 'pANN_0.25_0.09_1110', 'DF.classifications_0.25_0.09_1110', 'pANN_0.25_0.09_33', 'DF.classifications_0.25_0.09_33', 'pANN_0.25_0.09_1015', 'DF.classifications_0.25_0.09_1015', 'nGene', 'nUMI', 'Group', 'res.0', 'res.0.1', 'res.0.2', 'res.0.3', 'res.0.4', 'res.0.5', 'res.0.6', 'res.0.7', 'res.0.8', 'res.0.9', 'res.1', 'seurat_clusters', 'infection', 'Sample.Gender', 'percent.hb', 'percent.rp', 'cluster_labels_res.0.4', 'predicted.classification_Angelidis.score', 'predicted.classification_Angelidis', 'mouseRNA.labels', 'immgen.labels', 'RNA_snn_res.0.3', 'RNA_snn_res.0.4', 'RNA_snn_res.0.5', 'RNA_snn_res.0.6', 'RNA_snn_res.0.7', 'cluster_labels_res.0.4_redone', 'cell_type', 'Mice', 'cell_label_short_0.6', 'nCount_covidneg', 'nFeature_covidneg', 'infection_neg', 'new_cell_type', 'study', 'age', 'sample', 'sex', 'nCount_SCT', 'nFeature_SCT', 'pANN_0.25_0.09_546', 'DF.classifications_0.25_0.09_546', 'pANN_0.25_0.09_771', 'DF.classifications_0.25_0.09_771', 'pANN_0.25_0.09_204', 'DF.classifications_0.25_0.09_204', 'pANN_0.25_0.09_769', 'DF.classifications_0.25_0.09_769', 'SCT_snn_res.0', 'SCT_snn_res.0.1', 'SCT_snn_res.0.2', 'SCT_snn_res.0.3', 'SCT_snn_res.0.4', 'SCT_snn_res.0.5', 'SCT_snn_res.0.6', 'SCT_snn_res.0.7', 'SCT_snn_res.0.8', 'SCT_snn_res.0.9', 'SCT_snn_res.1', 'SCT_snn_res.1.2', 'predicted.celltype.l1.score', 'predicted.celltype.l1', 'CellTypes', 'CellTypes_short', 'nCount_positive_BG_corrected', 'nFeature_positive_BG_corrected', 'nCount_positive_cov', 'nFeature_positive_cov', 'nCount_negative_cov', 'nFeature_negative_cov', 'MouseRef', 'CellID', 'nCount_Infection', 'nFeature_Infection', 'samples', 'predicted.celltype.score', 'predicted.celltype', 'predicted.newcelltype.score', 'predicted.newcelltype', 'Smooth1', 'Den1', 'NK1', 'Int1', 'strain', 'platform', 'Disease', 'pANN_0.25_0.09_1234', 'DF.classifications_0.25_0.09_1234', 'pANN_0.25_0.09_964', 'DF.classifications_0.25_0.09_964', 'pANN_0.25_0.09_1159', 'DF.classifications_0.25_0.09_1159', 'pANN_0.25_0.09_1079', 'DF.classifications_0.25_0.09_1079', 'pANN_0.25_0.09_1260', 'DF.classifications_0.25_0.09_1260', 'pANN_0.25_0.09_1383', 'DF.classifications_0.25_0.09_1383', 'Timepoint', 'doublet', 'cluster_labels_res.0.3', 'RNA_snn_res.0.2', 'identifier', 'res.2', 'identifier.1', 'name', 'grouping', 'batch', 'cells', 'cluster', 'condition', 'RNA_snn_res.1', 'pANN_0.25_0.09_690', 'DF.classifications_0.25_0.09_690', 'pANN_0.25_0.09_1138', 'DF.classifications_0.25_0.09_1138', 'pANN_0.25_0.09_2205', 'DF.classifications_0.25_0.09_2205', 'pANN_0.25_0.09_1064', 'DF.classifications_0.25_0.09_1064', 'RNA_snn_res.0', 'RNA_snn_res.0.1', 'CoV_pos_signature1', 'treatment', 'tissue', 'time', 'Tumor.or.healthy', 'Biological.replicate', 'Library', 'Barcode', 'Library.prep.batch', 'Total.counts', 'Percent.counts.from.mitochondrial.genes', 'Most.likely.Immgen.cell.type', 'Major.cell.type', 'Minor.subset', 'x', 'y', 'Sample', 'Sex', 'Strain', 'Age', 'Treatment', 'Platform', 'Geno', 'ID_old', 'hash.ID', 'SampleIDs', 'new.Celltypes', 'day', 'barcode', 'geo', 'healthy_or_disease'\n",
       "    var: 'vst.mean-0', 'vst.variance-0', 'vst.variance.expected-0', 'vst.variance.standardized-0', 'vst.variable-0', 'features-1', 'features-10', 'features-11', 'features-12', 'features-13', 'features-14', 'features-15', 'features-16', 'features-2', 'features-3', 'vst.mean-4', 'vst.variance-4', 'vst.variance.expected-4', 'vst.variance.standardized-4', 'vst.variable-4', 'features-5', 'features-6', 'features-7', 'features-8', 'features-9'\n",
       "    obsm: 'X_umap'\n",
       "    layers: 'raw'"
      ]
     },
     "execution_count": 7,
     "metadata": {},
     "output_type": "execute_result"
    }
   ],
   "source": [
    "healthy."
   ]
  },
  {
   "cell_type": "code",
   "execution_count": 8,
   "id": "8c637689-cd0d-419e-b48f-950b2d381b46",
   "metadata": {},
   "outputs": [
    {
     "name": "stdout",
     "output_type": "stream",
     "text": [
      "Study: Mouse_Covid - All values are integers.\n",
      "Study: Mouse_Copd_Covid - All values are integers.\n",
      "Study: Mouse_Copd - All values are integers.\n",
      "Study: Mouse_Age - All values are integers.\n",
      "Study: Mouse_COPD_SHAM_SARSCov2 - All values are integers.\n",
      "Study: Mouse_Herpesvirus - All values are integers.\n",
      "Study: Mouse_Hyperoxia - All values are integers.\n",
      "Study: Mouse_TB - All values are integers.\n",
      "Study: Mouse_Cancer - All values are integers.\n",
      "Study: Mouse_Hypoxia - All values are integers.\n",
      "Study: Mouse_Radiation - All values are integers.\n",
      "Study: Mouse_Post_Sendai - All values are integers.\n",
      "Study: Mouse_TumorKO - All values are integers.\n",
      "Study: Mouse_fibrosis - All values are integers.\n",
      "Study: Mouse_asthma - All values are integers.\n",
      "Study: Mouse_Fibro_Age - All values are integers.\n",
      "Study: Mouse_influenza - All values are integers.\n",
      "Study: Mouse_Covid - All values are integers.\n",
      "Study: Mouse_Copd_Covid - All values are integers.\n",
      "Study: Mouse_Copd - All values are integers.\n",
      "Study: Mouse_Age - All values are integers.\n",
      "Study: Mouse_COPD_SHAM_SARSCov2 - All values are integers.\n",
      "Study: Mouse_Herpesvirus - All values are integers.\n",
      "Study: Mouse_Hyperoxia - All values are integers.\n",
      "Study: Mouse_TB - All values are integers.\n",
      "Study: Mouse_Cancer - All values are integers.\n",
      "Study: Mouse_Hypoxia - All values are integers.\n",
      "Study: Mouse_Radiation - All values are integers.\n",
      "Study: Mouse_Post_Sendai - All values are integers.\n",
      "Study: Mouse_TumorKO - All values are integers.\n",
      "Study: Mouse_fibrosis - All values are integers.\n",
      "Study: Mouse_asthma - All values are integers.\n",
      "Study: Mouse_Fibro_Age - All values are integers.\n",
      "Study: Mouse_influenza - All values are integers.\n"
     ]
    }
   ],
   "source": [
    "def check_non_integer_values(adatas):\n",
    "    # Loop through each adata object in the list\n",
    "    for idx, adata in enumerate(adatas):\n",
    "        # Assuming adata is an AnnData object\n",
    "        if not isinstance(adata, anndata.AnnData):\n",
    "            raise ValueError(f\"Input at index {idx} is not an AnnData object.\")\n",
    "        study = str(adata.obs['study'].unique()[0])\n",
    "        non_integer_values = np.any(adata.X.data % 1 != 0)\n",
    "        # Print information about non-integer values\n",
    "        if non_integer_values:\n",
    "            print(f\"Study: {study} - Non-integer values found.\")\n",
    "            # Add additional information or actions as needed\n",
    "        else:\n",
    "            print(f\"Study: {study} - All values are integers.\")\n",
    "            adata.layers['raw'] = adata.X\n",
    "\n",
    "for i in range(0, len(adata_lists)):\n",
    "    check_non_integer_values(adata_lists[i])"
   ]
  },
  {
   "cell_type": "code",
   "execution_count": 32,
   "id": "fa6f1852-da17-4524-8463-d24dcd1ec00c",
   "metadata": {},
   "outputs": [
    {
     "name": "stdout",
     "output_type": "stream",
     "text": [
      "normalizing counts per cell\n",
      "    finished (0:00:01)\n",
      "WARNING: adata.X seems to be already log-transformed.\n",
      "If you pass `n_top_genes`, all cutoffs are ignored.\n",
      "extracting highly variable genes\n",
      "    finished (0:00:23)\n",
      "--> added\n",
      "    'highly_variable', boolean vector (adata.var)\n",
      "    'means', float vector (adata.var)\n",
      "    'dispersions', float vector (adata.var)\n",
      "    'dispersions_norm', float vector (adata.var)\n",
      "Using 41 HVGs from full intersect set\n",
      "Using 91 HVGs from n_batch-1 set\n",
      "Using 141 HVGs from n_batch-2 set\n",
      "Using 146 HVGs from n_batch-3 set\n",
      "Using 134 HVGs from n_batch-4 set\n",
      "Using 132 HVGs from n_batch-5 set\n",
      "Using 139 HVGs from n_batch-6 set\n",
      "Using 147 HVGs from n_batch-7 set\n",
      "Using 170 HVGs from n_batch-8 set\n",
      "Using 213 HVGs from n_batch-9 set\n",
      "Using 225 HVGs from n_batch-10 set\n",
      "Using 259 HVGs from n_batch-11 set\n",
      "Using 162 HVGs from n_batch-12 set\n",
      "Using 2000 HVGs\n"
     ]
    }
   ],
   "source": [
    "#Run only in healthy subset\n",
    "sc.pp.normalize_total(healthy,target_sum=1e4)\n",
    "sc.pp.log1p(healthy)\n",
    "healthy.obs.study=healthy.obs.study.astype('category')\n",
    "hvg=hvg_batch_cellranger(healthy,batch_key='study')\n",
    "hvg=pd.DataFrame(hvg,columns=['Genes'])\n",
    "#hvg.to_csv('Data/others/2kgenes_hlcamethod_2709_cellranger_healthy.csv')\n"
   ]
  },
  {
   "cell_type": "code",
   "execution_count": 33,
   "id": "f0399f5d-50f0-4d4c-8ab1-dffac8fac9fc",
   "metadata": {},
   "outputs": [
    {
     "name": "stdout",
     "output_type": "stream",
     "text": [
      "853\n"
     ]
    }
   ],
   "source": [
    "hvg_cellranger_old=pd.read_csv('Data/others/2kgenes_hlcamethod_2709_cellranger_healthy.csv')\n",
    "print(len(set(hvg.iloc[:,0]).intersection(set(hvg_cellranger_old.iloc[:,1]))))"
   ]
  },
  {
   "cell_type": "code",
   "execution_count": 96,
   "id": "6e81af81-4c8e-47e5-b8b4-d57e219250a5",
   "metadata": {},
   "outputs": [],
   "source": [
    "hvg=pd.read_csv('Data/others/2kgenes_hlcamethod_2709_cellranger_healthy.csv')\n",
    "twok=hvg.iloc[:,1]"
   ]
  },
  {
   "cell_type": "code",
   "execution_count": 97,
   "id": "8374c68c-50d4-406b-9727-4e3fbedb1c87",
   "metadata": {},
   "outputs": [
    {
     "data": {
      "text/plain": [
       "0        S100a9\n",
       "1          Gzma\n",
       "2        Retnlg\n",
       "3          Ccl5\n",
       "4         Cxcl2\n",
       "         ...   \n",
       "1995       Pcp4\n",
       "1996    Camk2n1\n",
       "1997      Nxpe3\n",
       "1998      Ffar1\n",
       "1999     Cep290\n",
       "Name: Genes, Length: 2000, dtype: object"
      ]
     },
     "execution_count": 97,
     "metadata": {},
     "output_type": "execute_result"
    }
   ],
   "source": [
    "twok"
   ]
  },
  {
   "cell_type": "markdown",
   "id": "e50e3cb4-dac6-4ee5-ba51-0fbbba81f2b6",
   "metadata": {},
   "source": [
    "Using the newly found HVG, we now add the HVG to each dataset"
   ]
  },
  {
   "cell_type": "code",
   "execution_count": 98,
   "id": "b455db39-f933-4027-b95b-92e6588ad157",
   "metadata": {
    "scrolled": true
   },
   "outputs": [
    {
     "name": "stdout",
     "output_type": "stream",
     "text": [
      "Done\n"
     ]
    }
   ],
   "source": [
    "for i in range(0, len(adata_lists)):\n",
    "    lists = adata_lists[i]\n",
    "    len(lists) \n",
    "\n",
    "    for j in range(0, len(lists)):\n",
    "        genes = lists[j].var.index[lists[j].var.index.isin(twok)].tolist()\n",
    "        adata_sub = lists[j][:, genes].copy()\n",
    "        genes_to_add = set(twok).difference(set(adata_sub.var_names))\n",
    "        genes_to_add = list(genes_to_add)\n",
    "        \n",
    "        if genes_to_add != []:\n",
    "            df_padding = pd.DataFrame(\n",
    "                data=np.zeros((adata_sub.shape[0], len(genes_to_add))),\n",
    "                index=adata_sub.obs_names,\n",
    "                columns=genes_to_add\n",
    "            )\n",
    "            adata_padding = sc.AnnData(df_padding)\n",
    "            adata_sub = anndata.concat([adata_sub, adata_padding], axis=1, index_unique=None, merge='unique')\n",
    "        \n",
    "        lists[j] = adata_sub[:, twok].copy()\n",
    "        \n",
    "        for col in lists[j].obs.columns:\n",
    "            if pd.api.types.is_object_dtype(lists[j].obs[col]):\n",
    "                lists[j].obs[col] = lists[j].obs[col].astype(str)\n",
    "                \n",
    "        try:\n",
    "            lists[j].__dict__['_raw'].__dict__['_var'] = lists[j].__dict__['_raw'].__dict__['_var'].rename(columns={'_index': 'features'})\n",
    "        except:\n",
    "            pass\n",
    "\n",
    "print('Done')"
   ]
  },
  {
   "cell_type": "markdown",
   "id": "3380a613-1571-4334-acbc-486e90805021",
   "metadata": {},
   "source": [
    "Saved for integration"
   ]
  },
  {
   "cell_type": "code",
   "execution_count": 99,
   "id": "2a536b6e-7ad6-4c5e-bd8d-6b7063dfd7f5",
   "metadata": {},
   "outputs": [
    {
     "name": "stdout",
     "output_type": "stream",
     "text": [
      "Healthy adata list\n",
      "Anndata object 1:\n",
      "Number of observations (cells): 8466\n",
      "Number of variables (genes/features): 2000\n",
      "Number of layers: 0\n",
      "\n",
      "\n",
      "Anndata object 2:\n",
      "Number of observations (cells): 6641\n",
      "Number of variables (genes/features): 2000\n",
      "Number of layers: 0\n",
      "\n",
      "\n",
      "Anndata object 3:\n",
      "Number of observations (cells): 9459\n",
      "Number of variables (genes/features): 2000\n",
      "Number of layers: 0\n",
      "\n",
      "\n",
      "Anndata object 4:\n",
      "Number of observations (cells): 7526\n",
      "Number of variables (genes/features): 2000\n",
      "Number of layers: 0\n",
      "\n",
      "\n",
      "Anndata object 5:\n",
      "Number of observations (cells): 8456\n",
      "Number of variables (genes/features): 2000\n",
      "Number of layers: 0\n",
      "\n",
      "\n",
      "Anndata object 6:\n",
      "Number of observations (cells): 5510\n",
      "Number of variables (genes/features): 2000\n",
      "Number of layers: 0\n",
      "\n",
      "\n",
      "Anndata object 7:\n",
      "Number of observations (cells): 25457\n",
      "Number of variables (genes/features): 2000\n",
      "Number of layers: 0\n",
      "\n",
      "\n",
      "Anndata object 8:\n",
      "Number of observations (cells): 7482\n",
      "Number of variables (genes/features): 2000\n",
      "Number of layers: 0\n",
      "\n",
      "\n",
      "Anndata object 9:\n",
      "Number of observations (cells): 6738\n",
      "Number of variables (genes/features): 2000\n",
      "Number of layers: 0\n",
      "\n",
      "\n",
      "Anndata object 10:\n",
      "Number of observations (cells): 5065\n",
      "Number of variables (genes/features): 2000\n",
      "Number of layers: 0\n",
      "\n",
      "\n",
      "Anndata object 11:\n",
      "Number of observations (cells): 1722\n",
      "Number of variables (genes/features): 2000\n",
      "Number of layers: 0\n",
      "\n",
      "\n",
      "Anndata object 12:\n",
      "Number of observations (cells): 13411\n",
      "Number of variables (genes/features): 2000\n",
      "Number of layers: 0\n",
      "\n",
      "\n",
      "Anndata object 13:\n",
      "Number of observations (cells): 7034\n",
      "Number of variables (genes/features): 2000\n",
      "Number of layers: 0\n",
      "\n",
      "\n",
      "Anndata object 14:\n",
      "Number of observations (cells): 6078\n",
      "Number of variables (genes/features): 2000\n",
      "Number of layers: 0\n",
      "\n",
      "\n",
      "Anndata object 15:\n",
      "Number of observations (cells): 12190\n",
      "Number of variables (genes/features): 2000\n",
      "Number of layers: 0\n",
      "\n",
      "\n",
      "Anndata object 16:\n",
      "Number of observations (cells): 107735\n",
      "Number of variables (genes/features): 2000\n",
      "Number of layers: 0\n",
      "\n",
      "\n",
      "Anndata object 17:\n",
      "Number of observations (cells): 5866\n",
      "Number of variables (genes/features): 2000\n",
      "Number of layers: 0\n",
      "\n",
      "\n",
      "Disease adata list\n",
      "Anndata object 1:\n",
      "Number of observations (cells): 28814\n",
      "Number of variables (genes/features): 2000\n",
      "Number of layers: 0\n",
      "\n",
      "\n",
      "Anndata object 2:\n",
      "Number of observations (cells): 21158\n",
      "Number of variables (genes/features): 2000\n",
      "Number of layers: 0\n",
      "\n",
      "\n",
      "Anndata object 3:\n",
      "Number of observations (cells): 60740\n",
      "Number of variables (genes/features): 2000\n",
      "Number of layers: 0\n",
      "\n",
      "\n",
      "Anndata object 4:\n",
      "Number of observations (cells): 6778\n",
      "Number of variables (genes/features): 2000\n",
      "Number of layers: 0\n",
      "\n",
      "\n",
      "Anndata object 5:\n",
      "Number of observations (cells): 52485\n",
      "Number of variables (genes/features): 2000\n",
      "Number of layers: 0\n",
      "\n",
      "\n",
      "Anndata object 6:\n",
      "Number of observations (cells): 21938\n",
      "Number of variables (genes/features): 2000\n",
      "Number of layers: 0\n",
      "\n",
      "\n",
      "Anndata object 7:\n",
      "Number of observations (cells): 21362\n",
      "Number of variables (genes/features): 2000\n",
      "Number of layers: 0\n",
      "\n",
      "\n",
      "Anndata object 8:\n",
      "Number of observations (cells): 33054\n",
      "Number of variables (genes/features): 2000\n",
      "Number of layers: 0\n",
      "\n",
      "\n",
      "Anndata object 9:\n",
      "Number of observations (cells): 9177\n",
      "Number of variables (genes/features): 2000\n",
      "Number of layers: 0\n",
      "\n",
      "\n",
      "Anndata object 10:\n",
      "Number of observations (cells): 5523\n",
      "Number of variables (genes/features): 2000\n",
      "Number of layers: 0\n",
      "\n",
      "\n",
      "Anndata object 11:\n",
      "Number of observations (cells): 4623\n",
      "Number of variables (genes/features): 2000\n",
      "Number of layers: 0\n",
      "\n",
      "\n",
      "Anndata object 12:\n",
      "Number of observations (cells): 18342\n",
      "Number of variables (genes/features): 2000\n",
      "Number of layers: 0\n",
      "\n",
      "\n",
      "Anndata object 13:\n",
      "Number of observations (cells): 9011\n",
      "Number of variables (genes/features): 2000\n",
      "Number of layers: 0\n",
      "\n",
      "\n",
      "Anndata object 14:\n",
      "Number of observations (cells): 12056\n",
      "Number of variables (genes/features): 2000\n",
      "Number of layers: 0\n",
      "\n",
      "\n",
      "Anndata object 15:\n",
      "Number of observations (cells): 59808\n",
      "Number of variables (genes/features): 2000\n",
      "Number of layers: 0\n",
      "\n",
      "\n",
      "Anndata object 16:\n",
      "Number of observations (cells): 178241\n",
      "Number of variables (genes/features): 2000\n",
      "Number of layers: 0\n",
      "\n",
      "\n",
      "Anndata object 17:\n",
      "Number of observations (cells): 42510\n",
      "Number of variables (genes/features): 2000\n",
      "Number of layers: 0\n",
      "\n",
      "\n"
     ]
    }
   ],
   "source": [
    "for i in range(0, len(adata_lists)):\n",
    "    lists = adata_lists[i]\n",
    "    len(lists)\n",
    "\n",
    "    if i==0:\n",
    "        print('Healthy adata list')\n",
    "    elif i==1:\n",
    "        print('Disease adata list')\n",
    "    for idx, adata_obj in enumerate(lists):\n",
    "         print(f\"Anndata object {idx + 1}:\")\n",
    "         print(f\"Number of observations (cells): {adata_obj.n_obs}\")\n",
    "         print(f\"Number of variables (genes/features): {adata_obj.n_vars}\")\n",
    "         print(f\"Number of layers: {len(adata_obj.layers)}\")\n",
    "         print(\"\\n\")\n"
   ]
  },
  {
   "cell_type": "code",
   "execution_count": 100,
   "id": "2fbbd593-51cc-4e73-a566-92e864b4087f",
   "metadata": {},
   "outputs": [
    {
     "name": "stdout",
     "output_type": "stream",
     "text": [
      "17\n",
      "Healthy Mouse_Covid\n",
      "Healthy Mouse_Copd_Covid\n",
      "Healthy Mouse_Copd\n",
      "Healthy Mouse_Age\n",
      "Healthy Mouse_COPD_SHAM_SARSCov2\n",
      "Healthy Mouse_Herpesvirus\n",
      "Healthy Mouse_Hyperoxia\n",
      "Healthy Mouse_TB\n",
      "Healthy Mouse_Cancer\n",
      "Healthy Mouse_Hypoxia\n",
      "Healthy Mouse_Radiation\n",
      "Healthy Mouse_Post_Sendai\n",
      "Healthy Mouse_TumorKO\n",
      "Healthy Mouse_fibrosis\n",
      "Healthy Mouse_asthma\n",
      "Healthy Mouse_Fibro_Age\n",
      "Healthy Mouse_influenza\n",
      "17\n",
      "Disease Mouse_Covid\n",
      "Disease Mouse_Copd_Covid\n",
      "Disease Mouse_Copd\n",
      "Disease Mouse_Age\n",
      "Disease Mouse_COPD_SHAM_SARSCov2\n",
      "Disease Mouse_Herpesvirus\n",
      "Disease Mouse_Hyperoxia\n",
      "Disease Mouse_TB\n",
      "Disease Mouse_Cancer\n",
      "Disease Mouse_Hypoxia\n",
      "Disease Mouse_Radiation\n",
      "Disease Mouse_Post_Sendai\n",
      "Disease Mouse_TumorKO\n",
      "Disease Mouse_fibrosis\n",
      "Disease Mouse_asthma\n",
      "Disease Mouse_Fibro_Age\n",
      "Disease Mouse_influenza\n"
     ]
    }
   ],
   "source": [
    "for i in range(0,len(adata_lists)):\n",
    "    lists=adata_lists[i]\n",
    "    print(len(lists))\n",
    "    \n",
    "    for j in range(0, len(lists)):\n",
    "        obj=lists[j]\n",
    "        study_value = obj.obs['study'].iloc[0]\n",
    "        variable_name = str(study_value)\n",
    "    \n",
    "        if i==0:\n",
    "            print('Healthy '+variable_name)\n",
    "            obj.write(f\"Data/Individual_studies_final/2k/hlcamethod_cellranger_healthy2k/{variable_name}_2k_h.h5ad\")\n",
    "        elif i==1:\n",
    "            print('Disease '+variable_name)\n",
    "            obj.write(f\"Data/Individual_studies_final/2k/hlcamethod_cellranger_healthy2k/{variable_name}_2k_d.h5ad\")\n"
   ]
  },
  {
   "cell_type": "markdown",
   "id": "a399ca53-ca00-44f8-a652-7dd8b1d6552d",
   "metadata": {},
   "source": [
    "Saving each set independantly as their healthy and disease variant for later integration"
   ]
  }
 ],
 "metadata": {
  "kernelspec": {
   "display_name": "Python 3 (ipykernel)",
   "language": "python",
   "name": "python3"
  },
  "language_info": {
   "codemirror_mode": {
    "name": "ipython",
    "version": 3
   },
   "file_extension": ".py",
   "mimetype": "text/x-python",
   "name": "python",
   "nbconvert_exporter": "python",
   "pygments_lexer": "ipython3",
   "version": "3.8.10"
  }
 },
 "nbformat": 4,
 "nbformat_minor": 5
}
