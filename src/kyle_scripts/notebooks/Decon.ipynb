{
 "cells": [
  {
   "cell_type": "code",
   "execution_count": null,
   "id": "10c6333e-a645-4041-b7d5-39b1eabc41f2",
   "metadata": {},
   "outputs": [],
   "source": [
    "#Deconvolution"
   ]
  },
  {
   "cell_type": "code",
   "execution_count": null,
   "id": "fb84fc7b-c536-4b73-a9c0-07c0c5fe5e5b",
   "metadata": {},
   "outputs": [],
   "source": [
    "import os\n",
    "os.chdir('/data/kkovacs/Python')\n",
    "import warnings\n",
    "warnings.simplefilter(action='ignore', category=FutureWarning)\n",
    "warnings.simplefilter(action='ignore', category=UserWarning)\n",
    "import scanpy as sc\n",
    "import copy\n",
    "import torch\n",
    "import matplotlib.pyplot as plt\n",
    "import matplotlib as mpl\n",
    "import numpy as np\n",
    "import gdown\n",
    "import sankey\n",
    "import anndata\n",
    "import pandas as pd"
   ]
  },
  {
   "cell_type": "code",
   "execution_count": null,
   "id": "e9fd92b5-97bb-4b82-aa6a-540e3e2f9986",
   "metadata": {},
   "outputs": [],
   "source": [
    "adata.obs['Decon'] = adata.obs['Level_2_5']\n",
    "adata.obs['Decon'] = adata.obs['Decon'].astype(object)\n",
    "\n",
    "adata.X.data = adata.layers['raw'].data.copy()\n",
    "decon = adata[adata.obs['MLCA_or_query'] == 'Control']\n",
    "decon.X.data = decon.layers['raw'].data.copy()\n",
    "batches = np.unique(decon.obs['Decon'])\n",
    "batches = batches[batches != 'Other cells']\n",
    "batches = batches.astype(str)\n",
    "cell_indices = []\n",
    "for batch in batches:\n",
    "\tidx = np.where(decon.obs['Decon'] == batch)[0]\n",
    "\tnp.random.shuffle(idx)\n",
    "\tcell_indices += idx[:200].tolist()\n",
    "\n",
    "adata_filter = decon[cell_indices,:]\n",
    "\n",
    "matrix = adata_filter.X.toarray()\n",
    "\n",
    "mat = pd.DataFrame(data = matrix, index = adata_filter.obs[\"Decon\"],\\\n",
    "\tcolumns = adata_filter.var_names).T\n",
    "\n",
    "mat.to_csv('Ref_1.tsv',sep = '\\t', index_label = 'GeneSymbol')"
   ]
  },
  {
   "cell_type": "code",
   "execution_count": null,
   "id": "b2bbc1a2-1b43-40de-b5b6-6c7adb99f1c0",
   "metadata": {},
   "outputs": [],
   "source": [
    "Create pseudobulk object from single cell"
   ]
  },
  {
   "cell_type": "code",
   "execution_count": null,
   "id": "f90931e5-b2e3-4270-a966-56fc3f56905b",
   "metadata": {},
   "outputs": [],
   "source": [
    "# initialize the object\n",
    "#Needs to be the CPM norm counts for the pseudo\n",
    "adata.X.data = adata.layers['norm'].data.copy()\n",
    "adata.obs['Pseudo'] = adata.obs['sample']\n",
    "adata.obs['Pseudo'] = adata.obs['Pseudo'].astype(object)\n",
    "#removed due to large proportion of epi cells\n",
    "adata.obs['Pseudo'].loc[adata.obs['study'] == 'Mouse_Post_Sendai'] = 'Removed'\n",
    "\n",
    "from adpbulk import ADPBulk\n",
    "adpb = ADPBulk(adata, \"Pseudo\")\n",
    "\n",
    "# perform the pseudobulking\n",
    "pseudo = adpb.fit_transform().T\n",
    "\n",
    "pseudo = pseudo.rename(columns=lambda x: x.replace('Pseudo.',''))\n",
    "\n",
    "pseudo = pseudo.drop('Removed',axis=1)\n",
    "pseudo.to_csv('/data/kkovacs/Python/Pseudo_Mouse_Atlas.tsv',sep = '\\t', index_label='GeneSymbol')  "
   ]
  },
  {
   "cell_type": "code",
   "execution_count": null,
   "id": "987c7b9d-94ee-44b8-a045-cac8f71a72f5",
   "metadata": {},
   "outputs": [],
   "source": [
    "#plots post finding chosen reference matrix\n",
    "data=pd.read_csv('Decon_related/CIBERSORTx_Ref_1.csv',sep=',',index_col='Mixture')\n",
    "table = pd.crosstab(adata.obs['Pseudo'],adata.obs['Decon'], normalize='index')\n",
    "\n",
    "data = data.drop(['Correlation','RMSE','P-value'],axis=1)\n",
    "\n",
    "table.drop('Removed',axis=0,inplace=True)\n",
    "\n",
    "table = table.drop('Other cells',axis=1)\n",
    "table = table.add_prefix('Actual_')\n",
    "\n",
    "\n",
    "\n",
    "num_rows = 2  # Adjust as needed\n",
    "num_cols = 2  # Adjust as needed\n",
    "num_plots = int(np.ceil(len(table.columns) / (num_rows * num_cols)))\n",
    "subplots_per_plot = num_rows * num_cols\n",
    "\n",
    "for plot_num in range(num_plots):\n",
    "    start_col = plot_num * subplots_per_plot\n",
    "    end_col = min((plot_num + 1) * subplots_per_plot, len(table.columns))\n",
    "    \n",
    "    # Create a grid of subplots\n",
    "    fig, axes = plt.subplots(num_rows, num_cols, figsize=(12, 6))\n",
    "    \n",
    "    # Flatten the axes array if it's a 2D array\n",
    "    axes = axes.flatten()\n",
    "    \n",
    "    # Loop through the columns and create scatter plots for the current plot\n",
    "    for i, (col_table, col_data) in enumerate(zip(table.columns[start_col:end_col], data.columns[start_col:end_col])):\n",
    "        # Select the current subplot\n",
    "        ax = axes[i]\n",
    "        \n",
    "        # Concatenate the columns of interest\n",
    "        combined_data = pd.concat([table[col_table], data[col_data]], axis=1)\n",
    "        \n",
    "        combined_data.plot(x=col_table, y=col_data, kind='scatter', ax=ax, legend=False)\n",
    "        \n",
    "        # Calculate and plot the line of best fit\n",
    "        line = np.polyfit(combined_data[col_table], combined_data[col_data], 1)\n",
    "        ax.plot(combined_data[col_table], np.polyval(line, combined_data[col_table]), color='red', label=f'Line of Best Fit')\n",
    "        \n",
    "        # Set subplot title\n",
    "        ax.set_title(f'{col_table} vs {col_data}')\n",
    "        \n",
    "    # Adjust layout for better spacing\n",
    "    plt.tight_layout()\n",
    "    \n",
    "    # Save the current plot\n",
    "    plt.savefig(f'scatter_plots_panel_{plot_num + 1}.png')\n",
    "    plt.clf()"
   ]
  },
  {
   "cell_type": "code",
   "execution_count": null,
   "id": "f0532bf2-e054-4007-a80f-a343adade30b",
   "metadata": {},
   "outputs": [],
   "source": []
  }
 ],
 "metadata": {
  "kernelspec": {
   "display_name": "Python 3 (ipykernel)",
   "language": "python",
   "name": "python3"
  },
  "language_info": {
   "codemirror_mode": {
    "name": "ipython",
    "version": 3
   },
   "file_extension": ".py",
   "mimetype": "text/x-python",
   "name": "python",
   "nbconvert_exporter": "python",
   "pygments_lexer": "ipython3",
   "version": "3.8.10"
  }
 },
 "nbformat": 4,
 "nbformat_minor": 5
}
