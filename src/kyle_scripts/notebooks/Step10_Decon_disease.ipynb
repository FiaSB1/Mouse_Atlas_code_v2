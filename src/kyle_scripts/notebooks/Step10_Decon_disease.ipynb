{
 "cells": [
  {
   "cell_type": "code",
   "execution_count": null,
   "id": "10c6333e-a645-4041-b7d5-39b1eabc41f2",
   "metadata": {},
   "outputs": [],
   "source": [
    "#Deconvolution of disease subset"
   ]
  },
  {
   "cell_type": "code",
   "execution_count": 2,
   "id": "fb84fc7b-c536-4b73-a9c0-07c0c5fe5e5b",
   "metadata": {},
   "outputs": [],
   "source": [
    "import os\n",
    "os.chdir('/home/fsboedij/Data/MouseAtlas')\n",
    "import warnings\n",
    "warnings.simplefilter(action='ignore', category=FutureWarning)\n",
    "warnings.simplefilter(action='ignore', category=UserWarning)\n",
    "import scanpy as sc\n",
    "import copy\n",
    "import torch\n",
    "import matplotlib.pyplot as plt\n",
    "import matplotlib as mpl\n",
    "import numpy as np\n",
    "import gdown\n",
    "import sankey\n",
    "import anndata\n",
    "\n",
    "import pandas as pd"
   ]
  },
  {
   "cell_type": "code",
   "execution_count": 3,
   "id": "6c57b4d6-466e-42a0-a89c-42cbc3c9c8e3",
   "metadata": {},
   "outputs": [],
   "source": [
    "adata=sc.read(\"Data/Final_object/MLCA_final_object_28_05.h5ad\")"
   ]
  },
  {
   "cell_type": "code",
   "execution_count": 7,
   "id": "c5d46dc2-a31c-4efb-8e0f-fd5edf7ad718",
   "metadata": {},
   "outputs": [
    {
     "data": {
      "text/plain": [
       "Unknown      483431\n",
       "GSE228594     45237\n",
       "GSE211356     44788\n",
       "GSE200639     40134\n",
       "GSE218247     27446\n",
       "GSE129605     17858\n",
       "GSE127465     15775\n",
       "GSE171861     15713\n",
       "GSE178517     15546\n",
       "GSE124872     12516\n",
       "GSE209738     10141\n",
       "GSE133992      6311\n",
       "Name: geo, dtype: int64"
      ]
     },
     "execution_count": 7,
     "metadata": {},
     "output_type": "execute_result"
    }
   ],
   "source": [
    "adata.obs.geo.value_counts()"
   ]
  },
  {
   "cell_type": "code",
   "execution_count": 3,
   "id": "d4d23d05-b54a-4ed6-bdba-e0163f43ec3e",
   "metadata": {},
   "outputs": [
    {
     "name": "stderr",
     "output_type": "stream",
     "text": [
      "/tmp/ipykernel_4013045/1212333651.py:12: SettingWithCopyWarning: \n",
      "A value is trying to be set on a copy of a slice from a DataFrame\n",
      "\n",
      "See the caveats in the documentation: https://pandas.pydata.org/pandas-docs/stable/user_guide/indexing.html#returning-a-view-versus-a-copy\n",
      "  dis.obs['Decon_viral'].loc[dis.obs['Level_5'] == 'Viral induced monocytes'] = 'Viral induced monocytes'\n",
      "/tmp/ipykernel_4013045/1212333651.py:13: SettingWithCopyWarning: \n",
      "A value is trying to be set on a copy of a slice from a DataFrame\n",
      "\n",
      "See the caveats in the documentation: https://pandas.pydata.org/pandas-docs/stable/user_guide/indexing.html#returning-a-view-versus-a-copy\n",
      "  dis.obs['Decon_viral'].loc[dis.obs['Level_5'] == 'Viral induced Gran'] = 'Viral induced Gran'\n",
      "/tmp/ipykernel_4013045/1212333651.py:14: SettingWithCopyWarning: \n",
      "A value is trying to be set on a copy of a slice from a DataFrame\n",
      "\n",
      "See the caveats in the documentation: https://pandas.pydata.org/pandas-docs/stable/user_guide/indexing.html#returning-a-view-versus-a-copy\n",
      "  dis.obs['Decon_viral'].loc[dis.obs['Level_5'] == 'Viral induced fibroblast'] = 'Viral induced fibroblast'\n",
      "/tmp/ipykernel_4013045/1212333651.py:15: SettingWithCopyWarning: \n",
      "A value is trying to be set on a copy of a slice from a DataFrame\n",
      "\n",
      "See the caveats in the documentation: https://pandas.pydata.org/pandas-docs/stable/user_guide/indexing.html#returning-a-view-versus-a-copy\n",
      "  dis.obs['Decon_viral'].loc[dis.obs['Level_5'] == 'Viral induced alveolar macrophages'] = 'Viral induced alveolar macrophages'\n",
      "/tmp/ipykernel_4013045/1212333651.py:16: SettingWithCopyWarning: \n",
      "A value is trying to be set on a copy of a slice from a DataFrame\n",
      "\n",
      "See the caveats in the documentation: https://pandas.pydata.org/pandas-docs/stable/user_guide/indexing.html#returning-a-view-versus-a-copy\n",
      "  dis.obs['Decon_viral'].loc[dis.obs['Level_5'] == 'Viral induced interstitial macrophages'] = 'Viral induced interstitial macrophages'\n",
      "/tmp/ipykernel_4013045/1212333651.py:17: SettingWithCopyWarning: \n",
      "A value is trying to be set on a copy of a slice from a DataFrame\n",
      "\n",
      "See the caveats in the documentation: https://pandas.pydata.org/pandas-docs/stable/user_guide/indexing.html#returning-a-view-versus-a-copy\n",
      "  dis.obs['Decon_viral'].loc[dis.obs['Level_5'] == 'Smoke Induced Alveolar Macrophages'] = 'Smoke Induced Alveolar Macrophages'\n",
      "/tmp/ipykernel_4013045/1212333651.py:19: SettingWithCopyWarning: \n",
      "A value is trying to be set on a copy of a slice from a DataFrame\n",
      "\n",
      "See the caveats in the documentation: https://pandas.pydata.org/pandas-docs/stable/user_guide/indexing.html#returning-a-view-versus-a-copy\n",
      "  dis.obs['Decon_viral'].loc[dis.obs['Decon_viral'].isin(['Cd4 T cells','Cd8 T cells'])] = 'T cell lineage'\n",
      "/tmp/ipykernel_4013045/1212333651.py:20: SettingWithCopyWarning: \n",
      "A value is trying to be set on a copy of a slice from a DataFrame\n",
      "\n",
      "See the caveats in the documentation: https://pandas.pydata.org/pandas-docs/stable/user_guide/indexing.html#returning-a-view-versus-a-copy\n",
      "  dis.obs['Decon_viral'].loc[dis.obs['Decon_viral'].isin(['AT I epithelial','AT II epithelial'])] = 'AT epithelial'\n"
     ]
    },
    {
     "name": "stdout",
     "output_type": "stream",
     "text": [
      "T cell lineage                            120835\n",
      "B cells                                    78919\n",
      "Capillary endothelial                      67124\n",
      "Interstitial macrophages                   33089\n",
      "AT epithelial                              32913\n",
      "Granulocyte                                32111\n",
      "NK cells                                   29962\n",
      "Monocytes                                  28496\n",
      "Alveolar macrophages                       27583\n",
      "Viral induced monocytes                    26591\n",
      "Fibroblast                                 22039\n",
      "Dendritic cells                            20656\n",
      "Viral induced interstitial macrophages     10651\n",
      "Other cells                                 5971\n",
      "Venous endothelial                          5489\n",
      "Viral induced Gran                          5199\n",
      "Secretory                                   4725\n",
      "Viral induced alveolar macrophages          3251\n",
      "Multiciliated_Deuterosomal                  3139\n",
      "Viral induced fibroblast                    1243\n",
      "Smoke Induced Alveolar Macrophages           473\n",
      "Name: Decon_viral, dtype: int64\n"
     ]
    }
   ],
   "source": [
    "#Subsetting object to disease, inclusive of disease specific cell types\n",
    "dis = adata[adata.obs['MLCA_or_query'] == 'Disease']\n",
    "\n",
    "dis.obs['Decon'] = dis.obs['Level_2_5']\n",
    "\n",
    "dis.obs['Decon'] = dis.obs['Decon'].astype(object)\n",
    "\n",
    "dis.obs['Decon_viral'] = dis.obs['Decon']\n",
    "\n",
    "dis.obs['Decon_viral'] = dis.obs['Decon_viral'].astype(object)\n",
    "\n",
    "dis.obs['Decon_viral'].loc[dis.obs['Level_5'] == 'Viral induced monocytes'] = 'Viral induced monocytes'\n",
    "dis.obs['Decon_viral'].loc[dis.obs['Level_5'] == 'Viral induced Gran'] = 'Viral induced Gran'\n",
    "dis.obs['Decon_viral'].loc[dis.obs['Level_5'] == 'Viral induced fibroblast'] = 'Viral induced fibroblast'\n",
    "dis.obs['Decon_viral'].loc[dis.obs['Level_5'] == 'Viral induced alveolar macrophages'] = 'Viral induced alveolar macrophages'\n",
    "dis.obs['Decon_viral'].loc[dis.obs['Level_5'] == 'Viral induced interstitial macrophages'] = 'Viral induced interstitial macrophages'\n",
    "dis.obs['Decon_viral'].loc[dis.obs['Level_5'] == 'Smoke Induced Alveolar Macrophages'] = 'Smoke Induced Alveolar Macrophages'\n",
    "\n",
    "dis.obs['Decon_viral'].loc[dis.obs['Decon_viral'].isin(['Cd4 T cells','Cd8 T cells'])] = 'T cell lineage'\n",
    "dis.obs['Decon_viral'].loc[dis.obs['Decon_viral'].isin(['AT I epithelial','AT II epithelial'])] = 'AT epithelial'\n",
    "\n",
    "print(dis.obs.Decon_viral.value_counts())"
   ]
  },
  {
   "cell_type": "code",
   "execution_count": 5,
   "id": "1414be6c-4c60-4858-a72a-7e72a5c27c13",
   "metadata": {},
   "outputs": [
    {
     "data": {
      "text/plain": [
       "AnnData object with n_obs × n_vars = 734896 × 43519\n",
       "    obs: 'nCount_covid', 'nFeature_covid', 'orig.ident', 'Group', 'res.0', 'res.0.1', 'res.0.2', 'res.0.3', 'res.0.4', 'res.0.5', 'res.0.6', 'res.0.7', 'res.0.8', 'res.0.9', 'res.1', 'seurat_clusters', 'infection', 'cell_type', 'Mice', 'cell_label_short_0.6', 'nCount_covidneg', 'nFeature_covidneg', 'infection_neg', 'new_cell_type', 'study', 'CellTypes', 'CellTypes_short', 'samples', 'Timepoint', 'doublet', 'identifier.1', 'name', 'grouping', 'batch', 'cells', 'cluster', 'condition', 'age', 'sex', 'strain', 'treatment', 'tissue', 'time', 'platform', 'Tumor.or.healthy', 'Biological.replicate', 'Library', 'Barcode', 'Library.prep.batch', 'Total.counts', 'Percent.counts.from.mitochondrial.genes', 'Most.likely.Immgen.cell.type', 'Major.cell.type', 'Minor.subset', 'x', 'y', 'Geno', 'ID_old', 'hash.ID', 'SampleIDs', 'new.Celltypes', 'day', 'barcode', 'geo', 'predictions', 'clusters_1', 'clusters_2', 'clusters_3', 'n_genes_by_counts', 'total_counts', 'total_counts_mt', 'pct_counts_mt', 'Disease', 'final_anno', 'MLCA_or_query', 'clust', 'subset', 'sample', 'temp2', 'inf1', 'inf2', 'inf12', 'Level_4', 'Level_3', 'Level_4_temp', 'Level_1', 'Level_2', 'Level_2_5', 'Decon', 'Pseudo', 'identify', 'Viral', 'reannotated_celltype', 'Level_5', 'entropy_Level_5_new_cell_type', 'entropy_new_cell_type_Level_5', 'entropy_predictions_Level_5', 'knn_post', 'reference_labels', 'entropy_reference_labels_Level_5', 'Copd', 'sample_oor', 'nhood_ixs_random', 'nhood_ixs_refined', 'nhood_kth_distance', 'Covid', 'viral_status_num', 'dataset', 'subject_ID', 'combined_category', 'platform_numeric', 'strain_numeric', 'age_numeric', 'n_genes', 'Extraction', 'checking', 'temp_2', 'temp_3', 'Old_cell_types_L5', 'AT I epithelial', 'AT II epithelial', 'Aerocyte capillary', 'Alveolar macrophages', 'Arterial endothelial', 'B cells', 'club', 'goblet', 'Cd4 T cells', 'Cd8 T cells', 'Cd56 Bright NK cells', 'Cd56 Dim NK cells', 'Classical monocyte', 'Club+Goblet', 'Fibroblast', 'General capillary', 'Granulocyte', 'IgA plasma', 'IgM plasma', 'Interstitial macrophages', 'Lymphatic endothelial', 'Mast cells', 'Mesothelium', 'Migratory dendritic', 'Multiciliated_Deuterostome', 'Neutrophils', 'Non-classical monocyte', 'Pericyte', 'Prg4+ Macrophages', 'Progenitor endothelial', 'Proliferating B cells', 'Proliferating T cells', 'Proliferating plasma', 'Smooth muscle cells', 'Th2 cells', 'Venous endothelial', 'Viral induced Gran', 'Viral induced monocytes', 'cd11b+ cDC', 'cd103+ cd11b+ proliferating cDC', 'cd103+ cd11b- cDC', 'pDC', 'Just_viral', 'identifier', 'combine', 'checks', 'Severe Asthma_Group', 'Chlamydia_Group', 'Old mice_Group', 'Bleo-young_Group', 'Bleo-old_Group', 'Influenza_Group', 'Cigarette Smoke_Group', 'Post Sendai virus_Group', 'Age - 24m_Group', 'TB_Group', 'Copd_Covid_Group', 'Murid herpesvirus 4_Group', 'Asthma_Group', 'Covid_Group', 'Copd_Group', 'Fibrosis_Group', 'Mir-155 KO_Group', 'Severe Asthma w steroids_Group', 'Asthma w steroids_Group', 'Cancer_Group', 'Hyperoxia_Group', 'Cancer tumor_Group', 'Radiation_Group', 'Hypoxia_Group', 'age_cont', 'leiden_1', 'leiden_2', 'leiden_3', 'predictions_2', 'knn_L5', 'Level_5_post_int', 'checking_2', 'AT II epithelial clust', 'Viral induced fibroblast', 'checking_mast', 'knn_L4', 'check_back', 'check', 'Smoke'\n",
       "    var: 'highly_variable'\n",
       "    uns: 'Copd_colors', 'Covid_colors', 'Decon_colors', 'Disease_colors', 'Group_colors', 'Just_viral_colors', 'Level_1_colors', 'Level_2_5_colors', 'Level_2_colors', 'Level_3_colors', 'Level_4_colors', 'Level_5_colors', 'Level_5_post_int_colors', 'MLCA_or_query_colors', 'Mice_colors', 'Smoke_colors', 'Study_colors', 'Viral_colors', 'check_back_colors', 'check_colors', 'checking_2_colors', 'checking_colors', 'clust_colors', 'clusters_3_colors', 'knn_L5_colors', 'knn_post_colors', 'leiden_2_colors', 'leiden_3_colors', 'log1p', 'neighbors', 'new_cell_type_colors', 'nhood_adata', 'pca', 'predictions_colors', 'rank_genes_groups', 'reannotated_celltype_colors', 'sample_oor_colors', 'study_colors', 'subset_colors', 'temp2_colors'\n",
       "    obsm: 'X_MLCA', 'X_pca', 'X_umap', 'nhoods'\n",
       "    varm: 'PCs'\n",
       "    layers: 'norm', 'raw'\n",
       "    obsp: 'connectivities', 'distances'"
      ]
     },
     "execution_count": 5,
     "metadata": {},
     "output_type": "execute_result"
    }
   ],
   "source": [
    "adata"
   ]
  },
  {
   "cell_type": "markdown",
   "id": "6cc7cbed-42db-43e7-a977-7b7d019a5d66",
   "metadata": {},
   "source": [
    "Randomly create 8 repeats of the reference matrix to create the most accurate reference for cellular deconvolution."
   ]
  },
  {
   "cell_type": "code",
   "execution_count": 7,
   "id": "e9fd92b5-97bb-4b82-aa6a-540e3e2f9986",
   "metadata": {},
   "outputs": [
    {
     "name": "stdout",
     "output_type": "stream",
     "text": [
      "saved_ref_1\n",
      "saved_ref_2\n",
      "saved_ref_3\n",
      "saved_ref_4\n",
      "saved_ref_5\n",
      "saved_ref_6\n",
      "saved_ref_7\n",
      "saved_ref_8\n"
     ]
    }
   ],
   "source": [
    "#Set up a loop to create 8 random iterations of reference matrix from the mouse atlas\n",
    "for i in range(1, 9):\n",
    "    dis.X.data = dis.layers['raw'].data.copy()\n",
    "    decon = dis  #decon only diseases\n",
    "    counts = decon.layers['raw']\n",
    "    decon.X.data = counts.data.copy()\n",
    "    batches = np.unique(decon.obs['Decon_viral'])\n",
    "    batches = batches[batches != 'Other cells']\n",
    "    batches = batches.astype(str)\n",
    "    cell_indices = []\n",
    "    \n",
    "    for batch in batches:\n",
    "        idx = np.where(decon.obs['Decon_viral'] == batch)[0]\n",
    "        np.random.shuffle(idx)\n",
    "        cell_indices += idx[:200].tolist()\n",
    "    \n",
    "    adata_filter = decon[cell_indices, :]\n",
    "    \n",
    "    matrix = adata_filter.X.toarray()\n",
    "    \n",
    "    mat = pd.DataFrame(data=matrix, index=adata_filter.obs[\"Decon_viral\"], columns=adata_filter.var_names).T\n",
    "    \n",
    "    mat.to_csv(f'CellDecon_ReferenceMatrices/Disease_ref_{i}.tsv', sep='\\t', index_label='GeneSymbol')\n",
    "    print(\"saved_ref_\"+str(i))"
   ]
  },
  {
   "cell_type": "markdown",
   "id": "f8f92b71-7dce-4d9c-b1ac-64633c3c700a",
   "metadata": {},
   "source": [
    "Create pseudobulk object from single cell"
   ]
  },
  {
   "cell_type": "code",
   "execution_count": null,
   "id": "f90931e5-b2e3-4270-a966-56fc3f56905b",
   "metadata": {},
   "outputs": [],
   "source": [
    "# initialize the object\n",
    "#Needs to be the CPM norm counts for the pseudo\n",
    "adata.X.data = adata.layers['norm'].data.copy()\n",
    "adata.obs['Pseudo'] = adata.obs['sample']\n",
    "adata.obs['Pseudo'] = adata.obs['Pseudo'].astype(object)\n",
    "#removed due to large proportion of epi cells\n",
    "adata.obs['Pseudo'].loc[adata.obs['study'] == 'Mouse_Post_Sendai'] = 'Removed'\n",
    "\n",
    "from adpbulk import ADPBulk\n",
    "adpb = ADPBulk(adata, \"Pseudo\")\n",
    "\n",
    "# perform the pseudobulking\n",
    "pseudo = adpb.fit_transform().T\n",
    "\n",
    "pseudo = pseudo.rename(columns=lambda x: x.replace('Pseudo.',''))\n",
    "\n",
    "pseudo = pseudo.drop('Removed',axis=1)\n",
    "pseudo.to_csv('/data/kkovacs/Python/Pseudo_Mouse_Atlas.tsv',sep = '\\t', index_label='GeneSymbol')  "
   ]
  },
  {
   "cell_type": "code",
   "execution_count": null,
   "metadata": {},
   "outputs": [],
   "source": [
    "###Here is the post cibersort files, the cell impute fraction outputs, \n",
    "### as CSV files\n",
    "\n",
    "# make a dataframe of the samples of mice against the Decon celltypes, so it\n",
    "# matches with the output files\n",
    "table = pd.crosstab(dis.obs['Pseudo'],dis.obs['Decon_viral'], normalize='index')\n",
    "\n",
    "correlation=[]\n",
    "\n",
    "for i in range(1, 9):\n",
    "    # Read the data\n",
    "    data = pd.read_csv(f'/shared/homes/155227/work/R/data/MouseAtlas/Disease_results/CIBERSORTx_Ref{i}_Disease_Results.csv', sep=',', index_col='Mixture')\n",
    "    \n",
    "    # Remove unneeded columns\n",
    "    data = data.drop(['Correlation', 'RMSE', 'P-value'], axis=1)\n",
    "    \n",
    "    # Rename indices to remove 'sample.'\n",
    "    data = data.rename(index=lambda x: x.replace('sample.', ''))\n",
    "    \n",
    "    # Ensure the tables have the same index order\n",
    "    com_rows = table.index.intersection(data.index)\n",
    "    table_reindexed = table.reindex(com_rows)\n",
    "    data_reindexed = data.reindex(com_rows)\n",
    "    \n",
    "    # Calculate the Spearman correlation\n",
    "    corr_matrix = table_reindexed.corrwith(data_reindexed, method='spearman')\n",
    "    \n",
    "    # Rename the correlation results\n",
    "    corr_matrix.name = f'Attempt {i}'\n",
    "    \n",
    "    # Append the correlation results to the list\n",
    "    correlation.append(corr_matrix)\n",
    "\n",
    "#Concatenate the content of the correlation list object into one dataframe\n",
    "corr_table = pd.concat(correlation,axis=1)\n",
    "corr_table = corr_table.drop('Other cells',axis=0)\n",
    "\n",
    "\n",
    "#Save the file and take it to Prism for best figures\n",
    "corr_table.to_csv('/shared/homes/155227/work/R/data/MouseAtlas/CellDecon/disease/corr_table_final_disease.csv')\n",
    "\n",
    "\n",
    "corr_table = pd.read_csv('Corr_table_v2.csv',sep=',',index_col='Decon')"
   ]
  },
  {
   "cell_type": "markdown",
   "id": "cc263ed5-be62-4c11-87a9-ad7fe3aef929",
   "metadata": {},
   "source": [
    "The Pseudobulk data is then used as the mixture file in CIBERSORTx. "
   ]
  },
  {
   "cell_type": "code",
   "execution_count": 1,
   "id": "987c7b9d-94ee-44b8-a045-cac8f71a72f5",
   "metadata": {},
   "outputs": [
    {
     "ename": "NameError",
     "evalue": "name 'pd' is not defined",
     "output_type": "error",
     "traceback": [
      "\u001b[0;31m---------------------------------------------------------------------------\u001b[0m",
      "\u001b[0;31mNameError\u001b[0m                                 Traceback (most recent call last)",
      "Cell \u001b[0;32mIn[1], line 2\u001b[0m\n\u001b[1;32m      1\u001b[0m \u001b[38;5;66;03m#scatter plots comparing each cell type deconvolution and actual abundance\u001b[39;00m\n\u001b[0;32m----> 2\u001b[0m data\u001b[38;5;241m=\u001b[39m\u001b[43mpd\u001b[49m\u001b[38;5;241m.\u001b[39mread_csv(\u001b[38;5;124m'\u001b[39m\u001b[38;5;124mDecon_related/CIBERSORTx_Ref_1.csv\u001b[39m\u001b[38;5;124m'\u001b[39m,sep\u001b[38;5;241m=\u001b[39m\u001b[38;5;124m'\u001b[39m\u001b[38;5;124m,\u001b[39m\u001b[38;5;124m'\u001b[39m,index_col\u001b[38;5;241m=\u001b[39m\u001b[38;5;124m'\u001b[39m\u001b[38;5;124mMixture\u001b[39m\u001b[38;5;124m'\u001b[39m)\n\u001b[1;32m      3\u001b[0m table \u001b[38;5;241m=\u001b[39m pd\u001b[38;5;241m.\u001b[39mcrosstab(adata\u001b[38;5;241m.\u001b[39mobs[\u001b[38;5;124m'\u001b[39m\u001b[38;5;124mPseudo\u001b[39m\u001b[38;5;124m'\u001b[39m],adata\u001b[38;5;241m.\u001b[39mobs[\u001b[38;5;124m'\u001b[39m\u001b[38;5;124mDecon\u001b[39m\u001b[38;5;124m'\u001b[39m], normalize\u001b[38;5;241m=\u001b[39m\u001b[38;5;124m'\u001b[39m\u001b[38;5;124mindex\u001b[39m\u001b[38;5;124m'\u001b[39m)\n\u001b[1;32m      5\u001b[0m data \u001b[38;5;241m=\u001b[39m data\u001b[38;5;241m.\u001b[39mdrop([\u001b[38;5;124m'\u001b[39m\u001b[38;5;124mCorrelation\u001b[39m\u001b[38;5;124m'\u001b[39m,\u001b[38;5;124m'\u001b[39m\u001b[38;5;124mRMSE\u001b[39m\u001b[38;5;124m'\u001b[39m,\u001b[38;5;124m'\u001b[39m\u001b[38;5;124mP-value\u001b[39m\u001b[38;5;124m'\u001b[39m],axis\u001b[38;5;241m=\u001b[39m\u001b[38;5;241m1\u001b[39m)\n",
      "\u001b[0;31mNameError\u001b[0m: name 'pd' is not defined"
     ]
    }
   ],
   "source": [
    "# Loop through the range of files\n",
    "for i in range(1, 9):\n",
    "    # Read the data\n",
    "    data = pd.read_csv(f'Disease_results/CIBERSORTx_Ref{i}_Disease_Results.csv', sep=',', index_col='Mixture')\n",
    "    \n",
    "    # Create the table of actual abundances\n",
    "    table = pd.crosstab(dis.obs['Pseudo'], dis.obs['Decon_viral'], normalize='index')\n",
    "    \n",
    "    # Remove unneeded columns\n",
    "    data = data.drop(['Correlation', 'RMSE', 'P-value'], axis=1)\n",
    "    \n",
    "    # Drop unwanted rows and columns from the table\n",
    "    table.drop('Removed', axis=0, inplace=True)\n",
    "    table = table.drop('Other cells', axis=1)\n",
    "    table = table.add_prefix('Actual_')\n",
    "    \n",
    "    # Determine the layout for subplots\n",
    "    num_rows = 2  # Adjust as needed\n",
    "    num_cols = 2  # Adjust as needed\n",
    "    num_plots = int(np.ceil(len(table.columns) / (num_rows * num_cols)))\n",
    "    subplots_per_plot = num_rows * num_cols\n",
    "    \n",
    "    # Create scatter plots\n",
    "    for plot_num in range(num_plots):\n",
    "        start_col = plot_num * subplots_per_plot\n",
    "        end_col = min((plot_num + 1) * subplots_per_plot, len(table.columns))\n",
    "        \n",
    "        # Create a grid of subplots\n",
    "        fig, axes = plt.subplots(num_rows, num_cols, figsize=(12, 6))\n",
    "        \n",
    "        # Flatten the axes array if it's a 2D array\n",
    "        axes = axes.flatten()\n",
    "        \n",
    "        # Loop through the columns and create scatter plots for the current plot\n",
    "        for j, (col_table, col_data) in enumerate(zip(table.columns[start_col:end_col], data.columns[start_col:end_col])):\n",
    "            # Select the current subplot\n",
    "            ax = axes[j]\n",
    "            \n",
    "            # Concatenate the columns of interest\n",
    "            combined_data = pd.concat([table[col_table], data[col_data]], axis=1)\n",
    "            \n",
    "            # Create the scatter plot\n",
    "            combined_data.plot(x=col_table, y=col_data, kind='scatter', ax=ax, legend=False)\n",
    "            \n",
    "            # Calculate and plot the line of best fit\n",
    "            line = np.polyfit(combined_data[col_table], combined_data[col_data], 1)\n",
    "            ax.plot(combined_data[col_table], np.polyval(line, combined_data[col_table]), color='red', label='Line of Best Fit')\n",
    "            \n",
    "            # Set subplot title\n",
    "            ax.set_title(f'{col_table} vs {col_data}')\n",
    "        \n",
    "        # Adjust layout for better spacing\n",
    "        plt.tight_layout()\n",
    "        \n",
    "        # Save the current plot\n",
    "        plt.savefig(f'scatter_plots_panel_{plot_num + 1}_Ref{i}.png')\n",
    "        plt.clf()"
   ]
  }
 ],
 "metadata": {
  "kernelspec": {
   "display_name": "Python 3 (ipykernel)",
   "language": "python",
   "name": "python3"
  },
  "language_info": {
   "codemirror_mode": {
    "name": "ipython",
    "version": 3
   },
   "file_extension": ".py",
   "mimetype": "text/x-python",
   "name": "python",
   "nbconvert_exporter": "python",
   "pygments_lexer": "ipython3",
   "version": "3.8.10"
  }
 },
 "nbformat": 4,
 "nbformat_minor": 5
}
