{
 "cells": [
  {
   "cell_type": "code",
   "execution_count": null,
   "id": "41521393-91b5-4e4c-b449-6584338f1ef6",
   "metadata": {},
   "outputs": [],
   "source": [
    "import os\n",
    "os.chdir('/data/kkovacs/Python')\n",
    "import warnings\n",
    "warnings.simplefilter(action='ignore', category=FutureWarning)\n",
    "warnings.simplefilter(action='ignore', category=UserWarning)\n",
    "import scanpy as sc\n",
    "import copy\n",
    "import torch\n",
    "import scarches as sca\n",
    "from scarches.dataset.trvae.data_handling import remove_sparsity\n",
    "import matplotlib.pyplot as plt\n",
    "import matplotlib as mpl\n",
    "import numpy as np\n",
    "import gdown\n",
    "import sankey\n",
    "import anndata\n",
    "import pandas as pd\n",
    "import pandas as pd\n",
    "from pySankey.sankey import sankey\n",
    "from matplotlib.pyplot import rc_context\n",
    "import seaborn as sns\n",
    "plt.rcParams['figure.figsize']=(8,8) #rescale figures\n",
    "sc.settings.verbosity = 3\n",
    "sc.settings.set_figure_params(dpi=200, frameon=False)\n",
    "sc.set_figure_params(dpi=200)\n",
    "sc.set_figure_params(figsize=(5, 5))\n",
    "torch.set_printoptions(precision=10, sci_mode=False, edgeitems=12)\n",
    "pd.options.mode.chained_assignment = None"
   ]
  },
  {
   "cell_type": "code",
   "execution_count": 3,
   "id": "65e8c256-fcce-4095-ab17-daedb8f1785d",
   "metadata": {},
   "outputs": [],
   "source": [
    "directory = '/data/kkovacs/Python'\n",
    "\n",
    "#.../MouseAtlas/"
   ]
  },
  {
   "cell_type": "markdown",
   "id": "986109d8-b655-42e1-a2bc-9728a4febd09",
   "metadata": {},
   "source": [
    "Initialize all studies"
   ]
  },
  {
   "cell_type": "code",
   "execution_count": 30,
   "id": "f043d26e-3ab7-4f62-9480-69a99b624e90",
   "metadata": {},
   "outputs": [
    {
     "name": "stdout",
     "output_type": "stream",
     "text": [
      "AnnData object with n_obs × n_vars = 36692 × 33260\n",
      "    obs: 'nCount_covid', 'nFeature_covid', 'orig.ident', 'nCount_RNA', 'nFeature_RNA', 'percent.mt', 'CellStatus', 'pANN_0.25_0.09_241', 'DF.classifications_0.25_0.09_241', 'DoubletStatus', 'pANN_0.25_0.09_520', 'DF.classifications_0.25_0.09_520', 'pANN_0.25_0.09_148', 'DF.classifications_0.25_0.09_148', 'pANN_0.25_0.09_368', 'DF.classifications_0.25_0.09_368', 'pANN_0.25_0.09_1110', 'DF.classifications_0.25_0.09_1110', 'pANN_0.25_0.09_33', 'DF.classifications_0.25_0.09_33', 'pANN_0.25_0.09_1015', 'DF.classifications_0.25_0.09_1015', 'nGene', 'nUMI', 'Group', 'res.0', 'res.0.1', 'res.0.2', 'res.0.3', 'res.0.4', 'res.0.5', 'res.0.6', 'res.0.7', 'res.0.8', 'res.0.9', 'res.1', 'seurat_clusters', 'infection', 'Sample.Gender', 'percent.hb', 'percent.rp', 'cluster_labels_res.0.4', 'predicted.classification_Angelidis.score', 'predicted.classification_Angelidis', 'mouseRNA.labels', 'immgen.labels', 'RNA_snn_res.0.3', 'RNA_snn_res.0.4', 'RNA_snn_res.0.5', 'RNA_snn_res.0.6', 'RNA_snn_res.0.7', 'cluster_labels_res.0.4_redone', 'cell_type', 'Mice', 'cell_label_short_0.6', 'nCount_covidneg', 'nFeature_covidneg', 'infection_neg', 'new_cell_type', 'study', 'adding_new', 'sample', 'age', 'sex', 'strain', 'platform', 'Disease'\n",
      "    var: 'vst.mean', 'vst.variance', 'vst.variance.expected', 'vst.variance.standardized', 'vst.variable'\n"
     ]
    }
   ],
   "source": [
    "covid = sc.read(directory + \"/Data/Mouse_Covid.h5ad\")\n",
    "copd_covid = sc.read(directory + \"/Data/Mouse_Copd_Covid.h5ad\")\n",
    "copd = sc.read(directory + \"/Data/Mouse_Copd.h5ad\")\n",
    "age = sc.read(directory + \"/Data/Mouse_Age.h5ad\")\n",
    "cssc = sc.read(directory + \"/Data/Mouse_COPD_SHAM_SARSCov2.h5ad\")\n",
    "herpes = sc.read(directory + \"/Data/Mouse_Herpesvirus.h5ad\")\n",
    "hyper = sc.read(directory + \"/Data/Mouse_Hyperoxia.h5ad\")\n",
    "tb = sc.read(directory + \"/Data/Mouse_TB.h5ad\")#c\n",
    "cancer = sc.read(directory + \"/Data/Mouse_Cancer.h5ad\")\n",
    "hypo = sc.read(directory + \"/Data/Mouse_Hypoxia.h5ad\")\n",
    "rad = sc.read(directory + \"/Data/Mouse_Radiation.h5ad\")\n",
    "sendai = sc.read(directory + \"/Data/Mouse_Post_Sendai.h5ad\")\n",
    "tumor = sc.read(directory + \"/Data/Mouse_TumorKO.h5ad\")\n",
    "fibro = sc.read(directory + \"/Data/Mouse_fibrosis.h5ad\")\n",
    "asthma = sc.read(directory + \"/Data/Mouse_asthma.h5ad\")\n",
    "fibage = sc.read(directory + \"/Data/Mouse_fibro_age.h5ad\")\n",
    "influ = sc.read(directory + \"/Data/Mouse_influenza.h5ad\")\n",
    "\n",
    "print(covid)"
   ]
  },
  {
   "cell_type": "raw",
   "id": "35e567d4-e137-40e7-97cf-75bbef01f283",
   "metadata": {},
   "source": [
    "Swap to Raw with each set"
   ]
  },
  {
   "cell_type": "code",
   "execution_count": 31,
   "id": "a9f30233-05ed-4467-b160-eec6411c731b",
   "metadata": {},
   "outputs": [],
   "source": [
    "covid.X.data = covid.raw.X.data\n",
    "copd.X.data = copd.raw.X.data\n",
    "copd_covid.X.data = copd_covid.raw.X.data\n",
    "age.X.data = age.raw.X.data\n",
    "cssc.X.data = cssc.raw.X.data\n",
    "herpes.X.data = herpes.raw.X.data\n",
    "hyper.X.data = hyper.raw.X.data\n",
    "tb.X.data = tb.raw.X.data\n",
    "hypo.X.data = hypo.raw.X.data\n",
    "cancer.X.data = cancer.raw.X.data\n",
    "rad.X.data = rad.raw.X.data\n",
    "sendai.X.data = sendai.raw.X.data\n",
    "tumor.X.data = tumor.raw.X.data\n",
    "fibro.X.data = fibro.raw.X.data\n",
    "asthma.X.data = asthma.raw.X.data\n",
    "fibage.X.data = fibage.raw.X.data\n",
    "influ.X.data = influ.raw.X.data"
   ]
  },
  {
   "cell_type": "markdown",
   "id": "a7009434-d237-4662-8300-453d26295427",
   "metadata": {},
   "source": [
    "Ensure all metadata is harmonised with all sets before proceeding"
   ]
  },
  {
   "cell_type": "code",
   "execution_count": 32,
   "id": "5c2d83e6-dd60-4cbc-bab4-0c43d0671945",
   "metadata": {},
   "outputs": [],
   "source": [
    "copd.obs['Group'] = copd.obs['Timepoint']\n",
    "age.obs['Group'] = age.obs['grouping']\n",
    "herpes.obs['Group'] = herpes.obs['treatment']\n",
    "hyper.obs['Group'] = hyper.obs['treatment']\n",
    "tb.obs['Group'] = tb.obs['treatment']\n",
    "cancer.obs['Group'] = cancer.obs['Treatment']\n",
    "hypo.obs['Group'] = hypo.obs['treatment']\n",
    "rad.obs['Group'] = rad.obs['treatment']\n",
    "sendai.obs['Group'] = sendai.obs['Treatment']\n",
    "tumor.obs['Group'] = tumor.obs['treatment']\n",
    "fibro.obs['Group'] = fibro.obs['treatment']\n",
    "asthma.obs['Group'] = asthma.obs['SampleIDs']\n",
    "influ.obs['Group'] = influ.obs['treatment']\n",
    "\n",
    "#invert these signs to produce the disease only sets (== -> !=, | -> &)\n",
    "covid = covid[(covid.obs['Group'] == 'FemaleControl')|\\\n",
    "\t(covid.obs['Group'] == 'MaleControl')]\n",
    "copd_covid = copd_covid[(copd_covid.obs['Group'] == 'AirControl')]\n",
    "copd = copd[(copd.obs['Group'] == '12 Week Air')]\n",
    "age = age[(age.obs['Group'] == '3m')]\n",
    "cssc = cssc[(cssc.obs['Group'] == 'AirControl')]\n",
    "herpes = herpes[(herpes.obs['Group'] == 'Untreated')]\n",
    "hyper = hyper[(hyper.obs['Group'] == 'Room Air')]\n",
    "tb = tb[(tb.obs['Group'] == 'Uninfected')]\n",
    "cancer = cancer[(cancer.obs['Group'] == 'Control')]\n",
    "hypo = hypo[(hypo.obs['Group'] == 'Room Air')]\n",
    "rad = rad[(rad.obs['Group'] == 'Control')]\n",
    "sendai = sendai[(sendai.obs['Group'] == 'PBS')]\n",
    "tumor = tumor[(tumor.obs['Group'] == 'Control')]\n",
    "fibro = fibro[(fibro.obs['Group'] == 'Control')]\n",
    "asthma = asthma[(asthma.obs['Group'] == 'Sal/SPG')]\n",
    "fibage = fibage[(fibage.obs['Group'] == 'Control')]\n",
    "influ = influ[(influ.obs['Group'] == 'Control')]"
   ]
  },
  {
   "cell_type": "markdown",
   "id": "591fa548-620e-46f5-96c5-bd90d26d8993",
   "metadata": {},
   "source": [
    "Split each set using their 'Group' metadata into Control and 'Disease' samples"
   ]
  },
  {
   "cell_type": "markdown",
   "id": "d59ef5fd-3739-495c-abc9-290012c5297c",
   "metadata": {},
   "source": [
    "Save control and disease as seperate anndata objects. To be used for the all gene objects.\n",
    "\n",
    "Once saved find the top 2000 highly variable genes that occur in all datasets, using the top 6000 highly variable from each set, and cross correlating with each set to find the 2000"
   ]
  },
  {
   "cell_type": "code",
   "execution_count": 33,
   "id": "8c637689-cd0d-419e-b48f-950b2d381b46",
   "metadata": {},
   "outputs": [
    {
     "name": "stdout",
     "output_type": "stream",
     "text": [
      "Study: Mouse_Covid - All values are integers.\n",
      "Study: Mouse_Copd_Covid - All values are integers.\n",
      "Study: Mouse_Copd - All values are integers.\n",
      "Study: Mouse_Age - All values are integers.\n",
      "Study: Mouse_COPD_SHAM_SARSCov2 - All values are integers.\n",
      "Study: Mouse_Herpesvirus - All values are integers.\n",
      "Study: Mouse_Hyperoxia - All values are integers.\n",
      "Study: Mouse_TB - All values are integers.\n",
      "Study: Mouse_Cancer - All values are integers.\n",
      "Study: Mouse_Hypoxia - All values are integers.\n",
      "Study: Mouse_Radiation - All values are integers.\n",
      "Study: Mouse_Post_Sendai - All values are integers.\n",
      "Study: Mouse_TumorKO - All values are integers.\n",
      "Study: Mouse_fibrosis - All values are integers.\n",
      "Study: Mouse_asthma - All values are integers.\n",
      "Study: Mouse_fibro_age - All values are integers.\n",
      "Study: Mouse_influenza - All values are integers.\n"
     ]
    }
   ],
   "source": [
    "###These objects are to represent both Healthy and Disease to be completed each indivi\n",
    "sets = [covid,copd_covid,copd,age,cssc,herpes,hyper,tb,cancer,hypo,rad,\\\n",
    "\tsendai,tumor,fibro,asthma,fibage,influ]\n",
    "vnames = []\n",
    "\n",
    "\n",
    "def check_non_integer_values(adatas):\n",
    "    # Loop through each adata object in the list\n",
    "    for idx, adata in enumerate(adatas):\n",
    "        # Assuming adata is an AnnData object\n",
    "        if not isinstance(adata, anndata.AnnData):\n",
    "            raise ValueError(f\"Input at index {idx} is not an AnnData object.\")\n",
    "        study = str(adata.obs['study'].unique()[0])\n",
    "        non_integer_values = np.any(adata.X.data % 1 != 0)\n",
    "        # Print information about non-integer values\n",
    "        if non_integer_values:\n",
    "            print(f\"Study: {study} - Non-integer values found.\")\n",
    "            # Add additional information or actions as needed\n",
    "        else:\n",
    "            print(f\"Study: {study} - All values are integers.\")\n",
    "            adata.layers['raw'] = adata.X\n",
    "\n",
    "sets = [covid,copd_covid,copd,age,cssc,herpes,hyper,tb,cancer,hypo,rad,\\\n",
    "\tsendai,tumor,fibro,asthma,fibage,influ]\n",
    "\n",
    "check_non_integer_values(sets)"
   ]
  },
  {
   "cell_type": "code",
   "execution_count": 25,
   "id": "645774f1-c4fa-4933-a13d-92940330d061",
   "metadata": {},
   "outputs": [
    {
     "name": "stdout",
     "output_type": "stream",
     "text": [
      "(8265, 6000)\n"
     ]
    },
    {
     "data": {
      "text/plain": [
       "(8265, 33260)"
      ]
     },
     "execution_count": 25,
     "metadata": {},
     "output_type": "execute_result"
    }
   ],
   "source": [
    "print(sets[0].shape)\n",
    "covid.shape"
   ]
  },
  {
   "cell_type": "code",
   "execution_count": null,
   "id": "62301fed-e8d8-4ccc-8e17-d69bfe1f5deb",
   "metadata": {},
   "outputs": [],
   "source": [
    "for i in range(0,len(sets)):\n",
    "\ttemp = sets[i]\n",
    "\tsc.pp.normalize_total(temp, target_sum=1e4)\n",
    "\tsc.pp.log1p(temp)\n",
    "\tsc.pp.highly_variable_genes(temp, min_mean=0.0125, max_mean=3, min_disp=0.5,span=0.3,n_bins=20)\n",
    "\tsc.pp.highly_variable_genes(temp,n_top_genes=6000)\n",
    "\t#this plants the hvg under the var of the data\n",
    "\ttemp = temp[:,temp.var.highly_variable]\n",
    "\tsets[i] = temp\n",
    "\tsets[i].var['highly_variable'] = temp.var.highly_variable\n",
    "\tvnames.append(set(sets[i].var_names))\n",
    "\n",
    "for i in range(0,len(sets)):\n",
    "    sets[i].X.data = sets[i].layers['raw'].data.copy()\n",
    "\n",
    "check_non_integer_values(sets)\n",
    "\n",
    "from itertools import combinations\n",
    "for i in range(0,len(sets)-1):\n",
    "\tgene = vnames[i] & vnames[i+1]\n",
    "\n",
    "comboSize = len(vnames)+1\n",
    "while len(gene) < 2000:\n",
    "\tcomboSize -= 1\n",
    "\tfor combo in combinations(range(len(vnames)),comboSize):\n",
    "\t\tintersection = vnames[combo[0]]\n",
    "\t\tfor i in combo[1:]: intersection = intersection & vnames[i]\n",
    "\t\tgene = gene.union(intersection)\n",
    "\t\tif len(gene) >= 2000:\n",
    "\t\t\tbreak\n",
    "\t\t#print(\" and \".join(f\"Set{i+1}\" for i in combo),\"=\",len(intersection))\n",
    "\n",
    "#inter = 2070\n",
    "inter =list(gene)\n",
    "if len(gene) > 2000:\n",
    "\trem = len(gene) - 2000\n",
    "\tdel inter[-rem:]\n",
    "\n",
    "df = pd.DataFrame(inter, columns=['GeneSymbol'])"
   ]
  },
  {
   "cell_type": "code",
   "execution_count": null,
   "id": "97326b28-4103-4f04-9824-7572b792fa64",
   "metadata": {},
   "outputs": [],
   "source": [
    "Using the newly found HVG, we now add the HVG to each dataset"
   ]
  },
  {
   "cell_type": "code",
   "execution_count": 39,
   "id": "b455db39-f933-4027-b95b-92e6588ad157",
   "metadata": {},
   "outputs": [],
   "source": [
    "for i in range(0,len(sets)):\n",
    "\tgenes = sets[i].var.index[sets[i].var.index.isin(inter)].tolist(){\n",
    "\tadata_sub = sets[i][:,genes].copy()\n",
    "\tgenes_to_add = set(inter).difference(set(adata_sub.var_names))\n",
    "\tgenes_to_add = list(genes_to_add)\n",
    "\tif genes_to_add != []:\n",
    "\t\tdf_padding = pd.DataFrame(data=np.zeros((adata_sub.shape[0],len(genes_to_add))),index=adata_sub.obs_names, columns=genes_to_add)\n",
    "\t\tadata_padding = sc.AnnData(df_padding)\n",
    "\t\tadata_sub = anndata.concat([adata_sub, adata_padding], axis=1, index_unique=None, merge='unique')\n",
    "\tsets[i] = adata_sub[:,inter].copy()\n",
    "\n",
    "\n",
    "for i in range(0,len(sets)):\n",
    "\tfor col in sets[i].obs.columns:\n",
    "\t\tif pd.api.types.is_object_dtype(sets[i].obs[col]):\n",
    "\t\t\tsets[i].obs[col]=sets[i].obs[col].astype(str)\n",
    "\t#sets[i].var['features-1'] = sets[i].var['features-1'].astype(str)\n",
    "\n",
    "for i in range(0,len(sets)):\n",
    "    try:sets[i].__dict__['_raw'].__dict__['_var'] = sets[i].__dict__['_raw'].__dict__['_var'].rename(columns={'_index': 'features'})\n",
    "    except:\n",
    "        pass\n",
    "        "
   ]
  },
  {
   "cell_type": "code",
   "execution_count": null,
   "id": "9131458d-8268-4922-9c8e-f9e3432367b1",
   "metadata": {},
   "outputs": [],
   "source": [
    "Saved for integration"
   ]
  },
  {
   "cell_type": "code",
   "execution_count": 40,
   "id": "2a536b6e-7ad6-4c5e-bd8d-6b7063dfd7f5",
   "metadata": {},
   "outputs": [
    {
     "name": "stdout",
     "output_type": "stream",
     "text": [
      "Anndata object 1:\n",
      "Number of observations (cells): 8265\n",
      "Number of variables (genes/features): 2000\n",
      "Number of layers: 0\n",
      "\n",
      "\n",
      "Anndata object 2:\n",
      "Number of observations (cells): 6567\n",
      "Number of variables (genes/features): 2000\n",
      "Number of layers: 0\n",
      "\n",
      "\n",
      "Anndata object 3:\n",
      "Number of observations (cells): 9295\n",
      "Number of variables (genes/features): 2000\n",
      "Number of layers: 0\n",
      "\n",
      "\n",
      "Anndata object 4:\n",
      "Number of observations (cells): 7159\n",
      "Number of variables (genes/features): 2000\n",
      "Number of layers: 0\n",
      "\n",
      "\n",
      "Anndata object 5:\n",
      "Number of observations (cells): 8233\n",
      "Number of variables (genes/features): 2000\n",
      "Number of layers: 0\n",
      "\n",
      "\n",
      "Anndata object 6:\n",
      "Number of observations (cells): 5376\n",
      "Number of variables (genes/features): 2000\n",
      "Number of layers: 0\n",
      "\n",
      "\n",
      "Anndata object 7:\n",
      "Number of observations (cells): 24214\n",
      "Number of variables (genes/features): 2000\n",
      "Number of layers: 0\n",
      "\n",
      "\n",
      "Anndata object 8:\n",
      "Number of observations (cells): 7413\n",
      "Number of variables (genes/features): 2000\n",
      "Number of layers: 0\n",
      "\n",
      "\n",
      "Anndata object 9:\n",
      "Number of observations (cells): 6677\n",
      "Number of variables (genes/features): 2000\n",
      "Number of layers: 0\n",
      "\n",
      "\n",
      "Anndata object 10:\n",
      "Number of observations (cells): 4786\n",
      "Number of variables (genes/features): 2000\n",
      "Number of layers: 0\n",
      "\n",
      "\n",
      "Anndata object 11:\n",
      "Number of observations (cells): 1550\n",
      "Number of variables (genes/features): 2000\n",
      "Number of layers: 0\n",
      "\n",
      "\n",
      "Anndata object 12:\n",
      "Number of observations (cells): 6734\n",
      "Number of variables (genes/features): 2000\n",
      "Number of layers: 0\n",
      "\n",
      "\n",
      "Anndata object 13:\n",
      "Number of observations (cells): 6851\n",
      "Number of variables (genes/features): 2000\n",
      "Number of layers: 0\n",
      "\n",
      "\n",
      "Anndata object 14:\n",
      "Number of observations (cells): 5844\n",
      "Number of variables (genes/features): 2000\n",
      "Number of layers: 0\n",
      "\n",
      "\n",
      "Anndata object 15:\n",
      "Number of observations (cells): 11987\n",
      "Number of variables (genes/features): 2000\n",
      "Number of layers: 0\n",
      "\n",
      "\n",
      "Anndata object 16:\n",
      "Number of observations (cells): 48429\n",
      "Number of variables (genes/features): 2000\n",
      "Number of layers: 0\n",
      "\n",
      "\n",
      "Anndata object 17:\n",
      "Number of observations (cells): 5152\n",
      "Number of variables (genes/features): 2000\n",
      "Number of layers: 0\n",
      "\n",
      "\n"
     ]
    }
   ],
   "source": [
    "for idx, adata_obj in enumerate(sets):\n",
    "     print(f\"Anndata object {idx + 1}:\")\n",
    "     print(f\"Number of observations (cells): {adata_obj.n_obs}\")\n",
    "     print(f\"Number of variables (genes/features): {adata_obj.n_vars}\")\n",
    "     print(f\"Number of layers: {len(adata_obj.layers)}\")\n",
    "     print(\"\\n\")\n"
   ]
  },
  {
   "cell_type": "code",
   "execution_count": 43,
   "id": "2fbbd593-51cc-4e73-a566-92e864b4087f",
   "metadata": {},
   "outputs": [],
   "source": [
    "for i in range(0,len(sets)):\n",
    "    study_value = sets[i].obs['study'].iloc[0]\n",
    "    variable_name = str(study_value)\n",
    "    sets[i].write(f\"Data/{variable_name}_2k_h.h5ad\")\n"
   ]
  },
  {
   "cell_type": "markdown",
   "id": "a399ca53-ca00-44f8-a652-7dd8b1d6552d",
   "metadata": {},
   "source": [
    "Saving each set independantly as their healthy and disease variant for later integration"
   ]
  }
 ],
 "metadata": {
  "kernelspec": {
   "display_name": "Python 3 (ipykernel)",
   "language": "python",
   "name": "python3"
  },
  "language_info": {
   "codemirror_mode": {
    "name": "ipython",
    "version": 3
   },
   "file_extension": ".py",
   "mimetype": "text/x-python",
   "name": "python",
   "nbconvert_exporter": "python",
   "pygments_lexer": "ipython3",
   "version": "3.8.10"
  }
 },
 "nbformat": 4,
 "nbformat_minor": 5
}
