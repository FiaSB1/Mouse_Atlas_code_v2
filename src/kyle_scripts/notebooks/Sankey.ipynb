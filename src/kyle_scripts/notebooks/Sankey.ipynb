{
 "cells": [
  {
   "cell_type": "code",
   "execution_count": 1,
   "id": "7b750d4c-b890-4fbb-bff5-92399c17ebe3",
   "metadata": {},
   "outputs": [],
   "source": [
    "#Sankey plots\n",
    "import os\n",
    "os.chdir('/data/kkovacs/Python')\n",
    "import warnings\n",
    "warnings.simplefilter(action='ignore', category=FutureWarning)\n",
    "warnings.simplefilter(action='ignore', category=UserWarning)\n",
    "import scanpy as sc"
   ]
  },
  {
   "cell_type": "code",
   "execution_count": 2,
   "id": "3628e48c-5084-424e-986b-0afbf8b3f28c",
   "metadata": {},
   "outputs": [],
   "source": [
    "directory = '/data/kkovacs/Python'\n",
    "#adata = sc.read(directory + \"/Data/adata_all_pre.h5ad\")\n",
    "adata = sc.read(directory + \"/Data/MLCA_All_meta_done_corrected.h5ad\")"
   ]
  },
  {
   "cell_type": "code",
   "execution_count": 3,
   "id": "79d2c81c-f4c8-4b93-a37f-a8621feb73b0",
   "metadata": {},
   "outputs": [
    {
     "data": {
      "text/plain": [
       "AnnData object with n_obs × n_vars = 734896 × 43519\n",
       "    obs: 'nCount_covid', 'nFeature_covid', 'orig.ident', 'Group', 'res.0', 'res.0.1', 'res.0.2', 'res.0.3', 'res.0.4', 'res.0.5', 'res.0.6', 'res.0.7', 'res.0.8', 'res.0.9', 'res.1', 'seurat_clusters', 'infection', 'cell_type', 'Mice', 'cell_label_short_0.6', 'nCount_covidneg', 'nFeature_covidneg', 'infection_neg', 'new_cell_type', 'study', 'CellTypes', 'CellTypes_short', 'samples', 'Timepoint', 'doublet', 'identifier.1', 'name', 'grouping', 'batch', 'cells', 'cluster', 'condition', 'age', 'sex', 'strain', 'treatment', 'tissue', 'time', 'platform', 'Tumor.or.healthy', 'Biological.replicate', 'Library', 'Barcode', 'Library.prep.batch', 'Total.counts', 'Percent.counts.from.mitochondrial.genes', 'Most.likely.Immgen.cell.type', 'Major.cell.type', 'Minor.subset', 'x', 'y', 'Geno', 'ID_old', 'hash.ID', 'SampleIDs', 'new.Celltypes', 'day', 'barcode', 'geo', 'predictions', 'clusters_1', 'clusters_2', 'clusters_3', 'n_genes_by_counts', 'total_counts', 'total_counts_mt', 'pct_counts_mt', 'Disease', 'final_anno', 'MLCA_or_query', 'clust', 'subset', 'sample', 'temp2', 'inf1', 'inf2', 'inf12', 'Level_4', 'Level_3', 'Level_4_temp', 'Level_1', 'Level_2', 'Level_2_5', 'Decon', 'Pseudo', 'identify', 'Viral', 'reannotated_celltype', 'Level_5', 'entropy_Level_5_new_cell_type', 'entropy_new_cell_type_Level_5', 'entropy_predictions_Level_5', 'knn_post', 'reference_labels', 'entropy_reference_labels_Level_5', 'Copd', 'sample_oor', 'nhood_ixs_random', 'nhood_ixs_refined', 'nhood_kth_distance', 'Covid', 'viral_status_num', 'dataset', 'subject_ID', 'combined_category', 'platform_numeric', 'strain_numeric', 'age_numeric', 'n_genes', 'Extraction', 'checking', 'temp_2', 'temp_3', 'Old_cell_types_L5', 'AT I epithelial', 'AT II epithelial', 'Aerocyte capillary', 'Alveolar macrophages', 'Arterial endothelial', 'B cells', 'club', 'goblet', 'Cd4 T cells', 'Cd8 T cells', 'Cd56 Bright NK cells', 'Cd56 Dim NK cells', 'Classical monocyte', 'Club+Goblet', 'Fibroblast', 'General capillary', 'Granulocyte', 'IgA plasma', 'IgM plasma', 'Interstitial macrophages', 'Lymphatic endothelial', 'Mast cells', 'Mesothelium', 'Migratory dendritic', 'Multiciliated_Deuterostome', 'Neutrophils', 'Non-classical monocyte', 'Pericyte', 'Prg4+ Macrophages', 'Progenitor endothelial', 'Proliferating B cells', 'Proliferating T cells', 'Proliferating plasma', 'Smooth muscle cells', 'Th2 cells', 'Venous endothelial', 'Viral induced Gran', 'Viral induced monocytes', 'cd11b+ cDC', 'cd103+ cd11b+ proliferating cDC', 'cd103+ cd11b- cDC', 'pDC', 'Just_viral', 'identifier', 'combine', 'checks', 'Severe Asthma_Group', 'Chlamydia_Group', 'Old mice_Group', 'Bleo-young_Group', 'Bleo-old_Group', 'Influenza_Group', 'Cigarette Smoke_Group', 'Post Sendai virus_Group', 'Age - 24m_Group', 'TB_Group', 'Copd_Covid_Group', 'Murid herpesvirus 4_Group', 'Asthma_Group', 'Covid_Group', 'Copd_Group', 'Fibrosis_Group', 'Mir-155 KO_Group', 'Severe Asthma w steroids_Group', 'Asthma w steroids_Group', 'Cancer_Group', 'Hyperoxia_Group', 'Cancer tumor_Group', 'Radiation_Group', 'Hypoxia_Group', 'age_cont', 'leiden_1', 'leiden_2', 'leiden_3', 'predictions_2', 'knn_L5', 'Level_5_post_int', 'checking_2', 'AT II epithelial clust', 'Viral induced fibroblast', 'checking_mast', 'knn_L4'\n",
       "    var: 'highly_variable'\n",
       "    uns: 'Copd_colors', 'Covid_colors', 'Decon_colors', 'Disease_colors', 'Just_viral_colors', 'Level_1_colors', 'Level_2_5_colors', 'Level_2_colors', 'Level_3_colors', 'Level_4_colors', 'Level_5_colors', 'Level_5_post_int_colors', 'MLCA_or_query_colors', 'Viral_colors', 'check_colors', 'checking_2_colors', 'checking_colors', 'clust_colors', 'clusters_3_colors', 'knn_L5_colors', 'knn_post_colors', 'leiden_2_colors', 'leiden_3_colors', 'log1p', 'neighbors', 'new_cell_type_colors', 'nhood_adata', 'pca', 'predictions_colors', 'rank_genes_groups', 'reannotated_celltype_colors', 'sample_oor_colors', 'study_colors', 'subset_colors', 'temp2_colors'\n",
       "    obsm: 'X_MLCA', 'X_pca', 'X_umap', 'nhoods'\n",
       "    varm: 'PCs'\n",
       "    layers: 'norm', 'raw'\n",
       "    obsp: 'connectivities', 'distances'"
      ]
     },
     "execution_count": 3,
     "metadata": {},
     "output_type": "execute_result"
    }
   ],
   "source": [
    "adata"
   ]
  },
  {
   "cell_type": "code",
   "execution_count": 146,
   "id": "5a02e40c-0939-4119-a2bf-f2b3fb066f99",
   "metadata": {},
   "outputs": [
    {
     "data": {
      "application/vnd.plotly.v1+json": {
       "config": {
        "plotlyServerURL": "https://plot.ly"
       },
       "data": [
        {
         "arrangement": "fixed",
         "link": {
          "label": [
           "Lymphoid",
           "Myeloid",
           "Blood vessels",
           "Lymphatic endothelial",
           "Alveolar epithelium",
           "Fibroblast",
           "Multiciliated_Deuterosomal",
           "T cell lineage",
           "B cells",
           "NK cells",
           "Plasma cells",
           "Macrophages",
           "Granulocyte",
           "Monocytes",
           "Viral induced monocytes",
           "Dendritic cells",
           "Viral induced Gran",
           "Migratory dendritic",
           "Viral induced macrophages",
           "Neutrophils",
           "pDC",
           "Mast cells",
           "Capillary endothelial",
           "Venous endothelial",
           "AT II epithelial",
           "AT I epithelial",
           "Secretory",
           "Fibroblast",
           "Smooth muscle cells",
           "Mesothelium",
           "Viral induced fibroblast",
           "Multiciliated_Deuterosomal",
           "Lymphatic endothelial",
           "Cd4 T cells",
           "Cd8 T cells",
           "Proliferating T cells",
           "B cells",
           "General capillary",
           "Aerocyte capillary",
           "Arterial endothelial",
           "Progenitor endothelial",
           "Alveolar macrophages",
           "Interstitial macrophages",
           "Prg4+ Macrophages",
           "AT II epithelial",
           "NK cells",
           "Granulocyte",
           "Classical monocyte",
           "Non-classical monocyte",
           "Viral induced monocytes",
           "Fibroblast",
           "Pericyte",
           "Dendritic cells",
           "Venous endothelial",
           "AT I epithelial",
           "IgM plasma",
           "IgA plasma",
           "Proliferating plasma",
           "Multiciliated_Deuterosomal",
           "Club+Goblet",
           "Smooth muscle cells",
           "Viral induced Gran",
           "Migratory dendritic",
           "Viral induced macrophages",
           "Neutrophils",
           "Lymphatic endothelial",
           "Mesothelium",
           "pDC",
           "Mast cells",
           "Viral induced fibroblast",
           "Cd4 T cells",
           "Th2 cells",
           "B cells",
           "Proliferating B cells",
           "General capillary",
           "AT II epithelial",
           "AT II epithelial clust",
           "Cd56 Dim NK cells",
           "Cd56 Bright NK cells",
           "Granulocyte",
           "Alveolar macrophages",
           "Proliferating macrophages",
           "Viral induced monocytes",
           "Interstitial macrophages",
           "Cd8 T cells",
           "Classical monocyte",
           "Fibroblast",
           "cd11b+ cDC",
           "cd103+ cd11b- cDC",
           "cd103+ cd11b+ proliferating cDC",
           "Non-classical monocyte",
           "Aerocyte capillary",
           "Venous endothelial",
           "Proliferating T cells",
           "AT I epithelial",
           "Multiciliated_Deuterosomal",
           "Club+Goblet",
           "Smooth muscle cells",
           "Viral induced Gran",
           "IgM plasma",
           "Migratory dendritic",
           "Viral induced macrophages",
           "Neutrophils",
           "Arterial endothelial",
           "Lymphatic endothelial",
           "Progenitor endothelial",
           "Pericyte",
           "Mesothelium",
           "pDC",
           "Mast cells",
           "Viral induced fibroblast",
           "IgA plasma",
           "Proliferating plasma",
           "Prg4+ Macrophages"
          ],
          "source": [
           0,
           0,
           3,
           3,
           6,
           8,
           10,
           1,
           1,
           1,
           1,
           2,
           2,
           2,
           2,
           2,
           2,
           2,
           2,
           2,
           2,
           2,
           4,
           4,
           7,
           7,
           7,
           9,
           9,
           9,
           9,
           11,
           5,
           12,
           12,
           12,
           13,
           27,
           27,
           27,
           27,
           16,
           16,
           16,
           29,
           14,
           17,
           18,
           18,
           19,
           32,
           32,
           20,
           28,
           30,
           15,
           15,
           15,
           36,
           31,
           33,
           21,
           22,
           23,
           24,
           37,
           34,
           25,
           26,
           35,
           38,
           38,
           41,
           41,
           42,
           49,
           49,
           50,
           50,
           51,
           46,
           46,
           54,
           47,
           39,
           52,
           55,
           57,
           57,
           57,
           53,
           43,
           58,
           40,
           59,
           63,
           64,
           65,
           66,
           60,
           67,
           68,
           69,
           44,
           70,
           45,
           56,
           71,
           72,
           73,
           74,
           61,
           62,
           48
          ],
          "target": [
           1,
           2,
           4,
           5,
           7,
           9,
           11,
           12,
           13,
           14,
           15,
           16,
           17,
           18,
           19,
           20,
           21,
           22,
           23,
           24,
           25,
           26,
           27,
           28,
           29,
           30,
           31,
           32,
           33,
           34,
           35,
           36,
           37,
           38,
           39,
           40,
           41,
           42,
           43,
           44,
           45,
           46,
           47,
           48,
           49,
           50,
           51,
           52,
           53,
           54,
           55,
           56,
           57,
           58,
           59,
           60,
           61,
           62,
           63,
           64,
           65,
           66,
           67,
           68,
           69,
           70,
           71,
           72,
           73,
           74,
           75,
           76,
           77,
           78,
           79,
           80,
           81,
           82,
           83,
           84,
           85,
           86,
           87,
           88,
           89,
           90,
           91,
           92,
           93,
           94,
           95,
           96,
           97,
           98,
           99,
           100,
           101,
           102,
           103,
           104,
           105,
           106,
           107,
           108,
           109,
           110,
           111,
           112,
           113,
           114,
           115,
           116,
           117,
           118
          ],
          "value": [
           296334,
           231301,
           99654,
           3080,
           65683,
           32522,
           6322,
           149124,
           100750,
           39756,
           6704,
           76059,
           39689,
           39554,
           37503,
           17795,
           5213,
           4760,
           3298,
           3268,
           2224,
           1938,
           91328,
           8326,
           53018,
           6756,
           5909,
           22744,
           5795,
           2561,
           1422,
           6322,
           3080,
           113143,
           28900,
           7081,
           100750,
           70066,
           15464,
           3096,
           2702,
           38989,
           36675,
           395,
           53018,
           39756,
           39689,
           23908,
           15646,
           37503,
           20093,
           2651,
           17795,
           8326,
           6756,
           4862,
           1058,
           784,
           6322,
           5909,
           5795,
           5213,
           4760,
           3298,
           3268,
           3080,
           2561,
           2224,
           1938,
           1422,
           70883,
           42260,
           99491,
           1259,
           70066,
           52231,
           787,
           33154,
           6602,
           39689,
           36351,
           2638,
           37503,
           36675,
           28900,
           23908,
           20093,
           7903,
           7478,
           2414,
           15646,
           15464,
           8326,
           7081,
           6756,
           6322,
           5909,
           5795,
           5213,
           4862,
           4760,
           3298,
           3268,
           3096,
           3080,
           2702,
           2651,
           2561,
           2224,
           1938,
           1422,
           1058,
           784,
           395
          ]
         },
         "node": {
          "color": [
           "rgba(255, 0, 0, 0.7)",
           "rgba(0, 255, 0, 0.7)",
           "rgba(0, 255, 0, 0.7)",
           "rgba(255, 0, 0, 0.7)",
           "rgba(0, 255, 0, 0.7)",
           "rgba(0, 255, 0, 0.7)",
           "rgba(255, 0, 0, 0.7)",
           "rgba(0, 255, 0, 0.7)",
           "rgba(255, 0, 0, 0.7)",
           "rgba(0, 255, 0, 0.7)",
           "rgba(255, 0, 0, 0.7)",
           "rgba(0, 255, 0, 0.7)",
           "rgba(255, 255, 0, 0.7)",
           "rgba(255, 255, 0, 0.7)",
           "rgba(255, 255, 0, 0.7)",
           "rgba(255, 255, 0, 0.7)",
           "rgba(255, 255, 0, 0.7)",
           "rgba(255, 255, 0, 0.7)",
           "rgba(255, 255, 0, 0.7)",
           "rgba(255, 255, 0, 0.7)",
           "rgba(255, 255, 0, 0.7)",
           "rgba(255, 255, 0, 0.7)",
           "rgba(255, 255, 0, 0.7)",
           "rgba(255, 255, 0, 0.7)",
           "rgba(255, 255, 0, 0.7)",
           "rgba(255, 255, 0, 0.7)",
           "rgba(255, 255, 0, 0.7)",
           "rgba(255, 255, 0, 0.7)",
           "rgba(255, 255, 0, 0.7)",
           "rgba(255, 255, 0, 0.7)",
           "rgba(255, 255, 0, 0.7)",
           "rgba(255, 255, 0, 0.7)",
           "rgba(255, 255, 0, 0.7)",
           "rgba(255, 255, 0, 0.7)",
           "rgba(255, 255, 0, 0.7)",
           "rgba(255, 255, 0, 0.7)",
           "rgba(255, 255, 0, 0.7)",
           "rgba(255, 255, 0, 0.7)",
           "rgba(255, 0, 255, 0.7)",
           "rgba(255, 0, 255, 0.7)",
           "rgba(255, 0, 255, 0.7)",
           "rgba(255, 0, 255, 0.7)",
           "rgba(255, 0, 255, 0.7)",
           "rgba(255, 0, 255, 0.7)",
           "rgba(255, 0, 255, 0.7)",
           "rgba(255, 0, 255, 0.7)",
           "rgba(255, 0, 255, 0.7)",
           "rgba(255, 0, 255, 0.7)",
           "rgba(255, 0, 255, 0.7)",
           "rgba(255, 0, 255, 0.7)",
           "rgba(255, 0, 255, 0.7)",
           "rgba(255, 0, 255, 0.7)",
           "rgba(255, 0, 255, 0.7)",
           "rgba(255, 0, 255, 0.7)",
           "rgba(255, 0, 255, 0.7)",
           "rgba(255, 0, 255, 0.7)",
           "rgba(255, 0, 255, 0.7)",
           "rgba(255, 0, 255, 0.7)",
           "rgba(255, 0, 255, 0.7)",
           "rgba(255, 0, 255, 0.7)",
           "rgba(255, 0, 255, 0.7)",
           "rgba(255, 0, 255, 0.7)",
           "rgba(255, 0, 255, 0.7)",
           "rgba(255, 0, 255, 0.7)",
           "rgba(255, 0, 255, 0.7)",
           "rgba(255, 0, 255, 0.7)",
           "rgba(255, 0, 255, 0.7)",
           "rgba(255, 0, 255, 0.7)",
           "rgba(255, 0, 255, 0.7)",
           "rgba(255, 0, 255, 0.7)",
           "rgba(255, 0, 255, 0.7)",
           "rgba(255, 0, 255, 0.7)",
           "rgba(255, 0, 255, 0.7)",
           "rgba(255, 0, 255, 0.7)",
           "rgba(255, 0, 255, 0.7)",
           "rgba(0, 255, 255, 0.7)",
           "rgba(0, 255, 255, 0.7)",
           "rgba(0, 255, 255, 0.7)",
           "rgba(0, 255, 255, 0.7)",
           "rgba(0, 255, 255, 0.7)",
           "rgba(0, 255, 255, 0.7)",
           "rgba(0, 255, 255, 0.7)",
           "rgba(0, 255, 255, 0.7)",
           "rgba(0, 255, 255, 0.7)",
           "rgba(0, 255, 255, 0.7)",
           "rgba(0, 255, 255, 0.7)",
           "rgba(0, 255, 255, 0.7)",
           "rgba(0, 255, 255, 0.7)",
           "rgba(0, 255, 255, 0.7)",
           "rgba(0, 255, 255, 0.7)",
           "rgba(0, 255, 255, 0.7)",
           "rgba(0, 255, 255, 0.7)",
           "rgba(0, 255, 255, 0.7)",
           "rgba(0, 255, 255, 0.7)",
           "rgba(0, 255, 255, 0.7)",
           "rgba(0, 255, 255, 0.7)",
           "rgba(0, 255, 255, 0.7)",
           "rgba(0, 255, 255, 0.7)",
           "rgba(0, 255, 255, 0.7)",
           "rgba(0, 255, 255, 0.7)",
           "rgba(0, 255, 255, 0.7)",
           "rgba(0, 255, 255, 0.7)",
           "rgba(0, 255, 255, 0.7)",
           "rgba(0, 255, 255, 0.7)",
           "rgba(0, 255, 255, 0.7)",
           "rgba(0, 255, 255, 0.7)",
           "rgba(0, 255, 255, 0.7)",
           "rgba(0, 255, 255, 0.7)",
           "rgba(0, 255, 255, 0.7)",
           "rgba(0, 255, 255, 0.7)",
           "rgba(0, 255, 255, 0.7)",
           "rgba(0, 255, 255, 0.7)",
           "rgba(0, 255, 255, 0.7)",
           "rgba(0, 255, 255, 0.7)",
           "rgba(0, 255, 255, 0.7)",
           "rgba(0, 255, 255, 0.7)",
           "rgba(0, 255, 255, 0.7)",
           "rgba(0, 255, 255, 0.7)",
           "rgba(0, 255, 255, 0.7)"
          ],
          "label": [
           "Immune",
           "Lymphoid",
           "Myeloid",
           "Endothelial",
           "Blood vessels",
           "Lymphatic endothelial",
           "Epithelial",
           "Alveolar epithelium",
           "Stroma",
           "Fibroblast",
           "Multiciliated_Deuterosomal",
           "Multiciliated_Deuterosomal",
           "T cell lineage",
           "B cells",
           "NK cells",
           "Plasma cells",
           "Macrophages",
           "Granulocyte",
           "Monocytes",
           "Viral induced monocytes",
           "Dendritic cells",
           "Viral induced Gran",
           "Migratory dendritic",
           "Viral induced macrophages",
           "Neutrophils",
           "pDC",
           "Mast cells",
           "Capillary endothelial",
           "Venous endothelial",
           "AT II epithelial",
           "AT I epithelial",
           "Secretory",
           "Fibroblast",
           "Smooth muscle cells",
           "Mesothelium",
           "Viral induced fibroblast",
           "Multiciliated_Deuterosomal",
           "Lymphatic endothelial",
           "Cd4 T cells",
           "Cd8 T cells",
           "Proliferating T cells",
           "B cells",
           "General capillary",
           "Aerocyte capillary",
           "Arterial endothelial",
           "Progenitor endothelial",
           "Alveolar macrophages",
           "Interstitial macrophages",
           "Prg4+ Macrophages",
           "AT II epithelial",
           "NK cells",
           "Granulocyte",
           "Classical monocyte",
           "Non-classical monocyte",
           "Viral induced monocytes",
           "Fibroblast",
           "Pericyte",
           "Dendritic cells",
           "Venous endothelial",
           "AT I epithelial",
           "IgM plasma",
           "IgA plasma",
           "Proliferating plasma",
           "Multiciliated_Deuterosomal",
           "Club+Goblet",
           "Smooth muscle cells",
           "Viral induced Gran",
           "Migratory dendritic",
           "Viral induced macrophages",
           "Neutrophils",
           "Lymphatic endothelial",
           "Mesothelium",
           "pDC",
           "Mast cells",
           "Viral induced fibroblast",
           "Cd4 T cells",
           "Th2 cells",
           "B cells",
           "Proliferating B cells",
           "General capillary",
           "AT II epithelial",
           "AT II epithelial clust",
           "Cd56 Dim NK cells",
           "Cd56 Bright NK cells",
           "Granulocyte",
           "Alveolar macrophages",
           "Proliferating macrophages",
           "Viral induced monocytes",
           "Interstitial macrophages",
           "Cd8 T cells",
           "Classical monocyte",
           "Fibroblast",
           "cd11b+ cDC",
           "cd103+ cd11b- cDC",
           "cd103+ cd11b+ proliferating cDC",
           "Non-classical monocyte",
           "Aerocyte capillary",
           "Venous endothelial",
           "Proliferating T cells",
           "AT I epithelial",
           "Multiciliated_Deuterosomal",
           "Club+Goblet",
           "Smooth muscle cells",
           "Viral induced Gran",
           "IgM plasma",
           "Migratory dendritic",
           "Viral induced macrophages",
           "Neutrophils",
           "Arterial endothelial",
           "Lymphatic endothelial",
           "Progenitor endothelial",
           "Pericyte",
           "Mesothelium",
           "pDC",
           "Mast cells",
           "Viral induced fibroblast",
           "IgA plasma",
           "Proliferating plasma",
           "Prg4+ Macrophages"
          ],
          "line": {
           "color": "black",
           "width": 0.3
          },
          "pad": 15,
          "thickness": 10
         },
         "type": "sankey"
        }
       ],
       "layout": {
        "font": {
         "color": "black",
         "size": 10
        },
        "height": 800,
        "template": {
         "data": {
          "bar": [
           {
            "error_x": {
             "color": "#2a3f5f"
            },
            "error_y": {
             "color": "#2a3f5f"
            },
            "marker": {
             "line": {
              "color": "#E5ECF6",
              "width": 0.5
             },
             "pattern": {
              "fillmode": "overlay",
              "size": 10,
              "solidity": 0.2
             }
            },
            "type": "bar"
           }
          ],
          "barpolar": [
           {
            "marker": {
             "line": {
              "color": "#E5ECF6",
              "width": 0.5
             },
             "pattern": {
              "fillmode": "overlay",
              "size": 10,
              "solidity": 0.2
             }
            },
            "type": "barpolar"
           }
          ],
          "carpet": [
           {
            "aaxis": {
             "endlinecolor": "#2a3f5f",
             "gridcolor": "white",
             "linecolor": "white",
             "minorgridcolor": "white",
             "startlinecolor": "#2a3f5f"
            },
            "baxis": {
             "endlinecolor": "#2a3f5f",
             "gridcolor": "white",
             "linecolor": "white",
             "minorgridcolor": "white",
             "startlinecolor": "#2a3f5f"
            },
            "type": "carpet"
           }
          ],
          "choropleth": [
           {
            "colorbar": {
             "outlinewidth": 0,
             "ticks": ""
            },
            "type": "choropleth"
           }
          ],
          "contour": [
           {
            "colorbar": {
             "outlinewidth": 0,
             "ticks": ""
            },
            "colorscale": [
             [
              0,
              "#0d0887"
             ],
             [
              0.1111111111111111,
              "#46039f"
             ],
             [
              0.2222222222222222,
              "#7201a8"
             ],
             [
              0.3333333333333333,
              "#9c179e"
             ],
             [
              0.4444444444444444,
              "#bd3786"
             ],
             [
              0.5555555555555556,
              "#d8576b"
             ],
             [
              0.6666666666666666,
              "#ed7953"
             ],
             [
              0.7777777777777778,
              "#fb9f3a"
             ],
             [
              0.8888888888888888,
              "#fdca26"
             ],
             [
              1,
              "#f0f921"
             ]
            ],
            "type": "contour"
           }
          ],
          "contourcarpet": [
           {
            "colorbar": {
             "outlinewidth": 0,
             "ticks": ""
            },
            "type": "contourcarpet"
           }
          ],
          "heatmap": [
           {
            "colorbar": {
             "outlinewidth": 0,
             "ticks": ""
            },
            "colorscale": [
             [
              0,
              "#0d0887"
             ],
             [
              0.1111111111111111,
              "#46039f"
             ],
             [
              0.2222222222222222,
              "#7201a8"
             ],
             [
              0.3333333333333333,
              "#9c179e"
             ],
             [
              0.4444444444444444,
              "#bd3786"
             ],
             [
              0.5555555555555556,
              "#d8576b"
             ],
             [
              0.6666666666666666,
              "#ed7953"
             ],
             [
              0.7777777777777778,
              "#fb9f3a"
             ],
             [
              0.8888888888888888,
              "#fdca26"
             ],
             [
              1,
              "#f0f921"
             ]
            ],
            "type": "heatmap"
           }
          ],
          "heatmapgl": [
           {
            "colorbar": {
             "outlinewidth": 0,
             "ticks": ""
            },
            "colorscale": [
             [
              0,
              "#0d0887"
             ],
             [
              0.1111111111111111,
              "#46039f"
             ],
             [
              0.2222222222222222,
              "#7201a8"
             ],
             [
              0.3333333333333333,
              "#9c179e"
             ],
             [
              0.4444444444444444,
              "#bd3786"
             ],
             [
              0.5555555555555556,
              "#d8576b"
             ],
             [
              0.6666666666666666,
              "#ed7953"
             ],
             [
              0.7777777777777778,
              "#fb9f3a"
             ],
             [
              0.8888888888888888,
              "#fdca26"
             ],
             [
              1,
              "#f0f921"
             ]
            ],
            "type": "heatmapgl"
           }
          ],
          "histogram": [
           {
            "marker": {
             "pattern": {
              "fillmode": "overlay",
              "size": 10,
              "solidity": 0.2
             }
            },
            "type": "histogram"
           }
          ],
          "histogram2d": [
           {
            "colorbar": {
             "outlinewidth": 0,
             "ticks": ""
            },
            "colorscale": [
             [
              0,
              "#0d0887"
             ],
             [
              0.1111111111111111,
              "#46039f"
             ],
             [
              0.2222222222222222,
              "#7201a8"
             ],
             [
              0.3333333333333333,
              "#9c179e"
             ],
             [
              0.4444444444444444,
              "#bd3786"
             ],
             [
              0.5555555555555556,
              "#d8576b"
             ],
             [
              0.6666666666666666,
              "#ed7953"
             ],
             [
              0.7777777777777778,
              "#fb9f3a"
             ],
             [
              0.8888888888888888,
              "#fdca26"
             ],
             [
              1,
              "#f0f921"
             ]
            ],
            "type": "histogram2d"
           }
          ],
          "histogram2dcontour": [
           {
            "colorbar": {
             "outlinewidth": 0,
             "ticks": ""
            },
            "colorscale": [
             [
              0,
              "#0d0887"
             ],
             [
              0.1111111111111111,
              "#46039f"
             ],
             [
              0.2222222222222222,
              "#7201a8"
             ],
             [
              0.3333333333333333,
              "#9c179e"
             ],
             [
              0.4444444444444444,
              "#bd3786"
             ],
             [
              0.5555555555555556,
              "#d8576b"
             ],
             [
              0.6666666666666666,
              "#ed7953"
             ],
             [
              0.7777777777777778,
              "#fb9f3a"
             ],
             [
              0.8888888888888888,
              "#fdca26"
             ],
             [
              1,
              "#f0f921"
             ]
            ],
            "type": "histogram2dcontour"
           }
          ],
          "mesh3d": [
           {
            "colorbar": {
             "outlinewidth": 0,
             "ticks": ""
            },
            "type": "mesh3d"
           }
          ],
          "parcoords": [
           {
            "line": {
             "colorbar": {
              "outlinewidth": 0,
              "ticks": ""
             }
            },
            "type": "parcoords"
           }
          ],
          "pie": [
           {
            "automargin": true,
            "type": "pie"
           }
          ],
          "scatter": [
           {
            "fillpattern": {
             "fillmode": "overlay",
             "size": 10,
             "solidity": 0.2
            },
            "type": "scatter"
           }
          ],
          "scatter3d": [
           {
            "line": {
             "colorbar": {
              "outlinewidth": 0,
              "ticks": ""
             }
            },
            "marker": {
             "colorbar": {
              "outlinewidth": 0,
              "ticks": ""
             }
            },
            "type": "scatter3d"
           }
          ],
          "scattercarpet": [
           {
            "marker": {
             "colorbar": {
              "outlinewidth": 0,
              "ticks": ""
             }
            },
            "type": "scattercarpet"
           }
          ],
          "scattergeo": [
           {
            "marker": {
             "colorbar": {
              "outlinewidth": 0,
              "ticks": ""
             }
            },
            "type": "scattergeo"
           }
          ],
          "scattergl": [
           {
            "marker": {
             "colorbar": {
              "outlinewidth": 0,
              "ticks": ""
             }
            },
            "type": "scattergl"
           }
          ],
          "scattermapbox": [
           {
            "marker": {
             "colorbar": {
              "outlinewidth": 0,
              "ticks": ""
             }
            },
            "type": "scattermapbox"
           }
          ],
          "scatterpolar": [
           {
            "marker": {
             "colorbar": {
              "outlinewidth": 0,
              "ticks": ""
             }
            },
            "type": "scatterpolar"
           }
          ],
          "scatterpolargl": [
           {
            "marker": {
             "colorbar": {
              "outlinewidth": 0,
              "ticks": ""
             }
            },
            "type": "scatterpolargl"
           }
          ],
          "scatterternary": [
           {
            "marker": {
             "colorbar": {
              "outlinewidth": 0,
              "ticks": ""
             }
            },
            "type": "scatterternary"
           }
          ],
          "surface": [
           {
            "colorbar": {
             "outlinewidth": 0,
             "ticks": ""
            },
            "colorscale": [
             [
              0,
              "#0d0887"
             ],
             [
              0.1111111111111111,
              "#46039f"
             ],
             [
              0.2222222222222222,
              "#7201a8"
             ],
             [
              0.3333333333333333,
              "#9c179e"
             ],
             [
              0.4444444444444444,
              "#bd3786"
             ],
             [
              0.5555555555555556,
              "#d8576b"
             ],
             [
              0.6666666666666666,
              "#ed7953"
             ],
             [
              0.7777777777777778,
              "#fb9f3a"
             ],
             [
              0.8888888888888888,
              "#fdca26"
             ],
             [
              1,
              "#f0f921"
             ]
            ],
            "type": "surface"
           }
          ],
          "table": [
           {
            "cells": {
             "fill": {
              "color": "#EBF0F8"
             },
             "line": {
              "color": "white"
             }
            },
            "header": {
             "fill": {
              "color": "#C8D4E3"
             },
             "line": {
              "color": "white"
             }
            },
            "type": "table"
           }
          ]
         },
         "layout": {
          "annotationdefaults": {
           "arrowcolor": "#2a3f5f",
           "arrowhead": 0,
           "arrowwidth": 1
          },
          "autotypenumbers": "strict",
          "coloraxis": {
           "colorbar": {
            "outlinewidth": 0,
            "ticks": ""
           }
          },
          "colorscale": {
           "diverging": [
            [
             0,
             "#8e0152"
            ],
            [
             0.1,
             "#c51b7d"
            ],
            [
             0.2,
             "#de77ae"
            ],
            [
             0.3,
             "#f1b6da"
            ],
            [
             0.4,
             "#fde0ef"
            ],
            [
             0.5,
             "#f7f7f7"
            ],
            [
             0.6,
             "#e6f5d0"
            ],
            [
             0.7,
             "#b8e186"
            ],
            [
             0.8,
             "#7fbc41"
            ],
            [
             0.9,
             "#4d9221"
            ],
            [
             1,
             "#276419"
            ]
           ],
           "sequential": [
            [
             0,
             "#0d0887"
            ],
            [
             0.1111111111111111,
             "#46039f"
            ],
            [
             0.2222222222222222,
             "#7201a8"
            ],
            [
             0.3333333333333333,
             "#9c179e"
            ],
            [
             0.4444444444444444,
             "#bd3786"
            ],
            [
             0.5555555555555556,
             "#d8576b"
            ],
            [
             0.6666666666666666,
             "#ed7953"
            ],
            [
             0.7777777777777778,
             "#fb9f3a"
            ],
            [
             0.8888888888888888,
             "#fdca26"
            ],
            [
             1,
             "#f0f921"
            ]
           ],
           "sequentialminus": [
            [
             0,
             "#0d0887"
            ],
            [
             0.1111111111111111,
             "#46039f"
            ],
            [
             0.2222222222222222,
             "#7201a8"
            ],
            [
             0.3333333333333333,
             "#9c179e"
            ],
            [
             0.4444444444444444,
             "#bd3786"
            ],
            [
             0.5555555555555556,
             "#d8576b"
            ],
            [
             0.6666666666666666,
             "#ed7953"
            ],
            [
             0.7777777777777778,
             "#fb9f3a"
            ],
            [
             0.8888888888888888,
             "#fdca26"
            ],
            [
             1,
             "#f0f921"
            ]
           ]
          },
          "colorway": [
           "#636efa",
           "#EF553B",
           "#00cc96",
           "#ab63fa",
           "#FFA15A",
           "#19d3f3",
           "#FF6692",
           "#B6E880",
           "#FF97FF",
           "#FECB52"
          ],
          "font": {
           "color": "#2a3f5f"
          },
          "geo": {
           "bgcolor": "white",
           "lakecolor": "white",
           "landcolor": "#E5ECF6",
           "showlakes": true,
           "showland": true,
           "subunitcolor": "white"
          },
          "hoverlabel": {
           "align": "left"
          },
          "hovermode": "closest",
          "mapbox": {
           "style": "light"
          },
          "paper_bgcolor": "white",
          "plot_bgcolor": "#E5ECF6",
          "polar": {
           "angularaxis": {
            "gridcolor": "white",
            "linecolor": "white",
            "ticks": ""
           },
           "bgcolor": "#E5ECF6",
           "radialaxis": {
            "gridcolor": "white",
            "linecolor": "white",
            "ticks": ""
           }
          },
          "scene": {
           "xaxis": {
            "backgroundcolor": "#E5ECF6",
            "gridcolor": "white",
            "gridwidth": 2,
            "linecolor": "white",
            "showbackground": true,
            "ticks": "",
            "zerolinecolor": "white"
           },
           "yaxis": {
            "backgroundcolor": "#E5ECF6",
            "gridcolor": "white",
            "gridwidth": 2,
            "linecolor": "white",
            "showbackground": true,
            "ticks": "",
            "zerolinecolor": "white"
           },
           "zaxis": {
            "backgroundcolor": "#E5ECF6",
            "gridcolor": "white",
            "gridwidth": 2,
            "linecolor": "white",
            "showbackground": true,
            "ticks": "",
            "zerolinecolor": "white"
           }
          },
          "shapedefaults": {
           "line": {
            "color": "#2a3f5f"
           }
          },
          "ternary": {
           "aaxis": {
            "gridcolor": "white",
            "linecolor": "white",
            "ticks": ""
           },
           "baxis": {
            "gridcolor": "white",
            "linecolor": "white",
            "ticks": ""
           },
           "bgcolor": "#E5ECF6",
           "caxis": {
            "gridcolor": "white",
            "linecolor": "white",
            "ticks": ""
           }
          },
          "title": {
           "x": 0.05
          },
          "xaxis": {
           "automargin": true,
           "gridcolor": "white",
           "linecolor": "white",
           "ticks": "",
           "title": {
            "standoff": 15
           },
           "zerolinecolor": "white",
           "zerolinewidth": 2
          },
          "yaxis": {
           "automargin": true,
           "gridcolor": "white",
           "linecolor": "white",
           "ticks": "",
           "title": {
            "standoff": 15
           },
           "zerolinecolor": "white",
           "zerolinewidth": 2
          }
         }
        },
        "title": {
         "text": "Interconnected Sankey Diagram"
        },
        "width": 1000
       }
      },
      "image/png": "[encoded data removed]",
      "text/html": [
       "<div>                            <div id=\"1095f83f-e0be-490f-a036-d9fd03cf8c9f\" class=\"plotly-graph-div\" style=\"height:800px; width:1000px;\"></div>            <script type=\"text/javascript\">                require([\"plotly\"], function(Plotly) {                    window.PLOTLYENV=window.PLOTLYENV || {};                                    if (document.getElementById(\"1095f83f-e0be-490f-a036-d9fd03cf8c9f\")) {                    Plotly.newPlot(                        \"1095f83f-e0be-490f-a036-d9fd03cf8c9f\",                        [{\"arrangement\":\"fixed\",\"link\":{\"label\":[\"Lymphoid\",\"Myeloid\",\"Blood vessels\",\"Lymphatic endothelial\",\"Alveolar epithelium\",\"Fibroblast\",\"Multiciliated_Deuterosomal\",\"T cell lineage\",\"B cells\",\"NK cells\",\"Plasma cells\",\"Macrophages\",\"Granulocyte\",\"Monocytes\",\"Viral induced monocytes\",\"Dendritic cells\",\"Viral induced Gran\",\"Migratory dendritic\",\"Viral induced macrophages\",\"Neutrophils\",\"pDC\",\"Mast cells\",\"Capillary endothelial\",\"Venous endothelial\",\"AT II epithelial\",\"AT I epithelial\",\"Secretory\",\"Fibroblast\",\"Smooth muscle cells\",\"Mesothelium\",\"Viral induced fibroblast\",\"Multiciliated_Deuterosomal\",\"Lymphatic endothelial\",\"Cd4 T cells\",\"Cd8 T cells\",\"Proliferating T cells\",\"B cells\",\"General capillary\",\"Aerocyte capillary\",\"Arterial endothelial\",\"Progenitor endothelial\",\"Alveolar macrophages\",\"Interstitial macrophages\",\"Prg4+ Macrophages\",\"AT II epithelial\",\"NK cells\",\"Granulocyte\",\"Classical monocyte\",\"Non-classical monocyte\",\"Viral induced monocytes\",\"Fibroblast\",\"Pericyte\",\"Dendritic cells\",\"Venous endothelial\",\"AT I epithelial\",\"IgM plasma\",\"IgA plasma\",\"Proliferating plasma\",\"Multiciliated_Deuterosomal\",\"Club+Goblet\",\"Smooth muscle cells\",\"Viral induced Gran\",\"Migratory dendritic\",\"Viral induced macrophages\",\"Neutrophils\",\"Lymphatic endothelial\",\"Mesothelium\",\"pDC\",\"Mast cells\",\"Viral induced fibroblast\",\"Cd4 T cells\",\"Th2 cells\",\"B cells\",\"Proliferating B cells\",\"General capillary\",\"AT II epithelial\",\"AT II epithelial clust\",\"Cd56 Dim NK cells\",\"Cd56 Bright NK cells\",\"Granulocyte\",\"Alveolar macrophages\",\"Proliferating macrophages\",\"Viral induced monocytes\",\"Interstitial macrophages\",\"Cd8 T cells\",\"Classical monocyte\",\"Fibroblast\",\"cd11b+ cDC\",\"cd103+ cd11b- cDC\",\"cd103+ cd11b+ proliferating cDC\",\"Non-classical monocyte\",\"Aerocyte capillary\",\"Venous endothelial\",\"Proliferating T cells\",\"AT I epithelial\",\"Multiciliated_Deuterosomal\",\"Club+Goblet\",\"Smooth muscle cells\",\"Viral induced Gran\",\"IgM plasma\",\"Migratory dendritic\",\"Viral induced macrophages\",\"Neutrophils\",\"Arterial endothelial\",\"Lymphatic endothelial\",\"Progenitor endothelial\",\"Pericyte\",\"Mesothelium\",\"pDC\",\"Mast cells\",\"Viral induced fibroblast\",\"IgA plasma\",\"Proliferating plasma\",\"Prg4+ Macrophages\"],\"source\":[0,0,3,3,6,8,10,1,1,1,1,2,2,2,2,2,2,2,2,2,2,2,4,4,7,7,7,9,9,9,9,11,5,12,12,12,13,27,27,27,27,16,16,16,29,14,17,18,18,19,32,32,20,28,30,15,15,15,36,31,33,21,22,23,24,37,34,25,26,35,38,38,41,41,42,49,49,50,50,51,46,46,54,47,39,52,55,57,57,57,53,43,58,40,59,63,64,65,66,60,67,68,69,44,70,45,56,71,72,73,74,61,62,48],\"target\":[1,2,4,5,7,9,11,12,13,14,15,16,17,18,19,20,21,22,23,24,25,26,27,28,29,30,31,32,33,34,35,36,37,38,39,40,41,42,43,44,45,46,47,48,49,50,51,52,53,54,55,56,57,58,59,60,61,62,63,64,65,66,67,68,69,70,71,72,73,74,75,76,77,78,79,80,81,82,83,84,85,86,87,88,89,90,91,92,93,94,95,96,97,98,99,100,101,102,103,104,105,106,107,108,109,110,111,112,113,114,115,116,117,118],\"value\":[296334,231301,99654,3080,65683,32522,6322,149124,100750,39756,6704,76059,39689,39554,37503,17795,5213,4760,3298,3268,2224,1938,91328,8326,53018,6756,5909,22744,5795,2561,1422,6322,3080,113143,28900,7081,100750,70066,15464,3096,2702,38989,36675,395,53018,39756,39689,23908,15646,37503,20093,2651,17795,8326,6756,4862,1058,784,6322,5909,5795,5213,4760,3298,3268,3080,2561,2224,1938,1422,70883,42260,99491,1259,70066,52231,787,33154,6602,39689,36351,2638,37503,36675,28900,23908,20093,7903,7478,2414,15646,15464,8326,7081,6756,6322,5909,5795,5213,4862,4760,3298,3268,3096,3080,2702,2651,2561,2224,1938,1422,1058,784,395]},\"node\":{\"color\":[\"rgba(255, 0, 0, 0.7)\",\"rgba(0, 255, 0, 0.7)\",\"rgba(0, 255, 0, 0.7)\",\"rgba(255, 0, 0, 0.7)\",\"rgba(0, 255, 0, 0.7)\",\"rgba(0, 255, 0, 0.7)\",\"rgba(255, 0, 0, 0.7)\",\"rgba(0, 255, 0, 0.7)\",\"rgba(255, 0, 0, 0.7)\",\"rgba(0, 255, 0, 0.7)\",\"rgba(255, 0, 0, 0.7)\",\"rgba(0, 255, 0, 0.7)\",\"rgba(255, 255, 0, 0.7)\",\"rgba(255, 255, 0, 0.7)\",\"rgba(255, 255, 0, 0.7)\",\"rgba(255, 255, 0, 0.7)\",\"rgba(255, 255, 0, 0.7)\",\"rgba(255, 255, 0, 0.7)\",\"rgba(255, 255, 0, 0.7)\",\"rgba(255, 255, 0, 0.7)\",\"rgba(255, 255, 0, 0.7)\",\"rgba(255, 255, 0, 0.7)\",\"rgba(255, 255, 0, 0.7)\",\"rgba(255, 255, 0, 0.7)\",\"rgba(255, 255, 0, 0.7)\",\"rgba(255, 255, 0, 0.7)\",\"rgba(255, 255, 0, 0.7)\",\"rgba(255, 255, 0, 0.7)\",\"rgba(255, 255, 0, 0.7)\",\"rgba(255, 255, 0, 0.7)\",\"rgba(255, 255, 0, 0.7)\",\"rgba(255, 255, 0, 0.7)\",\"rgba(255, 255, 0, 0.7)\",\"rgba(255, 255, 0, 0.7)\",\"rgba(255, 255, 0, 0.7)\",\"rgba(255, 255, 0, 0.7)\",\"rgba(255, 255, 0, 0.7)\",\"rgba(255, 255, 0, 0.7)\",\"rgba(255, 0, 255, 0.7)\",\"rgba(255, 0, 255, 0.7)\",\"rgba(255, 0, 255, 0.7)\",\"rgba(255, 0, 255, 0.7)\",\"rgba(255, 0, 255, 0.7)\",\"rgba(255, 0, 255, 0.7)\",\"rgba(255, 0, 255, 0.7)\",\"rgba(255, 0, 255, 0.7)\",\"rgba(255, 0, 255, 0.7)\",\"rgba(255, 0, 255, 0.7)\",\"rgba(255, 0, 255, 0.7)\",\"rgba(255, 0, 255, 0.7)\",\"rgba(255, 0, 255, 0.7)\",\"rgba(255, 0, 255, 0.7)\",\"rgba(255, 0, 255, 0.7)\",\"rgba(255, 0, 255, 0.7)\",\"rgba(255, 0, 255, 0.7)\",\"rgba(255, 0, 255, 0.7)\",\"rgba(255, 0, 255, 0.7)\",\"rgba(255, 0, 255, 0.7)\",\"rgba(255, 0, 255, 0.7)\",\"rgba(255, 0, 255, 0.7)\",\"rgba(255, 0, 255, 0.7)\",\"rgba(255, 0, 255, 0.7)\",\"rgba(255, 0, 255, 0.7)\",\"rgba(255, 0, 255, 0.7)\",\"rgba(255, 0, 255, 0.7)\",\"rgba(255, 0, 255, 0.7)\",\"rgba(255, 0, 255, 0.7)\",\"rgba(255, 0, 255, 0.7)\",\"rgba(255, 0, 255, 0.7)\",\"rgba(255, 0, 255, 0.7)\",\"rgba(255, 0, 255, 0.7)\",\"rgba(255, 0, 255, 0.7)\",\"rgba(255, 0, 255, 0.7)\",\"rgba(255, 0, 255, 0.7)\",\"rgba(255, 0, 255, 0.7)\",\"rgba(0, 255, 255, 0.7)\",\"rgba(0, 255, 255, 0.7)\",\"rgba(0, 255, 255, 0.7)\",\"rgba(0, 255, 255, 0.7)\",\"rgba(0, 255, 255, 0.7)\",\"rgba(0, 255, 255, 0.7)\",\"rgba(0, 255, 255, 0.7)\",\"rgba(0, 255, 255, 0.7)\",\"rgba(0, 255, 255, 0.7)\",\"rgba(0, 255, 255, 0.7)\",\"rgba(0, 255, 255, 0.7)\",\"rgba(0, 255, 255, 0.7)\",\"rgba(0, 255, 255, 0.7)\",\"rgba(0, 255, 255, 0.7)\",\"rgba(0, 255, 255, 0.7)\",\"rgba(0, 255, 255, 0.7)\",\"rgba(0, 255, 255, 0.7)\",\"rgba(0, 255, 255, 0.7)\",\"rgba(0, 255, 255, 0.7)\",\"rgba(0, 255, 255, 0.7)\",\"rgba(0, 255, 255, 0.7)\",\"rgba(0, 255, 255, 0.7)\",\"rgba(0, 255, 255, 0.7)\",\"rgba(0, 255, 255, 0.7)\",\"rgba(0, 255, 255, 0.7)\",\"rgba(0, 255, 255, 0.7)\",\"rgba(0, 255, 255, 0.7)\",\"rgba(0, 255, 255, 0.7)\",\"rgba(0, 255, 255, 0.7)\",\"rgba(0, 255, 255, 0.7)\",\"rgba(0, 255, 255, 0.7)\",\"rgba(0, 255, 255, 0.7)\",\"rgba(0, 255, 255, 0.7)\",\"rgba(0, 255, 255, 0.7)\",\"rgba(0, 255, 255, 0.7)\",\"rgba(0, 255, 255, 0.7)\",\"rgba(0, 255, 255, 0.7)\",\"rgba(0, 255, 255, 0.7)\",\"rgba(0, 255, 255, 0.7)\",\"rgba(0, 255, 255, 0.7)\",\"rgba(0, 255, 255, 0.7)\",\"rgba(0, 255, 255, 0.7)\",\"rgba(0, 255, 255, 0.7)\",\"rgba(0, 255, 255, 0.7)\"],\"label\":[\"Immune\",\"Lymphoid\",\"Myeloid\",\"Endothelial\",\"Blood vessels\",\"Lymphatic endothelial\",\"Epithelial\",\"Alveolar epithelium\",\"Stroma\",\"Fibroblast\",\"Multiciliated_Deuterosomal\",\"Multiciliated_Deuterosomal\",\"T cell lineage\",\"B cells\",\"NK cells\",\"Plasma cells\",\"Macrophages\",\"Granulocyte\",\"Monocytes\",\"Viral induced monocytes\",\"Dendritic cells\",\"Viral induced Gran\",\"Migratory dendritic\",\"Viral induced macrophages\",\"Neutrophils\",\"pDC\",\"Mast cells\",\"Capillary endothelial\",\"Venous endothelial\",\"AT II epithelial\",\"AT I epithelial\",\"Secretory\",\"Fibroblast\",\"Smooth muscle cells\",\"Mesothelium\",\"Viral induced fibroblast\",\"Multiciliated_Deuterosomal\",\"Lymphatic endothelial\",\"Cd4 T cells\",\"Cd8 T cells\",\"Proliferating T cells\",\"B cells\",\"General capillary\",\"Aerocyte capillary\",\"Arterial endothelial\",\"Progenitor endothelial\",\"Alveolar macrophages\",\"Interstitial macrophages\",\"Prg4+ Macrophages\",\"AT II epithelial\",\"NK cells\",\"Granulocyte\",\"Classical monocyte\",\"Non-classical monocyte\",\"Viral induced monocytes\",\"Fibroblast\",\"Pericyte\",\"Dendritic cells\",\"Venous endothelial\",\"AT I epithelial\",\"IgM plasma\",\"IgA plasma\",\"Proliferating plasma\",\"Multiciliated_Deuterosomal\",\"Club+Goblet\",\"Smooth muscle cells\",\"Viral induced Gran\",\"Migratory dendritic\",\"Viral induced macrophages\",\"Neutrophils\",\"Lymphatic endothelial\",\"Mesothelium\",\"pDC\",\"Mast cells\",\"Viral induced fibroblast\",\"Cd4 T cells\",\"Th2 cells\",\"B cells\",\"Proliferating B cells\",\"General capillary\",\"AT II epithelial\",\"AT II epithelial clust\",\"Cd56 Dim NK cells\",\"Cd56 Bright NK cells\",\"Granulocyte\",\"Alveolar macrophages\",\"Proliferating macrophages\",\"Viral induced monocytes\",\"Interstitial macrophages\",\"Cd8 T cells\",\"Classical monocyte\",\"Fibroblast\",\"cd11b+ cDC\",\"cd103+ cd11b- cDC\",\"cd103+ cd11b+ proliferating cDC\",\"Non-classical monocyte\",\"Aerocyte capillary\",\"Venous endothelial\",\"Proliferating T cells\",\"AT I epithelial\",\"Multiciliated_Deuterosomal\",\"Club+Goblet\",\"Smooth muscle cells\",\"Viral induced Gran\",\"IgM plasma\",\"Migratory dendritic\",\"Viral induced macrophages\",\"Neutrophils\",\"Arterial endothelial\",\"Lymphatic endothelial\",\"Progenitor endothelial\",\"Pericyte\",\"Mesothelium\",\"pDC\",\"Mast cells\",\"Viral induced fibroblast\",\"IgA plasma\",\"Proliferating plasma\",\"Prg4+ Macrophages\"],\"line\":{\"color\":\"black\",\"width\":0.3},\"pad\":15,\"thickness\":10},\"type\":\"sankey\"}],                        {\"template\":{\"data\":{\"histogram2dcontour\":[{\"type\":\"histogram2dcontour\",\"colorbar\":{\"outlinewidth\":0,\"ticks\":\"\"},\"colorscale\":[[0.0,\"#0d0887\"],[0.1111111111111111,\"#46039f\"],[0.2222222222222222,\"#7201a8\"],[0.3333333333333333,\"#9c179e\"],[0.4444444444444444,\"#bd3786\"],[0.5555555555555556,\"#d8576b\"],[0.6666666666666666,\"#ed7953\"],[0.7777777777777778,\"#fb9f3a\"],[0.8888888888888888,\"#fdca26\"],[1.0,\"#f0f921\"]]}],\"choropleth\":[{\"type\":\"choropleth\",\"colorbar\":{\"outlinewidth\":0,\"ticks\":\"\"}}],\"histogram2d\":[{\"type\":\"histogram2d\",\"colorbar\":{\"outlinewidth\":0,\"ticks\":\"\"},\"colorscale\":[[0.0,\"#0d0887\"],[0.1111111111111111,\"#46039f\"],[0.2222222222222222,\"#7201a8\"],[0.3333333333333333,\"#9c179e\"],[0.4444444444444444,\"#bd3786\"],[0.5555555555555556,\"#d8576b\"],[0.6666666666666666,\"#ed7953\"],[0.7777777777777778,\"#fb9f3a\"],[0.8888888888888888,\"#fdca26\"],[1.0,\"#f0f921\"]]}],\"heatmap\":[{\"type\":\"heatmap\",\"colorbar\":{\"outlinewidth\":0,\"ticks\":\"\"},\"colorscale\":[[0.0,\"#0d0887\"],[0.1111111111111111,\"#46039f\"],[0.2222222222222222,\"#7201a8\"],[0.3333333333333333,\"#9c179e\"],[0.4444444444444444,\"#bd3786\"],[0.5555555555555556,\"#d8576b\"],[0.6666666666666666,\"#ed7953\"],[0.7777777777777778,\"#fb9f3a\"],[0.8888888888888888,\"#fdca26\"],[1.0,\"#f0f921\"]]}],\"heatmapgl\":[{\"type\":\"heatmapgl\",\"colorbar\":{\"outlinewidth\":0,\"ticks\":\"\"},\"colorscale\":[[0.0,\"#0d0887\"],[0.1111111111111111,\"#46039f\"],[0.2222222222222222,\"#7201a8\"],[0.3333333333333333,\"#9c179e\"],[0.4444444444444444,\"#bd3786\"],[0.5555555555555556,\"#d8576b\"],[0.6666666666666666,\"#ed7953\"],[0.7777777777777778,\"#fb9f3a\"],[0.8888888888888888,\"#fdca26\"],[1.0,\"#f0f921\"]]}],\"contourcarpet\":[{\"type\":\"contourcarpet\",\"colorbar\":{\"outlinewidth\":0,\"ticks\":\"\"}}],\"contour\":[{\"type\":\"contour\",\"colorbar\":{\"outlinewidth\":0,\"ticks\":\"\"},\"colorscale\":[[0.0,\"#0d0887\"],[0.1111111111111111,\"#46039f\"],[0.2222222222222222,\"#7201a8\"],[0.3333333333333333,\"#9c179e\"],[0.4444444444444444,\"#bd3786\"],[0.5555555555555556,\"#d8576b\"],[0.6666666666666666,\"#ed7953\"],[0.7777777777777778,\"#fb9f3a\"],[0.8888888888888888,\"#fdca26\"],[1.0,\"#f0f921\"]]}],\"surface\":[{\"type\":\"surface\",\"colorbar\":{\"outlinewidth\":0,\"ticks\":\"\"},\"colorscale\":[[0.0,\"#0d0887\"],[0.1111111111111111,\"#46039f\"],[0.2222222222222222,\"#7201a8\"],[0.3333333333333333,\"#9c179e\"],[0.4444444444444444,\"#bd3786\"],[0.5555555555555556,\"#d8576b\"],[0.6666666666666666,\"#ed7953\"],[0.7777777777777778,\"#fb9f3a\"],[0.8888888888888888,\"#fdca26\"],[1.0,\"#f0f921\"]]}],\"mesh3d\":[{\"type\":\"mesh3d\",\"colorbar\":{\"outlinewidth\":0,\"ticks\":\"\"}}],\"scatter\":[{\"fillpattern\":{\"fillmode\":\"overlay\",\"size\":10,\"solidity\":0.2},\"type\":\"scatter\"}],\"parcoords\":[{\"type\":\"parcoords\",\"line\":{\"colorbar\":{\"outlinewidth\":0,\"ticks\":\"\"}}}],\"scatterpolargl\":[{\"type\":\"scatterpolargl\",\"marker\":{\"colorbar\":{\"outlinewidth\":0,\"ticks\":\"\"}}}],\"bar\":[{\"error_x\":{\"color\":\"#2a3f5f\"},\"error_y\":{\"color\":\"#2a3f5f\"},\"marker\":{\"line\":{\"color\":\"#E5ECF6\",\"width\":0.5},\"pattern\":{\"fillmode\":\"overlay\",\"size\":10,\"solidity\":0.2}},\"type\":\"bar\"}],\"scattergeo\":[{\"type\":\"scattergeo\",\"marker\":{\"colorbar\":{\"outlinewidth\":0,\"ticks\":\"\"}}}],\"scatterpolar\":[{\"type\":\"scatterpolar\",\"marker\":{\"colorbar\":{\"outlinewidth\":0,\"ticks\":\"\"}}}],\"histogram\":[{\"marker\":{\"pattern\":{\"fillmode\":\"overlay\",\"size\":10,\"solidity\":0.2}},\"type\":\"histogram\"}],\"scattergl\":[{\"type\":\"scattergl\",\"marker\":{\"colorbar\":{\"outlinewidth\":0,\"ticks\":\"\"}}}],\"scatter3d\":[{\"type\":\"scatter3d\",\"line\":{\"colorbar\":{\"outlinewidth\":0,\"ticks\":\"\"}},\"marker\":{\"colorbar\":{\"outlinewidth\":0,\"ticks\":\"\"}}}],\"scattermapbox\":[{\"type\":\"scattermapbox\",\"marker\":{\"colorbar\":{\"outlinewidth\":0,\"ticks\":\"\"}}}],\"scatterternary\":[{\"type\":\"scatterternary\",\"marker\":{\"colorbar\":{\"outlinewidth\":0,\"ticks\":\"\"}}}],\"scattercarpet\":[{\"type\":\"scattercarpet\",\"marker\":{\"colorbar\":{\"outlinewidth\":0,\"ticks\":\"\"}}}],\"carpet\":[{\"aaxis\":{\"endlinecolor\":\"#2a3f5f\",\"gridcolor\":\"white\",\"linecolor\":\"white\",\"minorgridcolor\":\"white\",\"startlinecolor\":\"#2a3f5f\"},\"baxis\":{\"endlinecolor\":\"#2a3f5f\",\"gridcolor\":\"white\",\"linecolor\":\"white\",\"minorgridcolor\":\"white\",\"startlinecolor\":\"#2a3f5f\"},\"type\":\"carpet\"}],\"table\":[{\"cells\":{\"fill\":{\"color\":\"#EBF0F8\"},\"line\":{\"color\":\"white\"}},\"header\":{\"fill\":{\"color\":\"#C8D4E3\"},\"line\":{\"color\":\"white\"}},\"type\":\"table\"}],\"barpolar\":[{\"marker\":{\"line\":{\"color\":\"#E5ECF6\",\"width\":0.5},\"pattern\":{\"fillmode\":\"overlay\",\"size\":10,\"solidity\":0.2}},\"type\":\"barpolar\"}],\"pie\":[{\"automargin\":true,\"type\":\"pie\"}]},\"layout\":{\"autotypenumbers\":\"strict\",\"colorway\":[\"#636efa\",\"#EF553B\",\"#00cc96\",\"#ab63fa\",\"#FFA15A\",\"#19d3f3\",\"#FF6692\",\"#B6E880\",\"#FF97FF\",\"#FECB52\"],\"font\":{\"color\":\"#2a3f5f\"},\"hovermode\":\"closest\",\"hoverlabel\":{\"align\":\"left\"},\"paper_bgcolor\":\"white\",\"plot_bgcolor\":\"#E5ECF6\",\"polar\":{\"bgcolor\":\"#E5ECF6\",\"angularaxis\":{\"gridcolor\":\"white\",\"linecolor\":\"white\",\"ticks\":\"\"},\"radialaxis\":{\"gridcolor\":\"white\",\"linecolor\":\"white\",\"ticks\":\"\"}},\"ternary\":{\"bgcolor\":\"#E5ECF6\",\"aaxis\":{\"gridcolor\":\"white\",\"linecolor\":\"white\",\"ticks\":\"\"},\"baxis\":{\"gridcolor\":\"white\",\"linecolor\":\"white\",\"ticks\":\"\"},\"caxis\":{\"gridcolor\":\"white\",\"linecolor\":\"white\",\"ticks\":\"\"}},\"coloraxis\":{\"colorbar\":{\"outlinewidth\":0,\"ticks\":\"\"}},\"colorscale\":{\"sequential\":[[0.0,\"#0d0887\"],[0.1111111111111111,\"#46039f\"],[0.2222222222222222,\"#7201a8\"],[0.3333333333333333,\"#9c179e\"],[0.4444444444444444,\"#bd3786\"],[0.5555555555555556,\"#d8576b\"],[0.6666666666666666,\"#ed7953\"],[0.7777777777777778,\"#fb9f3a\"],[0.8888888888888888,\"#fdca26\"],[1.0,\"#f0f921\"]],\"sequentialminus\":[[0.0,\"#0d0887\"],[0.1111111111111111,\"#46039f\"],[0.2222222222222222,\"#7201a8\"],[0.3333333333333333,\"#9c179e\"],[0.4444444444444444,\"#bd3786\"],[0.5555555555555556,\"#d8576b\"],[0.6666666666666666,\"#ed7953\"],[0.7777777777777778,\"#fb9f3a\"],[0.8888888888888888,\"#fdca26\"],[1.0,\"#f0f921\"]],\"diverging\":[[0,\"#8e0152\"],[0.1,\"#c51b7d\"],[0.2,\"#de77ae\"],[0.3,\"#f1b6da\"],[0.4,\"#fde0ef\"],[0.5,\"#f7f7f7\"],[0.6,\"#e6f5d0\"],[0.7,\"#b8e186\"],[0.8,\"#7fbc41\"],[0.9,\"#4d9221\"],[1,\"#276419\"]]},\"xaxis\":{\"gridcolor\":\"white\",\"linecolor\":\"white\",\"ticks\":\"\",\"title\":{\"standoff\":15},\"zerolinecolor\":\"white\",\"automargin\":true,\"zerolinewidth\":2},\"yaxis\":{\"gridcolor\":\"white\",\"linecolor\":\"white\",\"ticks\":\"\",\"title\":{\"standoff\":15},\"zerolinecolor\":\"white\",\"automargin\":true,\"zerolinewidth\":2},\"scene\":{\"xaxis\":{\"backgroundcolor\":\"#E5ECF6\",\"gridcolor\":\"white\",\"linecolor\":\"white\",\"showbackground\":true,\"ticks\":\"\",\"zerolinecolor\":\"white\",\"gridwidth\":2},\"yaxis\":{\"backgroundcolor\":\"#E5ECF6\",\"gridcolor\":\"white\",\"linecolor\":\"white\",\"showbackground\":true,\"ticks\":\"\",\"zerolinecolor\":\"white\",\"gridwidth\":2},\"zaxis\":{\"backgroundcolor\":\"#E5ECF6\",\"gridcolor\":\"white\",\"linecolor\":\"white\",\"showbackground\":true,\"ticks\":\"\",\"zerolinecolor\":\"white\",\"gridwidth\":2}},\"shapedefaults\":{\"line\":{\"color\":\"#2a3f5f\"}},\"annotationdefaults\":{\"arrowcolor\":\"#2a3f5f\",\"arrowhead\":0,\"arrowwidth\":1},\"geo\":{\"bgcolor\":\"white\",\"landcolor\":\"#E5ECF6\",\"subunitcolor\":\"white\",\"showland\":true,\"showlakes\":true,\"lakecolor\":\"white\"},\"title\":{\"x\":0.05},\"mapbox\":{\"style\":\"light\"}}},\"font\":{\"size\":10,\"color\":\"black\"},\"title\":{\"text\":\"Interconnected Sankey Diagram\"},\"width\":1000,\"height\":800},                        {\"responsive\": true}                    ).then(function(){\n",
       "                            \n",
       "var gd = document.getElementById('1095f83f-e0be-490f-a036-d9fd03cf8c9f');\n",
       "var x = new MutationObserver(function (mutations, observer) {{\n",
       "        var display = window.getComputedStyle(gd).display;\n",
       "        if (!display || display === 'none') {{\n",
       "            console.log([gd, 'removed!']);\n",
       "            Plotly.purge(gd);\n",
       "            observer.disconnect();\n",
       "        }}\n",
       "}});\n",
       "\n",
       "// Listen for the removal of the full notebook cells\n",
       "var notebookContainer = gd.closest('#notebook-container');\n",
       "if (notebookContainer) {{\n",
       "    x.observe(notebookContainer, {childList: true});\n",
       "}}\n",
       "\n",
       "// Listen for the clearing of the current output cell\n",
       "var outputEl = gd.closest('.output');\n",
       "if (outputEl) {{\n",
       "    x.observe(outputEl, {childList: true});\n",
       "}}\n",
       "\n",
       "                        })                };                });            </script>        </div>"
      ]
     },
     "metadata": {},
     "output_type": "display_data"
    }
   ],
   "source": [
    "import pandas as pd\n",
    "import plotly.graph_objects as go\n",
    "levels = ['Level_1', 'Level_2', 'Level_3', 'Level_4', 'Level_5']\n",
    "\n",
    "#levels = ['Level_1', 'Level_2', 'Level_3']\n",
    "\n",
    "# Define colors for each level\n",
    "level_colors = {\n",
    "    'Level_1': 'rgba(255, 0, 0, 0.7)',    # Red\n",
    "    'Level_2': 'rgba(0, 255, 0, 0.7)',    # Green\n",
    "    'Level_2_5': 'rgba(0, 0, 255, 0.7)',  # Blue\n",
    "    'Level_3': 'rgba(255, 255, 0, 0.7)',  # Yellow\n",
    "    'Level_4': 'rgba(255, 0, 255, 0.7)',  # Purple\n",
    "    'Level_5': 'rgba(0, 255, 255, 0.7)'   # Cyan\n",
    "}\n",
    "\n",
    "# Initialize dictionaries and data structures\n",
    "node_labels = {}\n",
    "level_counts = {}\n",
    "flows = {}\n",
    "node_x = {}\n",
    "\n",
    "# Calculate counts for each level and store labels\n",
    "for level in levels:\n",
    "    level_counts[level] = adata.obs[level].value_counts()\n",
    "    # Sort the labels based on the order of the index\n",
    "    node_labels[level] = level_counts[level].index.tolist()\n",
    "\n",
    "# Create a Plotly Sankey diagram\n",
    "fig = go.Figure()\n",
    "\n",
    "# Initialize lists to store node labels\n",
    "node_labels_list = []\n",
    "\n",
    "# Initialize lists to store links\n",
    "source_nodes = []\n",
    "target_nodes = []\n",
    "values = []\n",
    "link_labels = []\n",
    "\n",
    "# Loop through each pair of source and target levels\n",
    "for i in range(len(levels) - 1):\n",
    "    source_level = levels[i]\n",
    "    target_level = levels[i + 1]\n",
    "    \n",
    "    # Calculate flow values between levels iteratively\n",
    "    source_counts = level_counts[source_level]\n",
    "    target_counts = level_counts[target_level]\n",
    "    \n",
    "    # Initialize the flow matrix\n",
    "    flow_matrix = pd.DataFrame(index=source_counts.index, columns=target_counts.index, data=0)\n",
    "    \n",
    "    # Calculate flow values based on common cell types\n",
    "    for source_label in source_counts.index:\n",
    "        for target_label in target_counts.index:\n",
    "            common_cells = ((adata.obs[source_level] == source_label) & (adata.obs[target_level] == target_label)).sum()\n",
    "            flow_matrix.loc[source_label, target_label] = common_cells\n",
    "    \n",
    "    flows[(source_level, target_level)] = flow_matrix.values\n",
    "    \n",
    "    # Ensure flow_data is a DataFrame\n",
    "    flow_data = flows[(source_level, target_level)]\n",
    "    source_labels = node_labels[source_level]\n",
    "    target_labels = node_labels[target_level]\n",
    "    flow_matrix = pd.DataFrame(flow_data, index=source_labels, columns=target_labels)\n",
    "    \n",
    "    # Create unique identifiers for nodes\n",
    "    source_node_offset = len(node_labels_list)\n",
    "    target_node_offset = len(node_labels_list) + len(source_labels)\n",
    "    \n",
    "    # Loop through the flow matrix and add links to the list, excluding zero values\n",
    "    for source_label, source_row in flow_matrix.iterrows():\n",
    "        for target_label, flow_value in source_row.items():\n",
    "            if flow_value != 0:\n",
    "                # Define labels with level prefixes\n",
    "                source_node_label = f\"{source_level}_{source_label}\"\n",
    "                target_node_label = f\"{target_level}_{target_label}\"\n",
    "                \n",
    "                # Check if the labels already exist in node_labels_list\n",
    "                if source_node_label not in node_labels_list:\n",
    "                    node_labels_list.append(source_node_label)\n",
    "                if target_node_label not in node_labels_list:\n",
    "                    node_labels_list.append(target_node_label)\n",
    "                \n",
    "                source_node = node_labels_list.index(source_node_label)\n",
    "                target_node = node_labels_list.index(target_node_label)\n",
    "                \n",
    "                source_nodes.append(source_node)\n",
    "                target_nodes.append(target_node)\n",
    "                values.append(flow_value)\n",
    "                link_labels.append(target_label)\n",
    "\n",
    "node_colors = []\n",
    "for node in node_labels_list:\n",
    "    level_key = \"_\".join(node.split('_')[:2])\n",
    "    if level_key == 'Level_2':\n",
    "        if \"_\".join(node.split('_')[:3]) == 'Level_2_5':\n",
    "            node_colors.append(level_colors.get(\"_\".join(node.split('_')[:3]), 'rgba(128, 128, 128, 0.7)'))  # Assign new color for Level_2_5\n",
    "        else:\n",
    "            node_colors.append(level_colors.get(level_key, 'rgba(128, 128, 128, 0.7)'))  # Assign color for Level_2\n",
    "    else:\n",
    "        node_colors.append(level_colors.get(level_key, 'rgba(128, 128, 128, 0.7)'))  # Assign color for other levels\n",
    "\n",
    "cleaned_node_labels = ['_'.join(label.split('_')[2:]) for label in node_labels_list]\n",
    "\n",
    "\n",
    "new_node_labels = ['_'.join(label.split('_')[1:]) if label.startswith('5') else label for label in cleaned_node_labels]\n",
    "\n",
    "\n",
    "# Add the x position to the nodes in the Sankey diagram\n",
    "fig.add_trace(\n",
    "    go.Sankey(\n",
    "        arrangement = 'fixed',\n",
    "        node=dict(\n",
    "            pad=15,\n",
    "            thickness=10,\n",
    "            line=dict(color=\"black\", width=0.3),\n",
    "            label=new_node_labels,\n",
    "            color=node_colors\n",
    "        ),\n",
    "        link=dict(\n",
    "            source=source_nodes,\n",
    "            target=target_nodes,\n",
    "            value=values,\n",
    "            label=link_labels,\n",
    "        ),\n",
    "    )\n",
    ")\n",
    "fig.update_layout(\n",
    "    title='Interconnected Sankey Diagram',\n",
    "    font=dict(size=10, color='black'),\n",
    "\twidth=1000, \n",
    "    height=800,\n",
    "    #2600,2200\n",
    "    #1500,2000\n",
    ")\n",
    "#fig.update_traces(domain_y=list([0,0.5]), selector=dict(type='sankey'))\n",
    "#fig.write_image(\"Sankey_color_1-2-3_hlca.png\")\n",
    "\n",
    "#fig.write_image(\"Sankey_color_final.png\")\n",
    "\n",
    "fig.show()\n",
    "\n",
    "#import pickle\n",
    "#with open('/data/kkovacs/Python/Sankey_final.pkl', 'wb') as file:\n",
    "#    pickle.dump(fig, file)\n",
    "\n",
    "#import pickle\n",
    "#with open('/data/kkovacs/Python/Sankey_1-2-3.pkl', 'wb') as file:\n",
    "#    pickle.dump(fig, file)\n",
    "\n",
    "\n",
    "#with open(file_path, 'rb') as file:\n",
    "#    loaded_fig = pickle.load(file)\n"
   ]
  }
 ],
 "metadata": {
  "kernelspec": {
   "display_name": "Python 3 (ipykernel)",
   "language": "python",
   "name": "python3"
  },
  "language_info": {
   "codemirror_mode": {
    "name": "ipython",
    "version": 3
   },
   "file_extension": ".py",
   "mimetype": "text/x-python",
   "name": "python",
   "nbconvert_exporter": "python",
   "pygments_lexer": "ipython3",
   "version": "3.8.10"
  }
 },
 "nbformat": 4,
 "nbformat_minor": 5
}
