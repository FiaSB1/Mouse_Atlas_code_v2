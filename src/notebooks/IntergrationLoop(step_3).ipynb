{
 "cells": [
  {
   "cell_type": "markdown",
   "id": "de9dfcbf-dedf-4756-8710-d893c9a8fbd0",
   "metadata": {},
   "source": [
    "Start with the same imports as before"
   ]
  },
  {
   "cell_type": "code",
   "execution_count": null,
   "id": "452ef814-2ce1-4902-9229-9a771bf26269",
   "metadata": {},
   "outputs": [],
   "source": [
    "import os\n",
    "os.chdir('/data/kkovacs/Python')\n",
    "import warnings\n",
    "warnings.simplefilter(action='ignore', category=FutureWarning)\n",
    "warnings.simplefilter(action='ignore', category=UserWarning)\n",
    "import scanpy as sc\n",
    "import torch\n",
    "import scarches as sca\n",
    "from scarches.dataset.trvae.data_handling import remove_sparsity\n",
    "import matplotlib.pyplot as plt\n",
    "import matplotlib as mpl\n",
    "import numpy as np\n",
    "import gdown\n",
    "import sankey\n",
    "import anndata\n",
    "import pandas as pd\n",
    "from pySankey.sankey import sankey\n",
    "from matplotlib.pyplot import rc_context\n",
    "sc.settings.set_figure_params(dpi=200, frameon=False)\n",
    "sc.set_figure_params(dpi=200)\n",
    "sc.set_figure_params(figsize=(5, 5))\n",
    "torch.set_printoptions(precision=3, sci_mode=False, edgeitems=12)"
   ]
  },
  {
   "cell_type": "markdown",
   "id": "1c2f44a0-9fd0-483d-a466-5a708f1442ea",
   "metadata": {},
   "source": [
    "Reload all healthy sample objects, those with the 2000 gene subsetted"
   ]
  },
  {
   "cell_type": "code",
   "execution_count": 2,
   "id": "0270fd04-98c7-4dc1-81e1-24c95e520d2c",
   "metadata": {},
   "outputs": [],
   "source": [
    "directory = '/data/kkovacs/Python'"
   ]
  },
  {
   "cell_type": "code",
   "execution_count": 3,
   "id": "c28d5607-9dfb-40bc-a9ff-fe7c0d159292",
   "metadata": {},
   "outputs": [
    {
     "name": "stdout",
     "output_type": "stream",
     "text": [
      "AnnData object with n_obs × n_vars = 28427 × 2000\n",
      "    obs: 'nCount_covid', 'nFeature_covid', 'orig.ident', 'nCount_RNA', 'nFeature_RNA', 'percent.mt', 'CellStatus', 'pANN_0.25_0.09_241', 'DF.classifications_0.25_0.09_241', 'DoubletStatus', 'pANN_0.25_0.09_520', 'DF.classifications_0.25_0.09_520', 'pANN_0.25_0.09_148', 'DF.classifications_0.25_0.09_148', 'pANN_0.25_0.09_368', 'DF.classifications_0.25_0.09_368', 'pANN_0.25_0.09_1110', 'DF.classifications_0.25_0.09_1110', 'pANN_0.25_0.09_33', 'DF.classifications_0.25_0.09_33', 'pANN_0.25_0.09_1015', 'DF.classifications_0.25_0.09_1015', 'nGene', 'nUMI', 'Group', 'res.0', 'res.0.1', 'res.0.2', 'res.0.3', 'res.0.4', 'res.0.5', 'res.0.6', 'res.0.7', 'res.0.8', 'res.0.9', 'res.1', 'seurat_clusters', 'infection', 'Sample.Gender', 'percent.hb', 'percent.rp', 'cluster_labels_res.0.4', 'predicted.classification_Angelidis.score', 'predicted.classification_Angelidis', 'mouseRNA.labels', 'immgen.labels', 'RNA_snn_res.0.3', 'RNA_snn_res.0.4', 'RNA_snn_res.0.5', 'RNA_snn_res.0.6', 'RNA_snn_res.0.7', 'cluster_labels_res.0.4_redone', 'cell_type', 'Mice', 'cell_label_short_0.6', 'nCount_covidneg', 'nFeature_covidneg', 'infection_neg', 'new_cell_type', 'study', 'adding_new', 'sample', 'age', 'sex', 'strain', 'platform', 'Disease'\n",
      "    layers: 'raw'\n"
     ]
    }
   ],
   "source": [
    "covid = sc.read(\"/data/kkovacs/Python/Data/Mouse_Covid_2k_h.h5ad\")\n",
    "copd_covid = sc.read(directory + \"/Data/Mouse_Copd_Covid_2k_h.h5ad\")\n",
    "copd = sc.read(directory + \"/Data/Mouse_Copd_2k_h.h5ad\")\n",
    "age = sc.read(directory + \"/Data/Mouse_Age_2k_h.h5ad\")\n",
    "cssc = sc.read(directory + \"/Data/Mouse_COPD_SHAM_SARSCov2_2k_h.h5ad\")\n",
    "herpes = sc.read(directory + \"/Data/Mouse_Herpesvirus_2k_h.h5ad\")\n",
    "hyper = sc.read(directory + \"/Data/Mouse_Hyperoxia_2k_h.h5ad\")\n",
    "tb = sc.read(directory + \"/Data/Mouse_TB_2k_h.h5ad\")\n",
    "cancer = sc.read(directory + \"/Data/Mouse_Cancer_2k_h.h5ad\")\n",
    "hypo = sc.read(directory + \"/Data/Mouse_Hypoxia_2k_h.h5ad\")\n",
    "rad = sc.read(directory + \"/Data/Mouse_Radiation_2k_h.h5ad\")\n",
    "sendai = sc.read(directory + \"/Data/Mouse_Post_Sendai_2k_h.h5ad\")\n",
    "tumor = sc.read(directory + \"/Data/Mouse_TumorKO_2k_h.h5ad\")\n",
    "fibro = sc.read(directory + \"/Data/Mouse_fibrosis_2k_h.h5ad\")\n",
    "asthma = sc.read(directory + \"/Data/Mouse_asthma_2k_h.h5ad\")\n",
    "fibage = sc.read(directory + \"/Data/Mouse_fibro_age_2k_h.h5ad\")\n",
    "influ = sc.read(directory + \"/Data/Mouse_influenza_2k_h.h5ad\")\n",
    "print(covid)"
   ]
  },
  {
   "cell_type": "markdown",
   "id": "79f31250-20df-4f40-a757-3df13344f1d7",
   "metadata": {},
   "source": [
    "Create a list of all the adata objects"
   ]
  },
  {
   "cell_type": "code",
   "execution_count": 4,
   "id": "b1c22b7d-f840-4ea6-9293-33e87669924c",
   "metadata": {},
   "outputs": [
    {
     "name": "stdout",
     "output_type": "stream",
     "text": [
      "Study: Mouse_Covid - All values are integers.\n",
      "Study: Mouse_Copd_Covid - All values are integers.\n",
      "Study: Mouse_Copd - All values are integers.\n",
      "Study: Mouse_Age - All values are integers.\n",
      "Study: Mouse_COPD_SHAM_SARSCov2 - All values are integers.\n",
      "Study: Mouse_Herpesvirus - All values are integers.\n",
      "Study: Mouse_Hyperoxia - All values are integers.\n",
      "Study: Mouse_TB - All values are integers.\n",
      "Study: Mouse_Cancer - All values are integers.\n",
      "Study: Mouse_Hypoxia - All values are integers.\n",
      "Study: Mouse_Radiation - All values are integers.\n",
      "Study: Mouse_Post_Sendai - All values are integers.\n",
      "Study: Mouse_TumorKO - All values are integers.\n",
      "Study: Mouse_fibrosis - All values are integers.\n",
      "Study: Mouse_asthma - All values are integers.\n",
      "Study: Mouse_fibro_age - All values are integers.\n",
      "Study: Mouse_influenza - All values are integers.\n"
     ]
    }
   ],
   "source": [
    "sets = [covid,copd_covid,copd,age,cssc,herpes,hyper,tb,cancer,hypo,rad,\\\n",
    "\tsendai,tumor,fibro,asthma,fibage,influ]\n",
    "\n",
    "def check_non_integer_values(adatas):\n",
    "    # Loop through each adata object in the list\n",
    "    for idx, adata in enumerate(adatas):\n",
    "        # Assuming adata is an AnnData object\n",
    "        if not isinstance(adata, anndata.AnnData):\n",
    "            raise ValueError(f\"Input at index {idx} is not an AnnData object.\")\n",
    "        study = str(adata.obs['study'].unique()[0])\n",
    "        non_integer_values = np.any(adata.X.data % 1 != 0)\n",
    "        # Print information about non-integer values\n",
    "        if non_integer_values:\n",
    "            print(f\"Study: {study} - Non-integer values found.\")\n",
    "            # Add additional information or actions as needed\n",
    "        else:\n",
    "            print(f\"Study: {study} - All values are integers.\")\n",
    "\n",
    "check_non_integer_values(sets)"
   ]
  },
  {
   "cell_type": "code",
   "execution_count": 5,
   "id": "e79cba6f-fe57-4611-85a5-3396a5dbd55c",
   "metadata": {},
   "outputs": [],
   "source": [
    "adata = [covid,copd_covid,copd,age,cssc,herpes,hyper,\\\n",
    "\ttb,cancer,hypo,rad,sendai,tumor,fibro,asthma,fibage,influ]\n",
    "stages = [covid]\n",
    "FL = []"
   ]
  },
  {
   "cell_type": "markdown",
   "id": "07704dc6-05a4-424a-9377-2f27e2960afe",
   "metadata": {},
   "source": [
    "Using the loop below we identify a condition key and celltype key for each ref and query. These help in the integratoin methods, in which will help split the neighbours up via the cell type key, but also merge as best as possible on the condition key, being the different data studies."
   ]
  },
  {
   "cell_type": "code",
   "execution_count": null,
   "id": "181c9a23-8f0c-46f4-8c26-1a161eea8d6d",
   "metadata": {},
   "outputs": [],
   "source": [
    "for i in range(0,len(adata)-1):\n",
    "\tsource_adata = stages[i]\n",
    "\ttarget_adata = adata[i+1]\n",
    "\tsource_condition_key = 'study'\n",
    "\tsource_cell_type_key = 'cell_type'\n",
    "\ttarget_condition_key = 'study'\n",
    "\ttarget_cell_type_key = 'CellTypes'\n",
    "\tsource_adata =source_adata.copy()\n",
    "\tsca.models.SCVI.setup_anndata(source_adata, batch_key=source_condition_key, labels_key=source_cell_type_key)\n",
    "\tvae = sca.models.SCVI(\n",
    "\t\tsource_adata,\n",
    "\t\tn_layers=2,\n",
    "\t\tencode_covariates=True,\n",
    "\t\tdeeply_inject_covariates=False,\n",
    "\t\tuse_layer_norm=\"both\",\n",
    "\t\tuse_batch_norm=\"none\")\n",
    "\tvae.train(max_epochs=20)\n",
    "\tscanvae = sca.models.SCANVI.from_scvi_model(vae, unlabeled_category = \"Unknown\")\n",
    "\tscanvae.train(max_epochs=20)\n",
    "\treference_latent = sc.AnnData(scanvae.get_latent_representation())\n",
    "\treference_latent.obs[\"cell_type\"] = source_adata.obs[source_cell_type_key].tolist()\n",
    "\treference_latent.obs[\"batch\"] = source_adata.obs[source_condition_key].tolist()\n",
    "\tsc.pp.neighbors(reference_latent)\n",
    "\tsc.tl.leiden(reference_latent)\n",
    "\tsc.tl.umap(reference_latent)\n",
    "\treference_latent.obs['predictions'] = scanvae.predict()\n",
    "\tref_path = 'ref_model_healthy/'\n",
    "\tscanvae.save(ref_path, overwrite=True)"
   ]
  },
  {
   "cell_type": "markdown",
   "id": "0739841e-a4fc-4621-adc7-7b66a822814e",
   "metadata": {},
   "source": [
    "Using SCANVI to create a model based on the reference object, 'covid' we are able to map this model onto our query, which will then be repeated once the both ref and query are concatenated together and looped back through."
   ]
  },
  {
   "cell_type": "code",
   "execution_count": null,
   "id": "578fea19-bb25-49be-a4c0-3e638ad7c4a1",
   "metadata": {},
   "outputs": [],
   "source": [
    "\tmodel = sca.models.SCANVI.load_query_data(\n",
    "\t\ttarget_adata,\n",
    "\t\tref_path,\n",
    "\t\tfreeze_dropout = True)\t\n",
    "\tmodel.train(\n",
    "\t\tmax_epochs=20,\n",
    "\t\tplan_kwargs=dict(weight_decay=0.0),\n",
    "\t\tcheck_val_every_n_epoch=10)\n",
    "\tquery_latent = sc.AnnData(model.get_latent_representation())\n",
    "\tquery_latent.obs['cell_type'] = target_adata.obs[\"CellTypes\"].tolist()\n",
    "\tquery_latent.obs['batch'] = target_adata.obs[target_condition_key].tolist()\n",
    "\tsc.pp.neighbors(query_latent)\n",
    "\tsc.tl.leiden(query_latent)\n",
    "\tsc.tl.umap(query_latent)\n",
    "\tsurgery_path = 'surgery_model_healthy'\n",
    "\tmodel.save(surgery_path, overwrite=True)\n",
    "\tquery_latent.obs['predictions'] = model.predict()"
   ]
  },
  {
   "cell_type": "markdown",
   "id": "22cadffb-5c83-4c0c-8e3b-0ce6bb988340",
   "metadata": {},
   "source": [
    "Once the query has been made of the additional studies, we move onto the combining of the reference and query to make a model of the conjoined studies"
   ]
  },
  {
   "cell_type": "code",
   "execution_count": null,
   "id": "1bd5ae08-5642-4d7e-a270-cc47985c8f51",
   "metadata": {},
   "outputs": [],
   "source": [
    "    adata_full = source_adata.concatenate(target_adata,index_unique=None,join='outer',fill_value=0)\n",
    "\tfull_latent = sc.AnnData(model.get_latent_representation(adata=adata_full))\n",
    "\tfull_latent.obs['cell_type'] = adata_full.obs[source_cell_type_key].tolist()\n",
    "\tfull_latent.obs['batch'] = adata_full.obs[source_condition_key].tolist()\n",
    "\tsc.pp.neighbors(full_latent)\n",
    "\tsc.tl.leiden(full_latent)\n",
    "\tsc.tl.umap(full_latent)\n",
    "\tfull_latent.obs['predictions'] = model.predict(adata=adata_full)\n",
    "\tsc.pp.neighbors(full_latent)\n",
    "\tsc.tl.leiden(full_latent)\n",
    "\tsc.tl.umap(full_latent)\n",
    "\tfull_latent.obs['study'] = adata_full.obs['study'].tolist()\n",
    "\tadata_full.obsm['X_umap'] = full_latent.obsm['X_umap']\n",
    "\tsc.pl.umap(\n",
    "\t\tfull_latent,\n",
    "\t\tcolor=[\"predictions\", \"study\"],\n",
    "\t\tframeon=False,\n",
    "\t\twspace=0.6,\n",
    "\t\tshow = None,\n",
    "\t\tsave = \"healthy_comp_{}.png\".format(i)\n",
    "\t)\n",
    "\tFL.insert(i,full_latent)\n",
    "\tadata_full.obs['predictions']=full_latent.obs['predictions'].tolist()\n",
    "\tadata_full.obs['cell_type']=full_latent.obs['cell_type'].tolist()\n",
    "\tfor col in adata_full.obs.columns:\n",
    "\t\tif pd.api.types.is_object_dtype(adata_full.obs[col]):\n",
    "\t\t\tadata_full.obs[col]=adata_full.obs[col].astype(str)\n",
    "\tstages.insert(i+1,adata_full)"
   ]
  },
  {
   "cell_type": "code",
   "execution_count": null,
   "id": "9c66cd08-21cd-4cca-8cdf-d0871c8d5b31",
   "metadata": {},
   "outputs": [],
   "source": [
    "Full_adata = covid.concatenate(copd_covid,copd,age,cssc,herpes,hyper,\\\n",
    "\ttb,cancer,hypo,rad,sendai,tumor,fibro,asthma,fibage,influ,\\\n",
    "\tindex_unique=None,join='outer',fill_value=0)\n",
    "\n",
    "#creating all gene healthy, sending over all integration data over to all gene object\n",
    "sc.tl.leiden(full_latent, resolution=1, key_added='leiden_1')\n",
    "sc.tl.leiden(full_latent, resolution=2, key_added='leiden_2')\n",
    "sc.tl.leiden(full_latent, resolution=3, key_added='leiden_3')\n",
    "sc.tl.leiden(full_latent, resolution=4, key_added='leiden_4')\n",
    "\n",
    "Full_adata.obsm['X_umap'] = full_latent.obsm['X_umap']\n",
    "\n",
    "Full_adata.obsm['X_MLCA'] = full_latent.X\n",
    "Full_adata.obs['leiden_1'] = full_latent.obs['leiden_1'].copy()\n",
    "Full_adata.obs['leiden_2'] = full_latent.obs['leiden_2'].copy()\n",
    "Full_adata.obs['leiden_3'] = full_latent.obs['leiden_3'].copy()\n",
    "\n",
    "\n",
    "common_genes = set(Full_adata.var_names) & set(full_latent.var_names)\n",
    "\n",
    "Full_adata.var['highly_variable'] = [gene in common_genes for gene in Full_adata.var_names]\n",
    "\n",
    "\n",
    "for col in Full_adata.obs.columns:\n",
    "\tif pd.api.types.is_object_dtype(Full_adata.obs[col]):\n",
    "\t\tFull_adata.obs[col]=Full_adata.obs[col].astype(str)\n",
    "\n",
    "Full_adata.__dict__['_raw'].__dict__['_var'] = Full_adata.__dict__['_raw'].__dict__['_var'].rename(columns={'_index': 'features'})\n",
    "\n",
    "Full_adata.write(directory + \"/Data/Full_adata_h_pre.h5ad\")"
   ]
  },
  {
   "cell_type": "code",
   "execution_count": null,
   "id": "5050f00d-ea13-41da-b78b-e63365ebb057",
   "metadata": {},
   "outputs": [],
   "source": [
    "This is then repeated for the disease sets also. The Healthy set is focused on post \n",
    "integration to ensure definiative celltypes for the diseased to be integrated with"
   ]
  }
 ],
 "metadata": {
  "kernelspec": {
   "display_name": "Python 3 (ipykernel)",
   "language": "python",
   "name": "python3"
  },
  "language_info": {
   "codemirror_mode": {
    "name": "ipython",
    "version": 3
   },
   "file_extension": ".py",
   "mimetype": "text/x-python",
   "name": "python",
   "nbconvert_exporter": "python",
   "pygments_lexer": "ipython3",
   "version": "3.8.10"
  }
 },
 "nbformat": 4,
 "nbformat_minor": 5
}
