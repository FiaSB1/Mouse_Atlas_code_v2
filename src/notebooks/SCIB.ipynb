{
 "cells": [
  {
   "cell_type": "code",
   "execution_count": 3,
   "id": "0b19f6a3-db40-4938-b59e-1bf73ab40d8d",
   "metadata": {},
   "outputs": [],
   "source": [
    "#SCIB scripts\n",
    "\n",
    "import os\n",
    "os.chdir('/data/kkovacs/Python')\n",
    "import warnings\n",
    "warnings.simplefilter(action='ignore', category=FutureWarning)\n",
    "warnings.simplefilter(action='ignore', category=UserWarning)\n",
    "import scanpy as sc\n",
    "import copy\n",
    "import torch\n",
    "import scarches as sca\n",
    "from scarches.dataset.trvae.data_handling import remove_sparsity\n",
    "import matplotlib.pyplot as plt\n",
    "import matplotlib as mpl\n",
    "import numpy as np\n",
    "import gdown\n",
    "import sankey\n",
    "import anndata\n",
    "import pandas as pd\n",
    "from pySankey.sankey import sankey\n",
    "from matplotlib.pyplot import rc_context\n",
    "import scib\n",
    "#unable to import SAUCIE due to version issues\n",
    "\n",
    "import warnings\n",
    "warnings.filterwarnings(\"ignore\")\n",
    "#Doing this only output convenience "
   ]
  },
  {
   "cell_type": "code",
   "execution_count": 3,
   "id": "f0eed007-f149-425b-95dd-7075e8f46931",
   "metadata": {},
   "outputs": [
    {
     "name": "stdout",
     "output_type": "stream",
     "text": [
      "[3. 3. 2. 2. 1. 1. 3. ... 1. 3. 8. 1. 1. 1. 1.]\n"
     ]
    },
    {
     "data": {
      "text/plain": [
       "(174977, 43519)"
      ]
     },
     "execution_count": 3,
     "metadata": {},
     "output_type": "execute_result"
    }
   ],
   "source": [
    "adata = sc.read(\"/data/kkovacs/Python/Data/Full_corrected_counts_and_genes_post_filtering.h5ad\")\n",
    "#Using the healthy controls to test the scores\n",
    "adata.X.data = adata.layers['raw'].data.copy()\n",
    "\n",
    "#Creating new metadata in accordance with SCIB variables\n",
    "adata.obs['cluster'] = adata.obs['clusters_1']\n",
    "adata.obs['celltype'] = adata.obs['clust']\n",
    "adata.obs['batch'] = adata.obs['study']\n",
    "adata.layers['counts'] = adata.layers['raw']\n",
    "\n",
    "print(adata.X.data)\n",
    "adata.shape"
   ]
  },
  {
   "cell_type": "code",
   "execution_count": 9,
   "id": "e3ffe98b-f5a4-46b8-9200-1798b5bdcbe5",
   "metadata": {},
   "outputs": [
    {
     "name": "stdout",
     "output_type": "stream",
     "text": [
      "WARNING: adata.X seems to be already log-transformed.\n"
     ]
    }
   ],
   "source": [
    "adata.var['highly_variable_2k'] = adata.var['highly_variable']\n",
    "\n",
    "adata.var['highly_variable_2k'].value_counts()\n",
    "\n",
    "adata.layers['raw'] = adata.X.copy()\n",
    "sc.pp.normalize_total(adata, target_sum=1e4)\n",
    "sc.pp.log1p(adata)\n",
    "adata.raw = adata\n",
    "adata.layers['norm'] = adata.X.copy()"
   ]
  },
  {
   "cell_type": "code",
   "execution_count": 10,
   "id": "3cb5d777-1412-4fe7-952e-0f80b3fab4fe",
   "metadata": {},
   "outputs": [
    {
     "data": {
      "text/plain": [
       "highly_variable\n",
       "False    37519\n",
       "True      6000\n",
       "Name: count, dtype: int64"
      ]
     },
     "execution_count": 10,
     "metadata": {},
     "output_type": "execute_result"
    }
   ],
   "source": [
    "sc.pp.highly_variable_genes(adata, batch_key=\"study\",min_mean=0.03, flavor=\"cell_ranger\",n_top_genes=6000)\n",
    "adata.var['highly_variable'].value_counts()"
   ]
  },
  {
   "cell_type": "code",
   "execution_count": 24,
   "id": "6d0af9b3-8acf-4b79-b3dd-e44a6bb10e49",
   "metadata": {},
   "outputs": [],
   "source": [
    "#When the SCIB script is run, there were some issues where the replicated objects seemed linked through \n",
    "#the process and had created dupliacted results, when one had not be run through the process\n",
    "\n",
    "#this script is just used to re-run the adata object and return to the correct point\n",
    "\n",
    "def ReRunAdata(HVG,scaled):\n",
    "\tadata = sc.read(\"/data/kkovacs/Python/Data/MLCA_healthy.h5ad\")\n",
    "\tadata = adata[:,HVG]\n",
    "\tadata.obs['cluster'] = adata.obs['clusters_1']\n",
    "\tadata.obs['celltype'] = adata.obs['clust']\n",
    "\tadata.obs['batch'] = adata.obs['study']\n",
    "\tif scaled == True:\n",
    "\t\tadata.layers['counts'] = adata.layers['raw']\n",
    "\t\tsc.pp.normalize_total(adata)\n",
    "\t\tsc.pp.scale(adata)\n",
    "\t\tsc.tl.pca(adata)\n",
    "\t\tsc.pp.neighbors(adata)\n",
    "\telse:\n",
    "\t\tadata.layers['counts'] = adata.layers['raw']\n",
    "\t\tsc.pp.normalize_total(adata)\n",
    "\t\tsc.tl.pca(adata)\n",
    "\t\tsc.pp.neighbors(adata)\n",
    "\treturn(adata)"
   ]
  },
  {
   "cell_type": "code",
   "execution_count": 25,
   "id": "ba47b558-41e1-41f4-a904-f3212d869060",
   "metadata": {},
   "outputs": [],
   "source": [
    "#This is the same as above but only for SCVI and SCANVI run throughs as they only require raw counts\n",
    "def ReRunAdata_SC(HVG):\n",
    "\tadata = sc.read(\"/data/kkovacs/Python/Data/MLCA_healthy.h5ad\")\n",
    "\tadata = adata[:,HVG]\n",
    "\tadata.obs['cluster'] = adata.obs['clusters_1']\n",
    "\tadata.obs['celltype'] = adata.obs['clust']\n",
    "\tadata.obs['batch'] = adata.obs['study']\n",
    "\tadata.layers['counts'] = adata.layers['raw']\n",
    "\tsc.tl.pca(adata)\n",
    "\tsc.pp.neighbors(adata)\n",
    "\treturn(adata)"
   ]
  },
  {
   "cell_type": "code",
   "execution_count": 15,
   "id": "56ddf6ff-8def-4952-81d5-d99c11406a64",
   "metadata": {},
   "outputs": [
    {
     "data": {
      "text/plain": [
       "highly_variable\n",
       "False    41519\n",
       "True      2000\n",
       "Name: count, dtype: int64"
      ]
     },
     "execution_count": 15,
     "metadata": {},
     "output_type": "execute_result"
    }
   ],
   "source": [
    "healthy.var['highly_variable'].value_counts()"
   ]
  },
  {
   "cell_type": "code",
   "execution_count": 18,
   "id": "170734fb-05f4-4f3e-8cb8-b1bc1aa1e2d9",
   "metadata": {},
   "outputs": [
    {
     "name": "stdout",
     "output_type": "stream",
     "text": [
      "WARNING: adata.X seems to be already log-transformed.\n"
     ]
    },
    {
     "data": {
      "text/plain": [
       "highly_variable\n",
       "False    37519\n",
       "True      6000\n",
       "Name: count, dtype: int64"
      ]
     },
     "execution_count": 18,
     "metadata": {},
     "output_type": "execute_result"
    }
   ],
   "source": [
    "adata.var['2k_highly_variable'] = adata.var['highly_variable']\n",
    "sc.pp.normalize_total(adata, target_sum=1e4)\n",
    "sc.pp.log1p(adata)\n",
    "sc.pp.highly_variable_genes(adata, min_mean=0.0125, max_mean=3, min_disp=0.5,span=0.3,n_bins=20)\n",
    "sc.pp.highly_variable_genes(adata,n_top_genes=6000)\n",
    "\n",
    "adata.var['2k_highly_variable'].value_counts()\n",
    "adata.var['highly_variable'].value_counts()\n",
    "\n",
    "#CHANGE THESE HVG TO LISTS TO PUT IN CSV FILES"
   ]
  },
  {
   "cell_type": "code",
   "execution_count": 19,
   "id": "42847b32-77c5-4a0b-bdfc-79f14641ff39",
   "metadata": {},
   "outputs": [],
   "source": [
    "SixK = adata.var_names[adata.var['highly_variable']]\n",
    "twoK = adata.var_names[adata.var['highly_variable_2k']]\n",
    "\n",
    "#Trajectory was turned to false to prevent errors, was not used in HLCA either\n",
    "\n",
    "def runScib_SCANVI():\n",
    "\tadata = ReRunAdata_SC(SixK)\n",
    "\tadata = adata[:,SixK]\n",
    "\tsc.tl.pca(adata)\n",
    "\tsc.pp.neighbors(adata)\n",
    "\tscib.me.cluster_optimal_resolution(adata, cluster_key=\"cluster\",\\\n",
    "\t\tlabel_key=\"batch\")\n",
    "\tadata_int = scib.ig.scanvi(adata, batch=\"batch\",labels = 'celltype')\n",
    "\tsc.pp.neighbors(adata_int, use_rep=\"X_emb\")\n",
    "\tscib.me.cluster_optimal_resolution(adata_int, cluster_key=\"cluster\", label_key=\"celltype\")\n",
    "\tscib.pp.reduce_data(adata_int, n_top_genes=6000, batch_key=\"batch\", use_rep = 'X_emb', pca=False, neighbors=True)\n",
    "\tadata = ReRunAdata_SC(SixK)\n",
    "\tscore = scib.metrics.metrics(adata, adata_int, batch_key = 'batch', \n",
    "\t\tlabel_key = 'celltype',embed='X_pca', cluster_key='cluster', cluster_nmi=None,\n",
    "\t\tari_=True, nmi_=True, nmi_method='arithmetic', nmi_dir=True, \n",
    "\t\tsilhouette_=True, si_metric='euclidean', pcr_=True, cell_cycle_=True, \n",
    "\t\torganism='mouse', hvg_score_=False, isolated_labels_=True, \n",
    "\t\tisolated_labels_f1_=True, isolated_labels_asw_=True, \n",
    "\t\tn_isolated=None, graph_conn_=True, trajectory_=False, \n",
    "\t\tkBET_=True, lisi_graph_=True, ilisi_=True, clisi_=True, \n",
    "\t\tsubsample=0.5, n_cores=5, type_=None, verbose=Fals)\n",
    "\tadata = ReRunAdata_SC(twoK)\n",
    "\tscib.me.cluster_optimal_resolution(adata, cluster_key=\"cluster\",\\\n",
    "\t\tlabel_key=\"batch\")\n",
    "\tadata.layers['counts'] = adata.layers['raw']\n",
    "\tadata_int = scib.ig.scanvi(adata, batch=\"batch\",labels='celltype')\n",
    "\tsc.pp.neighbors(adata_int, use_rep=\"X_emb\")\n",
    "\tscib.me.cluster_optimal_resolution(adata_int, cluster_key=\"cluster\", label_key=\"celltype\")\n",
    "\tscib.pp.reduce_data(adata_int, n_top_genes=2000, batch_key=\"batch\", use_rep = 'X_emb', pca=False, neighbors=True)\n",
    "\tadata = ReRunAdata_SC(twoK)\n",
    "\tscore_2k = scib.metrics.metrics(adata, adata_int, batch_key = 'batch', \n",
    "\t\tlabel_key = 'celltype',embed='X_pca', cluster_key='cluster', cluster_nmi=None,\n",
    "\t\tari_=True, nmi_=True, nmi_method='arithmetic', nmi_dir=True, \n",
    "\t\tsilhouette_=True, si_metric='euclidean', pcr_=True, cell_cycle_=True, \n",
    "\t\torganism='mouse', hvg_score_=False, isolated_labels_=True, \n",
    "\t\tisolated_labels_f1_=True, isolated_labels_asw_=True, \n",
    "\t\tn_isolated=None, graph_conn_=True, trajectory_=False, \n",
    "\t\tkBET_=True, lisi_graph_=True, ilisi_=True, clisi_=True, \n",
    "\t\tsubsample=0.5, n_cores=5, type_=None, verbose=False)\n",
    "\tscore_2k.to_csv('/data/kkovacs/Python/score_scanvi_2k.csv')\n",
    "\t\n",
    "\treturn(adata)"
   ]
  },
  {
   "cell_type": "code",
   "execution_count": 20,
   "id": "082f97ae-75af-4012-906e-682dd174df9e",
   "metadata": {},
   "outputs": [],
   "source": [
    "\n",
    "def runScib_SCVI():\n",
    "\tadata = ReRunAdata_SC(SixK)\n",
    "\tadata = adata[:,SixK]\n",
    "\tsc.tl.pca(adata)\n",
    "\tsc.pp.neighbors(adata)\n",
    "\tscib.me.cluster_optimal_resolution(adata, cluster_key=\"cluster\",\\\n",
    "\t\tlabel_key=\"batch\")\n",
    "\tadata_int = scib.ig.scvi(adata, batch=\"batch\")\n",
    "\tsc.pp.neighbors(adata_int, use_rep=\"X_emb\")\n",
    "\tscib.me.cluster_optimal_resolution(adata_int, cluster_key=\"cluster\", label_key=\"celltype\")\n",
    "\tscib.pp.reduce_data(adata_int, n_top_genes=6000, batch_key=\"batch\", use_rep = 'X_emb', pca=False, neighbors=True)\n",
    "\tadata = ReRunAdata_SC(SixK)\n",
    "\tscore = scib.metrics.metrics(adata, adata_int, batch_key = 'batch', \n",
    "\t\tlabel_key = 'celltype',embed='X_pca', cluster_key='cluster', cluster_nmi=None,\n",
    "\t\tari_=True, nmi_=True, nmi_method='arithmetic', nmi_dir=True, \n",
    "\t\tsilhouette_=True, si_metric='euclidean', pcr_=True, cell_cycle_=True, \n",
    "\t\torganism='mouse', hvg_score_=False, isolated_labels_=True, \n",
    "\t\tisolated_labels_f1_=True, isolated_labels_asw_=True, \n",
    "\t\tn_isolated=None, graph_conn_=True, trajectory_=False, \n",
    "\t\tkBET_=True, lisi_graph_=True, ilisi_=True, clisi_=True, \n",
    "\t\tsubsample=0.5, n_cores=5, type_=None, verbose=False)\n",
    "\tscore.to_csv('/data/kkovacs/Python/score_scvi_6k.csv')\n",
    "\tadata = ReRunAdata_SC(twoK)\n",
    "\tscib.me.cluster_optimal_resolution(adata, cluster_key=\"cluster\",\\\n",
    "\t\tlabel_key=\"batch\")\n",
    "\tadata.layers['counts'] = adata.layers['raw']\n",
    "\tadata_int = scib.ig.scvi(adata, batch=\"batch\")\n",
    "\tsc.pp.neighbors(adata_int, use_rep=\"X_emb\")\n",
    "\tscib.me.cluster_optimal_resolution(adata_int, cluster_key=\"cluster\", label_key=\"celltype\")\n",
    "\tscib.pp.reduce_data(adata_int, n_top_genes=2000, batch_key=\"batch\", use_rep = 'X_emb', pca=False, neighbors=True)\n",
    "\tadata = ReRunAdata_SC(twoK)\n",
    "\tscore_2k = scib.metrics.metrics(adata, adata_int, batch_key = 'batch', \n",
    "\t\tlabel_key = 'celltype',embed='X_pca', cluster_key='cluster', cluster_nmi=None,\n",
    "\t\tari_=True, nmi_=True, nmi_method='arithmetic', nmi_dir=True, \n",
    "\t\tsilhouette_=True, si_metric='euclidean', pcr_=True, cell_cycle_=True, \n",
    "\t\torganism='mouse', hvg_score_=False, isolated_labels_=True, \n",
    "\t\tisolated_labels_f1_=True, isolated_labels_asw_=True, \n",
    "\t\tn_isolated=None, graph_conn_=True, trajectory_=False, \n",
    "\t\tkBET_=True, lisi_graph_=True, ilisi_=True, clisi_=True, \n",
    "\t\tsubsample=0.5, n_cores=5, type_=None, verbose=False)\n",
    "\tscore_2k.to_csv('/data/kkovacs/Python/score_scvi_2k.csv')\n",
    "\t\n",
    "\treturn adata"
   ]
  },
  {
   "cell_type": "code",
   "execution_count": 21,
   "id": "08bed22d-2512-49cb-9443-d5ca5e26a845",
   "metadata": {},
   "outputs": [],
   "source": [
    "\n",
    "def runScib_Non_raw(method):\n",
    "\tadata = ReRunAdata(sixk,False)\n",
    "\tscib.me.cluster_optimal_resolution(adata, cluster_key=\"cluster\",\\\n",
    "\t\tlabel_key=\"batch\")\n",
    "\tadata_int = getattr(scib.ig, method)(adata,batch='batch')\n",
    "\tadata_int.uns = adata.uns.copy()\n",
    "\tadata_int.obsp = adata.obsp.copy()\n",
    "\tadata_int.layers = adata.layers.copy()\n",
    "\tif 'X_emb' in adata_int.obsm:\n",
    "\t\tsc.pp.neighbors(adata_int, use_rep = 'X_emb')\n",
    "\t\tscib.me.cluster_optimal_resolution(adata_int, cluster_key=\"cluster\", label_key=\"celltype\")\n",
    "\t\tscib.pp.reduce_data(adata_int, n_top_genes=6000, batch_key=\"batch\", use_rep = 'X_emb', pca=False, neighbors=True)\n",
    "\telse:\n",
    "\t\tsc.tl.pca(adata_int)\n",
    "\t\tsc.pp.neighbors(adata_int)\n",
    "\t\tscib.me.cluster_optimal_resolution(adata_int, cluster_key=\"cluster\", label_key=\"celltype\")\n",
    "\t\tscib.pp.reduce_data(adata_int, n_top_genes=6000, batch_key=\"batch\", pca=True, neighbors=True)\n",
    "\tadata = ReRunAdata(sixk,False)\n",
    "\tscore_2k = scib.metrics.metrics(adata, adata_int, batch_key = 'batch', \n",
    "\t\tlabel_key = 'celltype',embed='X_pca', cluster_key='cluster', cluster_nmi=None,\n",
    "\t\tari_=True, nmi_=True, nmi_method='arithmetic', nmi_dir=True, \n",
    "\t\tsilhouette_=True, si_metric='euclidean', pcr_=True, cell_cycle_=True, \n",
    "\t\torganism='mouse', hvg_score_=False, isolated_labels_=True, \n",
    "\t\tisolated_labels_f1_=True, isolated_labels_asw_=True, \n",
    "\t\tn_isolated=None, graph_conn_=True, trajectory_=False, \n",
    "\t\tkBET_=True, lisi_graph_=True, ilisi_=True, clisi_=True, \n",
    "\t\tsubsample=0.5, n_cores=5, type_=None, verbose=False)\n",
    "\tscore_2k.to_csv('/data/kkovacs/Python/score_{}_6k_unscaled.csv'.format(method))\n",
    "\t\t#####\n",
    "\tadata = ReRunAdata(twoK,True)\n",
    "\tscib.me.cluster_optimal_resolution(adata, cluster_key=\"cluster\",\\\n",
    "\t\tlabel_key=\"batch\")\n",
    "\tadata_int = getattr(scib.ig, method)(adata,batch='batch')\n",
    "\tadata_int.uns = adata.uns.copy()\n",
    "\tadata_int.obsp = adata.obsp.copy()\n",
    "\tadata_int.layers = adata.layers.copy()\n",
    "\tif 'X_emb' in adata_int.obsm:\n",
    "\t\tsc.pp.neighbors(adata_int, use_rep = 'X_emb')\n",
    "\t\tscib.me.cluster_optimal_resolution(adata_int, cluster_key=\"cluster\", label_key=\"celltype\")\n",
    "\t\tscib.pp.reduce_data(adata_int, n_top_genes=6000, batch_key=\"batch\", use_rep = 'X_emb', pca=False, neighbors=True)\n",
    "\telse:\n",
    "\t\tsc.tl.pca(adata_int)\n",
    "\t\tsc.pp.neighbors(adata_int)\n",
    "\t\tscib.me.cluster_optimal_resolution(adata_int, cluster_key=\"cluster\", label_key=\"celltype\")\n",
    "\t\tscib.pp.reduce_data(adata_int, n_top_genes=6000, batch_key=\"batch\", pca=True, neighbors=True)\n",
    "\tadata = ReRunAdata(twoK,True)\n",
    "\tscore = scib.metrics.metrics(adata, adata_int, batch_key = 'batch', \n",
    "\t\tlabel_key = 'celltype',embed='X_pca', cluster_key='cluster', cluster_nmi=None,\n",
    "\t\tari_=True, nmi_=True, nmi_method='arithmetic', nmi_dir=True, \n",
    "\t\tsilhouette_=True, si_metric='euclidean', pcr_=True, cell_cycle_=True, \n",
    "\t\torganism='mouse', hvg_score_=False, isolated_labels_=True, \n",
    "\t\tisolated_labels_f1_=True, isolated_labels_asw_=True, \n",
    "\t\tn_isolated=None, graph_conn_=True, trajectory_=False, \n",
    "\t\tkBET_=True, lisi_graph_=True, ilisi_=True, clisi_=True, \n",
    "\t\tsubsample=0.5, n_cores=5, type_=None, verbose=False)\n",
    "\tscore.to_csv('/data/kkovacs/Python/score_{}_2k_scaled.csv'.format(method))\n",
    "\tadata = ReRunAdata(twoK,False)\n",
    "\tscib.me.cluster_optimal_resolution(adata, cluster_key=\"cluster\",\\\n",
    "\t\tlabel_key=\"batch\")\n",
    "\tadata_int = getattr(scib.ig, method)(adata,batch='batch')\n",
    "\tadata_int.uns = adata.uns.copy()\n",
    "\tadata_int.obsp = adata.obsp.copy()\n",
    "\tadata_int.layers = adata.layers.copy()\n",
    "\tif 'X_emb' in adata_int.obsm:\n",
    "\t\tsc.pp.neighbors(adata_int, use_rep = 'X_emb')\n",
    "\t\tscib.me.cluster_optimal_resolution(adata_int, cluster_key=\"cluster\", label_key=\"celltype\")\n",
    "\t\tscib.pp.reduce_data(adata_int, n_top_genes=2000, batch_key=\"batch\", use_rep = 'X_emb', pca=False, neighbors=True)\n",
    "\telse:\n",
    "\t\tsc.tl.pca(adata_int)\n",
    "\t\tsc.pp.neighbors(adata_int)\n",
    "\t\tscib.me.cluster_optimal_resolution(adata_int, cluster_key=\"cluster\", label_key=\"celltype\")\n",
    "\t\tscib.pp.reduce_data(adata_int, n_top_genes=2000, batch_key=\"batch\", pca=True, neighbors=True)\n",
    "\tadata = ReRunAdata(twoK,False)\n",
    "\tscore_2k = scib.metrics.metrics(adata, adata_int, batch_key = 'batch', \n",
    "\t\tlabel_key = 'celltype',embed='X_pca', cluster_key='cluster', cluster_nmi=None,\n",
    "\t\tari_=True, nmi_=True, nmi_method='arithmetic', nmi_dir=True, \n",
    "\t\tsilhouette_=True, si_metric='euclidean', pcr_=True, cell_cycle_=True, \n",
    "\t\torganism='mouse', hvg_score_=False, isolated_labels_=True, \n",
    "\t\tisolated_labels_f1_=True, isolated_labels_asw_=True, \n",
    "\t\tn_isolated=None, graph_conn_=True, trajectory_=False, \n",
    "\t\tkBET_=True, lisi_graph_=True, ilisi_=True, clisi_=True, \n",
    "\t\tsubsample=0.5, n_cores=5, type_=None, verbose=False)\n",
    "\tscore_2k.to_csv('/data/kkovacs/Python/score_{}_2k_unscaled.csv'.format(method))\n",
    "\treturn adata"
   ]
  },
  {
   "cell_type": "code",
   "execution_count": 22,
   "id": "dc2b6d9d-594a-4603-8805-471fda9d44fa",
   "metadata": {},
   "outputs": [],
   "source": [
    "def runScib_Non_raw_scanorama(method):\n",
    "\tadata = ReRunAdata(SixK,True)\n",
    "\tscib.me.cluster_optimal_resolution(adata, cluster_key=\"cluster\",\\\n",
    "\t\tlabel_key=\"batch\")\n",
    "\tadata_int = getattr(scib.ig, method)(adata,batch='batch')\n",
    "\tadata_int.uns = adata.uns.copy()\n",
    "\tadata_int.obsp = adata.obsp.copy()\n",
    "\tadata_int.layers = adata.layers.copy()\n",
    "\tif 'X_emb' in adata_int.obsm:\n",
    "\t\tsc.pp.neighbors(adata_int, use_rep = 'X_emb')\n",
    "\t\tscib.me.cluster_optimal_resolution(adata_int, cluster_key=\"cluster\", label_key=\"celltype\")\n",
    "\t\tscib.pp.reduce_data(adata_int, n_top_genes=6000, batch_key=\"batch\", use_rep = 'X_emb', pca=False, neighbors=True)\n",
    "\telse:\n",
    "\t\tsc.tl.pca(adata_int)\n",
    "\t\tsc.pp.neighbors(adata_int)\n",
    "\t\tscib.me.cluster_optimal_resolution(adata_int, cluster_key=\"cluster\", label_key=\"celltype\")\n",
    "\t\tscib.pp.reduce_data(adata_int, n_top_genes=6000, batch_key=\"batch\", pca=True, neighbors=True)\n",
    "\tadata = ReRunAdata(SixK,True)\n",
    "\tscore = scib.metrics.metrics(adata, adata_int, batch_key = 'batch', \n",
    "\t\tlabel_key = 'celltype',embed='X_pca', cluster_key='cluster', cluster_nmi=None,\n",
    "\t\tari_=True, nmi_=True, nmi_method='arithmetic', nmi_dir=True, \n",
    "\t\tsilhouette_=True, si_metric='euclidean', pcr_=True, cell_cycle_=True, \n",
    "\t\torganism='mouse', hvg_score_=False, isolated_labels_=True, \n",
    "\t\tisolated_labels_f1_=True, isolated_labels_asw_=True, \n",
    "\t\tn_isolated=None, graph_conn_=True, trajectory_=False, \n",
    "\t\tkBET_=True, lisi_graph_=True, ilisi_=True, clisi_=True, \n",
    "\t\tsubsample=0.5, n_cores=5, type_=None, verbose=False)\n",
    "\tscore.to_csv('/data/kkovacs/Python/score_{}_6k_scaled.csv'.format(method))\n",
    "\tadata = ReRunAdata(SixK,False)\n",
    "\tscib.me.cluster_optimal_resolution(adata, cluster_key=\"cluster\",\\\n",
    "\t\tlabel_key=\"batch\")\n",
    "\tadata_int = getattr(scib.ig, method)(adata,batch='batch')\n",
    "\tadata_int.uns = adata.uns.copy()\n",
    "\tadata_int.obsp = adata.obsp.copy()\n",
    "\tadata_int.layers = adata.layers.copy()\n",
    "\tif 'X_emb' in adata_int.obsm:\n",
    "\t\tsc.pp.neighbors(adata_int, use_rep = 'X_emb')\n",
    "\t\tscib.me.cluster_optimal_resolution(adata_int, cluster_key=\"cluster\", label_key=\"celltype\")\n",
    "\t\tscib.pp.reduce_data(adata_int, n_top_genes=6000, batch_key=\"batch\", use_rep = 'X_emb', pca=False, neighbors=True)\n",
    "\telse:\n",
    "\t\tsc.tl.pca(adata_int)\n",
    "\t\tsc.pp.neighbors(adata_int)\n",
    "\t\tscib.me.cluster_optimal_resolution(adata_int, cluster_key=\"cluster\", label_key=\"celltype\")\n",
    "\t\tscib.pp.reduce_data(adata_int, n_top_genes=6000, batch_key=\"batch\", pca=True, neighbors=True)\n",
    "\tadata = ReRunAdata(SixK,False)\n",
    "\tscore_2k = scib.metrics.metrics(adata, adata_int, batch_key = 'batch', \n",
    "\t\tlabel_key = 'celltype',embed='X_pca', cluster_key='cluster', cluster_nmi=None,\n",
    "\t\tari_=True, nmi_=True, nmi_method='arithmetic', nmi_dir=True, \n",
    "\t\tsilhouette_=True, si_metric='euclidean', pcr_=True, cell_cycle_=True, \n",
    "\t\torganism='mouse', hvg_score_=False, isolated_labels_=True, \n",
    "\t\tisolated_labels_f1_=True, isolated_labels_asw_=True, \n",
    "\t\tn_isolated=None, graph_conn_=True, trajectory_=False, \n",
    "\t\tkBET_=True, lisi_graph_=True, ilisi_=True, clisi_=True, \n",
    "\t\tsubsample=0.5, n_cores=5, type_=None, verbose=False)\n",
    "\tscore_2k.to_csv('/data/kkovacs/Python/score_{}_6k_unscaled.csv'.format(method))\n",
    "\t\t#####\n",
    "\tadata = ReRunAdata(twoK,True)\n",
    "\tscib.me.cluster_optimal_resolution(adata, cluster_key=\"cluster\",\\\n",
    "\t\tlabel_key=\"batch\")\n",
    "\tadata_int = getattr(scib.ig, method)(adata,batch='batch')\n",
    "\tadata_int.uns = adata.uns.copy()\n",
    "\tadata_int.obsp = adata.obsp.copy()\n",
    "\tadata_int.layers = adata.layers.copy()\n",
    "\tif 'X_emb' in adata_int.obsm:\n",
    "\t\tsc.pp.neighbors(adata_int, use_rep = 'X_emb')\n",
    "\t\tscib.me.cluster_optimal_resolution(adata_int, cluster_key=\"cluster\", label_key=\"celltype\")\n",
    "\t\tscib.pp.reduce_data(adata_int, n_top_genes=2000, batch_key=\"batch\", use_rep = 'X_emb', pca=False, neighbors=True)\n",
    "\telse:\n",
    "\t\tsc.tl.pca(adata_int)\n",
    "\t\tsc.pp.neighbors(adata_int)\n",
    "\t\tscib.me.cluster_optimal_resolution(adata_int, cluster_key=\"cluster\", label_key=\"celltype\")\n",
    "\t\tscib.pp.reduce_data(adata_int, n_top_genes=2000, batch_key=\"batch\", pca=True, neighbors=True)\n",
    "\tadata = ReRunAdata(twoK,True)\n",
    "\tscore = scib.metrics.metrics(adata, adata_int, batch_key = 'batch', \n",
    "\t\tlabel_key = 'celltype',embed='X_pca', cluster_key='cluster', cluster_nmi=None,\n",
    "\t\tari_=True, nmi_=True, nmi_method='arithmetic', nmi_dir=True, \n",
    "\t\tsilhouette_=True, si_metric='euclidean', pcr_=True, cell_cycle_=True, \n",
    "\t\torganism='mouse', hvg_score_=False, isolated_labels_=True, \n",
    "\t\tisolated_labels_f1_=True, isolated_labels_asw_=True, \n",
    "\t\tn_isolated=None, graph_conn_=True, trajectory_=False, \n",
    "\t\tkBET_=True, lisi_graph_=True, ilisi_=True, clisi_=True, \n",
    "\t\tsubsample=0.5, n_cores=5, type_=None, verbose=False)\n",
    "\tscore.to_csv('/data/kkovacs/Python/score_{}_2k_scaled.csv'.format(method))\n",
    "\tadata = ReRunAdata(twoK,False)\n",
    "\tscib.me.cluster_optimal_resolution(adata, cluster_key=\"cluster\",\\\n",
    "\t\tlabel_key=\"batch\")\n",
    "\tadata_int = getattr(scib.ig, method)(adata,batch='batch')\n",
    "\tadata_int.uns = adata.uns.copy()\n",
    "\tadata_int.obsp = adata.obsp.copy()\n",
    "\tadata_int.layers = adata.layers.copy()\n",
    "\tif 'X_emb' in adata_int.obsm:\n",
    "\t\tsc.pp.neighbors(adata_int, use_rep = 'X_emb')\n",
    "\t\tscib.me.cluster_optimal_resolution(adata_int, cluster_key=\"cluster\", label_key=\"celltype\")\n",
    "\t\tscib.pp.reduce_data(adata_int, n_top_genes=2000, batch_key=\"batch\", use_rep = 'X_emb', pca=False, neighbors=True)\n",
    "\telse:\n",
    "\t\tsc.tl.pca(adata_int)\n",
    "\t\tsc.pp.neighbors(adata_int)\n",
    "\t\tscib.me.cluster_optimal_resolution(adata_int, cluster_key=\"cluster\", label_key=\"celltype\")\n",
    "\t\tscib.pp.reduce_data(adata_int, n_top_genes=2000, batch_key=\"batch\", pca=True, neighbors=True)\n",
    "\tadata = ReRunAdata(twoK,False)\n",
    "\tscore_2k = scib.metrics.metrics(adata, adata_int, batch_key = 'batch', \n",
    "\t\tlabel_key = 'celltype',embed='X_pca', cluster_key='cluster', cluster_nmi=None,\n",
    "\t\tari_=True, nmi_=True, nmi_method='arithmetic', nmi_dir=True, \n",
    "\t\tsilhouette_=True, si_metric='euclidean', pcr_=True, cell_cycle_=True, \n",
    "\t\torganism='mouse', hvg_score_=False, isolated_labels_=True, \n",
    "\t\tisolated_labels_f1_=True, isolated_labels_asw_=True, \n",
    "\t\tn_isolated=None, graph_conn_=True, trajectory_=False, \n",
    "\t\tkBET_=True, lisi_graph_=True, ilisi_=True, clisi_=True, \n",
    "\t\tsubsample=0.5, n_cores=5, type_=None, verbose=False)\n",
    "\tscore_2k.to_csv('/data/kkovacs/Python/score_{}_2k_unscaled.csv'.format(method))\n",
    "\treturn adata"
   ]
  },
  {
   "cell_type": "code",
   "execution_count": 26,
   "id": "4be5b9e6-88a4-402c-b18b-557fb9b40c06",
   "metadata": {},
   "outputs": [
    {
     "name": "stdout",
     "output_type": "stream",
     "text": [
      "WARNING: cluster key cluster already exists in adata.obs and will be overwritten because force=True \n",
      "resolution: 0.1, nmi: 0.5062047430710064\n",
      "resolution: 0.2, nmi: 0.5394980332770862\n",
      "resolution: 0.3, nmi: 0.5550980109157683\n",
      "resolution: 0.4, nmi: 0.565884647376148\n",
      "resolution: 0.5, nmi: 0.5718045786861633\n",
      "resolution: 0.6, nmi: 0.5739409380064459\n",
      "resolution: 0.7, nmi: 0.5803614831855262\n",
      "resolution: 0.8, nmi: 0.5811726329205968\n",
      "resolution: 0.9, nmi: 0.5888874589183382\n",
      "resolution: 1.0, nmi: 0.596875005891779\n",
      "resolution: 1.1, nmi: 0.5936411336381535\n",
      "resolution: 1.2, nmi: 0.5935711198208106\n",
      "resolution: 1.3, nmi: 0.5922128427673292\n",
      "resolution: 1.4, nmi: 0.5867140528453052\n",
      "resolution: 1.5, nmi: 0.5864500793757735\n",
      "resolution: 1.6, nmi: 0.5880930032778728\n",
      "resolution: 1.7, nmi: 0.5880567298480635\n",
      "resolution: 1.8, nmi: 0.5900292562910553\n",
      "resolution: 1.9, nmi: 0.5941210955457285\n",
      "resolution: 2.0, nmi: 0.5961544732652095\n",
      "optimised clustering against batch\n",
      "optimal cluster resolution: 1.0\n",
      "optimal score: 0.596875005891779\n"
     ]
    },
    {
     "name": "stderr",
     "output_type": "stream",
     "text": [
      "WARNING:jax._src.xla_bridge:No GPU/TPU found, falling back to CPU. (Set TF_CPP_MIN_LOG_LEVEL=0 and rerun for more info.)\n",
      "INFO:pytorch_lightning.utilities.rank_zero:GPU available: True (cuda), used: True\n",
      "INFO:pytorch_lightning.utilities.rank_zero:TPU available: False, using: 0 TPU cores\n",
      "INFO:pytorch_lightning.utilities.rank_zero:IPU available: False, using: 0 IPUs\n",
      "INFO:pytorch_lightning.utilities.rank_zero:HPU available: False, using: 0 HPUs\n",
      "INFO:pytorch_lightning.accelerators.cuda:LOCAL_RANK: 0 - CUDA_VISIBLE_DEVICES: [0]\n"
     ]
    },
    {
     "name": "stdout",
     "output_type": "stream",
     "text": [
      "Epoch 46/46: 100%|██████| 46/46 [09:32<00:00, 11.74s/it, loss=1.26e+03, v_num=1]"
     ]
    },
    {
     "name": "stderr",
     "output_type": "stream",
     "text": [
      "INFO:pytorch_lightning.utilities.rank_zero:`Trainer.fit` stopped: `max_epochs=46` reached.\n"
     ]
    },
    {
     "name": "stdout",
     "output_type": "stream",
     "text": [
      "Epoch 46/46: 100%|██████| 46/46 [09:32<00:00, 12.45s/it, loss=1.26e+03, v_num=1]\n",
      "WARNING: cluster key cluster already exists in adata.obs and will be overwritten because force=True \n",
      "resolution: 0.1, nmi: 0.8259786931999427\n",
      "resolution: 0.2, nmi: 0.8469865471094599\n",
      "resolution: 0.3, nmi: 0.8440896782366138\n",
      "resolution: 0.4, nmi: 0.8439855716358041\n",
      "resolution: 0.5, nmi: 0.839638258073822\n",
      "resolution: 0.6, nmi: 0.8278219526371047\n",
      "resolution: 0.7, nmi: 0.8172997404105852\n",
      "resolution: 0.8, nmi: 0.8140146493548777\n",
      "resolution: 0.9, nmi: 0.7944282930500546\n",
      "resolution: 1.0, nmi: 0.7942607727760571\n"
     ]
    },
    {
     "name": "stderr",
     "output_type": "stream",
     "text": [
      "IOStream.flush timed out\n"
     ]
    },
    {
     "name": "stdout",
     "output_type": "stream",
     "text": [
      "resolution: 1.1, nmi: 0.7896473432846823\n",
      "resolution: 1.2, nmi: 0.786674007355935\n",
      "resolution: 1.3, nmi: 0.7816959458632015\n",
      "resolution: 1.4, nmi: 0.7837657587123114\n",
      "resolution: 1.5, nmi: 0.7745892147751914\n",
      "resolution: 1.6, nmi: 0.7741029189455516\n",
      "resolution: 1.7, nmi: 0.7712985573572522\n",
      "resolution: 1.8, nmi: 0.7657261361931117\n",
      "resolution: 1.9, nmi: 0.7657123812298646\n",
      "resolution: 2.0, nmi: 0.7622851954561244\n",
      "optimised clustering against celltype\n",
      "optimal cluster resolution: 0.2\n",
      "optimal score: 0.8469865471094599\n",
      "HVG\n",
      "Using 85 HVGs from full intersect set\n",
      "Using 141 HVGs from n_batch-1 set\n",
      "Using 164 HVGs from n_batch-2 set\n",
      "Using 146 HVGs from n_batch-3 set\n",
      "Using 129 HVGs from n_batch-4 set\n",
      "Using 165 HVGs from n_batch-5 set\n",
      "Using 154 HVGs from n_batch-6 set\n",
      "Using 197 HVGs from n_batch-7 set\n",
      "Using 202 HVGs from n_batch-8 set\n",
      "Using 273 HVGs from n_batch-9 set\n",
      "Using 317 HVGs from n_batch-10 set\n",
      "Using 27 HVGs from n_batch-11 set\n",
      "Using 2000 HVGs\n",
      "Computed 2000 highly variable genes\n",
      "Nearest Neigbours\n"
     ]
    },
    {
     "name": "stderr",
     "output_type": "stream",
     "text": [
      "/usr/local/lib/python3.8/dist-packages/scib/metrics/metrics.py:293: DeprecationWarning: Call to deprecated function (or staticmethod) opt_louvain.\n",
      "  res_max, nmi_max, nmi_all = opt_louvain(\n"
     ]
    },
    {
     "name": "stdout",
     "output_type": "stream",
     "text": [
      "Warning: cluster key cluster already exists in adata.obs and will be overwritten\n",
      "NMI...\n",
      "ARI...\n",
      "Silhouette score...\n",
      "PC regression...\n",
      "cell cycle effect...\n",
      "Isolated labels F1...\n",
      "Compute neighbors on rep X_pca\n",
      "Compute neighbors on rep X_pca\n",
      "Compute neighbors on rep X_pca\n",
      "Compute neighbors on rep X_pca\n",
      "Isolated labels ASW...\n",
      "Graph connectivity...\n",
      "kBET...\n",
      "Adding diffusion to step 4\n"
     ]
    },
    {
     "name": "stderr",
     "output_type": "stream",
     "text": [
      "/home/kkovacs/.local/lib/python3.8/site-packages/rpy2/robjects/pandas2ri.py:368: DeprecationWarning: The global conversion available with activate() is deprecated and will be removed in the next major release. Use a local converter.\n",
      "  warnings.warn('The global conversion available with activate() '\n",
      "/home/kkovacs/.local/lib/python3.8/site-packages/rpy2/robjects/numpy2ri.py:241: DeprecationWarning: The global conversion available with activate() is deprecated and will be removed in the next major release. Use a local converter.\n",
      "  warnings.warn('The global conversion available with activate() '\n",
      "/home/kkovacs/.local/lib/python3.8/site-packages/rpy2/robjects/conversion.py:28: DeprecationWarning: The use of converter in module rpy2.robjects.conversion is deprecated. Use rpy2.robjects.conversion.get_conversion() instead of rpy2.robjects.conversion.converter.\n",
      "  warnings.warn(\n"
     ]
    },
    {
     "name": "stdout",
     "output_type": "stream",
     "text": [
      "Adding diffusion to step 4\n"
     ]
    },
    {
     "name": "stderr",
     "output_type": "stream",
     "text": [
      "/home/kkovacs/.local/lib/python3.8/site-packages/rpy2/robjects/pandas2ri.py:368: DeprecationWarning: The global conversion available with activate() is deprecated and will be removed in the next major release. Use a local converter.\n",
      "  warnings.warn('The global conversion available with activate() '\n",
      "/home/kkovacs/.local/lib/python3.8/site-packages/rpy2/robjects/numpy2ri.py:241: DeprecationWarning: The global conversion available with activate() is deprecated and will be removed in the next major release. Use a local converter.\n",
      "  warnings.warn('The global conversion available with activate() '\n",
      "/home/kkovacs/.local/lib/python3.8/site-packages/rpy2/robjects/conversion.py:28: DeprecationWarning: The use of converter in module rpy2.robjects.conversion is deprecated. Use rpy2.robjects.conversion.get_conversion() instead of rpy2.robjects.conversion.converter.\n",
      "  warnings.warn(\n"
     ]
    },
    {
     "name": "stdout",
     "output_type": "stream",
     "text": [
      "Adding diffusion to step 4\n"
     ]
    },
    {
     "name": "stderr",
     "output_type": "stream",
     "text": [
      "/home/kkovacs/.local/lib/python3.8/site-packages/rpy2/robjects/pandas2ri.py:368: DeprecationWarning: The global conversion available with activate() is deprecated and will be removed in the next major release. Use a local converter.\n",
      "  warnings.warn('The global conversion available with activate() '\n",
      "/home/kkovacs/.local/lib/python3.8/site-packages/rpy2/robjects/numpy2ri.py:241: DeprecationWarning: The global conversion available with activate() is deprecated and will be removed in the next major release. Use a local converter.\n",
      "  warnings.warn('The global conversion available with activate() '\n",
      "/home/kkovacs/.local/lib/python3.8/site-packages/rpy2/robjects/conversion.py:28: DeprecationWarning: The use of converter in module rpy2.robjects.conversion is deprecated. Use rpy2.robjects.conversion.get_conversion() instead of rpy2.robjects.conversion.converter.\n",
      "  warnings.warn(\n"
     ]
    },
    {
     "name": "stdout",
     "output_type": "stream",
     "text": [
      "Adding diffusion to step 4\n",
      "Adding diffusion to step 5\n"
     ]
    },
    {
     "name": "stderr",
     "output_type": "stream",
     "text": [
      "/home/kkovacs/.local/lib/python3.8/site-packages/rpy2/robjects/pandas2ri.py:368: DeprecationWarning: The global conversion available with activate() is deprecated and will be removed in the next major release. Use a local converter.\n",
      "  warnings.warn('The global conversion available with activate() '\n",
      "/home/kkovacs/.local/lib/python3.8/site-packages/rpy2/robjects/numpy2ri.py:241: DeprecationWarning: The global conversion available with activate() is deprecated and will be removed in the next major release. Use a local converter.\n",
      "  warnings.warn('The global conversion available with activate() '\n",
      "/home/kkovacs/.local/lib/python3.8/site-packages/rpy2/robjects/conversion.py:28: DeprecationWarning: The use of converter in module rpy2.robjects.conversion is deprecated. Use rpy2.robjects.conversion.get_conversion() instead of rpy2.robjects.conversion.converter.\n",
      "  warnings.warn(\n"
     ]
    },
    {
     "name": "stdout",
     "output_type": "stream",
     "text": [
      "Adding diffusion to step 4\n"
     ]
    },
    {
     "name": "stderr",
     "output_type": "stream",
     "text": [
      "/home/kkovacs/.local/lib/python3.8/site-packages/rpy2/robjects/pandas2ri.py:368: DeprecationWarning: The global conversion available with activate() is deprecated and will be removed in the next major release. Use a local converter.\n",
      "  warnings.warn('The global conversion available with activate() '\n",
      "/home/kkovacs/.local/lib/python3.8/site-packages/rpy2/robjects/numpy2ri.py:241: DeprecationWarning: The global conversion available with activate() is deprecated and will be removed in the next major release. Use a local converter.\n",
      "  warnings.warn('The global conversion available with activate() '\n",
      "/home/kkovacs/.local/lib/python3.8/site-packages/rpy2/robjects/conversion.py:28: DeprecationWarning: The use of converter in module rpy2.robjects.conversion is deprecated. Use rpy2.robjects.conversion.get_conversion() instead of rpy2.robjects.conversion.converter.\n",
      "  warnings.warn(\n",
      "/home/kkovacs/.local/lib/python3.8/site-packages/rpy2/robjects/pandas2ri.py:368: DeprecationWarning: The global conversion available with activate() is deprecated and will be removed in the next major release. Use a local converter.\n",
      "  warnings.warn('The global conversion available with activate() '\n",
      "/home/kkovacs/.local/lib/python3.8/site-packages/rpy2/robjects/numpy2ri.py:241: DeprecationWarning: The global conversion available with activate() is deprecated and will be removed in the next major release. Use a local converter.\n",
      "  warnings.warn('The global conversion available with activate() '\n",
      "/home/kkovacs/.local/lib/python3.8/site-packages/rpy2/robjects/conversion.py:28: DeprecationWarning: The use of converter in module rpy2.robjects.conversion is deprecated. Use rpy2.robjects.conversion.get_conversion() instead of rpy2.robjects.conversion.converter.\n",
      "  warnings.warn(\n",
      "/home/kkovacs/.local/lib/python3.8/site-packages/rpy2/robjects/pandas2ri.py:368: DeprecationWarning: The global conversion available with activate() is deprecated and will be removed in the next major release. Use a local converter.\n",
      "  warnings.warn('The global conversion available with activate() '\n",
      "/home/kkovacs/.local/lib/python3.8/site-packages/rpy2/robjects/numpy2ri.py:241: DeprecationWarning: The global conversion available with activate() is deprecated and will be removed in the next major release. Use a local converter.\n",
      "  warnings.warn('The global conversion available with activate() '\n",
      "/home/kkovacs/.local/lib/python3.8/site-packages/rpy2/robjects/conversion.py:28: DeprecationWarning: The use of converter in module rpy2.robjects.conversion is deprecated. Use rpy2.robjects.conversion.get_conversion() instead of rpy2.robjects.conversion.converter.\n",
      "  warnings.warn(\n"
     ]
    },
    {
     "name": "stdout",
     "output_type": "stream",
     "text": [
      "Adding diffusion to step 4\n",
      "Adding diffusion to step 5\n",
      "Adding diffusion to step 6\n"
     ]
    },
    {
     "name": "stderr",
     "output_type": "stream",
     "text": [
      "/home/kkovacs/.local/lib/python3.8/site-packages/rpy2/robjects/pandas2ri.py:368: DeprecationWarning: The global conversion available with activate() is deprecated and will be removed in the next major release. Use a local converter.\n",
      "  warnings.warn('The global conversion available with activate() '\n",
      "/home/kkovacs/.local/lib/python3.8/site-packages/rpy2/robjects/numpy2ri.py:241: DeprecationWarning: The global conversion available with activate() is deprecated and will be removed in the next major release. Use a local converter.\n",
      "  warnings.warn('The global conversion available with activate() '\n",
      "/home/kkovacs/.local/lib/python3.8/site-packages/rpy2/robjects/conversion.py:28: DeprecationWarning: The use of converter in module rpy2.robjects.conversion is deprecated. Use rpy2.robjects.conversion.get_conversion() instead of rpy2.robjects.conversion.converter.\n",
      "  warnings.warn(\n",
      "/home/kkovacs/.local/lib/python3.8/site-packages/rpy2/robjects/pandas2ri.py:368: DeprecationWarning: The global conversion available with activate() is deprecated and will be removed in the next major release. Use a local converter.\n",
      "  warnings.warn('The global conversion available with activate() '\n",
      "/home/kkovacs/.local/lib/python3.8/site-packages/rpy2/robjects/numpy2ri.py:241: DeprecationWarning: The global conversion available with activate() is deprecated and will be removed in the next major release. Use a local converter.\n",
      "  warnings.warn('The global conversion available with activate() '\n",
      "/home/kkovacs/.local/lib/python3.8/site-packages/rpy2/robjects/conversion.py:28: DeprecationWarning: The use of converter in module rpy2.robjects.conversion is deprecated. Use rpy2.robjects.conversion.get_conversion() instead of rpy2.robjects.conversion.converter.\n",
      "  warnings.warn(\n",
      "/home/kkovacs/.local/lib/python3.8/site-packages/rpy2/robjects/pandas2ri.py:368: DeprecationWarning: The global conversion available with activate() is deprecated and will be removed in the next major release. Use a local converter.\n",
      "  warnings.warn('The global conversion available with activate() '\n",
      "/home/kkovacs/.local/lib/python3.8/site-packages/rpy2/robjects/numpy2ri.py:241: DeprecationWarning: The global conversion available with activate() is deprecated and will be removed in the next major release. Use a local converter.\n",
      "  warnings.warn('The global conversion available with activate() '\n",
      "/home/kkovacs/.local/lib/python3.8/site-packages/rpy2/robjects/conversion.py:28: DeprecationWarning: The use of converter in module rpy2.robjects.conversion is deprecated. Use rpy2.robjects.conversion.get_conversion() instead of rpy2.robjects.conversion.converter.\n",
      "  warnings.warn(\n"
     ]
    },
    {
     "name": "stdout",
     "output_type": "stream",
     "text": [
      "Adding diffusion to step 4\n"
     ]
    },
    {
     "name": "stderr",
     "output_type": "stream",
     "text": [
      "/home/kkovacs/.local/lib/python3.8/site-packages/rpy2/robjects/pandas2ri.py:368: DeprecationWarning: The global conversion available with activate() is deprecated and will be removed in the next major release. Use a local converter.\n",
      "  warnings.warn('The global conversion available with activate() '\n",
      "/home/kkovacs/.local/lib/python3.8/site-packages/rpy2/robjects/numpy2ri.py:241: DeprecationWarning: The global conversion available with activate() is deprecated and will be removed in the next major release. Use a local converter.\n",
      "  warnings.warn('The global conversion available with activate() '\n",
      "/home/kkovacs/.local/lib/python3.8/site-packages/rpy2/robjects/conversion.py:28: DeprecationWarning: The use of converter in module rpy2.robjects.conversion is deprecated. Use rpy2.robjects.conversion.get_conversion() instead of rpy2.robjects.conversion.converter.\n",
      "  warnings.warn(\n"
     ]
    },
    {
     "name": "stdout",
     "output_type": "stream",
     "text": [
      "Adding diffusion to step 4\n"
     ]
    },
    {
     "name": "stderr",
     "output_type": "stream",
     "text": [
      "/home/kkovacs/.local/lib/python3.8/site-packages/rpy2/robjects/pandas2ri.py:368: DeprecationWarning: The global conversion available with activate() is deprecated and will be removed in the next major release. Use a local converter.\n",
      "  warnings.warn('The global conversion available with activate() '\n",
      "/home/kkovacs/.local/lib/python3.8/site-packages/rpy2/robjects/numpy2ri.py:241: DeprecationWarning: The global conversion available with activate() is deprecated and will be removed in the next major release. Use a local converter.\n",
      "  warnings.warn('The global conversion available with activate() '\n",
      "/home/kkovacs/.local/lib/python3.8/site-packages/rpy2/robjects/conversion.py:28: DeprecationWarning: The use of converter in module rpy2.robjects.conversion is deprecated. Use rpy2.robjects.conversion.get_conversion() instead of rpy2.robjects.conversion.converter.\n",
      "  warnings.warn(\n"
     ]
    },
    {
     "name": "stdout",
     "output_type": "stream",
     "text": [
      "Adding diffusion to step 4\n",
      "Adding diffusion to step 5\n",
      "Adding diffusion to step 6\n"
     ]
    },
    {
     "name": "stderr",
     "output_type": "stream",
     "text": [
      "/home/kkovacs/.local/lib/python3.8/site-packages/rpy2/robjects/pandas2ri.py:368: DeprecationWarning: The global conversion available with activate() is deprecated and will be removed in the next major release. Use a local converter.\n",
      "  warnings.warn('The global conversion available with activate() '\n",
      "/home/kkovacs/.local/lib/python3.8/site-packages/rpy2/robjects/numpy2ri.py:241: DeprecationWarning: The global conversion available with activate() is deprecated and will be removed in the next major release. Use a local converter.\n",
      "  warnings.warn('The global conversion available with activate() '\n",
      "/home/kkovacs/.local/lib/python3.8/site-packages/rpy2/robjects/conversion.py:28: DeprecationWarning: The use of converter in module rpy2.robjects.conversion is deprecated. Use rpy2.robjects.conversion.get_conversion() instead of rpy2.robjects.conversion.converter.\n",
      "  warnings.warn(\n"
     ]
    },
    {
     "name": "stdout",
     "output_type": "stream",
     "text": [
      "Adding diffusion to step 4\n",
      "Adding diffusion to step 5\n",
      "Adding diffusion to step 6\n",
      "Adding diffusion to step 7\n"
     ]
    },
    {
     "name": "stderr",
     "output_type": "stream",
     "text": [
      "/home/kkovacs/.local/lib/python3.8/site-packages/rpy2/robjects/pandas2ri.py:368: DeprecationWarning: The global conversion available with activate() is deprecated and will be removed in the next major release. Use a local converter.\n",
      "  warnings.warn('The global conversion available with activate() '\n",
      "/home/kkovacs/.local/lib/python3.8/site-packages/rpy2/robjects/numpy2ri.py:241: DeprecationWarning: The global conversion available with activate() is deprecated and will be removed in the next major release. Use a local converter.\n",
      "  warnings.warn('The global conversion available with activate() '\n",
      "/home/kkovacs/.local/lib/python3.8/site-packages/rpy2/robjects/conversion.py:28: DeprecationWarning: The use of converter in module rpy2.robjects.conversion is deprecated. Use rpy2.robjects.conversion.get_conversion() instead of rpy2.robjects.conversion.converter.\n",
      "  warnings.warn(\n"
     ]
    },
    {
     "name": "stdout",
     "output_type": "stream",
     "text": [
      "Adding diffusion to step 4\n",
      "Adding diffusion to step 5\n"
     ]
    },
    {
     "name": "stderr",
     "output_type": "stream",
     "text": [
      "/home/kkovacs/.local/lib/python3.8/site-packages/rpy2/robjects/pandas2ri.py:368: DeprecationWarning: The global conversion available with activate() is deprecated and will be removed in the next major release. Use a local converter.\n",
      "  warnings.warn('The global conversion available with activate() '\n",
      "/home/kkovacs/.local/lib/python3.8/site-packages/rpy2/robjects/numpy2ri.py:241: DeprecationWarning: The global conversion available with activate() is deprecated and will be removed in the next major release. Use a local converter.\n",
      "  warnings.warn('The global conversion available with activate() '\n",
      "/home/kkovacs/.local/lib/python3.8/site-packages/rpy2/robjects/conversion.py:28: DeprecationWarning: The use of converter in module rpy2.robjects.conversion is deprecated. Use rpy2.robjects.conversion.get_conversion() instead of rpy2.robjects.conversion.converter.\n",
      "  warnings.warn(\n"
     ]
    },
    {
     "name": "stdout",
     "output_type": "stream",
     "text": [
      "Adding diffusion to step 4\n"
     ]
    },
    {
     "name": "stderr",
     "output_type": "stream",
     "text": [
      "/home/kkovacs/.local/lib/python3.8/site-packages/rpy2/robjects/pandas2ri.py:368: DeprecationWarning: The global conversion available with activate() is deprecated and will be removed in the next major release. Use a local converter.\n",
      "  warnings.warn('The global conversion available with activate() '\n",
      "/home/kkovacs/.local/lib/python3.8/site-packages/rpy2/robjects/numpy2ri.py:241: DeprecationWarning: The global conversion available with activate() is deprecated and will be removed in the next major release. Use a local converter.\n",
      "  warnings.warn('The global conversion available with activate() '\n",
      "/home/kkovacs/.local/lib/python3.8/site-packages/rpy2/robjects/conversion.py:28: DeprecationWarning: The use of converter in module rpy2.robjects.conversion is deprecated. Use rpy2.robjects.conversion.get_conversion() instead of rpy2.robjects.conversion.converter.\n",
      "  warnings.warn(\n",
      "/home/kkovacs/.local/lib/python3.8/site-packages/rpy2/robjects/pandas2ri.py:368: DeprecationWarning: The global conversion available with activate() is deprecated and will be removed in the next major release. Use a local converter.\n",
      "  warnings.warn('The global conversion available with activate() '\n",
      "/home/kkovacs/.local/lib/python3.8/site-packages/rpy2/robjects/numpy2ri.py:241: DeprecationWarning: The global conversion available with activate() is deprecated and will be removed in the next major release. Use a local converter.\n",
      "  warnings.warn('The global conversion available with activate() '\n",
      "/home/kkovacs/.local/lib/python3.8/site-packages/rpy2/robjects/conversion.py:28: DeprecationWarning: The use of converter in module rpy2.robjects.conversion is deprecated. Use rpy2.robjects.conversion.get_conversion() instead of rpy2.robjects.conversion.converter.\n",
      "  warnings.warn(\n",
      "/home/kkovacs/.local/lib/python3.8/site-packages/rpy2/robjects/pandas2ri.py:368: DeprecationWarning: The global conversion available with activate() is deprecated and will be removed in the next major release. Use a local converter.\n",
      "  warnings.warn('The global conversion available with activate() '\n",
      "/home/kkovacs/.local/lib/python3.8/site-packages/rpy2/robjects/numpy2ri.py:241: DeprecationWarning: The global conversion available with activate() is deprecated and will be removed in the next major release. Use a local converter.\n",
      "  warnings.warn('The global conversion available with activate() '\n",
      "/home/kkovacs/.local/lib/python3.8/site-packages/rpy2/robjects/conversion.py:28: DeprecationWarning: The use of converter in module rpy2.robjects.conversion is deprecated. Use rpy2.robjects.conversion.get_conversion() instead of rpy2.robjects.conversion.converter.\n",
      "  warnings.warn(\n"
     ]
    },
    {
     "name": "stdout",
     "output_type": "stream",
     "text": [
      "Adding diffusion to step 4\n"
     ]
    },
    {
     "name": "stderr",
     "output_type": "stream",
     "text": [
      "/home/kkovacs/.local/lib/python3.8/site-packages/rpy2/robjects/pandas2ri.py:368: DeprecationWarning: The global conversion available with activate() is deprecated and will be removed in the next major release. Use a local converter.\n",
      "  warnings.warn('The global conversion available with activate() '\n",
      "/home/kkovacs/.local/lib/python3.8/site-packages/rpy2/robjects/numpy2ri.py:241: DeprecationWarning: The global conversion available with activate() is deprecated and will be removed in the next major release. Use a local converter.\n",
      "  warnings.warn('The global conversion available with activate() '\n",
      "/home/kkovacs/.local/lib/python3.8/site-packages/rpy2/robjects/conversion.py:28: DeprecationWarning: The use of converter in module rpy2.robjects.conversion is deprecated. Use rpy2.robjects.conversion.get_conversion() instead of rpy2.robjects.conversion.converter.\n",
      "  warnings.warn(\n"
     ]
    },
    {
     "name": "stdout",
     "output_type": "stream",
     "text": [
      "Adding diffusion to step 4\n"
     ]
    },
    {
     "name": "stderr",
     "output_type": "stream",
     "text": [
      "/home/kkovacs/.local/lib/python3.8/site-packages/rpy2/robjects/pandas2ri.py:368: DeprecationWarning: The global conversion available with activate() is deprecated and will be removed in the next major release. Use a local converter.\n",
      "  warnings.warn('The global conversion available with activate() '\n",
      "/home/kkovacs/.local/lib/python3.8/site-packages/rpy2/robjects/numpy2ri.py:241: DeprecationWarning: The global conversion available with activate() is deprecated and will be removed in the next major release. Use a local converter.\n",
      "  warnings.warn('The global conversion available with activate() '\n",
      "/home/kkovacs/.local/lib/python3.8/site-packages/rpy2/robjects/conversion.py:28: DeprecationWarning: The use of converter in module rpy2.robjects.conversion is deprecated. Use rpy2.robjects.conversion.get_conversion() instead of rpy2.robjects.conversion.converter.\n",
      "  warnings.warn(\n"
     ]
    },
    {
     "name": "stdout",
     "output_type": "stream",
     "text": [
      "Adding diffusion to step 4\n"
     ]
    },
    {
     "name": "stderr",
     "output_type": "stream",
     "text": [
      "/home/kkovacs/.local/lib/python3.8/site-packages/rpy2/robjects/pandas2ri.py:368: DeprecationWarning: The global conversion available with activate() is deprecated and will be removed in the next major release. Use a local converter.\n",
      "  warnings.warn('The global conversion available with activate() '\n",
      "/home/kkovacs/.local/lib/python3.8/site-packages/rpy2/robjects/numpy2ri.py:241: DeprecationWarning: The global conversion available with activate() is deprecated and will be removed in the next major release. Use a local converter.\n",
      "  warnings.warn('The global conversion available with activate() '\n",
      "/home/kkovacs/.local/lib/python3.8/site-packages/rpy2/robjects/conversion.py:28: DeprecationWarning: The use of converter in module rpy2.robjects.conversion is deprecated. Use rpy2.robjects.conversion.get_conversion() instead of rpy2.robjects.conversion.converter.\n",
      "  warnings.warn(\n"
     ]
    },
    {
     "name": "stdout",
     "output_type": "stream",
     "text": [
      "Adding diffusion to step 4\n"
     ]
    },
    {
     "name": "stderr",
     "output_type": "stream",
     "text": [
      "/home/kkovacs/.local/lib/python3.8/site-packages/rpy2/robjects/pandas2ri.py:368: DeprecationWarning: The global conversion available with activate() is deprecated and will be removed in the next major release. Use a local converter.\n",
      "  warnings.warn('The global conversion available with activate() '\n",
      "/home/kkovacs/.local/lib/python3.8/site-packages/rpy2/robjects/numpy2ri.py:241: DeprecationWarning: The global conversion available with activate() is deprecated and will be removed in the next major release. Use a local converter.\n",
      "  warnings.warn('The global conversion available with activate() '\n",
      "/home/kkovacs/.local/lib/python3.8/site-packages/rpy2/robjects/conversion.py:28: DeprecationWarning: The use of converter in module rpy2.robjects.conversion is deprecated. Use rpy2.robjects.conversion.get_conversion() instead of rpy2.robjects.conversion.converter.\n",
      "  warnings.warn(\n",
      "/home/kkovacs/.local/lib/python3.8/site-packages/rpy2/robjects/pandas2ri.py:368: DeprecationWarning: The global conversion available with activate() is deprecated and will be removed in the next major release. Use a local converter.\n",
      "  warnings.warn('The global conversion available with activate() '\n",
      "/home/kkovacs/.local/lib/python3.8/site-packages/rpy2/robjects/numpy2ri.py:241: DeprecationWarning: The global conversion available with activate() is deprecated and will be removed in the next major release. Use a local converter.\n",
      "  warnings.warn('The global conversion available with activate() '\n",
      "/home/kkovacs/.local/lib/python3.8/site-packages/rpy2/robjects/conversion.py:28: DeprecationWarning: The use of converter in module rpy2.robjects.conversion is deprecated. Use rpy2.robjects.conversion.get_conversion() instead of rpy2.robjects.conversion.converter.\n",
      "  warnings.warn(\n"
     ]
    },
    {
     "name": "stdout",
     "output_type": "stream",
     "text": [
      "Adding diffusion to step 4\n",
      "Adding diffusion to step 5\n",
      "Adding diffusion to step 6\n"
     ]
    },
    {
     "name": "stderr",
     "output_type": "stream",
     "text": [
      "/home/kkovacs/.local/lib/python3.8/site-packages/rpy2/robjects/pandas2ri.py:368: DeprecationWarning: The global conversion available with activate() is deprecated and will be removed in the next major release. Use a local converter.\n",
      "  warnings.warn('The global conversion available with activate() '\n",
      "/home/kkovacs/.local/lib/python3.8/site-packages/rpy2/robjects/numpy2ri.py:241: DeprecationWarning: The global conversion available with activate() is deprecated and will be removed in the next major release. Use a local converter.\n",
      "  warnings.warn('The global conversion available with activate() '\n",
      "/home/kkovacs/.local/lib/python3.8/site-packages/rpy2/robjects/conversion.py:28: DeprecationWarning: The use of converter in module rpy2.robjects.conversion is deprecated. Use rpy2.robjects.conversion.get_conversion() instead of rpy2.robjects.conversion.converter.\n",
      "  warnings.warn(\n",
      "/home/kkovacs/.local/lib/python3.8/site-packages/rpy2/robjects/pandas2ri.py:368: DeprecationWarning: The global conversion available with activate() is deprecated and will be removed in the next major release. Use a local converter.\n",
      "  warnings.warn('The global conversion available with activate() '\n",
      "/home/kkovacs/.local/lib/python3.8/site-packages/rpy2/robjects/numpy2ri.py:241: DeprecationWarning: The global conversion available with activate() is deprecated and will be removed in the next major release. Use a local converter.\n",
      "  warnings.warn('The global conversion available with activate() '\n",
      "/home/kkovacs/.local/lib/python3.8/site-packages/rpy2/robjects/conversion.py:28: DeprecationWarning: The use of converter in module rpy2.robjects.conversion is deprecated. Use rpy2.robjects.conversion.get_conversion() instead of rpy2.robjects.conversion.converter.\n",
      "  warnings.warn(\n"
     ]
    },
    {
     "name": "stdout",
     "output_type": "stream",
     "text": [
      "Adding diffusion to step 4\n"
     ]
    },
    {
     "name": "stderr",
     "output_type": "stream",
     "text": [
      "/home/kkovacs/.local/lib/python3.8/site-packages/rpy2/robjects/pandas2ri.py:368: DeprecationWarning: The global conversion available with activate() is deprecated and will be removed in the next major release. Use a local converter.\n",
      "  warnings.warn('The global conversion available with activate() '\n",
      "/home/kkovacs/.local/lib/python3.8/site-packages/rpy2/robjects/numpy2ri.py:241: DeprecationWarning: The global conversion available with activate() is deprecated and will be removed in the next major release. Use a local converter.\n",
      "  warnings.warn('The global conversion available with activate() '\n",
      "/home/kkovacs/.local/lib/python3.8/site-packages/rpy2/robjects/conversion.py:28: DeprecationWarning: The use of converter in module rpy2.robjects.conversion is deprecated. Use rpy2.robjects.conversion.get_conversion() instead of rpy2.robjects.conversion.converter.\n",
      "  warnings.warn(\n",
      "/home/kkovacs/.local/lib/python3.8/site-packages/rpy2/robjects/pandas2ri.py:368: DeprecationWarning: The global conversion available with activate() is deprecated and will be removed in the next major release. Use a local converter.\n",
      "  warnings.warn('The global conversion available with activate() '\n",
      "/home/kkovacs/.local/lib/python3.8/site-packages/rpy2/robjects/numpy2ri.py:241: DeprecationWarning: The global conversion available with activate() is deprecated and will be removed in the next major release. Use a local converter.\n",
      "  warnings.warn('The global conversion available with activate() '\n",
      "/home/kkovacs/.local/lib/python3.8/site-packages/rpy2/robjects/conversion.py:28: DeprecationWarning: The use of converter in module rpy2.robjects.conversion is deprecated. Use rpy2.robjects.conversion.get_conversion() instead of rpy2.robjects.conversion.converter.\n",
      "  warnings.warn(\n",
      "/home/kkovacs/.local/lib/python3.8/site-packages/rpy2/robjects/pandas2ri.py:368: DeprecationWarning: The global conversion available with activate() is deprecated and will be removed in the next major release. Use a local converter.\n",
      "  warnings.warn('The global conversion available with activate() '\n",
      "/home/kkovacs/.local/lib/python3.8/site-packages/rpy2/robjects/numpy2ri.py:241: DeprecationWarning: The global conversion available with activate() is deprecated and will be removed in the next major release. Use a local converter.\n",
      "  warnings.warn('The global conversion available with activate() '\n",
      "/home/kkovacs/.local/lib/python3.8/site-packages/rpy2/robjects/conversion.py:28: DeprecationWarning: The use of converter in module rpy2.robjects.conversion is deprecated. Use rpy2.robjects.conversion.get_conversion() instead of rpy2.robjects.conversion.converter.\n",
      "  warnings.warn(\n",
      "/home/kkovacs/.local/lib/python3.8/site-packages/rpy2/robjects/pandas2ri.py:368: DeprecationWarning: The global conversion available with activate() is deprecated and will be removed in the next major release. Use a local converter.\n",
      "  warnings.warn('The global conversion available with activate() '\n",
      "/home/kkovacs/.local/lib/python3.8/site-packages/rpy2/robjects/numpy2ri.py:241: DeprecationWarning: The global conversion available with activate() is deprecated and will be removed in the next major release. Use a local converter.\n",
      "  warnings.warn('The global conversion available with activate() '\n",
      "/home/kkovacs/.local/lib/python3.8/site-packages/rpy2/robjects/conversion.py:28: DeprecationWarning: The use of converter in module rpy2.robjects.conversion is deprecated. Use rpy2.robjects.conversion.get_conversion() instead of rpy2.robjects.conversion.converter.\n",
      "  warnings.warn(\n",
      "/home/kkovacs/.local/lib/python3.8/site-packages/rpy2/robjects/pandas2ri.py:368: DeprecationWarning: The global conversion available with activate() is deprecated and will be removed in the next major release. Use a local converter.\n",
      "  warnings.warn('The global conversion available with activate() '\n",
      "/home/kkovacs/.local/lib/python3.8/site-packages/rpy2/robjects/numpy2ri.py:241: DeprecationWarning: The global conversion available with activate() is deprecated and will be removed in the next major release. Use a local converter.\n",
      "  warnings.warn('The global conversion available with activate() '\n",
      "/home/kkovacs/.local/lib/python3.8/site-packages/rpy2/robjects/conversion.py:28: DeprecationWarning: The use of converter in module rpy2.robjects.conversion is deprecated. Use rpy2.robjects.conversion.get_conversion() instead of rpy2.robjects.conversion.converter.\n",
      "  warnings.warn(\n"
     ]
    },
    {
     "name": "stdout",
     "output_type": "stream",
     "text": [
      "Adding diffusion to step 4\n"
     ]
    },
    {
     "name": "stderr",
     "output_type": "stream",
     "text": [
      "/home/kkovacs/.local/lib/python3.8/site-packages/rpy2/robjects/pandas2ri.py:368: DeprecationWarning: The global conversion available with activate() is deprecated and will be removed in the next major release. Use a local converter.\n",
      "  warnings.warn('The global conversion available with activate() '\n",
      "/home/kkovacs/.local/lib/python3.8/site-packages/rpy2/robjects/numpy2ri.py:241: DeprecationWarning: The global conversion available with activate() is deprecated and will be removed in the next major release. Use a local converter.\n",
      "  warnings.warn('The global conversion available with activate() '\n",
      "/home/kkovacs/.local/lib/python3.8/site-packages/rpy2/robjects/conversion.py:28: DeprecationWarning: The use of converter in module rpy2.robjects.conversion is deprecated. Use rpy2.robjects.conversion.get_conversion() instead of rpy2.robjects.conversion.converter.\n",
      "  warnings.warn(\n",
      "/home/kkovacs/.local/lib/python3.8/site-packages/rpy2/robjects/pandas2ri.py:368: DeprecationWarning: The global conversion available with activate() is deprecated and will be removed in the next major release. Use a local converter.\n",
      "  warnings.warn('The global conversion available with activate() '\n",
      "/home/kkovacs/.local/lib/python3.8/site-packages/rpy2/robjects/numpy2ri.py:241: DeprecationWarning: The global conversion available with activate() is deprecated and will be removed in the next major release. Use a local converter.\n",
      "  warnings.warn('The global conversion available with activate() '\n",
      "/home/kkovacs/.local/lib/python3.8/site-packages/rpy2/robjects/conversion.py:28: DeprecationWarning: The use of converter in module rpy2.robjects.conversion is deprecated. Use rpy2.robjects.conversion.get_conversion() instead of rpy2.robjects.conversion.converter.\n",
      "  warnings.warn(\n",
      "/home/kkovacs/.local/lib/python3.8/site-packages/rpy2/robjects/pandas2ri.py:368: DeprecationWarning: The global conversion available with activate() is deprecated and will be removed in the next major release. Use a local converter.\n",
      "  warnings.warn('The global conversion available with activate() '\n",
      "/home/kkovacs/.local/lib/python3.8/site-packages/rpy2/robjects/numpy2ri.py:241: DeprecationWarning: The global conversion available with activate() is deprecated and will be removed in the next major release. Use a local converter.\n",
      "  warnings.warn('The global conversion available with activate() '\n",
      "/home/kkovacs/.local/lib/python3.8/site-packages/rpy2/robjects/conversion.py:28: DeprecationWarning: The use of converter in module rpy2.robjects.conversion is deprecated. Use rpy2.robjects.conversion.get_conversion() instead of rpy2.robjects.conversion.converter.\n",
      "  warnings.warn(\n"
     ]
    },
    {
     "name": "stdout",
     "output_type": "stream",
     "text": [
      "Migratory dendritic consists of a single batch or is too small. Skip.\n",
      "Pericyte consists of a single batch or is too small. Skip.\n",
      "SMC population consists of a single batch or is too small. Skip.\n",
      "pDC consists of a single batch or is too small. Skip.\n",
      "Blood cells consists of a single batch or is too small. Skip.\n",
      "Small clust consists of a single batch or is too small. Skip.\n",
      "cLISI score...\n",
      "iLISI score...\n",
      "WARNING: cluster key cluster already exists in adata.obs and will be overwritten because force=True \n",
      "resolution: 0.1, nmi: 0.22588461663828727\n",
      "resolution: 0.2, nmi: 0.26131011890910094\n",
      "resolution: 0.3, nmi: 0.3093392795490718\n",
      "resolution: 0.4, nmi: 0.3693170694362903\n",
      "resolution: 0.5, nmi: 0.3796618966443264\n",
      "resolution: 0.6, nmi: 0.39130622101905277\n",
      "resolution: 0.7, nmi: 0.4021875064255689\n",
      "resolution: 0.8, nmi: 0.41448718686417496\n",
      "resolution: 0.9, nmi: 0.42980934780992913\n",
      "resolution: 1.0, nmi: 0.4236073828165562\n",
      "resolution: 1.1, nmi: 0.4390583997874668\n",
      "resolution: 1.2, nmi: 0.4508333959844214\n",
      "resolution: 1.3, nmi: 0.448263237616368\n",
      "resolution: 1.4, nmi: 0.45932545781128326\n",
      "resolution: 1.5, nmi: 0.4672933110845022\n",
      "resolution: 1.6, nmi: 0.4616147934960627\n",
      "resolution: 1.7, nmi: 0.466502785642605\n",
      "resolution: 1.8, nmi: 0.464028559901037\n",
      "resolution: 1.9, nmi: 0.4615762522071863\n",
      "resolution: 2.0, nmi: 0.4720022959319636\n",
      "optimised clustering against batch\n",
      "optimal cluster resolution: 2.0\n",
      "optimal score: 0.4720022959319636\n"
     ]
    },
    {
     "name": "stderr",
     "output_type": "stream",
     "text": [
      "INFO:pytorch_lightning.utilities.rank_zero:GPU available: True (cuda), used: True\n",
      "INFO:pytorch_lightning.utilities.rank_zero:TPU available: False, using: 0 TPU cores\n",
      "INFO:pytorch_lightning.utilities.rank_zero:IPU available: False, using: 0 IPUs\n",
      "INFO:pytorch_lightning.utilities.rank_zero:HPU available: False, using: 0 HPUs\n",
      "INFO:pytorch_lightning.accelerators.cuda:LOCAL_RANK: 0 - CUDA_VISIBLE_DEVICES: [0]\n"
     ]
    },
    {
     "name": "stdout",
     "output_type": "stream",
     "text": [
      "Epoch 46/46: 100%|███████████| 46/46 [07:37<00:00, 10.11s/it, loss=285, v_num=1]"
     ]
    },
    {
     "name": "stderr",
     "output_type": "stream",
     "text": [
      "INFO:pytorch_lightning.utilities.rank_zero:`Trainer.fit` stopped: `max_epochs=46` reached.\n"
     ]
    },
    {
     "name": "stdout",
     "output_type": "stream",
     "text": [
      "Epoch 46/46: 100%|███████████| 46/46 [07:37<00:00,  9.95s/it, loss=285, v_num=1]\n",
      "WARNING: cluster key cluster already exists in adata.obs and will be overwritten because force=True \n",
      "resolution: 0.1, nmi: 0.7951046672918852\n",
      "resolution: 0.2, nmi: 0.8306911993485943\n",
      "resolution: 0.3, nmi: 0.8305354983515397\n",
      "resolution: 0.4, nmi: 0.835784961226521\n",
      "resolution: 0.5, nmi: 0.833406342112541\n",
      "resolution: 0.6, nmi: 0.8275690180910603\n",
      "resolution: 0.7, nmi: 0.829365484133538\n",
      "resolution: 0.8, nmi: 0.8272668966828254\n",
      "resolution: 0.9, nmi: 0.8285843563586558\n",
      "resolution: 1.0, nmi: 0.8161047701270745\n",
      "resolution: 1.1, nmi: 0.8142733064709445\n",
      "resolution: 1.2, nmi: 0.8096140253120957\n",
      "resolution: 1.3, nmi: 0.7984639031701396\n",
      "resolution: 1.4, nmi: 0.7779094443995904\n",
      "resolution: 1.5, nmi: 0.7792650037673933\n",
      "resolution: 1.6, nmi: 0.7752455206674344\n",
      "resolution: 1.7, nmi: 0.7743605916498629\n",
      "resolution: 1.8, nmi: 0.7635962365162737\n",
      "resolution: 1.9, nmi: 0.7660460172928372\n",
      "resolution: 2.0, nmi: 0.7661646758797993\n",
      "optimised clustering against celltype\n",
      "optimal cluster resolution: 0.4\n",
      "optimal score: 0.835784961226521\n",
      "HVG\n",
      "Using 1257 HVGs from full intersect set\n",
      "Using 157 HVGs from n_batch-1 set\n",
      "Using 72 HVGs from n_batch-2 set\n",
      "Using 73 HVGs from n_batch-3 set\n",
      "Using 46 HVGs from n_batch-4 set\n",
      "Using 42 HVGs from n_batch-5 set\n",
      "Using 54 HVGs from n_batch-6 set\n",
      "Using 38 HVGs from n_batch-7 set\n",
      "Using 21 HVGs from n_batch-8 set\n",
      "Using 43 HVGs from n_batch-9 set\n",
      "Using 34 HVGs from n_batch-10 set\n",
      "Using 32 HVGs from n_batch-11 set\n",
      "Using 89 HVGs from n_batch-12 set\n",
      "Using 31 HVGs from n_batch-13 set\n",
      "Using 9 HVGs from n_batch-14 set\n",
      "Using 2 HVGs from n_batch-15 set\n",
      "Using 2000 HVGs\n",
      "Computed 2000 highly variable genes\n",
      "Nearest Neigbours\n"
     ]
    },
    {
     "name": "stderr",
     "output_type": "stream",
     "text": [
      "/usr/local/lib/python3.8/dist-packages/scib/metrics/metrics.py:293: DeprecationWarning: Call to deprecated function (or staticmethod) opt_louvain.\n",
      "  res_max, nmi_max, nmi_all = opt_louvain(\n"
     ]
    },
    {
     "name": "stdout",
     "output_type": "stream",
     "text": [
      "Warning: cluster key cluster already exists in adata.obs and will be overwritten\n",
      "NMI...\n",
      "ARI...\n",
      "Silhouette score...\n",
      "PC regression...\n",
      "cell cycle effect...\n",
      "Isolated labels F1...\n",
      "Compute neighbors on rep X_pca\n",
      "Compute neighbors on rep X_pca\n",
      "Compute neighbors on rep X_pca\n",
      "Compute neighbors on rep X_pca\n",
      "Isolated labels ASW...\n",
      "Graph connectivity...\n",
      "kBET...\n",
      "Adding diffusion to step 4\n"
     ]
    },
    {
     "name": "stderr",
     "output_type": "stream",
     "text": [
      "/home/kkovacs/.local/lib/python3.8/site-packages/rpy2/robjects/pandas2ri.py:368: DeprecationWarning: The global conversion available with activate() is deprecated and will be removed in the next major release. Use a local converter.\n",
      "  warnings.warn('The global conversion available with activate() '\n",
      "/home/kkovacs/.local/lib/python3.8/site-packages/rpy2/robjects/numpy2ri.py:241: DeprecationWarning: The global conversion available with activate() is deprecated and will be removed in the next major release. Use a local converter.\n",
      "  warnings.warn('The global conversion available with activate() '\n",
      "/home/kkovacs/.local/lib/python3.8/site-packages/rpy2/robjects/conversion.py:28: DeprecationWarning: The use of converter in module rpy2.robjects.conversion is deprecated. Use rpy2.robjects.conversion.get_conversion() instead of rpy2.robjects.conversion.converter.\n",
      "  warnings.warn(\n"
     ]
    },
    {
     "name": "stdout",
     "output_type": "stream",
     "text": [
      "Adding diffusion to step 4\n",
      "Adding diffusion to step 5\n",
      "Adding diffusion to step 6\n"
     ]
    },
    {
     "name": "stderr",
     "output_type": "stream",
     "text": [
      "/home/kkovacs/.local/lib/python3.8/site-packages/rpy2/robjects/pandas2ri.py:368: DeprecationWarning: The global conversion available with activate() is deprecated and will be removed in the next major release. Use a local converter.\n",
      "  warnings.warn('The global conversion available with activate() '\n",
      "/home/kkovacs/.local/lib/python3.8/site-packages/rpy2/robjects/numpy2ri.py:241: DeprecationWarning: The global conversion available with activate() is deprecated and will be removed in the next major release. Use a local converter.\n",
      "  warnings.warn('The global conversion available with activate() '\n",
      "/home/kkovacs/.local/lib/python3.8/site-packages/rpy2/robjects/conversion.py:28: DeprecationWarning: The use of converter in module rpy2.robjects.conversion is deprecated. Use rpy2.robjects.conversion.get_conversion() instead of rpy2.robjects.conversion.converter.\n",
      "  warnings.warn(\n"
     ]
    },
    {
     "name": "stdout",
     "output_type": "stream",
     "text": [
      "Adding diffusion to step 4\n",
      "Adding diffusion to step 5\n",
      "Adding diffusion to step 6\n"
     ]
    },
    {
     "name": "stderr",
     "output_type": "stream",
     "text": [
      "/home/kkovacs/.local/lib/python3.8/site-packages/rpy2/robjects/pandas2ri.py:368: DeprecationWarning: The global conversion available with activate() is deprecated and will be removed in the next major release. Use a local converter.\n",
      "  warnings.warn('The global conversion available with activate() '\n",
      "/home/kkovacs/.local/lib/python3.8/site-packages/rpy2/robjects/numpy2ri.py:241: DeprecationWarning: The global conversion available with activate() is deprecated and will be removed in the next major release. Use a local converter.\n",
      "  warnings.warn('The global conversion available with activate() '\n",
      "/home/kkovacs/.local/lib/python3.8/site-packages/rpy2/robjects/conversion.py:28: DeprecationWarning: The use of converter in module rpy2.robjects.conversion is deprecated. Use rpy2.robjects.conversion.get_conversion() instead of rpy2.robjects.conversion.converter.\n",
      "  warnings.warn(\n"
     ]
    },
    {
     "name": "stdout",
     "output_type": "stream",
     "text": [
      "Adding diffusion to step 4\n"
     ]
    },
    {
     "name": "stderr",
     "output_type": "stream",
     "text": [
      "/home/kkovacs/.local/lib/python3.8/site-packages/rpy2/robjects/pandas2ri.py:368: DeprecationWarning: The global conversion available with activate() is deprecated and will be removed in the next major release. Use a local converter.\n",
      "  warnings.warn('The global conversion available with activate() '\n",
      "/home/kkovacs/.local/lib/python3.8/site-packages/rpy2/robjects/numpy2ri.py:241: DeprecationWarning: The global conversion available with activate() is deprecated and will be removed in the next major release. Use a local converter.\n",
      "  warnings.warn('The global conversion available with activate() '\n",
      "/home/kkovacs/.local/lib/python3.8/site-packages/rpy2/robjects/conversion.py:28: DeprecationWarning: The use of converter in module rpy2.robjects.conversion is deprecated. Use rpy2.robjects.conversion.get_conversion() instead of rpy2.robjects.conversion.converter.\n",
      "  warnings.warn(\n"
     ]
    },
    {
     "name": "stdout",
     "output_type": "stream",
     "text": [
      "Adding diffusion to step 4\n",
      "Adding diffusion to step 5\n",
      "Adding diffusion to step 6\n"
     ]
    },
    {
     "name": "stderr",
     "output_type": "stream",
     "text": [
      "/home/kkovacs/.local/lib/python3.8/site-packages/rpy2/robjects/pandas2ri.py:368: DeprecationWarning: The global conversion available with activate() is deprecated and will be removed in the next major release. Use a local converter.\n",
      "  warnings.warn('The global conversion available with activate() '\n",
      "/home/kkovacs/.local/lib/python3.8/site-packages/rpy2/robjects/numpy2ri.py:241: DeprecationWarning: The global conversion available with activate() is deprecated and will be removed in the next major release. Use a local converter.\n",
      "  warnings.warn('The global conversion available with activate() '\n",
      "/home/kkovacs/.local/lib/python3.8/site-packages/rpy2/robjects/conversion.py:28: DeprecationWarning: The use of converter in module rpy2.robjects.conversion is deprecated. Use rpy2.robjects.conversion.get_conversion() instead of rpy2.robjects.conversion.converter.\n",
      "  warnings.warn(\n",
      "/home/kkovacs/.local/lib/python3.8/site-packages/rpy2/robjects/pandas2ri.py:368: DeprecationWarning: The global conversion available with activate() is deprecated and will be removed in the next major release. Use a local converter.\n",
      "  warnings.warn('The global conversion available with activate() '\n",
      "/home/kkovacs/.local/lib/python3.8/site-packages/rpy2/robjects/numpy2ri.py:241: DeprecationWarning: The global conversion available with activate() is deprecated and will be removed in the next major release. Use a local converter.\n",
      "  warnings.warn('The global conversion available with activate() '\n",
      "/home/kkovacs/.local/lib/python3.8/site-packages/rpy2/robjects/conversion.py:28: DeprecationWarning: The use of converter in module rpy2.robjects.conversion is deprecated. Use rpy2.robjects.conversion.get_conversion() instead of rpy2.robjects.conversion.converter.\n",
      "  warnings.warn(\n"
     ]
    },
    {
     "name": "stdout",
     "output_type": "stream",
     "text": [
      "Adding diffusion to step 4\n"
     ]
    },
    {
     "name": "stderr",
     "output_type": "stream",
     "text": [
      "/home/kkovacs/.local/lib/python3.8/site-packages/rpy2/robjects/pandas2ri.py:368: DeprecationWarning: The global conversion available with activate() is deprecated and will be removed in the next major release. Use a local converter.\n",
      "  warnings.warn('The global conversion available with activate() '\n",
      "/home/kkovacs/.local/lib/python3.8/site-packages/rpy2/robjects/numpy2ri.py:241: DeprecationWarning: The global conversion available with activate() is deprecated and will be removed in the next major release. Use a local converter.\n",
      "  warnings.warn('The global conversion available with activate() '\n",
      "/home/kkovacs/.local/lib/python3.8/site-packages/rpy2/robjects/conversion.py:28: DeprecationWarning: The use of converter in module rpy2.robjects.conversion is deprecated. Use rpy2.robjects.conversion.get_conversion() instead of rpy2.robjects.conversion.converter.\n",
      "  warnings.warn(\n"
     ]
    },
    {
     "name": "stdout",
     "output_type": "stream",
     "text": [
      "Adding diffusion to step 4\n",
      "Adding diffusion to step 5\n",
      "Adding diffusion to step 6\n"
     ]
    },
    {
     "name": "stderr",
     "output_type": "stream",
     "text": [
      "/home/kkovacs/.local/lib/python3.8/site-packages/rpy2/robjects/pandas2ri.py:368: DeprecationWarning: The global conversion available with activate() is deprecated and will be removed in the next major release. Use a local converter.\n",
      "  warnings.warn('The global conversion available with activate() '\n",
      "/home/kkovacs/.local/lib/python3.8/site-packages/rpy2/robjects/numpy2ri.py:241: DeprecationWarning: The global conversion available with activate() is deprecated and will be removed in the next major release. Use a local converter.\n",
      "  warnings.warn('The global conversion available with activate() '\n",
      "/home/kkovacs/.local/lib/python3.8/site-packages/rpy2/robjects/conversion.py:28: DeprecationWarning: The use of converter in module rpy2.robjects.conversion is deprecated. Use rpy2.robjects.conversion.get_conversion() instead of rpy2.robjects.conversion.converter.\n",
      "  warnings.warn(\n",
      "/home/kkovacs/.local/lib/python3.8/site-packages/rpy2/robjects/pandas2ri.py:368: DeprecationWarning: The global conversion available with activate() is deprecated and will be removed in the next major release. Use a local converter.\n",
      "  warnings.warn('The global conversion available with activate() '\n",
      "/home/kkovacs/.local/lib/python3.8/site-packages/rpy2/robjects/numpy2ri.py:241: DeprecationWarning: The global conversion available with activate() is deprecated and will be removed in the next major release. Use a local converter.\n",
      "  warnings.warn('The global conversion available with activate() '\n",
      "/home/kkovacs/.local/lib/python3.8/site-packages/rpy2/robjects/conversion.py:28: DeprecationWarning: The use of converter in module rpy2.robjects.conversion is deprecated. Use rpy2.robjects.conversion.get_conversion() instead of rpy2.robjects.conversion.converter.\n",
      "  warnings.warn(\n"
     ]
    },
    {
     "name": "stdout",
     "output_type": "stream",
     "text": [
      "Adding diffusion to step 4\n"
     ]
    },
    {
     "name": "stderr",
     "output_type": "stream",
     "text": [
      "/home/kkovacs/.local/lib/python3.8/site-packages/rpy2/robjects/pandas2ri.py:368: DeprecationWarning: The global conversion available with activate() is deprecated and will be removed in the next major release. Use a local converter.\n",
      "  warnings.warn('The global conversion available with activate() '\n",
      "/home/kkovacs/.local/lib/python3.8/site-packages/rpy2/robjects/numpy2ri.py:241: DeprecationWarning: The global conversion available with activate() is deprecated and will be removed in the next major release. Use a local converter.\n",
      "  warnings.warn('The global conversion available with activate() '\n",
      "/home/kkovacs/.local/lib/python3.8/site-packages/rpy2/robjects/conversion.py:28: DeprecationWarning: The use of converter in module rpy2.robjects.conversion is deprecated. Use rpy2.robjects.conversion.get_conversion() instead of rpy2.robjects.conversion.converter.\n",
      "  warnings.warn(\n",
      "/home/kkovacs/.local/lib/python3.8/site-packages/rpy2/robjects/pandas2ri.py:368: DeprecationWarning: The global conversion available with activate() is deprecated and will be removed in the next major release. Use a local converter.\n",
      "  warnings.warn('The global conversion available with activate() '\n",
      "/home/kkovacs/.local/lib/python3.8/site-packages/rpy2/robjects/numpy2ri.py:241: DeprecationWarning: The global conversion available with activate() is deprecated and will be removed in the next major release. Use a local converter.\n",
      "  warnings.warn('The global conversion available with activate() '\n",
      "/home/kkovacs/.local/lib/python3.8/site-packages/rpy2/robjects/conversion.py:28: DeprecationWarning: The use of converter in module rpy2.robjects.conversion is deprecated. Use rpy2.robjects.conversion.get_conversion() instead of rpy2.robjects.conversion.converter.\n",
      "  warnings.warn(\n",
      "/home/kkovacs/.local/lib/python3.8/site-packages/rpy2/robjects/pandas2ri.py:368: DeprecationWarning: The global conversion available with activate() is deprecated and will be removed in the next major release. Use a local converter.\n",
      "  warnings.warn('The global conversion available with activate() '\n",
      "/home/kkovacs/.local/lib/python3.8/site-packages/rpy2/robjects/numpy2ri.py:241: DeprecationWarning: The global conversion available with activate() is deprecated and will be removed in the next major release. Use a local converter.\n",
      "  warnings.warn('The global conversion available with activate() '\n",
      "/home/kkovacs/.local/lib/python3.8/site-packages/rpy2/robjects/conversion.py:28: DeprecationWarning: The use of converter in module rpy2.robjects.conversion is deprecated. Use rpy2.robjects.conversion.get_conversion() instead of rpy2.robjects.conversion.converter.\n",
      "  warnings.warn(\n"
     ]
    },
    {
     "name": "stdout",
     "output_type": "stream",
     "text": [
      "Adding diffusion to step 4\n"
     ]
    },
    {
     "name": "stderr",
     "output_type": "stream",
     "text": [
      "/home/kkovacs/.local/lib/python3.8/site-packages/rpy2/robjects/pandas2ri.py:368: DeprecationWarning: The global conversion available with activate() is deprecated and will be removed in the next major release. Use a local converter.\n",
      "  warnings.warn('The global conversion available with activate() '\n",
      "/home/kkovacs/.local/lib/python3.8/site-packages/rpy2/robjects/numpy2ri.py:241: DeprecationWarning: The global conversion available with activate() is deprecated and will be removed in the next major release. Use a local converter.\n",
      "  warnings.warn('The global conversion available with activate() '\n",
      "/home/kkovacs/.local/lib/python3.8/site-packages/rpy2/robjects/conversion.py:28: DeprecationWarning: The use of converter in module rpy2.robjects.conversion is deprecated. Use rpy2.robjects.conversion.get_conversion() instead of rpy2.robjects.conversion.converter.\n",
      "  warnings.warn(\n"
     ]
    },
    {
     "name": "stdout",
     "output_type": "stream",
     "text": [
      "Adding diffusion to step 4\n",
      "Adding diffusion to step 5\n",
      "Adding diffusion to step 6\n",
      "Adding diffusion to step 7\n",
      "Adding diffusion to step 8\n"
     ]
    },
    {
     "name": "stderr",
     "output_type": "stream",
     "text": [
      "/home/kkovacs/.local/lib/python3.8/site-packages/rpy2/robjects/pandas2ri.py:368: DeprecationWarning: The global conversion available with activate() is deprecated and will be removed in the next major release. Use a local converter.\n",
      "  warnings.warn('The global conversion available with activate() '\n",
      "/home/kkovacs/.local/lib/python3.8/site-packages/rpy2/robjects/numpy2ri.py:241: DeprecationWarning: The global conversion available with activate() is deprecated and will be removed in the next major release. Use a local converter.\n",
      "  warnings.warn('The global conversion available with activate() '\n",
      "/home/kkovacs/.local/lib/python3.8/site-packages/rpy2/robjects/conversion.py:28: DeprecationWarning: The use of converter in module rpy2.robjects.conversion is deprecated. Use rpy2.robjects.conversion.get_conversion() instead of rpy2.robjects.conversion.converter.\n",
      "  warnings.warn(\n"
     ]
    },
    {
     "name": "stdout",
     "output_type": "stream",
     "text": [
      "Adding diffusion to step 4\n",
      "Adding diffusion to step 5\n"
     ]
    },
    {
     "name": "stderr",
     "output_type": "stream",
     "text": [
      "/home/kkovacs/.local/lib/python3.8/site-packages/rpy2/robjects/pandas2ri.py:368: DeprecationWarning: The global conversion available with activate() is deprecated and will be removed in the next major release. Use a local converter.\n",
      "  warnings.warn('The global conversion available with activate() '\n",
      "/home/kkovacs/.local/lib/python3.8/site-packages/rpy2/robjects/numpy2ri.py:241: DeprecationWarning: The global conversion available with activate() is deprecated and will be removed in the next major release. Use a local converter.\n",
      "  warnings.warn('The global conversion available with activate() '\n",
      "/home/kkovacs/.local/lib/python3.8/site-packages/rpy2/robjects/conversion.py:28: DeprecationWarning: The use of converter in module rpy2.robjects.conversion is deprecated. Use rpy2.robjects.conversion.get_conversion() instead of rpy2.robjects.conversion.converter.\n",
      "  warnings.warn(\n",
      "/home/kkovacs/.local/lib/python3.8/site-packages/rpy2/robjects/pandas2ri.py:368: DeprecationWarning: The global conversion available with activate() is deprecated and will be removed in the next major release. Use a local converter.\n",
      "  warnings.warn('The global conversion available with activate() '\n",
      "/home/kkovacs/.local/lib/python3.8/site-packages/rpy2/robjects/numpy2ri.py:241: DeprecationWarning: The global conversion available with activate() is deprecated and will be removed in the next major release. Use a local converter.\n",
      "  warnings.warn('The global conversion available with activate() '\n",
      "/home/kkovacs/.local/lib/python3.8/site-packages/rpy2/robjects/conversion.py:28: DeprecationWarning: The use of converter in module rpy2.robjects.conversion is deprecated. Use rpy2.robjects.conversion.get_conversion() instead of rpy2.robjects.conversion.converter.\n",
      "  warnings.warn(\n"
     ]
    },
    {
     "name": "stdout",
     "output_type": "stream",
     "text": [
      "Adding diffusion to step 4\n",
      "Adding diffusion to step 5\n"
     ]
    },
    {
     "name": "stderr",
     "output_type": "stream",
     "text": [
      "/home/kkovacs/.local/lib/python3.8/site-packages/rpy2/robjects/pandas2ri.py:368: DeprecationWarning: The global conversion available with activate() is deprecated and will be removed in the next major release. Use a local converter.\n",
      "  warnings.warn('The global conversion available with activate() '\n",
      "/home/kkovacs/.local/lib/python3.8/site-packages/rpy2/robjects/numpy2ri.py:241: DeprecationWarning: The global conversion available with activate() is deprecated and will be removed in the next major release. Use a local converter.\n",
      "  warnings.warn('The global conversion available with activate() '\n",
      "/home/kkovacs/.local/lib/python3.8/site-packages/rpy2/robjects/conversion.py:28: DeprecationWarning: The use of converter in module rpy2.robjects.conversion is deprecated. Use rpy2.robjects.conversion.get_conversion() instead of rpy2.robjects.conversion.converter.\n",
      "  warnings.warn(\n",
      "/home/kkovacs/.local/lib/python3.8/site-packages/rpy2/robjects/pandas2ri.py:368: DeprecationWarning: The global conversion available with activate() is deprecated and will be removed in the next major release. Use a local converter.\n",
      "  warnings.warn('The global conversion available with activate() '\n",
      "/home/kkovacs/.local/lib/python3.8/site-packages/rpy2/robjects/numpy2ri.py:241: DeprecationWarning: The global conversion available with activate() is deprecated and will be removed in the next major release. Use a local converter.\n",
      "  warnings.warn('The global conversion available with activate() '\n",
      "/home/kkovacs/.local/lib/python3.8/site-packages/rpy2/robjects/conversion.py:28: DeprecationWarning: The use of converter in module rpy2.robjects.conversion is deprecated. Use rpy2.robjects.conversion.get_conversion() instead of rpy2.robjects.conversion.converter.\n",
      "  warnings.warn(\n"
     ]
    },
    {
     "name": "stdout",
     "output_type": "stream",
     "text": [
      "Adding diffusion to step 4\n"
     ]
    },
    {
     "name": "stderr",
     "output_type": "stream",
     "text": [
      "/home/kkovacs/.local/lib/python3.8/site-packages/rpy2/robjects/pandas2ri.py:368: DeprecationWarning: The global conversion available with activate() is deprecated and will be removed in the next major release. Use a local converter.\n",
      "  warnings.warn('The global conversion available with activate() '\n",
      "/home/kkovacs/.local/lib/python3.8/site-packages/rpy2/robjects/numpy2ri.py:241: DeprecationWarning: The global conversion available with activate() is deprecated and will be removed in the next major release. Use a local converter.\n",
      "  warnings.warn('The global conversion available with activate() '\n",
      "/home/kkovacs/.local/lib/python3.8/site-packages/rpy2/robjects/conversion.py:28: DeprecationWarning: The use of converter in module rpy2.robjects.conversion is deprecated. Use rpy2.robjects.conversion.get_conversion() instead of rpy2.robjects.conversion.converter.\n",
      "  warnings.warn(\n"
     ]
    },
    {
     "name": "stdout",
     "output_type": "stream",
     "text": [
      "Adding diffusion to step 4\n",
      "Adding diffusion to step 5\n"
     ]
    },
    {
     "name": "stderr",
     "output_type": "stream",
     "text": [
      "/home/kkovacs/.local/lib/python3.8/site-packages/rpy2/robjects/pandas2ri.py:368: DeprecationWarning: The global conversion available with activate() is deprecated and will be removed in the next major release. Use a local converter.\n",
      "  warnings.warn('The global conversion available with activate() '\n",
      "/home/kkovacs/.local/lib/python3.8/site-packages/rpy2/robjects/numpy2ri.py:241: DeprecationWarning: The global conversion available with activate() is deprecated and will be removed in the next major release. Use a local converter.\n",
      "  warnings.warn('The global conversion available with activate() '\n",
      "/home/kkovacs/.local/lib/python3.8/site-packages/rpy2/robjects/conversion.py:28: DeprecationWarning: The use of converter in module rpy2.robjects.conversion is deprecated. Use rpy2.robjects.conversion.get_conversion() instead of rpy2.robjects.conversion.converter.\n",
      "  warnings.warn(\n"
     ]
    },
    {
     "name": "stdout",
     "output_type": "stream",
     "text": [
      "Adding diffusion to step 4\n"
     ]
    },
    {
     "name": "stderr",
     "output_type": "stream",
     "text": [
      "/home/kkovacs/.local/lib/python3.8/site-packages/rpy2/robjects/pandas2ri.py:368: DeprecationWarning: The global conversion available with activate() is deprecated and will be removed in the next major release. Use a local converter.\n",
      "  warnings.warn('The global conversion available with activate() '\n",
      "/home/kkovacs/.local/lib/python3.8/site-packages/rpy2/robjects/numpy2ri.py:241: DeprecationWarning: The global conversion available with activate() is deprecated and will be removed in the next major release. Use a local converter.\n",
      "  warnings.warn('The global conversion available with activate() '\n",
      "/home/kkovacs/.local/lib/python3.8/site-packages/rpy2/robjects/conversion.py:28: DeprecationWarning: The use of converter in module rpy2.robjects.conversion is deprecated. Use rpy2.robjects.conversion.get_conversion() instead of rpy2.robjects.conversion.converter.\n",
      "  warnings.warn(\n"
     ]
    },
    {
     "name": "stdout",
     "output_type": "stream",
     "text": [
      "Adding diffusion to step 4\n"
     ]
    },
    {
     "name": "stderr",
     "output_type": "stream",
     "text": [
      "/home/kkovacs/.local/lib/python3.8/site-packages/rpy2/robjects/pandas2ri.py:368: DeprecationWarning: The global conversion available with activate() is deprecated and will be removed in the next major release. Use a local converter.\n",
      "  warnings.warn('The global conversion available with activate() '\n",
      "/home/kkovacs/.local/lib/python3.8/site-packages/rpy2/robjects/numpy2ri.py:241: DeprecationWarning: The global conversion available with activate() is deprecated and will be removed in the next major release. Use a local converter.\n",
      "  warnings.warn('The global conversion available with activate() '\n",
      "/home/kkovacs/.local/lib/python3.8/site-packages/rpy2/robjects/conversion.py:28: DeprecationWarning: The use of converter in module rpy2.robjects.conversion is deprecated. Use rpy2.robjects.conversion.get_conversion() instead of rpy2.robjects.conversion.converter.\n",
      "  warnings.warn(\n",
      "/home/kkovacs/.local/lib/python3.8/site-packages/rpy2/robjects/pandas2ri.py:368: DeprecationWarning: The global conversion available with activate() is deprecated and will be removed in the next major release. Use a local converter.\n",
      "  warnings.warn('The global conversion available with activate() '\n",
      "/home/kkovacs/.local/lib/python3.8/site-packages/rpy2/robjects/numpy2ri.py:241: DeprecationWarning: The global conversion available with activate() is deprecated and will be removed in the next major release. Use a local converter.\n",
      "  warnings.warn('The global conversion available with activate() '\n",
      "/home/kkovacs/.local/lib/python3.8/site-packages/rpy2/robjects/conversion.py:28: DeprecationWarning: The use of converter in module rpy2.robjects.conversion is deprecated. Use rpy2.robjects.conversion.get_conversion() instead of rpy2.robjects.conversion.converter.\n",
      "  warnings.warn(\n"
     ]
    },
    {
     "name": "stdout",
     "output_type": "stream",
     "text": [
      "Adding diffusion to step 4\n"
     ]
    },
    {
     "name": "stderr",
     "output_type": "stream",
     "text": [
      "/home/kkovacs/.local/lib/python3.8/site-packages/rpy2/robjects/pandas2ri.py:368: DeprecationWarning: The global conversion available with activate() is deprecated and will be removed in the next major release. Use a local converter.\n",
      "  warnings.warn('The global conversion available with activate() '\n",
      "/home/kkovacs/.local/lib/python3.8/site-packages/rpy2/robjects/numpy2ri.py:241: DeprecationWarning: The global conversion available with activate() is deprecated and will be removed in the next major release. Use a local converter.\n",
      "  warnings.warn('The global conversion available with activate() '\n",
      "/home/kkovacs/.local/lib/python3.8/site-packages/rpy2/robjects/conversion.py:28: DeprecationWarning: The use of converter in module rpy2.robjects.conversion is deprecated. Use rpy2.robjects.conversion.get_conversion() instead of rpy2.robjects.conversion.converter.\n",
      "  warnings.warn(\n",
      "/home/kkovacs/.local/lib/python3.8/site-packages/rpy2/robjects/pandas2ri.py:368: DeprecationWarning: The global conversion available with activate() is deprecated and will be removed in the next major release. Use a local converter.\n",
      "  warnings.warn('The global conversion available with activate() '\n",
      "/home/kkovacs/.local/lib/python3.8/site-packages/rpy2/robjects/numpy2ri.py:241: DeprecationWarning: The global conversion available with activate() is deprecated and will be removed in the next major release. Use a local converter.\n",
      "  warnings.warn('The global conversion available with activate() '\n",
      "/home/kkovacs/.local/lib/python3.8/site-packages/rpy2/robjects/conversion.py:28: DeprecationWarning: The use of converter in module rpy2.robjects.conversion is deprecated. Use rpy2.robjects.conversion.get_conversion() instead of rpy2.robjects.conversion.converter.\n",
      "  warnings.warn(\n",
      "/home/kkovacs/.local/lib/python3.8/site-packages/rpy2/robjects/pandas2ri.py:368: DeprecationWarning: The global conversion available with activate() is deprecated and will be removed in the next major release. Use a local converter.\n",
      "  warnings.warn('The global conversion available with activate() '\n",
      "/home/kkovacs/.local/lib/python3.8/site-packages/rpy2/robjects/numpy2ri.py:241: DeprecationWarning: The global conversion available with activate() is deprecated and will be removed in the next major release. Use a local converter.\n",
      "  warnings.warn('The global conversion available with activate() '\n",
      "/home/kkovacs/.local/lib/python3.8/site-packages/rpy2/robjects/conversion.py:28: DeprecationWarning: The use of converter in module rpy2.robjects.conversion is deprecated. Use rpy2.robjects.conversion.get_conversion() instead of rpy2.robjects.conversion.converter.\n",
      "  warnings.warn(\n",
      "/home/kkovacs/.local/lib/python3.8/site-packages/rpy2/robjects/pandas2ri.py:368: DeprecationWarning: The global conversion available with activate() is deprecated and will be removed in the next major release. Use a local converter.\n",
      "  warnings.warn('The global conversion available with activate() '\n",
      "/home/kkovacs/.local/lib/python3.8/site-packages/rpy2/robjects/numpy2ri.py:241: DeprecationWarning: The global conversion available with activate() is deprecated and will be removed in the next major release. Use a local converter.\n",
      "  warnings.warn('The global conversion available with activate() '\n",
      "/home/kkovacs/.local/lib/python3.8/site-packages/rpy2/robjects/conversion.py:28: DeprecationWarning: The use of converter in module rpy2.robjects.conversion is deprecated. Use rpy2.robjects.conversion.get_conversion() instead of rpy2.robjects.conversion.converter.\n",
      "  warnings.warn(\n"
     ]
    },
    {
     "name": "stdout",
     "output_type": "stream",
     "text": [
      "Adding diffusion to step 4\n",
      "Adding diffusion to step 5\n"
     ]
    },
    {
     "name": "stderr",
     "output_type": "stream",
     "text": [
      "/home/kkovacs/.local/lib/python3.8/site-packages/rpy2/robjects/pandas2ri.py:368: DeprecationWarning: The global conversion available with activate() is deprecated and will be removed in the next major release. Use a local converter.\n",
      "  warnings.warn('The global conversion available with activate() '\n",
      "/home/kkovacs/.local/lib/python3.8/site-packages/rpy2/robjects/numpy2ri.py:241: DeprecationWarning: The global conversion available with activate() is deprecated and will be removed in the next major release. Use a local converter.\n",
      "  warnings.warn('The global conversion available with activate() '\n",
      "/home/kkovacs/.local/lib/python3.8/site-packages/rpy2/robjects/conversion.py:28: DeprecationWarning: The use of converter in module rpy2.robjects.conversion is deprecated. Use rpy2.robjects.conversion.get_conversion() instead of rpy2.robjects.conversion.converter.\n",
      "  warnings.warn(\n"
     ]
    },
    {
     "name": "stdout",
     "output_type": "stream",
     "text": [
      "Adding diffusion to step 4\n",
      "Adding diffusion to step 5\n"
     ]
    },
    {
     "name": "stderr",
     "output_type": "stream",
     "text": [
      "/home/kkovacs/.local/lib/python3.8/site-packages/rpy2/robjects/pandas2ri.py:368: DeprecationWarning: The global conversion available with activate() is deprecated and will be removed in the next major release. Use a local converter.\n",
      "  warnings.warn('The global conversion available with activate() '\n",
      "/home/kkovacs/.local/lib/python3.8/site-packages/rpy2/robjects/numpy2ri.py:241: DeprecationWarning: The global conversion available with activate() is deprecated and will be removed in the next major release. Use a local converter.\n",
      "  warnings.warn('The global conversion available with activate() '\n",
      "/home/kkovacs/.local/lib/python3.8/site-packages/rpy2/robjects/conversion.py:28: DeprecationWarning: The use of converter in module rpy2.robjects.conversion is deprecated. Use rpy2.robjects.conversion.get_conversion() instead of rpy2.robjects.conversion.converter.\n",
      "  warnings.warn(\n",
      "/home/kkovacs/.local/lib/python3.8/site-packages/rpy2/robjects/pandas2ri.py:368: DeprecationWarning: The global conversion available with activate() is deprecated and will be removed in the next major release. Use a local converter.\n",
      "  warnings.warn('The global conversion available with activate() '\n",
      "/home/kkovacs/.local/lib/python3.8/site-packages/rpy2/robjects/numpy2ri.py:241: DeprecationWarning: The global conversion available with activate() is deprecated and will be removed in the next major release. Use a local converter.\n",
      "  warnings.warn('The global conversion available with activate() '\n",
      "/home/kkovacs/.local/lib/python3.8/site-packages/rpy2/robjects/conversion.py:28: DeprecationWarning: The use of converter in module rpy2.robjects.conversion is deprecated. Use rpy2.robjects.conversion.get_conversion() instead of rpy2.robjects.conversion.converter.\n",
      "  warnings.warn(\n",
      "/home/kkovacs/.local/lib/python3.8/site-packages/rpy2/robjects/pandas2ri.py:368: DeprecationWarning: The global conversion available with activate() is deprecated and will be removed in the next major release. Use a local converter.\n",
      "  warnings.warn('The global conversion available with activate() '\n",
      "/home/kkovacs/.local/lib/python3.8/site-packages/rpy2/robjects/numpy2ri.py:241: DeprecationWarning: The global conversion available with activate() is deprecated and will be removed in the next major release. Use a local converter.\n",
      "  warnings.warn('The global conversion available with activate() '\n",
      "/home/kkovacs/.local/lib/python3.8/site-packages/rpy2/robjects/conversion.py:28: DeprecationWarning: The use of converter in module rpy2.robjects.conversion is deprecated. Use rpy2.robjects.conversion.get_conversion() instead of rpy2.robjects.conversion.converter.\n",
      "  warnings.warn(\n",
      "/home/kkovacs/.local/lib/python3.8/site-packages/rpy2/robjects/pandas2ri.py:368: DeprecationWarning: The global conversion available with activate() is deprecated and will be removed in the next major release. Use a local converter.\n",
      "  warnings.warn('The global conversion available with activate() '\n",
      "/home/kkovacs/.local/lib/python3.8/site-packages/rpy2/robjects/numpy2ri.py:241: DeprecationWarning: The global conversion available with activate() is deprecated and will be removed in the next major release. Use a local converter.\n",
      "  warnings.warn('The global conversion available with activate() '\n",
      "/home/kkovacs/.local/lib/python3.8/site-packages/rpy2/robjects/conversion.py:28: DeprecationWarning: The use of converter in module rpy2.robjects.conversion is deprecated. Use rpy2.robjects.conversion.get_conversion() instead of rpy2.robjects.conversion.converter.\n",
      "  warnings.warn(\n",
      "/home/kkovacs/.local/lib/python3.8/site-packages/rpy2/robjects/pandas2ri.py:368: DeprecationWarning: The global conversion available with activate() is deprecated and will be removed in the next major release. Use a local converter.\n",
      "  warnings.warn('The global conversion available with activate() '\n",
      "/home/kkovacs/.local/lib/python3.8/site-packages/rpy2/robjects/numpy2ri.py:241: DeprecationWarning: The global conversion available with activate() is deprecated and will be removed in the next major release. Use a local converter.\n",
      "  warnings.warn('The global conversion available with activate() '\n",
      "/home/kkovacs/.local/lib/python3.8/site-packages/rpy2/robjects/conversion.py:28: DeprecationWarning: The use of converter in module rpy2.robjects.conversion is deprecated. Use rpy2.robjects.conversion.get_conversion() instead of rpy2.robjects.conversion.converter.\n",
      "  warnings.warn(\n"
     ]
    },
    {
     "name": "stdout",
     "output_type": "stream",
     "text": [
      "Migratory dendritic consists of a single batch or is too small. Skip.\n",
      "Pericyte consists of a single batch or is too small. Skip.\n",
      "SMC population consists of a single batch or is too small. Skip.\n",
      "pDC consists of a single batch or is too small. Skip.\n",
      "Blood cells consists of a single batch or is too small. Skip.\n",
      "Small clust consists of a single batch or is too small. Skip.\n",
      "cLISI score...\n",
      "File has no entries. Doing nothing.\n",
      "iLISI score...\n",
      "File has no entries. Doing nothing.\n"
     ]
    },
    {
     "data": {
      "text/plain": [
       "AnnData object with n_obs × n_vars = 174977 × 2000\n",
       "    obs: 'nCount_covid', 'nFeature_covid', 'orig.ident', 'Group', 'res.0', 'res.0.1', 'res.0.2', 'res.0.3', 'res.0.4', 'res.0.5', 'res.0.6', 'res.0.7', 'res.0.8', 'res.0.9', 'res.1', 'seurat_clusters', 'infection', 'cell_type', 'Mice', 'cell_label_short_0.6', 'nCount_covidneg', 'nFeature_covidneg', 'infection_neg', 'new_cell_type', 'study', 'CellTypes', 'CellTypes_short', 'samples', 'Timepoint', 'doublet', 'identifier.1', 'name', 'grouping', 'batch', 'cells', 'cluster', 'condition', 'age', 'sex', 'strain', 'treatment', 'tissue', 'time', 'platform', 'Tumor.or.healthy', 'Biological.replicate', 'Library', 'Barcode', 'Library.prep.batch', 'Total.counts', 'Percent.counts.from.mitochondrial.genes', 'Most.likely.Immgen.cell.type', 'Major.cell.type', 'Minor.subset', 'x', 'y', 'Geno', 'ID_old', 'hash.ID', 'SampleIDs', 'new.Celltypes', 'day', 'barcode', 'geo', 'predictions', 'clusters_1', 'clusters_2', 'clusters_3', 'n_genes_by_counts', 'total_counts', 'total_counts_mt', 'pct_counts_mt', 'Disease', 'final_anno', 'MLCA_or_query', 'clust', 'subset', 'sample', 'temp2', 'inf1', 'inf2', 'inf12', 'Level_4', 'Level_3', 'Level_4_temp', 'Level_1', 'Level_2', 'Level_2_5', 'Decon', 'Pseudo', 'identify', 'Viral', 'reannotated_celltype', 'Level_5', 'entropy_Level_5_new_cell_type', 'entropy_new_cell_type_Level_5', 'entropy_predictions_Level_5', 'knn_post', 'reference_labels', 'entropy_reference_labels_Level_5', 'Copd', 'sample_oor', 'nhood_ixs_random', 'nhood_ixs_refined', 'nhood_kth_distance', 'Covid', 'viral_status_num', 'dataset', 'subject_ID', 'combined_category', 'platform_numeric', 'strain_numeric', 'age_numeric', 'n_genes', 'Extraction', 'checking', 'temp_2', 'temp_3', 'Old_cell_types_L5', 'AT I epithelial', 'AT II epithelial', 'Aerocyte capillary', 'Alveolar macrophages', 'Arterial endothelial', 'B cells', 'club', 'goblet', 'Cd4 T cells', 'Cd8 T cells', 'Cd56 Bright NK cells', 'Cd56 Dim NK cells', 'Classical monocyte', 'Club+Goblet', 'Fibroblast', 'General capillary', 'Granulocyte', 'IgA plasma', 'IgM plasma', 'Interstitial macrophages', 'Lymphatic endothelial', 'Mast cells', 'Mesothelium', 'Migratory dendritic', 'Multiciliated_Deuterostome', 'Neutrophils', 'Non-classical monocyte', 'Pericyte', 'Prg4+ Macrophages', 'Progenitor endothelial', 'Proliferating B cells', 'Proliferating T cells', 'Proliferating plasma', 'Smooth muscle cells', 'Th2 cells', 'Venous endothelial', 'Viral induced Gran', 'Viral induced monocytes', 'cd11b+ cDC', 'cd103+ cd11b+ proliferating cDC', 'cd103+ cd11b- cDC', 'pDC', 'Just_viral', 'identifier', 'combine', 'checks', 'Severe Asthma_Group', 'Chlamydia_Group', 'Old mice_Group', 'Bleo-young_Group', 'Bleo-old_Group', 'Influenza_Group', 'Cigarette Smoke_Group', 'Post Sendai virus_Group', 'Age - 24m_Group', 'TB_Group', 'Copd_Covid_Group', 'Murid herpesvirus 4_Group', 'Asthma_Group', 'Covid_Group', 'Copd_Group', 'Fibrosis_Group', 'Mir-155 KO_Group', 'Severe Asthma w steroids_Group', 'Asthma w steroids_Group', 'Cancer_Group', 'Hyperoxia_Group', 'Cancer tumor_Group', 'Radiation_Group', 'Hypoxia_Group', 'age_cont', 'leiden_1', 'leiden_2', 'leiden_3', 'predictions_2', 'knn_L5', 'celltype'\n",
       "    var: 'highly_variable', 'highly_variable_2k', 'means', 'dispersions', 'dispersions_norm', 'highly_variable_nbatches', 'highly_variable_intersection'\n",
       "    uns: 'Copd_colors', 'Covid_colors', 'Decon_colors', 'Disease_colors', 'Just_viral_colors', 'Level_1_colors', 'Level_2_5_colors', 'Level_2_colors', 'Level_3_colors', 'Level_4_colors', 'Level_5_colors', 'MLCA_or_query_colors', 'Viral_colors', 'check_colors', 'clust_colors', 'clusters_3_colors', 'hvg', 'knn_L5_colors', 'knn_post_colors', 'log1p', 'neighbors', 'new_cell_type_colors', 'nhood_adata', 'pca', 'predictions_2_colors', 'predictions_colors', 'rank_genes_groups', 'reannotated_celltype_colors', 'sample_oor_colors', 'study_colors', 'subset_colors', 'temp2_colors'\n",
       "    obsm: 'X_MLCA', 'X_pca', 'X_umap', 'nhoods'\n",
       "    varm: 'PCs'\n",
       "    layers: 'counts', 'norm', 'raw'\n",
       "    obsp: 'connectivities', 'distances'"
      ]
     },
     "execution_count": 26,
     "metadata": {},
     "output_type": "execute_result"
    }
   ],
   "source": [
    "runScib_SCVI()"
   ]
  },
  {
   "cell_type": "code",
   "execution_count": 27,
   "id": "e8f6c321-fe75-4b4d-a22e-932f67347100",
   "metadata": {},
   "outputs": [
    {
     "data": {
      "text/plain": [
       "AnnData object with n_obs × n_vars = 174977 × 43519\n",
       "    obs: 'nCount_covid', 'nFeature_covid', 'orig.ident', 'Group', 'res.0', 'res.0.1', 'res.0.2', 'res.0.3', 'res.0.4', 'res.0.5', 'res.0.6', 'res.0.7', 'res.0.8', 'res.0.9', 'res.1', 'seurat_clusters', 'infection', 'cell_type', 'Mice', 'cell_label_short_0.6', 'nCount_covidneg', 'nFeature_covidneg', 'infection_neg', 'new_cell_type', 'study', 'CellTypes', 'CellTypes_short', 'samples', 'Timepoint', 'doublet', 'identifier.1', 'name', 'grouping', 'batch', 'cells', 'cluster', 'condition', 'age', 'sex', 'strain', 'treatment', 'tissue', 'time', 'platform', 'Tumor.or.healthy', 'Biological.replicate', 'Library', 'Barcode', 'Library.prep.batch', 'Total.counts', 'Percent.counts.from.mitochondrial.genes', 'Most.likely.Immgen.cell.type', 'Major.cell.type', 'Minor.subset', 'x', 'y', 'Geno', 'ID_old', 'hash.ID', 'SampleIDs', 'new.Celltypes', 'day', 'barcode', 'geo', 'predictions', 'clusters_1', 'clusters_2', 'clusters_3', 'n_genes_by_counts', 'total_counts', 'total_counts_mt', 'pct_counts_mt', 'Disease', 'final_anno', 'MLCA_or_query', 'clust', 'subset', 'sample', 'temp2', 'inf1', 'inf2', 'inf12', 'Level_4', 'Level_3', 'Level_4_temp', 'Level_1', 'Level_2', 'Level_2_5', 'Decon', 'Pseudo', 'identify', 'Viral', 'reannotated_celltype', 'Level_5', 'entropy_Level_5_new_cell_type', 'entropy_new_cell_type_Level_5', 'entropy_predictions_Level_5', 'knn_post', 'reference_labels', 'entropy_reference_labels_Level_5', 'Copd', 'sample_oor', 'nhood_ixs_random', 'nhood_ixs_refined', 'nhood_kth_distance', 'Covid', 'viral_status_num', 'dataset', 'subject_ID', 'combined_category', 'platform_numeric', 'strain_numeric', 'age_numeric', 'n_genes', 'Extraction', 'checking', 'temp_2', 'temp_3', 'Old_cell_types_L5', 'AT I epithelial', 'AT II epithelial', 'Aerocyte capillary', 'Alveolar macrophages', 'Arterial endothelial', 'B cells', 'club', 'goblet', 'Cd4 T cells', 'Cd8 T cells', 'Cd56 Bright NK cells', 'Cd56 Dim NK cells', 'Classical monocyte', 'Club+Goblet', 'Fibroblast', 'General capillary', 'Granulocyte', 'IgA plasma', 'IgM plasma', 'Interstitial macrophages', 'Lymphatic endothelial', 'Mast cells', 'Mesothelium', 'Migratory dendritic', 'Multiciliated_Deuterostome', 'Neutrophils', 'Non-classical monocyte', 'Pericyte', 'Prg4+ Macrophages', 'Progenitor endothelial', 'Proliferating B cells', 'Proliferating T cells', 'Proliferating plasma', 'Smooth muscle cells', 'Th2 cells', 'Venous endothelial', 'Viral induced Gran', 'Viral induced monocytes', 'cd11b+ cDC', 'cd103+ cd11b+ proliferating cDC', 'cd103+ cd11b- cDC', 'pDC', 'Just_viral', 'identifier', 'combine', 'checks', 'Severe Asthma_Group', 'Chlamydia_Group', 'Old mice_Group', 'Bleo-young_Group', 'Bleo-old_Group', 'Influenza_Group', 'Cigarette Smoke_Group', 'Post Sendai virus_Group', 'Age - 24m_Group', 'TB_Group', 'Copd_Covid_Group', 'Murid herpesvirus 4_Group', 'Asthma_Group', 'Covid_Group', 'Copd_Group', 'Fibrosis_Group', 'Mir-155 KO_Group', 'Severe Asthma w steroids_Group', 'Asthma w steroids_Group', 'Cancer_Group', 'Hyperoxia_Group', 'Cancer tumor_Group', 'Radiation_Group', 'Hypoxia_Group', 'age_cont', 'leiden_1', 'leiden_2', 'leiden_3', 'predictions_2', 'knn_L5', 'celltype'\n",
       "    var: 'highly_variable', 'highly_variable_2k', 'means', 'dispersions', 'dispersions_norm', 'highly_variable_nbatches', 'highly_variable_intersection'\n",
       "    uns: 'Copd_colors', 'Covid_colors', 'Decon_colors', 'Disease_colors', 'Just_viral_colors', 'Level_1_colors', 'Level_2_5_colors', 'Level_2_colors', 'Level_3_colors', 'Level_4_colors', 'Level_5_colors', 'MLCA_or_query_colors', 'Viral_colors', 'check_colors', 'clust_colors', 'clusters_3_colors', 'knn_L5_colors', 'knn_post_colors', 'log1p', 'neighbors', 'new_cell_type_colors', 'nhood_adata', 'pca', 'predictions_2_colors', 'predictions_colors', 'rank_genes_groups', 'reannotated_celltype_colors', 'sample_oor_colors', 'study_colors', 'subset_colors', 'temp2_colors', 'hvg'\n",
       "    obsm: 'X_MLCA', 'X_pca', 'X_umap', 'nhoods'\n",
       "    varm: 'PCs'\n",
       "    layers: 'norm', 'raw', 'counts'\n",
       "    obsp: 'connectivities', 'distances'"
      ]
     },
     "execution_count": 27,
     "metadata": {},
     "output_type": "execute_result"
    }
   ],
   "source": []
  },
  {
   "cell_type": "code",
   "execution_count": null,
   "id": "bc60b7d6-9c2f-4748-a5ad-11abc0037819",
   "metadata": {},
   "outputs": [],
   "source": [
    "runScib_SCANVI()\n",
    "\n",
    "runScib_Non_raw_scanorama('scanorama')\n",
    "\n",
    "runScib_Non_raw('mnn')\n",
    "\n",
    "runScib_Non_raw('combat')\n",
    "\n",
    "runScib_Non_raw('harmony')\n"
   ]
  }
 ],
 "metadata": {
  "kernelspec": {
   "display_name": "Python 3 (ipykernel)",
   "language": "python",
   "name": "python3"
  },
  "language_info": {
   "codemirror_mode": {
    "name": "ipython",
    "version": 3
   },
   "file_extension": ".py",
   "mimetype": "text/x-python",
   "name": "python",
   "nbconvert_exporter": "python",
   "pygments_lexer": "ipython3",
   "version": "3.8.10"
  }
 },
 "nbformat": 4,
 "nbformat_minor": 5
}
